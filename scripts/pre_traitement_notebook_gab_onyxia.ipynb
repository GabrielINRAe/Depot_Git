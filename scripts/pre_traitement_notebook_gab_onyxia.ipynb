{
 "cells": [
  {
   "cell_type": "markdown",
   "metadata": {},
   "source": [
    "# Importation"
   ]
  },
  {
   "cell_type": "code",
   "execution_count": 1,
   "metadata": {},
   "outputs": [],
   "source": [
    "import geopandas as gpd\n",
    "from osgeo import gdal\n",
    "import os\n",
    "import numpy as np\n",
    "import sys\n",
    "sys.path.append('/home/onyxia/work/libsigma')\n",
    "import read_and_write as rw\n",
    "import matplotlib.pyplot as plt"
   ]
  },
  {
   "cell_type": "code",
   "execution_count": 2,
   "metadata": {},
   "outputs": [],
   "source": [
    "def supprimer_dossier_non_vide(dossier):\n",
    "    # Parcourir tout le contenu du dossier\n",
    "    for element in os.listdir(dossier):\n",
    "        chemin_element = os.path.join(dossier, element)\n",
    "        # Vérifier si c'est un fichier\n",
    "        if os.path.isfile(chemin_element) or os.path.islink(chemin_element):\n",
    "            os.remove(chemin_element)  # Supprimer le fichier ou le lien\n",
    "        elif os.path.isdir(chemin_element):\n",
    "            supprimer_dossier_non_vide(chemin_element)  # Appel récursif pour les sous-dossiers\n",
    "    # Supprimer le dossier une fois qu'il est vide\n",
    "    os.rmdir(dossier)"
   ]
  },
  {
   "cell_type": "markdown",
   "metadata": {},
   "source": [
    "```\n",
    "Je vais essayer de faire les prétraitements en créant des fichiers intermédiaires\n",
    "En commençant par le clip\n",
    "Resolution 10m (faire un if pour faire le traitement si resol != 10m)\n",
    "Projection\n",
    "Encodé uint8\n",
    "No data 0\n",
    "Non foret masquée\n",
    "60 fois\n",
    "```"
   ]
  },
  {
   "cell_type": "markdown",
   "metadata": {},
   "source": [
    "# Technique alternative"
   ]
  },
  {
   "cell_type": "markdown",
   "metadata": {},
   "source": [
    "## Version itérative"
   ]
  },
  {
   "cell_type": "code",
   "execution_count": null,
   "metadata": {},
   "outputs": [],
   "source": [
    "#  Définition des paramètres \n",
    "\n",
    "input_raster_dir = \"/home/onyxia/work/data/images\"\n",
    "L_images = sorted(os.listdir(input_raster_dir))\n",
    "if \".keep\" in L_images:\n",
    "    L_images.remove(\".keep\")\n",
    "shapefile_path = \"/home/onyxia/work/data/project/emprise_etude.shp\"\n",
    "\n",
    "output_dir = \"/home/onyxia/work/output\"\n",
    "os.makedirs(output_dir, exist_ok=True)\n",
    "\n",
    "masque_path = \"/home/onyxia/work/Depot_Git/results/data/img_pretraitees/masque_foret.tif\""
   ]
  },
  {
   "cell_type": "code",
   "execution_count": null,
   "metadata": {},
   "outputs": [],
   "source": [
    "#Façon pour clip/resol/nodata/format/proj un raster grâce à l'emprise\n",
    "\n",
    "# Charger le vecteur avec Geopandas\n",
    "emprise = gpd.read_file(shapefile_path).to_crs(\"EPSG:2154\")\n",
    "\n",
    "# Extraire le GeoJSON sous forme de string\n",
    "geojson_str = emprise.to_json()\n",
    "\n",
    "for i,img in enumerate(L_images) :\n",
    "    date = img[11:19]\n",
    "    bande = img[53:]\n",
    "    ds_img = rw.open_image(os.path.join(input_raster_dir,img))\n",
    "    name_file = f\"traitement_{date}_{bande}\"\n",
    "    output_file = os.path.join(output_dir,name_file)\n",
    "    # Appliquer le clip avec GDAL\n",
    "    resolution = 10  # Résolution (10 m)\n",
    "    output_raster_test = gdal.Warp(\n",
    "        output_file, # Chemin de fichier, car on utilise GTiff\n",
    "        # \"\",  # Pas de chemin de fichier, car on utilise MEM\n",
    "        ds_img,  # Fichier en entrée (chemin ou objet gdal)\n",
    "        format = \"GTiff\", # Utiliser GTiff comme format\n",
    "        # format = \"MEM\",  # Utiliser MEM comme format\n",
    "        cutlineDSName = geojson_str,  # Passer directement le GeoJSON\n",
    "        cropToCutline = True,\n",
    "        outputType = gdal.GDT_UInt16, #UInt16\n",
    "        dstSRS = \"EPSG:2154\",  # Reprojection\n",
    "        xRes = resolution,  # Résolution X\n",
    "        yRes = resolution,  # Résolution Y\n",
    "        dstNodata = 0  # Valeur NoData\n",
    "    )\n",
    "    print(f\"Image {i+1}/{len(L_images)} traitée\")\n",
    "ds_img = None\n",
    "emprise = None\n",
    "geojson_str = None"
   ]
  },
  {
   "cell_type": "code",
   "execution_count": null,
   "metadata": {},
   "outputs": [],
   "source": [
    "# Construction array sans masque\n",
    "ref_raster_path = \"/home/onyxia/work/output/traitement_20220125_B2.tif\"\n",
    "L_images_clip = sorted(os.listdir(output_dir))\n",
    "x,y = rw.get_image_dimension(rw.open_image(ref_raster_path))[:2]\n",
    "bandes = 60\n",
    "array_tot = np.zeros((x,y,bandes))\n",
    "\n",
    "L_array = []\n",
    "for i,img in enumerate(L_images_clip):\n",
    "    path = os.path.join(output_dir,img) \n",
    "    array = rw.load_img_as_array(path)\n",
    "    L_array.append(array)\n",
    "\n",
    "# Concat array\n",
    "print(\"Concaténation en cours\")\n",
    "array_final = np.concatenate(L_array,axis = 2)\n",
    "print(\"Tableau concaténé\")\n",
    "\n",
    "# Save array into image\n",
    "out = \"/home/onyxia/work/Depot_Git/results/data/img_pretraitees/Serie_temp_S2_allbands_nomask.tif\"\n",
    "print(\"Ecriture en cours\")\n",
    "rw.write_image(out_filename=out, array = array_final, data_set = rw.open_image(ref_raster_path))\n",
    "print(\"Ecriture terminée\")"
   ]
  },
  {
   "cell_type": "code",
   "execution_count": null,
   "metadata": {},
   "outputs": [],
   "source": [
    "# Construction array avec masque\n",
    "ref_raster_path = \"/home/onyxia/work/output/traitement_20220125_B2.tif\"\n",
    "L_images_clip = sorted(os.listdir(output_dir))\n",
    "x,y = rw.get_image_dimension(rw.open_image(ref_raster_path))[:2]\n",
    "bandes = 60\n",
    "array_tot = np.zeros((x,y,bandes))\n",
    "\n",
    "masque = rw.load_img_as_array(masque_path)\n",
    "\n",
    "L_array = []\n",
    "for i,img in enumerate(L_images_clip):\n",
    "    path = os.path.join(output_dir,img) \n",
    "    array = rw.load_img_as_array(path)\n",
    "    array_masqued = array * masque\n",
    "    L_array.append(array_masqued)\n",
    "\n",
    "# Concat array\n",
    "print(\"Concaténation en cours\")\n",
    "array_final = np.concatenate(L_array,axis = 2)\n",
    "print(\"Tableau concaténé\")\n",
    "\n",
    "# Save array into image\n",
    "out = \"/home/onyxia/work/Depot_Git/results/data/img_pretraitees/Serie_temp_S2_allbands_masqued.tif\"\n",
    "print(\"Ecriture en cours\")\n",
    "rw.write_image(out_filename=out, array = array_final, data_set = rw.open_image(ref_raster_path))\n",
    "print(\"Ecriture terminée\")"
   ]
  },
  {
   "cell_type": "code",
   "execution_count": 3,
   "metadata": {},
   "outputs": [],
   "source": [
    "#Supp du dossier output pour faire de la place\n",
    "\n",
    "supprimer_dossier_non_vide(\"/home/onyxia/work/output\")"
   ]
  }
 ],
 "metadata": {
  "kernelspec": {
   "display_name": "base",
   "language": "python",
   "name": "python3"
  },
  "language_info": {
   "codemirror_mode": {
    "name": "ipython",
    "version": 3
   },
   "file_extension": ".py",
   "mimetype": "text/x-python",
   "name": "python",
   "nbconvert_exporter": "python",
   "pygments_lexer": "ipython3",
   "version": "3.12.7"
  }
 },
 "nbformat": 4,
 "nbformat_minor": 2
}
