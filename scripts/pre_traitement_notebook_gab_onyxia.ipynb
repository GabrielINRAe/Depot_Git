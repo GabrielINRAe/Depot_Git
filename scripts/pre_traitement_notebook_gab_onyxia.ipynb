{
 "cells": [
  {
   "cell_type": "markdown",
   "metadata": {},
   "source": [
    "# Importation"
   ]
  },
  {
   "cell_type": "code",
   "execution_count": 1,
   "metadata": {},
   "outputs": [],
   "source": [
    "import geopandas as gpd\n",
    "from osgeo import gdal\n",
    "import os\n",
    "import numpy as np\n",
    "import sys\n",
    "sys.path.append('/home/onyxia/work/libsigma')\n",
    "import read_and_write as rw\n",
    "from my_function import supprimer_dossier_non_vide"
   ]
  },
  {
   "cell_type": "markdown",
   "metadata": {},
   "source": [
    "# Création image toute bande"
   ]
  },
  {
   "cell_type": "code",
   "execution_count": null,
   "metadata": {},
   "outputs": [],
   "source": [
    "#  Définition des paramètres \n",
    "\n",
    "input_raster_dir = \"/home/onyxia/work/data/images\"\n",
    "L_images = sorted(os.listdir(input_raster_dir))\n",
    "if \".keep\" in L_images:\n",
    "    L_images.remove(\".keep\")\n",
    "shapefile_path = \"/home/onyxia/work/data/project/emprise_etude.shp\"\n",
    "\n",
    "output_dir = \"/home/onyxia/work/output\"\n",
    "os.makedirs(output_dir, exist_ok=True)\n",
    "\n",
    "masque_path = \"/home/onyxia/work/Depot_Git/results/data/img_pretraitees/masque_foret.tif\""
   ]
  },
  {
   "cell_type": "code",
   "execution_count": null,
   "metadata": {},
   "outputs": [],
   "source": [
    "#Façon pour clip/resol/nodata/format/proj un raster grâce à l'emprise\n",
    "\n",
    "# Charger le vecteur avec Geopandas\n",
    "emprise = gpd.read_file(shapefile_path).to_crs(\"EPSG:2154\")\n",
    "\n",
    "# Extraire le GeoJSON sous forme de string\n",
    "geojson_str = emprise.to_json()\n",
    "\n",
    "for i,img in enumerate(L_images) :\n",
    "    date = img[11:19]\n",
    "    bande = img[53:]\n",
    "    ds_img = rw.open_image(os.path.join(input_raster_dir,img))\n",
    "    name_file = f\"traitement_{date}_{bande}\"\n",
    "    output_file = os.path.join(output_dir,name_file)\n",
    "    # Appliquer le clip avec GDAL\n",
    "    resolution = 10  # Résolution (10 m)\n",
    "    output_raster_test = gdal.Warp(\n",
    "        output_file, # Chemin de fichier, car on utilise GTiff\n",
    "        # \"\",  # Pas de chemin de fichier, car on utilise MEM\n",
    "        ds_img,  # Fichier en entrée (chemin ou objet gdal)\n",
    "        format = \"GTiff\", # Utiliser GTiff comme format\n",
    "        # format = \"MEM\",  # Utiliser MEM comme format\n",
    "        cutlineDSName = geojson_str,  # Passer directement le GeoJSON\n",
    "        cropToCutline = True,\n",
    "        outputType = gdal.GDT_UInt16, #UInt16\n",
    "        dstSRS = \"EPSG:2154\",  # Reprojection\n",
    "        xRes = resolution,  # Résolution X\n",
    "        yRes = resolution,  # Résolution Y\n",
    "        dstNodata = 0  # Valeur NoData\n",
    "    )\n",
    "    print(f\"Image {i+1}/{len(L_images)} traitée\")\n",
    "ds_img = None\n",
    "emprise = None\n",
    "geojson_str = None"
   ]
  },
  {
   "cell_type": "code",
   "execution_count": null,
   "metadata": {},
   "outputs": [],
   "source": [
    "# Construction array sans masque\n",
    "ref_raster_path = \"/home/onyxia/work/output/traitement_20220125_B2.tif\"\n",
    "L_images_clip = sorted(os.listdir(output_dir))\n",
    "x,y = rw.get_image_dimension(rw.open_image(ref_raster_path))[:2]\n",
    "bandes = 60\n",
    "array_tot = np.zeros((x,y,bandes))\n",
    "\n",
    "L_array = []\n",
    "for i,img in enumerate(L_images_clip):\n",
    "    path = os.path.join(output_dir,img) \n",
    "    array = rw.load_img_as_array(path)\n",
    "    L_array.append(array)\n",
    "\n",
    "# Concat array\n",
    "print(\"Concaténation en cours\")\n",
    "array_final = np.concatenate(L_array,axis = 2)\n",
    "print(\"Tableau concaténé\")\n",
    "\n",
    "# Save array into image\n",
    "out = \"/home/onyxia/work/Depot_Git/results/data/img_pretraitees/Serie_temp_S2_allbands_nomask.tif\"\n",
    "print(\"Ecriture en cours\")\n",
    "rw.write_image(out_filename=out, array = array_final, data_set = rw.open_image(ref_raster_path))\n",
    "print(\"Ecriture terminée\")"
   ]
  },
  {
   "cell_type": "code",
   "execution_count": null,
   "metadata": {},
   "outputs": [],
   "source": [
    "# Construction array avec masque\n",
    "ref_raster_path = \"/home/onyxia/work/output/traitement_20220125_B2.tif\"\n",
    "L_images_clip = sorted(os.listdir(output_dir))\n",
    "x,y = rw.get_image_dimension(rw.open_image(ref_raster_path))[:2]\n",
    "bandes = 60\n",
    "array_tot = np.zeros((x,y,bandes))\n",
    "\n",
    "masque = rw.load_img_as_array(masque_path)\n",
    "\n",
    "# Initialisation de la liste pour stocker les arrays masqués\n",
    "L_array_masqued = []\n",
    "\n",
    "# Parcourir toutes les images de L_images_clip\n",
    "for i, img in enumerate(L_images_clip):\n",
    "    path = os.path.join(output_dir, img)\n",
    "    array = rw.load_img_as_array(path)\n",
    "    array_masqued = np.where(masque == 1, array, 0)\n",
    "    L_array_masqued.append(array_masqued)\n",
    "\n",
    "# Concaténation des arrays masqués\n",
    "print(\"Concaténation en cours\")\n",
    "array_final_masqued = np.concatenate(L_array_masqued, axis=2)\n",
    "print(\"Tableau concaténé avec masque appliqué\")\n",
    "\n",
    "# Save array into image\n",
    "out_masqued = \"/home/onyxia/work/Depot_Git/results/data/img_pretraitees/Serie_temp_S2_allbands.tif\"\n",
    "print(\"Ecriture en cours\")\n",
    "rw.write_image(out_filename=out_masqued, array=array_final_masqued, data_set=rw.open_image(ref_raster_path))\n",
    "print(\"Ecriture terminée\")"
   ]
  },
  {
   "cell_type": "markdown",
   "metadata": {},
   "source": [
    "# Serie temporelle de NDVI"
   ]
  },
  {
   "cell_type": "code",
   "execution_count": 2,
   "metadata": {},
   "outputs": [
    {
     "name": "stderr",
     "output_type": "stream",
     "text": [
      "/opt/conda/lib/python3.12/site-packages/osgeo/gdal.py:311: FutureWarning: Neither gdal.UseExceptions() nor gdal.DontUseExceptions() has been explicitly called. In GDAL 4.0, exceptions will be enabled by default.\n",
      "  warnings.warn(\n"
     ]
    }
   ],
   "source": [
    "# Definitions des paramètres\n",
    "traitements_dir = \"/home/onyxia/work/output\"\n",
    "L_traitements = sorted(os.listdir(traitements_dir))\n",
    "ref_raster_path = os.path.join(traitements_dir,\"traitement_20220125_B2.tif\")\n",
    "masque_path = \"/home/onyxia/work/Depot_Git/results/data/img_pretraitees/masque_foret.tif\"\n",
    "masque = rw.load_img_as_array(masque_path)"
   ]
  },
  {
   "cell_type": "code",
   "execution_count": 5,
   "metadata": {},
   "outputs": [],
   "source": [
    "# Pour les 6 dates \n",
    "x,y = rw.get_image_dimension(rw.open_image(ref_raster_path))[:2]\n",
    "bandes = 6\n",
    "\n",
    "dates = [\"20220125\",\"20220326\",\"20220405\",\"20220714\",\"20220922\",\"20221111\"] # Liste des 6 dates\n",
    "ir_name = 'B8.'\n",
    "r_name = 'B4.'\n",
    "\n",
    "ndvi = np.zeros((x,y,bandes), dtype=np.float32)  # Créer un array NDVI avec les mêmes dimensions que nir"
   ]
  },
  {
   "cell_type": "code",
   "execution_count": 11,
   "metadata": {},
   "outputs": [
    {
     "name": "stdout",
     "output_type": "stream",
     "text": [
      "0 20220125\n",
      "traitement_20220125_B11.tif\n"
     ]
    },
    {
     "ename": "NameError",
     "evalue": "name 'nir' is not defined",
     "output_type": "error",
     "traceback": [
      "\u001b[0;31m---------------------------------------------------------------------------\u001b[0m",
      "\u001b[0;31mNameError\u001b[0m                                 Traceback (most recent call last)",
      "Cell \u001b[0;32mIn[11], line 13\u001b[0m\n\u001b[1;32m     11\u001b[0m     nir \u001b[38;5;241m=\u001b[39m rw\u001b[38;5;241m.\u001b[39mload_img_as_array(os\u001b[38;5;241m.\u001b[39mpath\u001b[38;5;241m.\u001b[39mjoin(traitements_dir,traitement))\n\u001b[1;32m     12\u001b[0m \u001b[38;5;66;03m# Calcul du NDVI\u001b[39;00m\n\u001b[0;32m---> 13\u001b[0m denominator \u001b[38;5;241m=\u001b[39m \u001b[43mnir\u001b[49m \u001b[38;5;241m+\u001b[39m red\n\u001b[1;32m     14\u001b[0m non_zero_mask \u001b[38;5;241m=\u001b[39m denominator \u001b[38;5;241m!=\u001b[39m \u001b[38;5;241m0\u001b[39m  \u001b[38;5;66;03m# Masque pour éviter la division par zéro\u001b[39;00m\n\u001b[1;32m     15\u001b[0m ndvi[non_zero_mask,i] \u001b[38;5;241m=\u001b[39m (nir[non_zero_mask] \u001b[38;5;241m-\u001b[39m red[non_zero_mask]) \u001b[38;5;241m/\u001b[39m denominator[non_zero_mask]\n",
      "\u001b[0;31mNameError\u001b[0m: name 'nir' is not defined"
     ]
    }
   ],
   "source": [
    "# Pour les 6 dates \n",
    "for i,date in enumerate(dates) :\n",
    "    print(i,date)\n",
    "    for traitement in L_traitements:\n",
    "        print(traitement)\n",
    "        if date in traitement and r_name in traitement :\n",
    "            print(traitement)\n",
    "            red = rw.load_img_as_array(os.path.join(traitements_dir,traitement))\n",
    "        if date in traitement and ir_name in traitement :\n",
    "            print(traitement)\n",
    "            nir = rw.load_img_as_array(os.path.join(traitements_dir,traitement))\n",
    "        # Calcul du NDVI\n",
    "        denominator = nir + red\n",
    "        non_zero_mask = denominator != 0  # Masque pour éviter la division par zéro\n",
    "        ndvi[non_zero_mask,i] = (nir[non_zero_mask] - red[non_zero_mask]) / denominator[non_zero_mask]\n",
    "        # Appliquer le masque\n",
    "        ndvi_masked[:,:,i] = ndvi[:,:,i] * masque"
   ]
  },
  {
   "cell_type": "code",
   "execution_count": null,
   "metadata": {},
   "outputs": [],
   "source": []
  },
  {
   "cell_type": "code",
   "execution_count": null,
   "metadata": {},
   "outputs": [],
   "source": [
    "# Save array into image\n",
    "out_ndvi = \"/home/onyxia/work/Depot_Git/results/data/img_pretraitees/Serie_temp_S2_ndvi.tif\"\n",
    "print(\"Ecriture en cours\")\n",
    "rw.write_image(out_filename=out_ndvi, array=ndvi_masked, data_set=rw.open_image(ref_raster_path), gdal_dtype=gdal.GDT_Float32)\n",
    "print(\"Ecriture terminée\")"
   ]
  },
  {
   "cell_type": "markdown",
   "metadata": {},
   "source": [
    "# Suppression dossier output"
   ]
  },
  {
   "cell_type": "code",
   "execution_count": null,
   "metadata": {},
   "outputs": [],
   "source": [
    "#Supp du dossier output pour faire de la place\n",
    "\n",
    "supprimer_dossier_non_vide(\"/home/onyxia/work/output\")"
   ]
  }
 ],
 "metadata": {
  "kernelspec": {
   "display_name": "base",
   "language": "python",
   "name": "python3"
  },
  "language_info": {
   "codemirror_mode": {
    "name": "ipython",
    "version": 3
   },
   "file_extension": ".py",
   "mimetype": "text/x-python",
   "name": "python",
   "nbconvert_exporter": "python",
   "pygments_lexer": "ipython3",
   "version": "3.12.7"
  }
 },
 "nbformat": 4,
 "nbformat_minor": 2
}
