{
 "cells": [
  {
   "cell_type": "markdown",
   "metadata": {},
   "source": [
    "# Importation"
   ]
  },
  {
   "cell_type": "code",
   "execution_count": 1,
   "metadata": {},
   "outputs": [],
   "source": [
    "import geopandas as gpd\n",
    "from osgeo import gdal\n",
    "import os\n",
    "import numpy as np\n",
    "import sys\n",
    "sys.path.append('/home/onyxia/work/libsigma')\n",
    "import read_and_write as rw\n",
    "from my_function import supprimer_dossier_non_vide"
   ]
  },
  {
   "cell_type": "markdown",
   "metadata": {},
   "source": [
    "# Création image toute bande"
   ]
  },
  {
   "cell_type": "code",
   "execution_count": 2,
   "metadata": {},
   "outputs": [],
   "source": [
    "#  Définition des paramètres \n",
    "\n",
    "input_raster_dir = \"/home/onyxia/work/data/images\"\n",
    "L_images = sorted(os.listdir(input_raster_dir))\n",
    "if \".keep\" in L_images:\n",
    "    L_images.remove(\".keep\")\n",
    "shapefile_path = \"/home/onyxia/work/data/project/emprise_etude.shp\"\n",
    "\n",
    "output_dir = \"/home/onyxia/work/output\"\n",
    "os.makedirs(output_dir, exist_ok=True)\n",
    "\n",
    "masque_path = \"/home/onyxia/work/Depot_Git/results/data/img_pretraitees/masque_foret.tif\""
   ]
  },
  {
   "cell_type": "code",
   "execution_count": 3,
   "metadata": {},
   "outputs": [
    {
     "name": "stderr",
     "output_type": "stream",
     "text": [
      "/opt/conda/lib/python3.12/site-packages/osgeo/gdal.py:311: FutureWarning: Neither gdal.UseExceptions() nor gdal.DontUseExceptions() has been explicitly called. In GDAL 4.0, exceptions will be enabled by default.\n",
      "  warnings.warn(\n"
     ]
    },
    {
     "name": "stdout",
     "output_type": "stream",
     "text": [
      "Image 1/60 traitée\n",
      "Image 2/60 traitée\n",
      "Image 3/60 traitée\n",
      "Image 4/60 traitée\n",
      "Image 5/60 traitée\n",
      "Image 6/60 traitée\n",
      "Image 7/60 traitée\n",
      "Image 8/60 traitée\n",
      "Image 9/60 traitée\n",
      "Image 10/60 traitée\n",
      "Image 11/60 traitée\n",
      "Image 12/60 traitée\n",
      "Image 13/60 traitée\n",
      "Image 14/60 traitée\n",
      "Image 15/60 traitée\n",
      "Image 16/60 traitée\n",
      "Image 17/60 traitée\n",
      "Image 18/60 traitée\n",
      "Image 19/60 traitée\n",
      "Image 20/60 traitée\n",
      "Image 21/60 traitée\n",
      "Image 22/60 traitée\n",
      "Image 23/60 traitée\n",
      "Image 24/60 traitée\n",
      "Image 25/60 traitée\n",
      "Image 26/60 traitée\n",
      "Image 27/60 traitée\n",
      "Image 28/60 traitée\n",
      "Image 29/60 traitée\n",
      "Image 30/60 traitée\n",
      "Image 31/60 traitée\n",
      "Image 32/60 traitée\n",
      "Image 33/60 traitée\n",
      "Image 34/60 traitée\n",
      "Image 35/60 traitée\n",
      "Image 36/60 traitée\n",
      "Image 37/60 traitée\n",
      "Image 38/60 traitée\n",
      "Image 39/60 traitée\n",
      "Image 40/60 traitée\n",
      "Image 41/60 traitée\n",
      "Image 42/60 traitée\n",
      "Image 43/60 traitée\n",
      "Image 44/60 traitée\n",
      "Image 45/60 traitée\n",
      "Image 46/60 traitée\n",
      "Image 47/60 traitée\n",
      "Image 48/60 traitée\n",
      "Image 49/60 traitée\n",
      "Image 50/60 traitée\n",
      "Image 51/60 traitée\n",
      "Image 52/60 traitée\n",
      "Image 53/60 traitée\n",
      "Image 54/60 traitée\n",
      "Image 55/60 traitée\n",
      "Image 56/60 traitée\n",
      "Image 57/60 traitée\n",
      "Image 58/60 traitée\n",
      "Image 59/60 traitée\n",
      "Image 60/60 traitée\n"
     ]
    }
   ],
   "source": [
    "#Façon pour clip/resol/nodata/format/proj un raster grâce à l'emprise\n",
    "\n",
    "# Charger le vecteur avec Geopandas\n",
    "emprise = gpd.read_file(shapefile_path).to_crs(\"EPSG:2154\")\n",
    "\n",
    "# Extraire le GeoJSON sous forme de string\n",
    "geojson_str = emprise.to_json()\n",
    "\n",
    "for i,img in enumerate(L_images) :\n",
    "    date = img[11:19]\n",
    "    bande = img[53:]\n",
    "    ds_img = rw.open_image(os.path.join(input_raster_dir,img))\n",
    "    name_file = f\"traitement_{date}_{bande}\"\n",
    "    output_file = os.path.join(output_dir,name_file)\n",
    "    # Appliquer le clip avec GDAL\n",
    "    resolution = 10  # Résolution (10 m)\n",
    "    output_raster_test = gdal.Warp(\n",
    "        output_file, # Chemin de fichier, car on utilise GTiff\n",
    "        # \"\",  # Pas de chemin de fichier, car on utilise MEM\n",
    "        ds_img,  # Fichier en entrée (chemin ou objet gdal)\n",
    "        format = \"GTiff\", # Utiliser GTiff comme format\n",
    "        # format = \"MEM\",  # Utiliser MEM comme format\n",
    "        cutlineDSName = geojson_str,  # Passer directement le GeoJSON\n",
    "        cropToCutline = True,\n",
    "        outputType = gdal.GDT_UInt16, #UInt16\n",
    "        dstSRS = \"EPSG:2154\",  # Reprojection\n",
    "        xRes = resolution,  # Résolution X\n",
    "        yRes = resolution,  # Résolution Y\n",
    "        dstNodata = 0  # Valeur NoData\n",
    "    )\n",
    "    print(f\"Image {i+1}/{len(L_images)} traitée\")\n",
    "ds_img = None\n",
    "emprise = None\n",
    "geojson_str = None"
   ]
  },
  {
   "cell_type": "code",
   "execution_count": null,
   "metadata": {},
   "outputs": [],
   "source": [
    "# Construction array sans masque\n",
    "ref_raster_path = \"/home/onyxia/work/output/traitement_20220125_B2.tif\"\n",
    "L_images_clip = sorted(os.listdir(output_dir))\n",
    "x,y = rw.get_image_dimension(rw.open_image(ref_raster_path))[:2]\n",
    "bandes = 60\n",
    "array_tot = np.zeros((x,y,bandes))\n",
    "\n",
    "L_array = []\n",
    "for i,img in enumerate(L_images_clip):\n",
    "    path = os.path.join(output_dir,img) \n",
    "    array = rw.load_img_as_array(path)\n",
    "    L_array.append(array)\n",
    "\n",
    "# Concat array\n",
    "print(\"Concaténation en cours\")\n",
    "array_final = np.concatenate(L_array,axis = 2)\n",
    "print(\"Tableau concaténé\")\n",
    "\n",
    "# Save array into image\n",
    "out = \"/home/onyxia/work/Depot_Git/results/data/img_pretraitees/Serie_temp_S2_allbands_nomask.tif\"\n",
    "print(\"Ecriture en cours\")\n",
    "rw.write_image(out_filename=out, array = array_final, data_set = rw.open_image(ref_raster_path))\n",
    "print(\"Ecriture terminée\")"
   ]
  },
  {
   "cell_type": "code",
   "execution_count": 4,
   "metadata": {},
   "outputs": [
    {
     "name": "stdout",
     "output_type": "stream",
     "text": [
      "Concaténation en cours\n",
      "Tableau concaténé avec masque appliqué\n",
      "Ecriture en cours\n",
      "Ecriture terminée\n"
     ]
    }
   ],
   "source": [
    "# Construction array avec masque pour un nombre de bandes voulues\n",
    "ref_raster_path = \"/home/onyxia/work/output/traitement_20220125_B2.tif\"\n",
    "L_images_clip = sorted(os.listdir(output_dir))\n",
    "x,y = rw.get_image_dimension(rw.open_image(ref_raster_path))[:2]\n",
    "bandes = 4\n",
    "array_tot = np.zeros((x,y,bandes))\n",
    "\n",
    "masque = rw.load_img_as_array(masque_path)\n",
    "\n",
    "# Initialisation de la liste pour stocker les arrays masqués\n",
    "L_array_masqued = []\n",
    "\n",
    "# Parcourir toutes les images de L_images_clip\n",
    "for i, img in enumerate(L_images_clip[:4]):\n",
    "    path = os.path.join(output_dir, img)\n",
    "    array = rw.load_img_as_array(path)\n",
    "    array_masqued = np.where(masque == 1, array, 0)\n",
    "    L_array_masqued.append(array_masqued)\n",
    "\n",
    "# Concaténation des arrays masqués\n",
    "print(\"Concaténation en cours\")\n",
    "array_final_masqued = np.concatenate(L_array_masqued, axis=2)\n",
    "print(\"Tableau concaténé avec masque appliqué\")\n",
    "\n",
    "# Save array into image\n",
    "out_masqued = f\"/home/onyxia/work/Depot_Git/results/data/img_pretraitees/Serie_temp_S2_{bandes}_bands.tif\"\n",
    "print(\"Ecriture en cours\")\n",
    "rw.write_image(out_filename=out_masqued, array=array_final_masqued, data_set=rw.open_image(ref_raster_path))\n",
    "print(\"Ecriture terminée\")"
   ]
  },
  {
   "cell_type": "code",
   "execution_count": null,
   "metadata": {},
   "outputs": [],
   "source": [
    "# Construction array avec masque\n",
    "ref_raster_path = \"/home/onyxia/work/output/traitement_20220125_B2.tif\"\n",
    "L_images_clip = sorted(os.listdir(output_dir))\n",
    "x,y = rw.get_image_dimension(rw.open_image(ref_raster_path))[:2]\n",
    "bandes = 60\n",
    "array_tot = np.zeros((x,y,bandes))\n",
    "\n",
    "masque = rw.load_img_as_array(masque_path)\n",
    "\n",
    "# Initialisation de la liste pour stocker les arrays masqués\n",
    "L_array_masqued = []\n",
    "\n",
    "# Parcourir toutes les images de L_images_clip\n",
    "for i, img in enumerate(L_images_clip):\n",
    "    path = os.path.join(output_dir, img)\n",
    "    array = rw.load_img_as_array(path)\n",
    "    array_masqued = np.where(masque == 1, array, 0)\n",
    "    L_array_masqued.append(array_masqued)\n",
    "\n",
    "# Concaténation des arrays masqués\n",
    "print(\"Concaténation en cours\")\n",
    "array_final_masqued = np.concatenate(L_array_masqued, axis=2)\n",
    "print(\"Tableau concaténé avec masque appliqué\")\n",
    "\n",
    "# Save array into image\n",
    "out_masqued = \"/home/onyxia/work/Depot_Git/results/data/img_pretraitees/Serie_temp_S2_allbands.tif\"\n",
    "print(\"Ecriture en cours\")\n",
    "rw.write_image(out_filename=out_masqued, array=array_final_masqued, data_set=rw.open_image(ref_raster_path))\n",
    "print(\"Ecriture terminée\")"
   ]
  },
  {
   "cell_type": "markdown",
   "metadata": {},
   "source": [
    "# Serie temporelle de NDVI"
   ]
  },
  {
   "cell_type": "code",
   "execution_count": 8,
   "metadata": {},
   "outputs": [],
   "source": [
    "# Definitions des paramètres\n",
    "traitements_dir = \"/home/onyxia/work/output\"\n",
    "L_traitements = [os.path.join(traitements_dir,i) for i in sorted(os.listdir(traitements_dir))]\n",
    "# L_traitements = os.path.join(traitements_dir,sorted(os.listdir(traitements_dir)))\n",
    "ref_raster_path = os.path.join(traitements_dir,\"traitement_20220125_B2.tif\")\n",
    "masque_path = \"/home/onyxia/work/Depot_Git/results/data/img_pretraitees/masque_foret.tif\"\n",
    "masque = rw.load_img_as_array(masque_path)"
   ]
  },
  {
   "cell_type": "markdown",
   "metadata": {},
   "source": [
    "```\n",
    "Attention le ndvi est compris entre -1 et 1 et doit être sauvegardé en float32 donc ça peut être négatif\n",
    "Tu peux utiliser ça aussi pour te débrouiller avec la division par 0 :\n",
    "    # Calculate NDVI, handling potential division by zero\n",
    "    ndvi = np.divide(nir - red, nir + red, out=np.zeros_like(nir - red), where=(nir + red) != 0)\n",
    "    # To avoid division by 0, a common approach is to output 0 where both NIR and Red are 0.\n",
    "```"
   ]
  },
  {
   "cell_type": "code",
   "execution_count": 25,
   "metadata": {},
   "outputs": [
    {
     "name": "stderr",
     "output_type": "stream",
     "text": [
      "/tmp/ipykernel_42564/2250345413.py:13: RuntimeWarning: invalid value encountered in divide\n",
      "  ndvi = np.where(denominator!=0,nominator_masked/denominator,0)\n"
     ]
    }
   ],
   "source": [
    "# Cellule de test pour date 20220125\n",
    "\n",
    "red_n = os.path.join(output_dir,L_traitements[4])\n",
    "nir_n = os.path.join(output_dir,L_traitements[8])\n",
    "\n",
    "red,nir = rw.load_img_as_array(red_n).astype(int),rw.load_img_as_array(nir_n).astype(int)\n",
    "\n",
    "nominator = nir-red\n",
    "nominator_masked = np.where(nominator>=0,nominator,0)\n",
    "\n",
    "denominator = nir+red\n",
    "\n",
    "ndvi = np.where(denominator!=0,nominator_masked/denominator,0)\n",
    "\n",
    "ndvi_masked = np.where(masque == 1, ndvi, 0)\n",
    "\n",
    "rw.write_image(\n",
    "    out_filename=\"/home/onyxia/work/ndvi_test.tif\",\n",
    "    array=ndvi_masked, \n",
    "    data_set=rw.open_image(ref_raster_path),\n",
    "    gdal_dtype=gdal.GDT_Float32\n",
    "    )"
   ]
  },
  {
   "cell_type": "code",
   "execution_count": 9,
   "metadata": {},
   "outputs": [],
   "source": [
    "# Pour les 6 dates \n",
    "x,y = rw.get_image_dimension(rw.open_image(ref_raster_path))[:2]\n",
    "bandes = 6\n",
    "\n",
    "dates = [\"20220125\",\"20220326\",\"20220405\",\"20220714\",\"20220922\",\"20221111\"] # Liste des 6 dates\n",
    "nir_name = 'B8.'\n",
    "r_name = 'B4.'\n",
    "\n",
    "ndvi_blank = np.zeros((x,y,bandes), dtype=np.float32)  # Créer un array NDVI avec les mêmes dimensions que nir"
   ]
  },
  {
   "cell_type": "code",
   "execution_count": 23,
   "metadata": {},
   "outputs": [
    {
     "data": {
      "text/plain": [
       "array([0, 1], dtype=uint8)"
      ]
     },
     "execution_count": 23,
     "metadata": {},
     "output_type": "execute_result"
    }
   ],
   "source": [
    "np.unique(masque)"
   ]
  },
  {
   "cell_type": "code",
   "execution_count": null,
   "metadata": {},
   "outputs": [
    {
     "name": "stdout",
     "output_type": "stream",
     "text": [
      "0 20220125\n",
      "Bande rouge date 20220125\n",
      "Bande infra-rouge date 20220125\n"
     ]
    },
    {
     "name": "stderr",
     "output_type": "stream",
     "text": [
      "/tmp/ipykernel_42564/48811931.py:13: RuntimeWarning: invalid value encountered in divide\n",
      "  ndvi_blank[:,:,i] = np.where(denominator!=0,nominator_masked/denominator,0)\n"
     ]
    },
    {
     "name": "stdout",
     "output_type": "stream",
     "text": [
      "1 20220326\n",
      "Bande rouge date 20220326\n",
      "Bande infra-rouge date 20220326\n",
      "2 20220405\n",
      "Bande rouge date 20220405\n",
      "Bande infra-rouge date 20220405\n",
      "3 20220714\n",
      "Bande rouge date 20220714\n",
      "Bande infra-rouge date 20220714\n",
      "4 20220922\n",
      "Bande rouge date 20220922\n",
      "Bande infra-rouge date 20220922\n",
      "5 20221111\n",
      "Bande rouge date 20221111\n",
      "Bande infra-rouge date 20221111\n"
     ]
    }
   ],
   "source": [
    "for i,date in enumerate(dates) :\n",
    "    print(i,date)\n",
    "    for img in L_traitements:\n",
    "        if date in img and r_name in img :\n",
    "            red = rw.load_img_as_array(img)[:,:,0].astype('float32')\n",
    "            print (f\"Bande rouge date {date}\")\n",
    "        if date in img and nir_name in img :\n",
    "            nir = rw.load_img_as_array(img)[:,:,0].astype('float32')\n",
    "            print (f\"Bande infra-rouge date {date}\")\n",
    "    nominator = nir-red\n",
    "    nominator_masked = np.where(nominator>=0,nominator,0)\n",
    "    denominator = nir+red\n",
    "    ndvi_blank[:,:,i] = np.where(denominator!=0,nominator_masked/denominator,0)\n",
    "ndvi_masked = np.where(masque == 1, ndvi_blank, -9999)"
   ]
  },
  {
   "cell_type": "code",
   "execution_count": 28,
   "metadata": {},
   "outputs": [
    {
     "name": "stdout",
     "output_type": "stream",
     "text": [
      "Ecriture en cours\n",
      "Ecriture terminée\n"
     ]
    }
   ],
   "source": [
    "# Save array into image\n",
    "out_ndvi = \"/home/onyxia/work/Depot_Git/results/data/img_pretraitees/Serie_temp_S2_ndvi.tif\"\n",
    "print(\"Ecriture en cours\")\n",
    "rw.write_image(out_filename=out_ndvi, array=ndvi_masked, data_set=rw.open_image(ref_raster_path), gdal_dtype=gdal.GDT_Float32)\n",
    "print(\"Ecriture terminée\")"
   ]
  },
  {
   "cell_type": "markdown",
   "metadata": {},
   "source": [
    "# Suppression dossier output"
   ]
  },
  {
   "cell_type": "code",
   "execution_count": 6,
   "metadata": {},
   "outputs": [],
   "source": [
    "#Supp du dossier output pour faire de la place\n",
    "\n",
    "supprimer_dossier_non_vide(\"/home/onyxia/work/output\")"
   ]
  }
 ],
 "metadata": {
  "kernelspec": {
   "display_name": "base",
   "language": "python",
   "name": "python3"
  },
  "language_info": {
   "codemirror_mode": {
    "name": "ipython",
    "version": 3
   },
   "file_extension": ".py",
   "mimetype": "text/x-python",
   "name": "python",
   "nbconvert_exporter": "python",
   "pygments_lexer": "ipython3",
   "version": "3.12.7"
  }
 },
 "nbformat": 4,
 "nbformat_minor": 2
}
