{
 "cells": [
  {
   "cell_type": "code",
   "execution_count": 1,
   "metadata": {},
   "outputs": [
    {
     "name": "stdout",
     "output_type": "stream",
     "text": [
      "Partie pretraitement image\n",
      "Définitions des paramètres\n"
     ]
    }
   ],
   "source": [
    "import geopandas as gpd\n",
    "from osgeo import gdal\n",
    "import os\n",
    "import numpy as np\n",
    "from my_function import (\n",
    "    pre_traitement_img,\n",
    "    supprimer_dossier_non_vide,\n",
    "    compute_ndvi)\n",
    "import sys\n",
    "sys.path.append('/home/onyxia/work/libsigma')\n",
    "import read_and_write as rw\n",
    "\n",
    "racine = \"/home/onyxia/work\"\n",
    "\n",
    "\n",
    "## Partie Serie_temp_S2_allbands.tif\n",
    "print(\"Partie pretraitement image\")\n",
    "#  Définition des paramètres \n",
    "\n",
    "print(\"Définitions des paramètres\")\n",
    "input_raster_dir = os.path.join(racine,\"data/images\")\n",
    "l_images = sorted(os.listdir(input_raster_dir))\n",
    "if \".keep\" in l_images:\n",
    "    l_images.remove(\".keep\")\n",
    "shapefile_path = os.path.join(racine,\"data/project/emprise_etude.shp\")\n",
    "\n",
    "output_dir = os.path.join(racine,\"output_pretraitement\")\n",
    "os.makedirs(output_dir, exist_ok=True)\n",
    "\n",
    "masque_path = os.path.join(racine,\"results/data/img_pretraitees/masque_foret.tif\")\n"
   ]
  },
  {
   "cell_type": "code",
   "execution_count": null,
   "metadata": {},
   "outputs": [],
   "source": [
    "# Réalisation des pré-traitements sur les images individuelles \n",
    "pre_traitement_img(\n",
    "    p_emprise = shapefile_path,\n",
    "    l_images = l_images,\n",
    "    input_raster_dir = input_raster_dir,\n",
    "    output_dir = output_dir)"
   ]
  },
  {
   "cell_type": "code",
   "execution_count": 2,
   "metadata": {},
   "outputs": [
    {
     "name": "stdout",
     "output_type": "stream",
     "text": [
      "Partie ndvi\n"
     ]
    },
    {
     "name": "stderr",
     "output_type": "stream",
     "text": [
      "/opt/conda/lib/python3.12/site-packages/osgeo/gdal.py:311: FutureWarning: Neither gdal.UseExceptions() nor gdal.DontUseExceptions() has been explicitly called. In GDAL 4.0, exceptions will be enabled by default.\n",
      "  warnings.warn(\n"
     ]
    }
   ],
   "source": [
    "## Partie Serie_temp_S2_ndvi.tif\n",
    "print(\"Partie ndvi\")\n",
    "\n",
    "# Definitions des paramètres\n",
    "traitements_dir = output_dir\n",
    "l_traitements = [os.path.join(traitements_dir,i) for i in sorted(os.listdir(traitements_dir))]\n",
    "# L_traitements = os.path.join(traitements_dir,sorted(os.listdir(traitements_dir)))\n",
    "ref_raster_path = os.path.join(traitements_dir,\"traitement_20220125_B2.tif\")\n",
    "masque = rw.load_img_as_array(masque_path)"
   ]
  },
  {
   "cell_type": "code",
   "execution_count": 3,
   "metadata": {},
   "outputs": [
    {
     "name": "stdout",
     "output_type": "stream",
     "text": [
      "Calcul des NDVI\n"
     ]
    },
    {
     "name": "stderr",
     "output_type": "stream",
     "text": [
      "/home/onyxia/work/Depot_Git/scripts/my_function.py:80: RuntimeWarning: invalid value encountered in divide\n",
      "  ndvi_blank[:,:,i] = np.where(denominator!=0,nominator_masked/denominator,0)\n"
     ]
    }
   ],
   "source": [
    "ndvi_masked = compute_ndvi(masque,ref_raster_path,l_traitements)"
   ]
  },
  {
   "cell_type": "code",
   "execution_count": 4,
   "metadata": {},
   "outputs": [
    {
     "name": "stdout",
     "output_type": "stream",
     "text": [
      "Ecriture terminée\n"
     ]
    }
   ],
   "source": [
    "# Save array into image\n",
    "out_ndvi = os.path.join(racine,\"results/data/img_pretraitees/Serie_temp_S2_ndvi.tif\")\n",
    "rw.write_image(out_filename=out_ndvi, array=ndvi_masked, data_set=rw.open_image(ref_raster_path), gdal_dtype=gdal.GDT_Float32)\n",
    "print(\"Ecriture terminée\")"
   ]
  }
 ],
 "metadata": {
  "kernelspec": {
   "display_name": "base",
   "language": "python",
   "name": "python3"
  },
  "language_info": {
   "codemirror_mode": {
    "name": "ipython",
    "version": 3
   },
   "file_extension": ".py",
   "mimetype": "text/x-python",
   "name": "python",
   "nbconvert_exporter": "python",
   "pygments_lexer": "ipython3",
   "version": "3.12.7"
  }
 },
 "nbformat": 4,
 "nbformat_minor": 2
}
