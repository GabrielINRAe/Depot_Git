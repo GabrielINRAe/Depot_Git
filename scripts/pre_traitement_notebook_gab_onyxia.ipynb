{
 "cells": [
  {
   "cell_type": "markdown",
   "metadata": {},
   "source": [
    "# Importation"
   ]
  },
  {
   "cell_type": "code",
   "execution_count": 1,
   "metadata": {},
   "outputs": [],
   "source": [
    "import geopandas as gpd\n",
    "from osgeo import gdal\n",
    "import os\n",
    "import numpy as np\n",
    "import sys\n",
    "sys.path.append('/home/onyxia/work/libsigma')\n",
    "import read_and_write as rw"
   ]
  },
  {
   "cell_type": "markdown",
   "metadata": {},
   "source": [
    "# Raster 60 bandes"
   ]
  },
  {
   "cell_type": "code",
   "execution_count": 2,
   "metadata": {},
   "outputs": [],
   "source": [
    "#  Définition des paramètres \n",
    "\n",
    "input_raster_dir = \"/home/onyxia/work/data/images\"\n",
    "L_images = sorted(os.listdir(input_raster_dir))\n",
    "L_images.remove('.keep')\n",
    "ref_raster_path = \"/home/onyxia/work/data/images/SENTINEL2B_20220125-105852-948_L2A_T31TCJ_C_V3-0_SRE_B2.tif\"\n",
    "shapefile_path = \"/home/onyxia/work/data/project/emprise_etude.shp\"\n",
    "mask_foret_path = \"/home/onyxia/Projet_Teledec/results/data/img_pretraitees/masque_foret.tif\"\n",
    "output_dir = \"/home/onyxia/work/output\"\n",
    "\n",
    "os.makedirs(output_dir, exist_ok=True)"
   ]
  },
  {
   "cell_type": "code",
   "execution_count": null,
   "metadata": {},
   "outputs": [],
   "source": [
    "# Construction array\n",
    "\n",
    "x,y = rw.get_image_dimension(rw.open_image(ref_raster_path))[:2]\n",
    "bandes = 60\n",
    "array_tot = np.zeros((x,y,bandes))\n",
    "\n",
    "L_array = []\n",
    "for i,img in enumerate(L_images):\n",
    "    path = os.path.join(input_raster_dir,img) \n",
    "    array = rw.load_img_as_array(path)\n",
    "    L_array.append(array)"
   ]
  },
  {
   "cell_type": "code",
   "execution_count": 3,
   "metadata": {},
   "outputs": [],
   "source": [
    "gdal.SetConfigOption(\"GDAL_CACHEMAX\", \"1000\")  # Cache en Mo"
   ]
  },
  {
   "cell_type": "code",
   "execution_count": 4,
   "metadata": {},
   "outputs": [],
   "source": [
    "import numpy as np\n",
    "from osgeo import gdal\n",
    "\n",
    "def resample_to_resolution(src_array, src_transform, src_projection, target_resolution, target_shape):\n",
    "    \"\"\"\n",
    "    Rééchantillonne un tableau numpy à une nouvelle résolution en utilisant GDAL.\n",
    "    \"\"\"\n",
    "    mem_driver = gdal.GetDriverByName(\"MEM\")\n",
    "    target_rows, target_cols = target_shape\n",
    "\n",
    "    # Créer une image GDAL en mémoire pour l'entrée\n",
    "    src_ds = mem_driver.Create(\"\", src_array.shape[1], src_array.shape[0], 1, gdal.GDT_Float32)\n",
    "    src_ds.GetRasterBand(1).WriteArray(src_array)\n",
    "    src_ds.SetGeoTransform(src_transform)\n",
    "    src_ds.SetProjection(src_projection)\n",
    "\n",
    "    # Créer une image GDAL en mémoire pour la sortie\n",
    "    target_ds = mem_driver.Create(\"\", target_cols, target_rows, 1, gdal.GDT_Byte)\n",
    "    target_transform = (\n",
    "        src_transform[0], target_resolution, 0,\n",
    "        src_transform[3], 0, -target_resolution\n",
    "    )\n",
    "    target_ds.SetGeoTransform(target_transform)\n",
    "    target_ds.SetProjection(src_projection)\n",
    "\n",
    "    # Créer les options de rééchantillonnage\n",
    "    warp_options = gdal.WarpOptions(\n",
    "        resampleAlg=\"bilinear\",  # Algorithme bilinéaire\n",
    "        multithread=True         # Utilisation de plusieurs threads pour accélérer\n",
    "    )\n",
    "\n",
    "    # Rééchantillonner avec GDAL Warp\n",
    "    gdal.Warp(target_ds, src_ds, options=warp_options)\n",
    "    \n",
    "    # Lire et convertir en UInt8\n",
    "    resampled_array = target_ds.GetRasterBand(1).ReadAsArray().astype(np.uint8)\n",
    "    return resampled_array\n",
    "\n",
    "def process_image(image_path, target_resolution, target_shape):\n",
    "    \"\"\"\n",
    "    Charge et rééchantillonne une image entière.\n",
    "    \"\"\"\n",
    "    ds = gdal.Open(image_path)\n",
    "    array = ds.GetRasterBand(1).ReadAsArray()\n",
    "    transform = ds.GetGeoTransform()\n",
    "    projection = ds.GetProjection()\n",
    "\n",
    "    resampled_array = resample_to_resolution(array, transform, projection, target_resolution, target_shape)\n",
    "    return resampled_array\n",
    "\n",
    "def concatenate_images(image_paths, target_resolution):\n",
    "    \"\"\"\n",
    "    Concatène toutes les images après rééchantillonnage.\n",
    "    \"\"\"\n",
    "    target_shape = None\n",
    "    resampled_arrays = []\n",
    "\n",
    "    for i, path in enumerate(image_paths):\n",
    "        # Charger la première image pour calculer la forme cible\n",
    "        if target_shape is None:\n",
    "            ds = gdal.Open(path)\n",
    "            transform = ds.GetGeoTransform()\n",
    "            \n",
    "            # Calculer les dimensions cibles\n",
    "            cols = int((ds.RasterXSize * transform[1]) / target_resolution)\n",
    "            rows = int((ds.RasterYSize * abs(transform[5])) / target_resolution)\n",
    "            target_shape = (rows, cols)\n",
    "\n",
    "        # Rééchantillonner chaque image\n",
    "        resampled_array = process_image(path, target_resolution, target_shape)\n",
    "        resampled_arrays.append(resampled_array)\n",
    "\n",
    "        # Suivi de la progression\n",
    "        print(f\"Image {i+1}/{len(image_paths)} traitée\")\n",
    "\n",
    "    # Concaténer les tableaux après rééchantillonnage\n",
    "    concatenated_array = np.stack(resampled_arrays, axis=0)\n",
    "    return concatenated_array\n",
    "\n",
    "\n",
    "# # Exemple d'utilisation\n",
    "# image_paths = [\"image1.tif\", \"image2.tif\", \"image3.tif\"]  # Chemins vers les images Sentinel-2\n",
    "# target_resolution = 10  # Résolution cible en mètres\n",
    "# result = concatenate_images(image_paths, target_resolution)"
   ]
  },
  {
   "cell_type": "code",
   "execution_count": 5,
   "metadata": {},
   "outputs": [],
   "source": [
    "image_paths = []\n",
    "for i in L_images:\n",
    "    image_paths.append(os.path.join('/home/onyxia/work/data/images',i))\n",
    "target_resolution = 10  # Résolution cible en mètres\n",
    "output_file = os.path.join(output_dir,\"Serie_temp_S2_allbands.tif\")  # Nom de fichier de sortie"
   ]
  },
  {
   "cell_type": "code",
   "execution_count": null,
   "metadata": {},
   "outputs": [],
   "source": [
    "dataset_exist = rw.open_image(image_paths[2])\n",
    "rw.get_image_dimension(dataset_exist)"
   ]
  },
  {
   "cell_type": "code",
   "execution_count": null,
   "metadata": {},
   "outputs": [],
   "source": [
    "#Def d'un dataset vierge pour l'écriture\n",
    "driver = gdal.GetDriverByName('GTiff')\n",
    "\n",
    "out_filename = 'dataset_vierge.tiff'\n",
    "nb_col,nb_ligne,nb_band = rw.get_image_dimension(dataset_exist)\n",
    "gdal_dtype = gdal.GDT_Byte\n",
    "output_data_set = driver.Create(out_filename, nb_col, nb_ligne, nb_band, gdal_dtype)\n",
    "\n",
    "#Ouverture de ce dataset\n",
    "dataset = rw.open_image('/home/onyxia/work/Projet_Teledec/scripts/dataset_vierge.tiff')"
   ]
  },
  {
   "cell_type": "code",
   "execution_count": 6,
   "metadata": {},
   "outputs": [
    {
     "name": "stderr",
     "output_type": "stream",
     "text": [
      "/opt/conda/lib/python3.12/site-packages/osgeo/gdal.py:311: FutureWarning: Neither gdal.UseExceptions() nor gdal.DontUseExceptions() has been explicitly called. In GDAL 4.0, exceptions will be enabled by default.\n",
      "  warnings.warn(\n"
     ]
    },
    {
     "name": "stdout",
     "output_type": "stream",
     "text": [
      "Image 1/60 traitée\n",
      "Image 2/60 traitée\n",
      "Image 3/60 traitée\n",
      "Image 4/60 traitée\n",
      "Image 5/60 traitée\n",
      "Image 6/60 traitée\n",
      "Image 7/60 traitée\n",
      "Image 8/60 traitée\n",
      "Image 9/60 traitée\n",
      "Image 10/60 traitée\n",
      "Image 11/60 traitée\n",
      "Image 12/60 traitée\n",
      "Image 13/60 traitée\n",
      "Image 14/60 traitée\n",
      "Image 15/60 traitée\n",
      "Image 16/60 traitée\n",
      "Image 17/60 traitée\n",
      "Image 18/60 traitée\n",
      "Image 19/60 traitée\n",
      "Image 20/60 traitée\n",
      "Image 21/60 traitée\n",
      "Image 22/60 traitée\n",
      "Image 23/60 traitée\n",
      "Image 24/60 traitée\n",
      "Image 25/60 traitée\n",
      "Image 26/60 traitée\n",
      "Image 27/60 traitée\n",
      "Image 28/60 traitée\n",
      "Image 29/60 traitée\n",
      "Image 30/60 traitée\n",
      "Image 31/60 traitée\n",
      "Image 32/60 traitée\n",
      "Image 33/60 traitée\n",
      "Image 34/60 traitée\n",
      "Image 35/60 traitée\n",
      "Image 36/60 traitée\n",
      "Image 37/60 traitée\n",
      "Image 38/60 traitée\n",
      "Image 39/60 traitée\n",
      "Image 40/60 traitée\n",
      "Image 41/60 traitée\n",
      "Image 42/60 traitée\n",
      "Image 43/60 traitée\n",
      "Image 44/60 traitée\n",
      "Image 45/60 traitée\n",
      "Image 46/60 traitée\n",
      "Image 47/60 traitée\n",
      "Image 48/60 traitée\n",
      "Image 49/60 traitée\n",
      "Image 50/60 traitée\n",
      "Image 51/60 traitée\n",
      "Image 52/60 traitée\n",
      "Image 53/60 traitée\n",
      "Image 54/60 traitée\n",
      "Image 55/60 traitée\n",
      "Image 56/60 traitée\n",
      "Image 57/60 traitée\n",
      "Image 58/60 traitée\n",
      "Image 59/60 traitée\n",
      "Image 60/60 traitée\n"
     ]
    }
   ],
   "source": [
    "result = concatenate_images(image_paths, target_resolution)"
   ]
  },
  {
   "cell_type": "code",
   "execution_count": null,
   "metadata": {},
   "outputs": [],
   "source": [
    "dataset = rw.open_image(ref_raster_path)\n",
    "rw.write_image(out_filename = \"Serie_temp_S2_allbands.tif\", array = result, gdal_dtype = gdal.GDT_Byte, data_set = dataset)"
   ]
  },
  {
   "cell_type": "markdown",
   "metadata": {},
   "source": [
    "# Clip Raster"
   ]
  },
  {
   "cell_type": "code",
   "execution_count": null,
   "metadata": {},
   "outputs": [],
   "source": [
    "#Façon potentiel pour clip un raster grâce à l'emprise\n",
    "#Pour l'instant ne pas faire tourner\n",
    "\n",
    "# Charger le vecteur avec Geopandas\n",
    "gdf = gpd.read_file(\"/home/onyxia/work/data/project/emprise_etude.shp\").to_crs(\"EPSG:2154\")\n",
    "\n",
    "# Extraire le GeoJSON sous forme de string\n",
    "geojson_str = gdf.to_json()\n",
    "\n",
    "# Appliquer le clip avec GDAL\n",
    "resolution = 10  # Résolution (10 m)\n",
    "gdal.Warp(\n",
    "    \"/home/onyxia/work/test.tif\",     #Chemin fichier en sortie\n",
    "    \"/home/onyxia/work/data/images/SENTINEL2B_20220125-105852-948_L2A_T31TCJ_C_V3-0_SRE_B2.tif\", #Chemin fichier en entrée\n",
    "    format=\"GTiff\",\n",
    "    cutlineDSName=geojson_str,  # Passer directement le GeoJSON\n",
    "    cropToCutline=True,\n",
    "    dstSRS=\"EPSG:2154\",\n",
    "    xRes=resolution,\n",
    "    yRes=resolution,\n",
    "    dstNodata=0\n",
    ")"
   ]
  }
 ],
 "metadata": {
  "kernelspec": {
   "display_name": "base",
   "language": "python",
   "name": "python3"
  },
  "language_info": {
   "codemirror_mode": {
    "name": "ipython",
    "version": 3
   },
   "file_extension": ".py",
   "mimetype": "text/x-python",
   "name": "python",
   "nbconvert_exporter": "python",
   "pygments_lexer": "ipython3",
   "version": "3.12.6"
  }
 },
 "nbformat": 4,
 "nbformat_minor": 2
}
