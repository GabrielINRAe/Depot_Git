{
 "cells": [
  {
   "cell_type": "markdown",
   "metadata": {},
   "source": [
    "# Importation"
   ]
  },
  {
   "cell_type": "code",
   "execution_count": null,
   "metadata": {},
   "outputs": [],
   "source": [
    "import geopandas as gpd\n",
    "from osgeo import gdal\n",
    "import os\n",
    "import numpy as np\n",
    "import sys\n",
    "sys.path.append('/home/onyxia/work/libsigma')\n",
    "import read_and_write as rw"
   ]
  },
  {
   "cell_type": "code",
   "execution_count": null,
   "metadata": {},
   "outputs": [],
   "source": [
    "def supprimer_dossier_non_vide(dossier):\n",
    "    # Parcourir tout le contenu du dossier\n",
    "    for element in os.listdir(dossier):\n",
    "        chemin_element = os.path.join(dossier, element)\n",
    "        # Vérifier si c'est un fichier\n",
    "        if os.path.isfile(chemin_element) or os.path.islink(chemin_element):\n",
    "            os.remove(chemin_element)  # Supprimer le fichier ou le lien\n",
    "        elif os.path.isdir(chemin_element):\n",
    "            supprimer_dossier_non_vide(chemin_element)  # Appel récursif pour les sous-dossiers\n",
    "    # Supprimer le dossier une fois qu'il est vide\n",
    "    os.rmdir(dossier)"
   ]
  },
  {
   "cell_type": "markdown",
   "metadata": {},
   "source": [
    "# Raster 60 bandes : trop long pas assez de place sur le serv"
   ]
  },
  {
   "cell_type": "code",
   "execution_count": null,
   "metadata": {},
   "outputs": [],
   "source": [
    "#  Définition des paramètres \n",
    "\n",
    "input_raster_dir = \"/home/onyxia/work/data/images\"\n",
    "L_images = sorted(os.listdir(input_raster_dir))\n",
    "L_images.remove('.keep')\n",
    "ref_raster_path = \"/home/onyxia/work/data/images/SENTINEL2B_20220125-105852-948_L2A_T31TCJ_C_V3-0_SRE_B2.tif\"\n",
    "shapefile_path = \"/home/onyxia/work/data/project/emprise_etude.shp\"\n",
    "mask_foret_path = \"/home/onyxia/Projet_Teledec/results/data/img_pretraitees/masque_foret.tif\"\n",
    "output_dir = \"/home/onyxia/work/output\"\n",
    "\n",
    "os.makedirs(output_dir, exist_ok=True)"
   ]
  },
  {
   "cell_type": "code",
   "execution_count": null,
   "metadata": {},
   "outputs": [],
   "source": [
    "# Construction array\n",
    "\n",
    "x,y = rw.get_image_dimension(rw.open_image(ref_raster_path))[:2]\n",
    "bandes = 60\n",
    "array_tot = np.zeros((x,y,bandes))\n",
    "\n",
    "L_array = []\n",
    "for i,img in enumerate(L_images):\n",
    "    path = os.path.join(input_raster_dir,img) \n",
    "    array = rw.load_img_as_array(path)\n",
    "    L_array.append(array)"
   ]
  },
  {
   "cell_type": "code",
   "execution_count": null,
   "metadata": {},
   "outputs": [],
   "source": [
    "gdal.SetConfigOption(\"GDAL_CACHEMAX\", \"1000\")  # Cache en Mo"
   ]
  },
  {
   "cell_type": "code",
   "execution_count": null,
   "metadata": {},
   "outputs": [],
   "source": [
    "import numpy as np\n",
    "from osgeo import gdal\n",
    "\n",
    "def resample_to_resolution(src_array, src_transform, src_projection, target_resolution, target_shape):\n",
    "    \"\"\"\n",
    "    Rééchantillonne un tableau numpy à une nouvelle résolution en utilisant GDAL.\n",
    "    \"\"\"\n",
    "    mem_driver = gdal.GetDriverByName(\"MEM\")\n",
    "    target_rows, target_cols = target_shape\n",
    "\n",
    "    # Créer une image GDAL en mémoire pour l'entrée\n",
    "    src_ds = mem_driver.Create(\"\", src_array.shape[1], src_array.shape[0], 1, gdal.GDT_Float32)\n",
    "    src_ds.GetRasterBand(1).WriteArray(src_array)\n",
    "    src_ds.SetGeoTransform(src_transform)\n",
    "    src_ds.SetProjection(src_projection)\n",
    "\n",
    "    # Créer une image GDAL en mémoire pour la sortie\n",
    "    target_ds = mem_driver.Create(\"\", target_cols, target_rows, 1, gdal.GDT_Byte, options=[\"COMPRESS=LZW\", \"TILED=YES\"])\n",
    "    target_transform = (\n",
    "        src_transform[0], target_resolution, 0,\n",
    "        src_transform[3], 0, -target_resolution\n",
    "    )\n",
    "    target_ds.SetGeoTransform(target_transform)\n",
    "    target_ds.SetProjection(src_projection)\n",
    "\n",
    "    # Créer les options de rééchantillonnage\n",
    "    warp_options = gdal.WarpOptions(\n",
    "        resampleAlg=\"bilinear\",  # Algorithme bilinéaire\n",
    "        multithread=True         # Utilisation de plusieurs threads pour accélérer\n",
    "    )\n",
    "\n",
    "    # Rééchantillonner avec GDAL Warp\n",
    "    gdal.Warp(target_ds, src_ds, options=warp_options)\n",
    "    \n",
    "    # Lire et convertir en UInt8\n",
    "    resampled_array = target_ds.GetRasterBand(1).ReadAsArray().astype(np.uint8)\n",
    "    return resampled_array\n",
    "\n",
    "def process_image(image_path, target_resolution, target_shape):\n",
    "    \"\"\"\n",
    "    Charge et rééchantillonne une image entière.\n",
    "    \"\"\"\n",
    "    ds = gdal.Open(image_path)\n",
    "    array = ds.GetRasterBand(1).ReadAsArray()\n",
    "    transform = ds.GetGeoTransform()\n",
    "    projection = ds.GetProjection()\n",
    "\n",
    "    resampled_array = resample_to_resolution(array, transform, projection, target_resolution, target_shape)\n",
    "    return resampled_array\n",
    "\n",
    "def concatenate_images(image_paths, target_resolution):\n",
    "    \"\"\"\n",
    "    Concatène toutes les images après rééchantillonnage.\n",
    "    \"\"\"\n",
    "    target_shape = None\n",
    "    resampled_arrays = []\n",
    "\n",
    "    for i, path in enumerate(image_paths):\n",
    "        # Charger la première image pour calculer la forme cible\n",
    "        if target_shape is None:\n",
    "            ds = gdal.Open(path)\n",
    "            transform = ds.GetGeoTransform()\n",
    "            \n",
    "            # Calculer les dimensions cibles\n",
    "            cols = int((ds.RasterXSize * transform[1]) / target_resolution)\n",
    "            rows = int((ds.RasterYSize * abs(transform[5])) / target_resolution)\n",
    "            target_shape = (rows, cols)\n",
    "\n",
    "        # Rééchantillonner chaque image\n",
    "        resampled_array = process_image(path, target_resolution, target_shape)\n",
    "        resampled_arrays.append(resampled_array)\n",
    "\n",
    "        # Suivi de la progression\n",
    "        print(f\"Image {i+1}/{len(image_paths)} traitée\")\n",
    "\n",
    "    # Concaténer les tableaux après rééchantillonnage\n",
    "    concatenated_array = np.stack(resampled_arrays, axis=0)\n",
    "    return concatenated_array\n",
    "\n",
    "\n",
    "# # Exemple d'utilisation\n",
    "# image_paths = [\"image1.tif\", \"image2.tif\", \"image3.tif\"]  # Chemins vers les images Sentinel-2\n",
    "# target_resolution = 10  # Résolution cible en mètres\n",
    "# result = concatenate_images(image_paths, target_resolution)"
   ]
  },
  {
   "cell_type": "code",
   "execution_count": null,
   "metadata": {},
   "outputs": [],
   "source": [
    "image_paths = []\n",
    "for i in L_images:\n",
    "    image_paths.append(os.path.join('/home/onyxia/work/data/images',i))\n",
    "target_resolution = 10  # Résolution cible en mètres\n",
    "output_file = os.path.join(output_dir,\"Serie_temp_S2_allbands.tif\")  # Nom de fichier de sortie"
   ]
  },
  {
   "cell_type": "code",
   "execution_count": null,
   "metadata": {},
   "outputs": [],
   "source": [
    "dataset_exist = rw.open_image(image_paths[2])\n",
    "rw.get_image_dimension(dataset_exist)"
   ]
  },
  {
   "cell_type": "code",
   "execution_count": null,
   "metadata": {},
   "outputs": [],
   "source": [
    "#Def d'un dataset vierge pour l'écriture\n",
    "driver = gdal.GetDriverByName('GTiff')\n",
    "\n",
    "out_filename = 'dataset_vierge.tiff'\n",
    "nb_col,nb_ligne,nb_band = rw.get_image_dimension(dataset_exist)\n",
    "gdal_dtype = gdal.GDT_Byte\n",
    "output_data_set = driver.Create(out_filename, nb_col, nb_ligne, nb_band, gdal_dtype)\n",
    "\n",
    "#Ouverture de ce dataset\n",
    "dataset = rw.open_image('/home/onyxia/work/Projet_Teledec/scripts/dataset_vierge.tiff')"
   ]
  },
  {
   "cell_type": "code",
   "execution_count": null,
   "metadata": {},
   "outputs": [],
   "source": [
    "result = concatenate_images(image_paths, target_resolution)"
   ]
  },
  {
   "cell_type": "code",
   "execution_count": null,
   "metadata": {},
   "outputs": [],
   "source": [
    "dataset = rw.open_image(ref_raster_path)\n",
    "out_path=os.path.join(output_dir,\"Serie_temp_S2_allbands.tif\")\n",
    "rw.write_image(out_filename = out_path, array = result, gdal_dtype = gdal.GDT_Byte, data_set = dataset)"
   ]
  },
  {
   "cell_type": "code",
   "execution_count": null,
   "metadata": {},
   "outputs": [],
   "source": [
    "os.rmdir(output_dir)"
   ]
  },
  {
   "cell_type": "markdown",
   "metadata": {},
   "source": [
    "```\n",
    "Je vais essayer de faire les prétraitements en créant des fichiers intermédiaires\n",
    "En commençant par le clip\n",
    "Resolution 10m (faire un if pour faire le traitement si resol != 10m)\n",
    "Projection\n",
    "Encodé uint8\n",
    "No data 0\n",
    "Non foret masquée\n",
    "60 fois\n",
    "```"
   ]
  },
  {
   "cell_type": "markdown",
   "metadata": {},
   "source": [
    "# Technique alternative"
   ]
  },
  {
   "cell_type": "markdown",
   "metadata": {},
   "source": [
    "## Version itérative"
   ]
  },
  {
   "cell_type": "code",
   "execution_count": null,
   "metadata": {},
   "outputs": [],
   "source": [
    "#  Définition des paramètres \n",
    "\n",
    "input_raster_dir = \"/home/onyxia/work/data/images\"\n",
    "L_images = sorted(os.listdir(input_raster_dir))\n",
    "if \".keep\" in L_images:\n",
    "    L_images.remove(\".keep\")\n",
    "shapefile_path = \"/home/onyxia/work/data/project/emprise_etude.shp\"\n",
    "\n",
    "output_dir = \"/home/onyxia/work/output\"\n",
    "os.makedirs(output_dir, exist_ok=True)"
   ]
  },
  {
   "cell_type": "code",
   "execution_count": null,
   "metadata": {},
   "outputs": [],
   "source": [
    "#Façon pour clip/resol/nodata/format/proj un raster grâce à l'emprise\n",
    "\n",
    "# Charger le vecteur avec Geopandas\n",
    "emprise = gpd.read_file(shapefile_path).to_crs(\"EPSG:2154\")\n",
    "\n",
    "# Extraire le GeoJSON sous forme de string\n",
    "geojson_str = emprise.to_json()\n",
    "\n",
    "for i,img in enumerate(L_images) :\n",
    "    date = img[11:19]\n",
    "    bande = img[53:]\n",
    "    ds_img = rw.open_image(os.path.join(input_raster_dir,img))\n",
    "    name_file = f\"traitement_{date}_{bande}\"\n",
    "    output_file = os.path.join(output_dir,name_file)\n",
    "    # Appliquer le clip avec GDAL\n",
    "    resolution = 10  # Résolution (10 m)\n",
    "    output_raster_test = gdal.Warp(\n",
    "        output_file, # Chemin de fichier, car on utilise GTiff\n",
    "        # \"\",  # Pas de chemin de fichier, car on utilise MEM\n",
    "        ds_img,  # Fichier en entrée (chemin ou objet gdal)\n",
    "        format = \"GTiff\", # Utiliser GTiff comme format\n",
    "        # format = \"MEM\",  # Utiliser MEM comme format\n",
    "        cutlineDSName = geojson_str,  # Passer directement le GeoJSON\n",
    "        cropToCutline = True,\n",
    "        outputType = gdal.GDT_UInt16, #UInt16\n",
    "        dstSRS = \"EPSG:2154\",  # Reprojection\n",
    "        xRes = resolution,  # Résolution X\n",
    "        yRes = resolution,  # Résolution Y\n",
    "        dstNodata = 0  # Valeur NoData\n",
    "    )\n",
    "    print(f\"Image {i+1}/{len(L_images)} traitée\")\n",
    "ds_img = None\n",
    "emprise = None\n",
    "geojson_str = None"
   ]
  },
  {
   "cell_type": "code",
   "execution_count": null,
   "metadata": {},
   "outputs": [],
   "source": [
    "# Construction array\n",
    "ref_raster_path = \"/home/onyxia/work/output/traitement_20220125_B2.tif\"\n",
    "L_images_clip = sorted(os.listdir(output_dir))\n",
    "x,y = rw.get_image_dimension(rw.open_image(ref_raster_path))[:2]\n",
    "bandes = 60\n",
    "array_tot = np.zeros((x,y,bandes))\n",
    "\n",
    "L_array = []\n",
    "for i,img in enumerate(L_images_clip):\n",
    "    path = os.path.join(output_dir,img) \n",
    "    array = rw.load_img_as_array(path)\n",
    "    L_array.append(array)\n",
    "\n",
    "# Concat array\n",
    "print(\"Concaténation en cours\")\n",
    "array_final = np.concatenate(L_array,axis = 2)\n",
    "print(\"Tableau concaténé\")\n",
    "\n",
    "# Save array into image\n",
    "out = \"/home/onyxia/work/Projet_Teledec/results/data/img_pretraitees/Serie_temp_S2_allbands.tif\"\n",
    "print(\"Ecriture en cours\")\n",
    "rw.write_image(out_filename=out, array = array_final, data_set = rw.open_image(ref_raster_path))\n",
    "print(\"Ecriture terminée\")"
   ]
  },
  {
   "cell_type": "code",
   "execution_count": null,
   "metadata": {},
   "outputs": [],
   "source": [
    "#Supp du dossier output pour faire de la place\n",
    "\n",
    "supprimer_dossier_non_vide(\"/home/onyxia/work/output\")"
   ]
  }
 ],
 "metadata": {
  "kernelspec": {
   "display_name": "base",
   "language": "python",
   "name": "python3"
  },
  "language_info": {
   "codemirror_mode": {
    "name": "ipython",
    "version": 3
   },
   "file_extension": ".py",
   "mimetype": "text/x-python",
   "name": "python",
   "nbconvert_exporter": "python",
   "pygments_lexer": "ipython3",
   "version": "3.12.7"
  }
 },
 "nbformat": 4,
 "nbformat_minor": 2
}
