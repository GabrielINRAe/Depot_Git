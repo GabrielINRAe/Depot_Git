{
 "cells": [
  {
   "cell_type": "code",
   "execution_count": 6,
   "metadata": {},
   "outputs": [],
   "source": [
    "# Importation des librairies\n",
    "from my_function import ( \n",
    "    sel_classif_pixel,\n",
    "    report_from_dict_to_df,\n",
    "    supprimer_dossier_non_vide,\n",
    "    rasterization)\n",
    "import os\n",
    "import matplotlib.pyplot as plt\n",
    "from osgeo import gdal\n",
    "import geopandas as gpd\n",
    "import numpy as np\n",
    "import pandas as pd\n",
    "import sys\n",
    "from sklearn.ensemble import RandomForestClassifier\n",
    "from sklearn.model_selection import (train_test_split, KFold,\n",
    "    StratifiedKFold, GroupKFold, StratifiedGroupKFold)\n",
    "from sklearn.metrics import (confusion_matrix, classification_report,\n",
    "    accuracy_score)\n",
    "sys.path.append('/home/onyxia/work/libsigma')\n",
    "import read_and_write as rw\n",
    "import classification as cla\n",
    "import plots"
   ]
  },
  {
   "cell_type": "code",
   "execution_count": 7,
   "metadata": {},
   "outputs": [],
   "source": [
    "# Création du dossier de sauvegarde temporaire et paramètres\n",
    "racine = \"/home/onyxia/work\"\n",
    "output_dir = os.path.join(racine,\"output_classif\")\n",
    "os.makedirs(output_dir, exist_ok=True) # Création d'un dossier output temporaire\n",
    "\n",
    "path_sample = os.path.join(racine,\"Depot_Git/results/data/sample/Sample_BD_foret_T31TCJ.shp\")\n",
    "path_sample_px = os.path.join(output_dir,\"sample_classif_px.shp\")\n",
    "\n",
    "sample_rasterized = os.path.join(output_dir,\"rasterized_sample.tif\")\n",
    "path_image_3b = os.path.join(racine,\"Depot_Git/results/data/img_pretraitees/Serie_temp_S2_3_bands.tif\")\n",
    "path_image_10b = os.path.join(racine,\"Depot_Git/results/data/img_pretraitees/Serie_temp_S2_10_bands.tif\")\n",
    "path_image_allbands = os.path.join(racine,\"Depot_Git/results/data/img_pretraitees/Serie_temp_S2_allbands.tif\")\n",
    "\n",
    "path_sample_px_centroid = os.path.join(output_dir,\"sample_px_centroid.shp\")\n",
    "path_sample_px_id = os.path.join(output_dir,\"sample_px_id.shp\")\n",
    "path_rasterized_sample_id = os.path.join(output_dir, \"rasterized_sample_id.tif\")"
   ]
  },
  {
   "cell_type": "code",
   "execution_count": 8,
   "metadata": {},
   "outputs": [],
   "source": [
    "# Save d'un vecteur echantillons avec que les données pour classif pixel\n",
    "sample = gpd.read_file(path_sample)\n",
    "sample_px = sel_classif_pixel(sample[['Code',\"geometry\"]])\n",
    "sample_px.to_file(path_sample_px)"
   ]
  },
  {
   "cell_type": "code",
   "execution_count": 9,
   "metadata": {},
   "outputs": [
    {
     "name": "stdout",
     "output_type": "stream",
     "text": [
      "0...10...20...30...40...50...60...70...80...90...100 - done.\n"
     ]
    }
   ],
   "source": [
    "rasterization(\n",
    "    in_vector=path_sample_px,\n",
    "    out_image=sample_rasterized,\n",
    "    field_name='Code',\n",
    "    ref_image=path_image_allbands\n",
    ")"
   ]
  },
  {
   "cell_type": "code",
   "execution_count": null,
   "metadata": {},
   "outputs": [],
   "source": [
    "# Méthode stratifiée simple\n",
    "# 1 --- define parameters\n",
    "# inputs\n",
    "sample_filename = sample_rasterized\n",
    "image_filename = path_image_3b\n",
    "\n",
    "# Sample parameters\n",
    "#test_size = 0.7\n",
    "nb_iter = 30\n",
    "nb_folds = 5\n",
    "is_point = False\n",
    "# if is_point is True\n",
    "field_name = 'Code'\n",
    "\n",
    "# outputs\n",
    "suffix = '_CV{}fold_stratifed_x{}times'.format(nb_folds, nb_iter)\n",
    "out_folder = output_dir\n",
    "out_classif = os.path.join(out_folder, 'ma_classif{}.tif'.format(suffix))\n",
    "out_matrix = os.path.join(out_folder, 'ma_matrice{}.png'.format(suffix))\n",
    "out_qualite = os.path.join(out_folder, 'mes_qualites{}.png'.format(suffix))\n",
    "\n",
    "print(\"Extraction des échantillons\")\n",
    "# 2 --- extract samples\n",
    "if not is_point :\n",
    "    X, Y, t = cla.get_samples_from_roi(image_filename, sample_filename)\n",
    "else :\n",
    "    # get X\n",
    "    list_row, list_col = rw.get_row_col_from_file(sample_filename, image_filename)\n",
    "    image = rw.load_img_as_array(image_filename)\n",
    "    X = image[(list_row, list_col)]\n",
    "\n",
    "    # get Y\n",
    "    gdf = gpd.read_file(sample_filename)\n",
    "    Y = gdf.loc[:, field_name].values\n",
    "    Y = np.atleast_2d(Y).T\n",
    "\n",
    "list_cm = []\n",
    "list_accuracy = []\n",
    "list_report = []\n",
    "\n",
    "print(\"KFold début\")\n",
    "kf = StratifiedKFold(n_splits=nb_folds)\n",
    "for train, test in kf.split(X, Y):\n",
    "    print(train,test)\n",
    "    X_train, X_test = X[train], X[test]\n",
    "    Y_train, Y_test = Y[train], Y[test]\n",
    "\n",
    "    print(\"Entrainement\")\n",
    "    # 3 --- Train\n",
    "    rfc = RandomForestClassifier(\n",
    "        max_depth = 50,\n",
    "        oob_score = True,\n",
    "        max_samples = 0.75,\n",
    "        class_weight = 'balanced',\n",
    "        n_jobs = -1\n",
    "    )\n",
    "    rfc.fit(X_train, Y_train[:,0])\n",
    "\n",
    "    print(\"Predict\")\n",
    "    # 4 --- Test\n",
    "    Y_predict = rfc.predict(X_test)\n",
    "\n",
    "    # compute quality\n",
    "    list_cm.append(confusion_matrix(Y_test, Y_predict))\n",
    "    list_accuracy.append(accuracy_score(Y_test, Y_predict))\n",
    "    report = classification_report(Y_test, Y_predict,\n",
    "\n",
    "                                   labels=np.unique(Y_predict), output_dict=True)\n",
    "\n",
    "    # store them\n",
    "    list_report.append(report_from_dict_to_df(report))\n",
    "\n",
    "# compute mean of cm\n",
    "array_cm = np.array(list_cm)\n",
    "mean_cm = array_cm.mean(axis=0)\n",
    "\n",
    "# compute mean and std of overall accuracy\n",
    "array_accuracy = np.array(list_accuracy)\n",
    "mean_accuracy = array_accuracy.mean()\n",
    "std_accuracy = array_accuracy.std()\n",
    "\n",
    "# compute mean and std of classification report\n",
    "array_report = np.array(list_report)\n",
    "mean_report = array_report.mean(axis=0)\n",
    "std_report = array_report.std(axis=0)\n",
    "a_report = list_report[0]\n",
    "mean_df_report = pd.DataFrame(mean_report, index=a_report.index,\n",
    "                              columns=a_report.columns)\n",
    "std_df_report = pd.DataFrame(std_report, index=a_report.index,\n",
    "                             columns=a_report.columns)\n",
    "\n",
    "# Display confusion matrix\n",
    "plots.plot_cm(mean_cm, np.unique(Y_predict))\n",
    "plt.savefig(out_matrix, bbox_inches='tight')\n",
    "\n",
    "# Display class metrics\n",
    "fig, ax = plt.subplots(figsize=(10, 7))\n",
    "ax = mean_df_report.T.plot.bar(ax=ax, yerr=std_df_report.T, zorder=2)\n",
    "ax.set_ylim(0.5, 1)\n",
    "_ = ax.text(1.5, 0.95, 'OA : {:.2f} +- {:.2f}'.format(mean_accuracy,\n",
    "                                                      std_accuracy),\n",
    "            fontsize=14)\n",
    "ax.set_title('Class quality estimation')\n",
    "\n",
    "# custom : cuteness\n",
    "# background color\n",
    "ax.set_facecolor('ivory')\n",
    "# labels\n",
    "x_label = ax.get_xlabel()\n",
    "ax.set_xlabel(x_label, fontdict={'fontname': 'Sawasdee'}, fontsize=14)\n",
    "y_label = ax.get_ylabel()\n",
    "ax.set_ylabel(y_label, fontdict={'fontname': 'Sawasdee'}, fontsize=14)\n",
    "# borders\n",
    "ax.spines[\"top\"].set_visible(False)\n",
    "ax.spines[\"right\"].set_visible(False)\n",
    "ax.spines[\"bottom\"].set_visible(False)\n",
    "ax.spines[\"left\"].set_visible(False)\n",
    "ax.tick_params(axis='x', colors='darkslategrey', labelsize=14)\n",
    "ax.tick_params(axis='y', colors='darkslategrey', labelsize=14)\n",
    "# grid\n",
    "ax.minorticks_on()\n",
    "ax.yaxis.grid(which='major', color='darkgoldenrod', linestyle='--',\n",
    "              linewidth=0.5, zorder=1)\n",
    "ax.yaxis.grid(which='minor', color='darkgoldenrod', linestyle='-.',\n",
    "              linewidth=0.3, zorder=1)\n",
    "plt.savefig(out_qualite, bbox_inches='tight')"
   ]
  },
  {
   "cell_type": "code",
   "execution_count": 10,
   "metadata": {},
   "outputs": [
    {
     "name": "stdout",
     "output_type": "stream",
     "text": [
      "0...10...20...30...40...50...60...70...80...90...100 - done.\n"
     ]
    }
   ],
   "source": [
    "# Méthode stratifiée groupée \n",
    "\n",
    "L = [i+1 for i in range(sample_px.shape[0])]  # Création des id de polygones\n",
    "sample_px_id = sample_px.copy()\n",
    "sample_px_id['id'] = L\n",
    "sample_px_id = sample_px_id[['id','geometry']]\n",
    "sample_px_id.to_file(path_sample_px_id)\n",
    "\n",
    "rasterization(\n",
    "    in_vector=path_sample_px_id,\n",
    "    out_image=path_rasterized_sample_id,\n",
    "    field_name=\"id\",\n",
    "    ref_image=path_image_allbands\n",
    ")"
   ]
  },
  {
   "cell_type": "code",
   "execution_count": 11,
   "metadata": {},
   "outputs": [
    {
     "name": "stdout",
     "output_type": "stream",
     "text": [
      "Début de la 1 itération\n"
     ]
    },
    {
     "name": "stderr",
     "output_type": "stream",
     "text": [
      "/opt/conda/lib/python3.12/site-packages/sklearn/metrics/_classification.py:407: UserWarning: A single label was found in 'y_true' and 'y_pred'. For the confusion matrix to have the correct shape, use the 'labels' parameter to pass all known labels.\n",
      "  warnings.warn(\n"
     ]
    },
    {
     "name": "stdout",
     "output_type": "stream",
     "text": [
      "{'11': {'precision': 0.7508408796895213, 'recall': 0.04635042325507108, 'f1-score': 0.0873110191801429, 'support': 62610.0}, '12': {'precision': 0.9316018226588596, 'recall': 0.9978058726211104, 'f1-score': 0.9635680129892457, 'support': 2041814.0}, '13': {'precision': 0.36538461538461536, 'recall': 0.0008868972599542547, 'f1-score': 0.001769499417927823, 'support': 21423.0}, '14': {'precision': 0.87, 'recall': 0.004967076466334259, 'f1-score': 0.00987775801385157, 'support': 52546.0}, '22': {'precision': 0.22635135135135134, 'recall': 0.05929203539823009, 'f1-score': 0.09396914446002805, 'support': 2260.0}, '23': {'precision': 0.15440350606734646, 'recall': 0.7068965517241379, 'f1-score': 0.25344780840488024, 'support': 9918.0}, '24': {'precision': 0.8100477267018337, 'recall': 0.3331955695156224, 'f1-score': 0.47217300906335563, 'support': 48392.0}, 'micro avg': {'precision': 0.9143784148768562, 'recall': 0.9217593144683499, 'f1-score': 0.9180540298162878, 'support': 2238963.0}, 'macro avg': {'precision': 0.5869471288362182, 'recall': 0.30705634660578, 'f1-score': 0.26887375021849025, 'support': 2238963.0}, 'weighted avg': {'precision': 0.9129017333653603, 'recall': 0.9217593144683499, 'f1-score': 0.8928354815724743, 'support': 2238963.0}}\n",
      "Début de la 2 itération\n",
      "{'12': {'precision': 0.0, 'recall': 0.0, 'f1-score': 0.0, 'support': 0.0}, 'micro avg': {'precision': 0.0, 'recall': 0.0, 'f1-score': 0.0, 'support': 0.0}, 'macro avg': {'precision': 0.0, 'recall': 0.0, 'f1-score': 0.0, 'support': 0.0}, 'weighted avg': {'precision': 0.0, 'recall': 0.0, 'f1-score': 0.0, 'support': 0.0}}\n",
      "{'11': {'precision': 0.8059145129224652, 'recall': 0.051456587966488956, 'f1-score': 0.09673666626894166, 'support': 63024.0}, '12': {'precision': 0.933467451625176, 'recall': 0.9972359629528604, 'f1-score': 0.9642986136325186, 'support': 2034705.0}, '13': {'precision': 0.44680851063829785, 'recall': 0.0009802548662652289, 'f1-score': 0.0019562179785747556, 'support': 21423.0}, '14': {'precision': 0.536, 'recall': 0.002542646249596782, 'f1-score': 0.0050612830730297825, 'support': 52701.0}, '22': {'precision': 0.0, 'recall': 0.0, 'f1-score': 0.0, 'support': 1088.0}, '23': {'precision': 0.21954851592378244, 'recall': 0.6285243677938185, 'f1-score': 0.32542389886625867, 'support': 10321.0}, '24': {'precision': 0.613165440718115, 'recall': 0.5218360071301248, 'f1-score': 0.563826250444233, 'support': 47124.0}, 'micro avg': {'precision': 0.9177650115034341, 'recall': 0.925201736381057, 'f1-score': 0.9214683696354752, 'support': 2230386.0}, 'macro avg': {'precision': 0.5078434902611194, 'recall': 0.31465368956559353, 'f1-score': 0.27961470432336527, 'support': 2230386.0}, 'weighted avg': {'precision': 0.9052708054148849, 'recall': 0.925201736381057, 'f1-score': 0.8959870772723676, 'support': 2230386.0}}\n",
      "Début de la 3 itération\n",
      "{'11': {'precision': 0.7527927927927928, 'recall': 0.06608250031633557, 'f1-score': 0.1214994038444761, 'support': 63224.0}, '12': {'precision': 0.9281666005242489, 'recall': 0.9987302004420275, 'f1-score': 0.962156369267232, 'support': 2039692.0}, '13': {'precision': 0.3333333333333333, 'recall': 0.0011202912757316903, 'f1-score': 0.0022330774598743894, 'support': 21423.0}, '14': {'precision': 0.7134831460674157, 'recall': 0.002441509506507488, 'f1-score': 0.004866366510202127, 'support': 52017.0}, '22': {'precision': 0.006008010680907877, 'recall': 0.010856453558504222, 'f1-score': 0.007735281478298238, 'support': 1658.0}, '23': {'precision': 0.5852981969486823, 'recall': 0.08517509334948027, 'f1-score': 0.1487093648136728, 'support': 19818.0}, '24': {'precision': 0.4605260870321111, 'recall': 0.5512454997606809, 'f1-score': 0.5018186640397075, 'support': 48053.0}, 'micro avg': {'precision': 0.9141627185663338, 'recall': 0.9215191338826343, 'f1-score': 0.9178261859670059, 'support': 2245885.0}, 'macro avg': {'precision': 0.539944023911356, 'recall': 0.24509307831560972, 'f1-score': 0.2498597896304948, 'support': 2245885.0}, 'weighted avg': {'precision': 0.8988714360290125, 'recall': 0.9215191338826343, 'f1-score': 0.889430732209768, 'support': 2245885.0}}\n",
      "Début de la 4 itération\n"
     ]
    },
    {
     "name": "stderr",
     "output_type": "stream",
     "text": [
      "/opt/conda/lib/python3.12/site-packages/sklearn/metrics/_classification.py:407: UserWarning: A single label was found in 'y_true' and 'y_pred'. For the confusion matrix to have the correct shape, use the 'labels' parameter to pass all known labels.\n",
      "  warnings.warn(\n"
     ]
    },
    {
     "name": "stdout",
     "output_type": "stream",
     "text": [
      "{'11': {'precision': 0.7436315467699205, 'recall': 0.059009023577735374, 'f1-score': 0.10934152370964118, 'support': 61838.0}, '12': {'precision': 0.9347146297993452, 'recall': 0.9970446727967437, 'f1-score': 0.9648740823705811, 'support': 2035646.0}, '13': {'precision': 0.3793103448275862, 'recall': 0.001026933669420716, 'f1-score': 0.002048321772729389, 'support': 21423.0}, '14': {'precision': 0.4864864864864865, 'recall': 0.0010395010395010396, 'f1-score': 0.002074569238748343, 'support': 51948.0}, '22': {'precision': 0.2926829268292683, 'recall': 0.10783055198973042, 'f1-score': 0.1575984990619137, 'support': 1558.0}, '23': {'precision': 0.2453693801599863, 'recall': 0.4996080480794356, 'f1-score': 0.3291066613116071, 'support': 11481.0}, '24': {'precision': 0.5676107571647848, 'recall': 0.5867330304940338, 'f1-score': 0.5770135088919288, 'support': 46009.0}, 'micro avg': {'precision': 0.919161948348203, 'recall': 0.9266116059756859, 'f1-score': 0.922871743519644, 'support': 2229903.0}, 'macro avg': {'precision': 0.5214008674339111, 'recall': 0.32175596594951433, 'f1-score': 0.30600816662244995, 'support': 2229903.0}, 'weighted avg': {'precision': 0.9020657129834475, 'recall': 0.9266116059756859, 'f1-score': 0.8976296300401041, 'support': 2229903.0}}\n",
      "Début de la 5 itération\n"
     ]
    },
    {
     "name": "stderr",
     "output_type": "stream",
     "text": [
      "/opt/conda/lib/python3.12/site-packages/sklearn/metrics/_classification.py:407: UserWarning: A single label was found in 'y_true' and 'y_pred'. For the confusion matrix to have the correct shape, use the 'labels' parameter to pass all known labels.\n",
      "  warnings.warn(\n"
     ]
    },
    {
     "name": "stdout",
     "output_type": "stream",
     "text": [
      "{'11': {'precision': 0.703632065334193, 'recall': 0.05276134916925854, 'f1-score': 0.09816208437022157, 'support': 62053.0}, '12': {'precision': 0.9323571104168674, 'recall': 0.9975066995180274, 'f1-score': 0.9638322240111541, 'support': 2037460.0}, '13': {'precision': 0.37142857142857144, 'recall': 0.0006068244410213322, 'f1-score': 0.001211669307484388, 'support': 21423.0}, '14': {'precision': 0.5935828877005348, 'recall': 0.0021512461723322608, 'f1-score': 0.00428695568214734, 'support': 51598.0}, '22': {'precision': 0.10291493158834028, 'recall': 0.07654867256637168, 'f1-score': 0.08779497589444303, 'support': 2260.0}, '23': {'precision': 0.14327001457401872, 'recall': 0.5547054322876818, 'f1-score': 0.22772335538585367, 'support': 10456.0}, '24': {'precision': 0.6699555591796795, 'recall': 0.3418134919809456, 'f1-score': 0.45267217630853995, 'support': 48073.0}, 'micro avg': {'precision': 0.9141808016004292, 'recall': 0.9215787416329837, 'f1-score': 0.9178648651119502, 'support': 2233323.0}, 'macro avg': {'precision': 0.5024487343174578, 'recall': 0.28944195944794837, 'f1-score': 0.262240491565692, 'support': 2233323.0}, 'weighted avg': {'precision': 0.9026123831974328, 'recall': 0.9215787416329837, 'f1-score': 0.8930409136820646, 'support': 2233323.0}}\n",
      "Début de la 6 itération\n"
     ]
    },
    {
     "name": "stderr",
     "output_type": "stream",
     "text": [
      "/opt/conda/lib/python3.12/site-packages/sklearn/metrics/_classification.py:407: UserWarning: A single label was found in 'y_true' and 'y_pred'. For the confusion matrix to have the correct shape, use the 'labels' parameter to pass all known labels.\n",
      "  warnings.warn(\n"
     ]
    },
    {
     "name": "stdout",
     "output_type": "stream",
     "text": [
      "{'11': {'precision': 0.8270042194092827, 'recall': 0.08765652951699464, 'f1-score': 0.15851192883137888, 'support': 2236.0}, '12': {'precision': 0.963607834021038, 'recall': 0.9955927033420999, 'f1-score': 0.9793391846715415, 'support': 83271.0}, '13': {'precision': 0.0, 'recall': 0.0, 'f1-score': 0.0, 'support': 0.0}, '22': {'precision': 0.0, 'recall': 0.0, 'f1-score': 0.0, 'support': 0.0}, '23': {'precision': 0.0, 'recall': 0.0, 'f1-score': 0.0, 'support': 0.0}, '24': {'precision': 0.8392857142857143, 'recall': 0.3902972027972028, 'f1-score': 0.5328162291169452, 'support': 2288.0}, '25': {'precision': 0.0, 'recall': 0.0, 'f1-score': 0.0, 'support': 0.0}, 'micro avg': {'precision': 0.9538155802861685, 'recall': 0.9566945725838601, 'f1-score': 0.9552529072247021, 'support': 87795.0}, 'macro avg': {'precision': 0.3756996811022907, 'recall': 0.21050663366518535, 'f1-score': 0.23866676323140937, 'support': 87795.0}, 'weighted avg': {'precision': 0.9568888330275155, 'recall': 0.9566945725838601, 'f1-score': 0.9467973056765243, 'support': 87795.0}}\n",
      "{'11': {'precision': 0.7704786701381935, 'recall': 0.06091362520782202, 'f1-score': 0.11290133239420086, 'support': 63155.0}, '12': {'precision': 0.9295635888465835, 'recall': 0.9986296516805834, 'f1-score': 0.9628596796564051, 'support': 2032330.0}, '13': {'precision': 0.5277777777777778, 'recall': 0.0017737945199085095, 'f1-score': 0.00353570597813445, 'support': 21423.0}, '14': {'precision': 0.6033057851239669, 'recall': 0.004285211129808633, 'f1-score': 0.008509976879286561, 'support': 51106.0}, '22': {'precision': 0.0, 'recall': 0.0, 'f1-score': 0.0, 'support': 3300.0}, '23': {'precision': 0.44749021003915984, 'recall': 0.20108782594784835, 'f1-score': 0.2774834437086093, 'support': 18753.0}, '24': {'precision': 0.48577809324307947, 'recall': 0.5994061478649093, 'f1-score': 0.5366432068543452, 'support': 46813.0}, 'micro avg': {'precision': 0.915974745371633, 'recall': 0.9233754157576625, 'f1-score': 0.9196601921754437, 'support': 2236880.0}, 'macro avg': {'precision': 0.537770589309823, 'recall': 0.2665851794786972, 'f1-score': 0.2717047636387116, 'support': 2236880.0}, 'weighted avg': {'precision': 0.8990697719631299, 'recall': 0.9233754157576625, 'f1-score': 0.8917845741270699, 'support': 2236880.0}}\n",
      "Début de la 7 itération\n"
     ]
    },
    {
     "name": "stderr",
     "output_type": "stream",
     "text": [
      "/opt/conda/lib/python3.12/site-packages/sklearn/metrics/_classification.py:407: UserWarning: A single label was found in 'y_true' and 'y_pred'. For the confusion matrix to have the correct shape, use the 'labels' parameter to pass all known labels.\n",
      "  warnings.warn(\n"
     ]
    },
    {
     "name": "stdout",
     "output_type": "stream",
     "text": [
      "{'11': {'precision': 0.6711111111111111, 'recall': 0.056239271949995145, 'f1-score': 0.10378161932794454, 'support': 61754.0}, '12': {'precision': 0.9330049202533133, 'recall': 0.9977234007709248, 'f1-score': 0.9642794709483676, 'support': 2045595.0}, '13': {'precision': 0.2878787878787879, 'recall': 0.0008868972599542547, 'f1-score': 0.0017683465959328027, 'support': 21423.0}, '14': {'precision': 0.7358490566037735, 'recall': 0.0007338551859099804, 'f1-score': 0.0014662480966971822, 'support': 53144.0}, '22': {'precision': 0.0, 'recall': 0.0, 'f1-score': 0.0, 'support': 1088.0}, '23': {'precision': 0.5202702702702703, 'recall': 0.08814652929545218, 'f1-score': 0.15075198006585389, 'support': 19218.0}, '24': {'precision': 0.4431965249988843, 'recall': 0.6588747843779026, 'f1-score': 0.52993125283482, 'support': 45218.0}, 'micro avg': {'precision': 0.916329325852467, 'recall': 0.9236980742533727, 'f1-score': 0.9199989452582378, 'support': 2247440.0}, 'macro avg': {'precision': 0.51304438158802, 'recall': 0.2575149626914484, 'f1-score': 0.2502827025528023, 'support': 2247440.0}, 'weighted avg': {'precision': 0.901161410075225, 'recall': 0.9236980742533727, 'f1-score': 0.8925308720215755, 'support': 2247440.0}}\n",
      "Début de la 8 itération\n",
      "{'11': {'precision': 0.21212121212121213, 'recall': 0.0045691906005221935, 'f1-score': 0.008945686900958467, 'support': 1532.0}, '12': {'precision': 0.9194091919409192, 'recall': 0.9970453308451909, 'f1-score': 0.9566547299313638, 'support': 51444.0}, '13': {'precision': 0.0, 'recall': 0.0, 'f1-score': 0.0, 'support': 0.0}, '14': {'precision': 0.0, 'recall': 0.0, 'f1-score': 0.0, 'support': 570.0}, '23': {'precision': 0.0, 'recall': 0.0, 'f1-score': 0.0, 'support': 0.0}, '24': {'precision': 0.5837606837606838, 'recall': 0.46305084745762715, 'f1-score': 0.5164461247637051, 'support': 1475.0}, 'micro avg': {'precision': 0.8986739968535519, 'recall': 0.9447665436833209, 'f1-score': 0.9211440317550326, 'support': 55021.0}, 'macro avg': {'precision': 0.28588184797046917, 'recall': 0.24411089481722337, 'f1-score': 0.2470077569326712, 'support': 55021.0}, 'weighted avg': {'precision': 0.8811926932575808, 'recall': 0.9447665436833209, 'f1-score': 0.9085550744797044, 'support': 55021.0}}\n",
      "{'11': {'precision': 0.83153894870171, 'recall': 0.019924429809253554, 'f1-score': 0.038916387563353985, 'support': 65899.0}, '12': {'precision': 0.9341083517901837, 'recall': 0.9967303874968599, 'f1-score': 0.9644038733008556, 'support': 2030210.0}, '13': {'precision': 0.43859649122807015, 'recall': 0.0011669700788871774, 'f1-score': 0.0023277467411545625, 'support': 21423.0}, '14': {'precision': 0.73224043715847, 'recall': 0.0026037618529457483, 'f1-score': 0.005189071969330261, 'support': 51464.0}, '22': {'precision': 0.0, 'recall': 0.0, 'f1-score': 0.0, 'support': 1088.0}, '23': {'precision': 0.21354999680122833, 'recall': 0.6468365468462358, 'f1-score': 0.3210927542505351, 'support': 10321.0}, '24': {'precision': 0.5999283427010323, 'recall': 0.5803188493696659, 'f1-score': 0.5899606927760589, 'support': 46166.0}, 'micro avg': {'precision': 0.9170768282186396, 'recall': 0.9245207091981347, 'f1-score': 0.9207837243344371, 'support': 2226571.0}, 'macro avg': {'precision': 0.5357089383400991, 'recall': 0.3210829922076926, 'f1-score': 0.27455578951446974, 'support': 2226571.0}, 'weighted avg': {'precision': 0.9109137404304946, 'recall': 0.9245207091981347, 'f1-score': 0.8943680574370869, 'support': 2226571.0}}\n",
      "Début de la 9 itération\n"
     ]
    },
    {
     "name": "stderr",
     "output_type": "stream",
     "text": [
      "/opt/conda/lib/python3.12/site-packages/sklearn/metrics/_classification.py:407: UserWarning: A single label was found in 'y_true' and 'y_pred'. For the confusion matrix to have the correct shape, use the 'labels' parameter to pass all known labels.\n",
      "  warnings.warn(\n"
     ]
    },
    {
     "name": "stdout",
     "output_type": "stream",
     "text": [
      "{'11': {'precision': 0.7451838879159369, 'recall': 0.026377781910606905, 'f1-score': 0.050951981798586995, 'support': 64524.0}, '12': {'precision': 0.9324578973483356, 'recall': 0.9975342588725699, 'f1-score': 0.9638989407942252, 'support': 2049688.0}, '14': {'precision': 0.46629213483146065, 'recall': 0.0016108685104318293, 'f1-score': 0.0032106454170937855, 'support': 51525.0}, '22': {'precision': 0.0, 'recall': 0.0, 'f1-score': 0.0, 'support': 2268.0}, '23': {'precision': 0.21575920377449462, 'recall': 0.6033901569873832, 'f1-score': 0.3178589548452562, 'support': 10383.0}, '24': {'precision': 0.6064201153495902, 'recall': 0.5229597958159726, 'f1-score': 0.561606128401251, 'support': 45841.0}, 'micro avg': {'precision': 0.9171306073670515, 'recall': 0.9336525150962424, 'f1-score': 0.9253178158447081, 'support': 2224229.0}, 'macro avg': {'precision': 0.49435220653663636, 'recall': 0.35864547701616073, 'f1-score': 0.3162544418760688, 'support': 2224229.0}, 'weighted avg': {'precision': 0.9052102290059726, 'recall': 0.9336525150962424, 'f1-score': 0.9028701911527642, 'support': 2224229.0}}\n",
      "Début de la 10 itération\n",
      "{'12': {'precision': 0.0, 'recall': 0.0, 'f1-score': 0.0, 'support': 0.0}, '24': {'precision': 0.0, 'recall': 0.0, 'f1-score': 0.0, 'support': 0.0}, 'micro avg': {'precision': 0.0, 'recall': 0.0, 'f1-score': 0.0, 'support': 0.0}, 'macro avg': {'precision': 0.0, 'recall': 0.0, 'f1-score': 0.0, 'support': 0.0}, 'weighted avg': {'precision': 0.0, 'recall': 0.0, 'f1-score': 0.0, 'support': 0.0}}\n",
      "{'11': {'precision': 0.9078641228478362, 'recall': 0.029669393838012106, 'f1-score': 0.05746093922570574, 'support': 65758.0}, '12': {'precision': 0.9304146725456561, 'recall': 0.9980637602576058, 'f1-score': 0.9630526853545591, 'support': 2049333.0}, '13': {'precision': 0.472, 'recall': 0.0027540493861737386, 'f1-score': 0.005476146278076852, 'support': 21423.0}, '14': {'precision': 0.45038167938931295, 'recall': 0.0011370206205434574, 'f1-score': 0.002268314719055766, 'support': 51890.0}, '22': {'precision': 0.00836172189532363, 'recall': 0.04963235294117647, 'f1-score': 0.014312218393851047, 'support': 1088.0}, '23': {'precision': 0.6015986132511556, 'recall': 0.3250598397335831, 'f1-score': 0.42206607661644485, 'support': 19218.0}, '24': {'precision': 0.4815625110272063, 'recall': 0.5748646770151015, 'f1-score': 0.5240934358708488, 'support': 47479.0}, 'micro avg': {'precision': 0.915034855262938, 'recall': 0.922364660052859, 'f1-score': 0.9186851375282505, 'support': 2256189.0}, 'macro avg': {'precision': 0.5503119029937844, 'recall': 0.2830258705417423, 'f1-score': 0.28410425949407747, 'support': 2256189.0}, 'weighted avg': {'precision': 0.9016733565449039, 'recall': 0.922364660052859, 'f1-score': 0.8911662335937037, 'support': 2256189.0}}\n",
      "Début de la 11 itération\n"
     ]
    },
    {
     "name": "stderr",
     "output_type": "stream",
     "text": [
      "/opt/conda/lib/python3.12/site-packages/sklearn/metrics/_classification.py:407: UserWarning: A single label was found in 'y_true' and 'y_pred'. For the confusion matrix to have the correct shape, use the 'labels' parameter to pass all known labels.\n",
      "  warnings.warn(\n"
     ]
    },
    {
     "name": "stdout",
     "output_type": "stream",
     "text": [
      "{'11': {'precision': 0.8163365125947665, 'recall': 0.052813948704966536, 'f1-score': 0.09920941568091303, 'support': 63203.0}, '12': {'precision': 0.9327073379546521, 'recall': 0.9974963449392792, 'f1-score': 0.9640144910643986, 'support': 2031430.0}, '13': {'precision': 0.3225806451612903, 'recall': 0.00046678803155487096, 'f1-score': 0.0009322270905192505, 'support': 21423.0}, '14': {'precision': 0.3983050847457627, 'recall': 0.0009093899347948068, 'f1-score': 0.0018146367830736859, 'support': 51683.0}, '22': {'precision': 0.0, 'recall': 0.0, 'f1-score': 0.0, 'support': 1658.0}, '23': {'precision': 0.22730343150499865, 'recall': 0.6590931348545686, 'f1-score': 0.33802958386699816, 'support': 10211.0}, '24': {'precision': 0.63917143462598, 'recall': 0.5156754215374094, 'f1-score': 0.5708202732272755, 'support': 46793.0}, 'micro avg': {'precision': 0.9180765738431366, 'recall': 0.9255291387310731, 'f1-score': 0.9217877932172114, 'support': 2226401.0}, 'macro avg': {'precision': 0.47662920665534997, 'recall': 0.3180650040003676, 'f1-score': 0.282117232530454, 'support': 2226401.0}, 'weighted avg': {'precision': 0.9010284199847658, 'recall': 0.9255291387310731, 'f1-score': 0.8960084281232543, 'support': 2226401.0}}\n",
      "Début de la 12 itération\n"
     ]
    },
    {
     "name": "stderr",
     "output_type": "stream",
     "text": [
      "/opt/conda/lib/python3.12/site-packages/sklearn/metrics/_classification.py:407: UserWarning: A single label was found in 'y_true' and 'y_pred'. For the confusion matrix to have the correct shape, use the 'labels' parameter to pass all known labels.\n",
      "  warnings.warn(\n"
     ]
    },
    {
     "name": "stdout",
     "output_type": "stream",
     "text": [
      "{'11': {'precision': 0.7606310013717421, 'recall': 0.052218542526642917, 'f1-score': 0.09772790694258816, 'support': 63713.0}, '12': {'precision': 0.9286337519693736, 'recall': 0.998189751481202, 'f1-score': 0.9621563079704691, 'support': 2030108.0}, '13': {'precision': 0.4166666666666667, 'recall': 0.0009335760631097419, 'f1-score': 0.0018629779702855013, 'support': 21423.0}, '14': {'precision': 0.5527950310559007, 'recall': 0.003468906514918247, 'f1-score': 0.006894548271521255, 'support': 51313.0}, '22': {'precision': 0.002733734281027884, 'recall': 0.009191176470588236, 'f1-score': 0.004214075010535188, 'support': 1088.0}, '23': {'precision': 0.07693074240159442, 'recall': 0.2120684918963465, 'f1-score': 0.11290401208989422, 'support': 10921.0}, '24': {'precision': 0.6979183807799901, 'recall': 0.3509370733523644, 'f1-score': 0.4670337233310392, 'support': 48342.0}, 'micro avg': {'precision': 0.9128135160163939, 'recall': 0.9202216705854036, 'f1-score': 0.9165026233880135, 'support': 2226908.0}, 'macro avg': {'precision': 0.4909013297894708, 'recall': 0.23242964547216746, 'f1-score': 0.23611336451233328, 'support': 2226908.0}, 'weighted avg': {'precision': 0.9006041644586763, 'recall': 0.9202216705854036, 'f1-score': 0.8907940519373834, 'support': 2226908.0}}\n",
      "Début de la 13 itération\n"
     ]
    },
    {
     "name": "stderr",
     "output_type": "stream",
     "text": [
      "/opt/conda/lib/python3.12/site-packages/sklearn/metrics/_classification.py:407: UserWarning: A single label was found in 'y_true' and 'y_pred'. For the confusion matrix to have the correct shape, use the 'labels' parameter to pass all known labels.\n",
      "  warnings.warn(\n"
     ]
    },
    {
     "name": "stdout",
     "output_type": "stream",
     "text": [
      "{'11': {'precision': 0.3129230769230769, 'recall': 0.26333505955463493, 'f1-score': 0.28599550056242967, 'support': 3862.0}, '12': {'precision': 0.8312610650983904, 'recall': 0.9969006247559548, 'f1-score': 0.9065770054484725, 'support': 40976.0}, '13': {'precision': 1.0, 'recall': 0.02443280977312391, 'f1-score': 0.04770017035775128, 'support': 573.0}, '22': {'precision': 0.75, 'recall': 0.35106382978723405, 'f1-score': 0.4782608695652174, 'support': 470.0}, '23': {'precision': 0.7129506008010681, 'recall': 0.05602769908718917, 'f1-score': 0.1038910505836576, 'support': 9531.0}, '24': {'precision': 0.12774820643369592, 'recall': 0.33073696824445775, 'f1-score': 0.18430717863105175, 'support': 1669.0}, '25': {'precision': 0.0, 'recall': 0.0, 'f1-score': 0.0, 'support': 0.0}, 'micro avg': {'precision': 0.7458368638572342, 'recall': 0.7556104483102959, 'f1-score': 0.7506918457923593, 'support': 57081.0}, 'macro avg': {'precision': 0.5335547070366046, 'recall': 0.28892814160037067, 'f1-score': 0.28667596787836863, 'support': 57081.0}, 'weighted avg': {'precision': 0.7568911942559061, 'recall': 0.7556104483102959, 'f1-score': 0.6972954764104943, 'support': 57081.0}}\n",
      "{'11': {'precision': 0.5166666666666667, 'recall': 0.10920986411675894, 'f1-score': 0.1803074366431242, 'support': 1987.0}, '12': {'precision': 0.8742290400560287, 'recall': 0.997473836160231, 'f1-score': 0.9317938283347581, 'support': 38794.0}, '13': {'precision': 0.0, 'recall': 0.0, 'f1-score': 0.0, 'support': 0.0}, '22': {'precision': 0.9911504424778761, 'recall': 0.0642939150401837, 'f1-score': 0.12075471698113208, 'support': 1742.0}, '23': {'precision': 0.2774528914879792, 'recall': 0.3362204724409449, 'f1-score': 0.3040227839088644, 'support': 1270.0}, '24': {'precision': 0.7659574468085106, 'recall': 0.4600326264274062, 'f1-score': 0.5748258875488365, 'support': 3678.0}, '25': {'precision': 0.0, 'recall': 0.0, 'f1-score': 0.0, 'support': 0.0}, 'micro avg': {'precision': 0.847037509778894, 'recall': 0.8667186282151208, 'f1-score': 0.8567650580457078, 'support': 47471.0}, 'macro avg': {'precision': 0.48935092678529457, 'recall': 0.2810329591693607, 'f1-score': 0.301672093345245, 'support': 47471.0}, 'weighted avg': {'precision': 0.8391986429388076, 'recall': 0.8667186282151208, 'f1-score': 0.8261244532446864, 'support': 47471.0}}\n",
      "{'11': {'precision': 0.745211964708414, 'recall': 0.05520220617537819, 'f1-score': 0.10279014544375185, 'support': 62733.0}, '12': {'precision': 0.9371187930702529, 'recall': 0.9964978119170967, 'f1-score': 0.9658965736974595, 'support': 2070991.0}, '13': {'precision': 0.3978494623655914, 'recall': 0.0017271157167530224, 'f1-score': 0.003439300985313255, 'support': 21423.0}, '14': {'precision': 0.5707317073170731, 'recall': 0.004560247890398145, 'f1-score': 0.009048199060379328, 'support': 51313.0}, '22': {'precision': 0.0, 'recall': 0.0, 'f1-score': 0.0, 'support': 1698.0}, '23': {'precision': 0.22922719349215573, 'recall': 0.7159709618874773, 'f1-score': 0.3472711267605634, 'support': 9918.0}, '24': {'precision': 0.6004524473287327, 'recall': 0.563014226945492, 'f1-score': 0.5811309905566491, 'support': 46672.0}, 'micro avg': {'precision': 0.9202867855166919, 'recall': 0.9276308004245947, 'f1-score': 0.9239441996372127, 'support': 2264748.0}, 'macro avg': {'precision': 0.49722736689746, 'recall': 0.33385322436179937, 'f1-score': 0.2870823337863023, 'support': 2264748.0}, 'weighted avg': {'precision': 0.9076598569103539, 'recall': 0.9276308004245947, 'f1-score': 0.8998423649175374, 'support': 2264748.0}}\n",
      "Début de la 14 itération\n"
     ]
    },
    {
     "name": "stderr",
     "output_type": "stream",
     "text": [
      "/opt/conda/lib/python3.12/site-packages/sklearn/metrics/_classification.py:407: UserWarning: A single label was found in 'y_true' and 'y_pred'. For the confusion matrix to have the correct shape, use the 'labels' parameter to pass all known labels.\n",
      "  warnings.warn(\n"
     ]
    },
    {
     "name": "stdout",
     "output_type": "stream",
     "text": [
      "{'11': {'precision': 0.0, 'recall': 0.0, 'f1-score': 0.0, 'support': 1661.0}, '12': {'precision': 0.9519459888800635, 'recall': 0.9963313695015723, 'f1-score': 0.9736330884430631, 'support': 55334.0}, '13': {'precision': 0.0, 'recall': 0.0, 'f1-score': 0.0, 'support': 0.0}, '14': {'precision': 0.5652173913043478, 'recall': 0.027426160337552744, 'f1-score': 0.052313883299798795, 'support': 474.0}, '23': {'precision': 0.0, 'recall': 0.0, 'f1-score': 0.0, 'support': 0.0}, '24': {'precision': 0.550314465408805, 'recall': 0.6505576208178439, 'f1-score': 0.596252129471891, 'support': 269.0}, 'micro avg': {'precision': 0.9480873380407212, 'recall': 0.9581038484187191, 'f1-score': 0.953069276226246, 'support': 57738.0}, 'macro avg': {'precision': 0.34457964093220267, 'recall': 0.2790525251094948, 'f1-score': 0.27036651686912544, 'support': 57738.0}, 'weighted avg': {'precision': 0.9195144789109887, 'recall': 0.9581038484187191, 'f1-score': 0.9363019487931776, 'support': 57738.0}}\n",
      "{'11': {'precision': 0.6911354766771975, 'recall': 0.059566902649197555, 'f1-score': 0.10968074909680749, 'support': 62434.0}, '12': {'precision': 0.9347636017279191, 'recall': 0.9969466521979985, 'f1-score': 0.9648542698836152, 'support': 2063309.0}, '13': {'precision': 0.4774774774774775, 'recall': 0.002473976567240816, 'f1-score': 0.004922448221417294, 'support': 21423.0}, '14': {'precision': 0.5155555555555555, 'recall': 0.0022420657930341337, 'f1-score': 0.004464715278178704, 'support': 51738.0}, '22': {'precision': 0.001006036217303823, 'recall': 0.0006031363088057901, 'f1-score': 0.0007541478129713424, 'support': 1658.0}, '23': {'precision': 0.15533533072136438, 'recall': 0.5643315657270443, 'f1-score': 0.2436144578313253, 'support': 10749.0}, '24': {'precision': 0.7262853240545023, 'recall': 0.46826711395324455, 'f1-score': 0.5694108048848889, 'support': 47695.0}, 'micro avg': {'precision': 0.9175342620963085, 'recall': 0.9248749228643041, 'f1-score': 0.9211899688828582, 'support': 2259006.0}, 'macro avg': {'precision': 0.5002226860616171, 'recall': 0.29920448759950935, 'f1-score': 0.2711002275727435, 'support': 2259006.0}, 'weighted avg': {'precision': 0.9052967827489524, 'recall': 0.9248749228643041, 'f1-score': 0.8976313768971839, 'support': 2259006.0}}\n",
      "Début de la 15 itération\n"
     ]
    },
    {
     "name": "stderr",
     "output_type": "stream",
     "text": [
      "/opt/conda/lib/python3.12/site-packages/sklearn/metrics/_classification.py:407: UserWarning: A single label was found in 'y_true' and 'y_pred'. For the confusion matrix to have the correct shape, use the 'labels' parameter to pass all known labels.\n",
      "  warnings.warn(\n"
     ]
    },
    {
     "name": "stdout",
     "output_type": "stream",
     "text": [
      "{'11': {'precision': 0.740684575389948, 'recall': 0.05474692158652383, 'f1-score': 0.10195774374878852, 'support': 62451.0}, '12': {'precision': 0.9340716330240505, 'recall': 0.9976255571097972, 'f1-score': 0.9648031151419836, 'support': 2058167.0}, '13': {'precision': 0.3157894736842105, 'recall': 0.0008402184567987676, 'f1-score': 0.0016759776536312849, 'support': 21423.0}, '14': {'precision': 0.5981735159817352, 'recall': 0.0025519646231469038, 'f1-score': 0.005082247051520794, 'support': 51333.0}, '22': {'precision': 0.7570093457943925, 'recall': 0.05724381625441696, 'f1-score': 0.10643889618922471, 'support': 2830.0}, '23': {'precision': 0.23463707745051057, 'recall': 0.6417624521072797, 'f1-score': 0.34363611823457957, 'support': 9918.0}, '24': {'precision': 0.5941665008951661, 'recall': 0.5143355288647811, 'f1-score': 0.551376421995062, 'support': 46458.0}, 'micro avg': {'precision': 0.9192377699278578, 'recall': 0.9266130392705254, 'f1-score': 0.9229106703103731, 'support': 2252580.0}, 'macro avg': {'precision': 0.5963617317457163, 'recall': 0.3241580655718206, 'f1-score': 0.2964243600021129, 'support': 2252580.0}, 'weighted avg': {'precision': 0.9048630265810118, 'recall': 0.9266130392705254, 'f1-score': 0.8975110044945657, 'support': 2252580.0}}\n",
      "Début de la 16 itération\n"
     ]
    },
    {
     "name": "stderr",
     "output_type": "stream",
     "text": [
      "/opt/conda/lib/python3.12/site-packages/sklearn/metrics/_classification.py:407: UserWarning: A single label was found in 'y_true' and 'y_pred'. For the confusion matrix to have the correct shape, use the 'labels' parameter to pass all known labels.\n",
      "  warnings.warn(\n"
     ]
    },
    {
     "name": "stdout",
     "output_type": "stream",
     "text": [
      "{'11': {'precision': 0.7839818089944416, 'recall': 0.048787773969372034, 'f1-score': 0.0918590882178804, 'support': 63602.0}, '12': {'precision': 0.9325366141149494, 'recall': 0.9976869054651101, 'f1-score': 0.9640122600637145, 'support': 2033207.0}, '14': {'precision': 0.36666666666666664, 'recall': 0.0006357156617222116, 'f1-score': 0.0012692307692307692, 'support': 51910.0}, '22': {'precision': 0.19175911251980982, 'recall': 0.05353982300884956, 'f1-score': 0.08370805949498443, 'support': 2260.0}, '23': {'precision': 0.1936369878690776, 'recall': 0.6823956442831216, 'f1-score': 0.30167149543124583, 'support': 9918.0}, '24': {'precision': 0.6510298167884085, 'recall': 0.4595439849544619, 'f1-score': 0.5387788472258352, 'support': 47323.0}, 'micro avg': {'precision': 0.9163750745566962, 'recall': 0.9330030522321145, 'f1-score': 0.9246143113365193, 'support': 2208220.0}, 'macro avg': {'precision': 0.5199351678255589, 'recall': 0.3737649745571063, 'f1-score': 0.33021649686714855, 'support': 2208220.0}, 'weighted avg': {'precision': 0.9048459847827676, 'recall': 0.9330030522321145, 'f1-score': 0.9032716723147346, 'support': 2208220.0}}\n",
      "Début de la 17 itération\n",
      "{'11': {'precision': 0.7839130434782609, 'recall': 0.027706918277653134, 'f1-score': 0.05352213019859293, 'support': 65074.0}, '12': {'precision': 0.9301743251317893, 'recall': 0.998128021161756, 'f1-score': 0.9629538233605711, 'support': 2036882.0}, '13': {'precision': 0.456, 'recall': 0.0026606917798627644, 'f1-score': 0.005290514200853908, 'support': 21423.0}, '14': {'precision': 0.8101851851851852, 'recall': 0.0033290847870336903, 'f1-score': 0.006630922835003695, 'support': 52567.0}, '22': {'precision': 0.10538286580742987, 'recall': 0.061504424778761065, 'f1-score': 0.07767532830399553, 'support': 2260.0}, '23': {'precision': 0.20913911416094821, 'recall': 0.5723431498079385, 'f1-score': 0.30633923472301544, 'support': 11715.0}, '24': {'precision': 0.5761411352445398, 'recall': 0.40739079354907615, 'f1-score': 0.47728922145198827, 'support': 46815.0}, 'micro avg': {'precision': 0.9140552481385341, 'recall': 0.921440885289994, 'f1-score': 0.9177332076156423, 'support': 2236736.0}, 'macro avg': {'precision': 0.5529908098583076, 'recall': 0.29615186916315445, 'f1-score': 0.2699573107248601, 'support': 2236736.0}, 'weighted avg': {'precision': 0.9065378600736147, 'recall': 0.921440885289994, 'f1-score': 0.8903494737064563, 'support': 2236736.0}}\n",
      "Début de la 18 itération\n"
     ]
    },
    {
     "name": "stderr",
     "output_type": "stream",
     "text": [
      "/opt/conda/lib/python3.12/site-packages/sklearn/metrics/_classification.py:407: UserWarning: A single label was found in 'y_true' and 'y_pred'. For the confusion matrix to have the correct shape, use the 'labels' parameter to pass all known labels.\n",
      "  warnings.warn(\n"
     ]
    },
    {
     "name": "stdout",
     "output_type": "stream",
     "text": [
      "{'11': {'precision': 0.7886007942069609, 'recall': 0.05444722199822595, 'f1-score': 0.10186162990676764, 'support': 62005.0}, '12': {'precision': 0.9345941824653797, 'recall': 0.9971909185021451, 'f1-score': 0.9648783715876487, 'support': 2029489.0}, '13': {'precision': 0.5394736842105263, 'recall': 0.001913830929374971, 'f1-score': 0.0038141308898088284, 'support': 21423.0}, '14': {'precision': 0.5185185185185185, 'recall': 0.001076074633462078, 'f1-score': 0.002147692189687242, 'support': 52041.0}, '22': {'precision': 0.48338368580060426, 'recall': 0.07518796992481203, 'f1-score': 0.13013420089467262, 'support': 2128.0}, '23': {'precision': 0.21307166637462766, 'recall': 0.6130268199233716, 'f1-score': 0.3162302031050893, 'support': 9918.0}, '24': {'precision': 0.5943346822185194, 'recall': 0.5465490445023313, 'f1-score': 0.5694411184473105, 'support': 45683.0}, 'micro avg': {'precision': 0.9186476909619951, 'recall': 0.9261173525557129, 'f1-score': 0.9223673990079865, 'support': 2222687.0}, 'macro avg': {'precision': 0.5817110305421623, 'recall': 0.32705598291624616, 'f1-score': 0.29835819243156925, 'support': 2222687.0}, 'weighted avg': {'precision': 0.9063264636629557, 'recall': 0.9261173525557129, 'f1-score': 0.8971782915726053, 'support': 2222687.0}}\n",
      "Début de la 19 itération\n"
     ]
    },
    {
     "name": "stderr",
     "output_type": "stream",
     "text": [
      "/opt/conda/lib/python3.12/site-packages/sklearn/metrics/_classification.py:407: UserWarning: A single label was found in 'y_true' and 'y_pred'. For the confusion matrix to have the correct shape, use the 'labels' parameter to pass all known labels.\n",
      "  warnings.warn(\n"
     ]
    },
    {
     "name": "stdout",
     "output_type": "stream",
     "text": [
      "{'11': {'precision': 0.7472021066491112, 'recall': 0.052799702274806556, 'f1-score': 0.0986298989079744, 'support': 64489.0}, '12': {'precision': 0.9346559074146242, 'recall': 0.997177974718054, 'f1-score': 0.9649052058089631, 'support': 2046757.0}, '13': {'precision': 0.2597402597402597, 'recall': 0.0009335760631097419, 'f1-score': 0.0018604651162790699, 'support': 21423.0}, '14': {'precision': 0.5952380952380952, 'recall': 0.0024486757561510736, 'f1-score': 0.004877287447813025, 'support': 51048.0}, '22': {'precision': 0.0, 'recall': 0.0, 'f1-score': 0.0, 'support': 1088.0}, '23': {'precision': 0.22623305877334032, 'recall': 0.6950998185117967, 'f1-score': 0.34136317496471985, 'support': 9918.0}, '24': {'precision': 0.6184444783559693, 'recall': 0.5248548425392303, 'f1-score': 0.5678190713043072, 'support': 46329.0}, 'micro avg': {'precision': 0.9188252088751175, 'recall': 0.9262350895918524, 'f1-score': 0.9225152699549374, 'support': 2241052.0}, 'macro avg': {'precision': 0.48307341516734287, 'recall': 0.32475922712330696, 'f1-score': 0.28277930050715094, 'support': 2241052.0}, 'weighted avg': {'precision': 0.9049525228922516, 'recall': 0.9262350895918524, 'f1-score': 0.8974660070869358, 'support': 2241052.0}}\n",
      "{'11': {'precision': 0.0, 'recall': 0.0, 'f1-score': 0.0, 'support': 590.0}, '12': {'precision': 0.874770533815591, 'recall': 0.9959029114159786, 'f1-score': 0.9314148588237571, 'support': 48327.0}, '13': {'precision': 0.0, 'recall': 0.0, 'f1-score': 0.0, 'support': 0.0}, '14': {'precision': 1.0, 'recall': 0.12280701754385964, 'f1-score': 0.21875, 'support': 285.0}, '23': {'precision': 0.7419222903885481, 'recall': 0.17822754961682058, 'f1-score': 0.2874118672264913, 'support': 10178.0}, '24': {'precision': 0.4095354523227384, 'recall': 0.4367666232073012, 'f1-score': 0.4227129337539432, 'support': 3068.0}, '25': {'precision': 0.0, 'recall': 0.0, 'f1-score': 0.0, 'support': 0.0}, 'micro avg': {'precision': 0.7936591401175379, 'recall': 0.8217717140661029, 'f1-score': 0.8074708122226768, 'support': 62448.0}, 'macro avg': {'precision': 0.43231832521812535, 'recall': 0.24767201454056575, 'f1-score': 0.2657556656863131, 'support': 62448.0}, 'weighted avg': {'precision': 0.8225687840604482, 'recall': 0.8217717140661029, 'f1-score': 0.7894086423546636, 'support': 62448.0}}\n",
      "Début de la 20 itération\n"
     ]
    },
    {
     "name": "stderr",
     "output_type": "stream",
     "text": [
      "/opt/conda/lib/python3.12/site-packages/sklearn/metrics/_classification.py:407: UserWarning: A single label was found in 'y_true' and 'y_pred'. For the confusion matrix to have the correct shape, use the 'labels' parameter to pass all known labels.\n",
      "  warnings.warn(\n"
     ]
    },
    {
     "name": "stdout",
     "output_type": "stream",
     "text": [
      "{'11': {'precision': 0.0, 'recall': 0.0, 'f1-score': 0.0, 'support': 1755.0}, '12': {'precision': 0.9237687584397055, 'recall': 0.9986503608219027, 'f1-score': 0.95975117464099, 'support': 36306.0}, '23': {'precision': 0.0, 'recall': 0.0, 'f1-score': 0.0, 'support': 0.0}, '24': {'precision': 0.9191564147627417, 'recall': 0.31793313069908813, 'f1-score': 0.47244805781391147, 'support': 1645.0}, 'micro avg': {'precision': 0.9231927710843374, 'recall': 0.9263083664937289, 'f1-score': 0.9247479445855229, 'support': 39706.0}, 'macro avg': {'precision': 0.4607312933006118, 'recall': 0.3291458728802477, 'f1-score': 0.3580498081137254, 'support': 39706.0}, 'weighted avg': {'precision': 0.8827472131717287, 'recall': 0.9263083664937289, 'f1-score': 0.8971415705842863, 'support': 39706.0}}\n",
      "{'11': {'precision': 0.7857693295658875, 'recall': 0.04767768079800499, 'f1-score': 0.08990051871335576, 'support': 64160.0}, '12': {'precision': 0.9318607309153764, 'recall': 0.998052313875462, 'f1-score': 0.9638214127938266, 'support': 2053719.0}, '14': {'precision': 0.6030534351145038, 'recall': 0.0015104584910710871, 'f1-score': 0.0030133694429080923, 'support': 52302.0}, '22': {'precision': 0.0, 'recall': 0.0, 'f1-score': 0.0, 'support': 1658.0}, '23': {'precision': 0.25448824727003516, 'recall': 0.6170900278251503, 'f1-score': 0.36036272145927245, 'support': 11141.0}, '24': {'precision': 0.6259884646501552, 'recall': 0.5192561643539064, 'f1-score': 0.5676487989587031, 'support': 46193.0}, 'micro avg': {'precision': 0.9182440656395395, 'recall': 0.9347493442635453, 'f1-score': 0.9264231957256056, 'support': 2229173.0}, 'macro avg': {'precision': 0.5335267012526597, 'recall': 0.36393110755726576, 'f1-score': 0.3307911368946777, 'support': 2229173.0}, 'weighted avg': {'precision': 0.909524513392869, 'recall': 0.9347493442635453, 'f1-score': 0.9041829291135564, 'support': 2229173.0}}\n",
      "{'11': {'precision': 0.2716127004086765, 'recall': 0.39926062846580407, 'f1-score': 0.32329279700654817, 'support': 2164.0}, '12': {'precision': 0.9056889773104069, 'recall': 0.9961100305640456, 'f1-score': 0.948749968986991, 'support': 57584.0}, '13': {'precision': 0.0, 'recall': 0.0, 'f1-score': 0.0, 'support': 0.0}, '22': {'precision': 0.7557251908396947, 'recall': 0.1689419795221843, 'f1-score': 0.27615062761506276, 'support': 1172.0}, '23': {'precision': 0.9827586206896551, 'recall': 0.03213379686178709, 'f1-score': 0.06223273587480666, 'support': 10643.0}, '24': {'precision': 0.048541709157658576, 'recall': 0.85, 'f1-score': 0.0918387034535983, 'support': 280.0}, '25': {'precision': 0.0, 'recall': 0.0, 'f1-score': 0.0, 'support': 0.0}, 'micro avg': {'precision': 0.8182448549398125, 'recall': 0.8212630318889801, 'f1-score': 0.8197511653270905, 'support': 71843.0}, 'macro avg': {'precision': 0.42347531405801314, 'recall': 0.3494923479162601, 'f1-score': 0.2431806904195724, 'support': 71843.0}, 'weighted avg': {'precision': 0.892220057004233, 'recall': 0.8212630318889801, 'f1-score': 0.78426750285089, 'support': 71843.0}}\n",
      "Début de la 21 itération\n"
     ]
    },
    {
     "name": "stderr",
     "output_type": "stream",
     "text": [
      "/opt/conda/lib/python3.12/site-packages/sklearn/metrics/_classification.py:407: UserWarning: A single label was found in 'y_true' and 'y_pred'. For the confusion matrix to have the correct shape, use the 'labels' parameter to pass all known labels.\n",
      "  warnings.warn(\n"
     ]
    },
    {
     "name": "stdout",
     "output_type": "stream",
     "text": [
      "{'11': {'precision': 0.7226402924102343, 'recall': 0.05354724616438574, 'f1-score': 0.09970630988756712, 'support': 62767.0}, '12': {'precision': 0.9311651090114583, 'recall': 0.9982099214209956, 'f1-score': 0.963522628452345, 'support': 2038458.0}, '13': {'precision': 0.2830188679245283, 'recall': 0.0007001820473323064, 'f1-score': 0.0013969081765691936, 'support': 21423.0}, '14': {'precision': 0.5357142857142857, 'recall': 0.0020379643647373937, 'f1-score': 0.0040604818438454695, 'support': 51522.0}, '22': {'precision': 0.23941798941798942, 'recall': 0.0834870848708487, 'f1-score': 0.1238030095759234, 'support': 2168.0}, '23': {'precision': 0.15096943805455143, 'recall': 0.4182828006919785, 'f1-score': 0.22186270011832032, 'support': 10983.0}, '24': {'precision': 0.7018553051613515, 'recall': 0.4669049621530698, 'f1-score': 0.5607646561193954, 'support': 47560.0}, 'micro avg': {'precision': 0.916694703930928, 'recall': 0.9241078160313682, 'f1-score': 0.9203863332765131, 'support': 2234881.0}, 'macro avg': {'precision': 0.5092544696706284, 'recall': 0.28902430881619257, 'f1-score': 0.28215952773913805, 'support': 2234881.0}, 'weighted avg': {'precision': 0.9005940394624127, 'recall': 0.9241078160313682, 'f1-score': 0.8948901065502133, 'support': 2234881.0}}\n",
      "Début de la 22 itération\n",
      "{'11': {'precision': 0.8209162424803331, 'recall': 0.05516512220909261, 'f1-score': 0.1033829657041289, 'support': 64316.0}, '12': {'precision': 0.932824740274539, 'recall': 0.9977298580299501, 'f1-score': 0.9641862462717553, 'support': 2030710.0}, '13': {'precision': 0.4396551724137931, 'recall': 0.002380618960929842, 'f1-score': 0.004735595895816891, 'support': 21423.0}, '14': {'precision': 0.5581395348837209, 'recall': 0.0009203512674003911, 'f1-score': 0.0018376722817764165, 'support': 52154.0}, '22': {'precision': 0.0, 'recall': 0.0, 'f1-score': 0.0, 'support': 1088.0}, '23': {'precision': 0.2207825311185692, 'recall': 0.4818282959391804, 'f1-score': 0.30281136198106334, 'support': 10786.0}, '24': {'precision': 0.5888456549935149, 'recall': 0.5550243412578864, 'f1-score': 0.5714349932009485, 'support': 45807.0}, 'micro avg': {'precision': 0.9180215090558231, 'recall': 0.9254740185888234, 'f1-score': 0.9217327000758951, 'support': 2226284.0}, 'macro avg': {'precision': 0.5087376965949244, 'recall': 0.29900694109491993, 'f1-score': 0.2783412621907842, 'support': 2226284.0}, 'weighted avg': {'precision': 0.9050853946460349, 'recall': 0.9254740185888234, 'f1-score': 0.8957846212359639, 'support': 2226284.0}}\n",
      "Début de la 23 itération\n"
     ]
    },
    {
     "name": "stderr",
     "output_type": "stream",
     "text": [
      "/opt/conda/lib/python3.12/site-packages/sklearn/metrics/_classification.py:407: UserWarning: A single label was found in 'y_true' and 'y_pred'. For the confusion matrix to have the correct shape, use the 'labels' parameter to pass all known labels.\n",
      "  warnings.warn(\n"
     ]
    },
    {
     "name": "stdout",
     "output_type": "stream",
     "text": [
      "{'11': {'precision': 0.8331758034026465, 'recall': 0.05530633372023716, 'f1-score': 0.10372723796075663, 'support': 63754.0}, '12': {'precision': 0.9331834842281089, 'recall': 0.9979953352525863, 'f1-score': 0.9645018418800216, 'support': 2056703.0}, '13': {'precision': 0.3584905660377358, 'recall': 0.0008868972599542547, 'f1-score': 0.0017694170236543117, 'support': 21423.0}, '14': {'precision': 0.6459143968871596, 'recall': 0.003239656518345043, 'f1-score': 0.006446977493834593, 'support': 51240.0}, '22': {'precision': 0.3990498812351544, 'recall': 0.07894736842105263, 'f1-score': 0.13181639858768143, 'support': 2128.0}, '23': {'precision': 0.260648362275575, 'recall': 0.5341202826124418, 'f1-score': 0.3503348498120885, 'support': 11606.0}, '24': {'precision': 0.596839405771319, 'recall': 0.5537858000342994, 'f1-score': 0.574507122126964, 'support': 46648.0}, 'micro avg': {'precision': 0.9194021769036902, 'recall': 0.9267757472591549, 'f1-score': 0.923074237189776, 'support': 2253502.0}, 'macro avg': {'precision': 0.575328842833957, 'recall': 0.3177545248312738, 'f1-score': 0.30472912069785735, 'support': 2253502.0}, 'weighted avg': {'precision': 0.9074284320428917, 'recall': 0.9267757472591549, 'f1-score': 0.8971907755896781, 'support': 2253502.0}}\n",
      "Début de la 24 itération\n"
     ]
    },
    {
     "name": "stderr",
     "output_type": "stream",
     "text": [
      "/opt/conda/lib/python3.12/site-packages/sklearn/metrics/_classification.py:407: UserWarning: A single label was found in 'y_true' and 'y_pred'. For the confusion matrix to have the correct shape, use the 'labels' parameter to pass all known labels.\n",
      "  warnings.warn(\n"
     ]
    },
    {
     "name": "stdout",
     "output_type": "stream",
     "text": [
      "{'11': {'precision': 0.6578171091445427, 'recall': 0.07473190348525469, 'f1-score': 0.13421606981643094, 'support': 2984.0}, '12': {'precision': 0.8535206044592778, 'recall': 0.9965632019051227, 'f1-score': 0.9195121037715827, 'support': 36953.0}, '14': {'precision': 0.18181818181818182, 'recall': 0.001444043321299639, 'f1-score': 0.0028653295128939827, 'support': 1385.0}, '23': {'precision': 0.0, 'recall': 0.0, 'f1-score': 0.0, 'support': 0.0}, '24': {'precision': 0.6964285714285714, 'recall': 0.3173076923076923, 'f1-score': 0.43597560975609756, 'support': 1352.0}, 'micro avg': {'precision': 0.834260784401015, 'recall': 0.8782865445001641, 'f1-score': 0.8557077625570776, 'support': 42674.0}, 'macro avg': {'precision': 0.4779168933701148, 'recall': 0.2780093682038739, 'f1-score': 0.298513822571401, 'support': 42674.0}, 'weighted avg': {'precision': 0.8130586015058495, 'recall': 0.8782865445001641, 'f1-score': 0.8195303704543545, 'support': 42674.0}}\n",
      "{'11': {'precision': 0.7039848197343453, 'recall': 0.05439173779891836, 'f1-score': 0.10098138543194568, 'support': 61388.0}, '12': {'precision': 0.9379421773767213, 'recall': 0.9961673940710306, 'f1-score': 0.9661783679890312, 'support': 2057086.0}, '13': {'precision': 0.3779527559055118, 'recall': 0.0022405825514633807, 'f1-score': 0.004454756380510441, 'support': 21423.0}, '14': {'precision': 0.6264044943820225, 'recall': 0.004347402280924066, 'f1-score': 0.008634876381870632, 'support': 51295.0}, '22': {'precision': 0.0, 'recall': 0.0, 'f1-score': 0.0, 'support': 1088.0}, '23': {'precision': 0.22790192129407627, 'recall': 0.7187941117160718, 'f1-score': 0.3460763610767252, 'support': 9918.0}, '24': {'precision': 0.6023363628017994, 'recall': 0.5738744451490171, 'f1-score': 0.5877610436145793, 'support': 45733.0}, 'micro avg': {'precision': 0.9206453298405475, 'recall': 0.9280471687075804, 'f1-score': 0.9243314314450696, 'support': 2247931.0}, 'macro avg': {'precision': 0.49664607592778237, 'recall': 0.33568795336677504, 'f1-score': 0.28772668441066607, 'support': 2247931.0}, 'weighted avg': {'precision': 0.9086930259734489, 'recall': 0.9280471687075804, 'f1-score': 0.9006334540378298, 'support': 2247931.0}}\n",
      "Début de la 25 itération\n"
     ]
    },
    {
     "name": "stderr",
     "output_type": "stream",
     "text": [
      "/opt/conda/lib/python3.12/site-packages/sklearn/metrics/_classification.py:407: UserWarning: A single label was found in 'y_true' and 'y_pred'. For the confusion matrix to have the correct shape, use the 'labels' parameter to pass all known labels.\n",
      "  warnings.warn(\n"
     ]
    },
    {
     "name": "stdout",
     "output_type": "stream",
     "text": [
      "{'11': {'precision': 0.7154036243822076, 'recall': 0.05640342901675542, 'f1-score': 0.10456296653021911, 'support': 61592.0}, '12': {'precision': 0.931667994819974, 'recall': 0.9979239893800501, 'f1-score': 0.9636584830174988, 'support': 2046714.0}, '13': {'precision': 0.37755102040816324, 'recall': 0.0017271157167530224, 'f1-score': 0.0034385019283490544, 'support': 21423.0}, '14': {'precision': 0.8154362416107382, 'recall': 0.004629365034005829, 'f1-score': 0.009206463467767906, 'support': 52491.0}, '22': {'precision': 0.14277389277389277, 'recall': 0.1084070796460177, 'f1-score': 0.12323943661971831, 'support': 2260.0}, '23': {'precision': 0.18847457627118644, 'recall': 0.013866028230834456, 'f1-score': 0.025831629808585766, 'support': 20049.0}, '24': {'precision': 0.4200541606569923, 'recall': 0.6197290137664481, 'f1-score': 0.500719298245614, 'support': 46054.0}, 'micro avg': {'precision': 0.9147631901883758, 'recall': 0.9221090712939713, 'f1-score': 0.9184214421941393, 'support': 2250583.0}, 'macro avg': {'precision': 0.5130516444175935, 'recall': 0.2575265743986949, 'f1-score': 0.2472366828025361, 'support': 2250583.0}, 'weighted avg': {'precision': 0.8998819318122182, 'recall': 0.9221090712939713, 'f1-score': 0.8900747122768191, 'support': 2250583.0}}\n",
      "Début de la 26 itération\n",
      "{'11': {'precision': 0.6853760977472317, 'recall': 0.02812333531789553, 'f1-score': 0.0540296485815336, 'support': 63826.0}, '12': {'precision': 0.9323428027177613, 'recall': 0.9979512360728089, 'f1-score': 0.9640320424951853, 'support': 2032445.0}, '13': {'precision': 0.5, 'recall': 0.0017737945199085095, 'f1-score': 0.003535048141774036, 'support': 21423.0}, '14': {'precision': 0.66015625, 'recall': 0.0033106096223162514, 'f1-score': 0.006588180258849213, 'support': 51048.0}, '22': {'precision': 0.0, 'recall': 0.0, 'f1-score': 0.0, 'support': 1088.0}, '23': {'precision': 0.24544273396590416, 'recall': 0.5595547975944709, 'f1-score': 0.3412151067323481, 'support': 11141.0}, '24': {'precision': 0.5795536357091433, 'recall': 0.514618138424821, 'f1-score': 0.5451590329352807, 'support': 46928.0}, 'micro avg': {'precision': 0.9174945190768184, 'recall': 0.924937351289264, 'f1-score': 0.9212009018588153, 'support': 2227899.0}, 'macro avg': {'precision': 0.5146959314485773, 'recall': 0.30076170165031735, 'f1-score': 0.2735084370207101, 'support': 2227899.0}, 'weighted avg': {'precision': 0.9035522746992516, 'recall': 0.924937351289264, 'f1-score': 0.8943795685187608, 'support': 2227899.0}}\n",
      "Début de la 27 itération\n",
      "{'11': {'precision': 0.7885610766045549, 'recall': 0.04991563324214079, 'f1-score': 0.09388817847073505, 'support': 61043.0}, '12': {'precision': 0.9335655018380138, 'recall': 0.9978828763090487, 'f1-score': 0.9646533023996622, 'support': 1987130.0}, '13': {'precision': 0.34210526315789475, 'recall': 0.0006068244410213322, 'f1-score': 0.0012114999301057732, 'support': 21423.0}, '14': {'precision': 0.6287878787878788, 'recall': 0.0016259207020843129, 'f1-score': 0.003243454474404064, 'support': 51048.0}, '22': {'precision': 0.0, 'recall': 0.0, 'f1-score': 0.0, 'support': 1088.0}, '23': {'precision': 0.24466972403250462, 'recall': 0.6132284734825569, 'f1-score': 0.3497814584771107, 'support': 9918.0}, '24': {'precision': 0.6126661149783381, 'recall': 0.5616994689159638, 'f1-score': 0.5860768335273574, 'support': 44814.0}, 'micro avg': {'precision': 0.9192462920424672, 'recall': 0.926879562446243, 'f1-score': 0.9230471464087975, 'support': 2176464.0}, 'macro avg': {'precision': 0.5071936513427407, 'recall': 0.3178513138704023, 'f1-score': 0.285550675325625, 'support': 2176464.0}, 'weighted avg': {'precision': 0.9063150540303597, 'recall': 0.926879562446243, 'f1-score': 0.8971192900161513, 'support': 2176464.0}}\n",
      "{'11': {'precision': 0.8272251308900523, 'recall': 0.10266406757634827, 'f1-score': 0.18265895953757225, 'support': 1539.0}, '12': {'precision': 0.9189358322234881, 'recall': 0.9975266063994704, 'f1-score': 0.9566197841846791, 'support': 57411.0}, '13': {'precision': 0.9333333333333333, 'recall': 0.02443280977312391, 'f1-score': 0.047619047619047616, 'support': 573.0}, '22': {'precision': 0.9673202614379085, 'recall': 0.3148936170212766, 'f1-score': 0.4751203852327448, 'support': 470.0}, '23': {'precision': 0.4597402597402597, 'recall': 0.2537634408602151, 'f1-score': 0.32702078521939953, 'support': 1395.0}, '24': {'precision': 0.8649425287356322, 'recall': 0.42255498362189986, 'f1-score': 0.5677459918264697, 'support': 2137.0}, 'micro avg': {'precision': 0.912425962105002, 'recall': 0.9263439590712318, 'f1-score': 0.9193322866137058, 'support': 63525.0}, 'macro avg': {'precision': 0.8285828910601124, 'recall': 0.3526392542087224, 'f1-score': 0.4261308256033189, 'support': 63525.0}, 'weighted avg': {'precision': 0.9053016121108854, 'recall': 0.9263439590712318, 'f1-score': 0.8991998432713778, 'support': 63525.0}}\n",
      "Début de la 28 itération\n"
     ]
    },
    {
     "name": "stderr",
     "output_type": "stream",
     "text": [
      "/opt/conda/lib/python3.12/site-packages/sklearn/metrics/_classification.py:407: UserWarning: A single label was found in 'y_true' and 'y_pred'. For the confusion matrix to have the correct shape, use the 'labels' parameter to pass all known labels.\n",
      "  warnings.warn(\n"
     ]
    },
    {
     "name": "stdout",
     "output_type": "stream",
     "text": [
      "{'11': {'precision': 0.7357664233576642, 'recall': 0.056791474839831296, 'f1-score': 0.10544405756384775, 'support': 62122.0}, '12': {'precision': 0.9328369055953223, 'recall': 0.9974464414203726, 'f1-score': 0.9640603835184834, 'support': 2033241.0}, '13': {'precision': 0.41379310344827586, 'recall': 0.0011202912757316903, 'f1-score': 0.002234532842977515, 'support': 21423.0}, '14': {'precision': 0.2978723404255319, 'recall': 0.000538006302359542, 'f1-score': 0.0010740726533430512, 'support': 52044.0}, '22': {'precision': 0.0, 'recall': 0.0, 'f1-score': 0.0, 'support': 1088.0}, '23': {'precision': 0.17549470915286663, 'recall': 0.5654435134354233, 'f1-score': 0.2678559207974998, 'support': 10383.0}, '24': {'precision': 0.6042605105105106, 'recall': 0.3995325653064179, 'f1-score': 0.481018962361642, 'support': 48349.0}, 'micro avg': {'precision': 0.9154742262397279, 'recall': 0.9228981670518026, 'f1-score': 0.9191712065117253, 'support': 2228650.0}, 'macro avg': {'precision': 0.4514319989271674, 'recall': 0.28869604179716235, 'f1-score': 0.2602411328196848, 'support': 2228650.0}, 'weighted avg': {'precision': 0.8964145268433578, 'recall': 0.9228981670518026, 'f1-score': 0.89420016479062, 'support': 2228650.0}}\n",
      "Début de la 29 itération\n",
      "{'11': {'precision': 0.7519234768143065, 'recall': 0.05855680787666796, 'f1-score': 0.10865221375880771, 'support': 61752.0}, '12': {'precision': 0.9342265174613836, 'recall': 0.9980201538311751, 'f1-score': 0.9650702537334616, 'support': 2054200.0}, '13': {'precision': 0.2537313432835821, 'recall': 0.0007935396536432806, 'f1-score': 0.001582131223825035, 'support': 21423.0}, '14': {'precision': 0.4594594594594595, 'recall': 0.0013157130971499333, 'f1-score': 0.0026239123304586057, 'support': 51683.0}, '22': {'precision': 0.7979274611398963, 'recall': 0.05441696113074205, 'f1-score': 0.10188554416142905, 'support': 2830.0}, '23': {'precision': 0.26483790523690776, 'recall': 0.5934065934065934, 'f1-score': 0.3662279441347204, 'support': 10738.0}, '24': {'precision': 0.6015569204399371, 'recall': 0.5608478526245699, 'f1-score': 0.5804895418155087, 'support': 45055.0}, 'micro avg': {'precision': 0.9205010782282631, 'recall': 0.9279025804818388, 'f1-score': 0.9241870105584771, 'support': 2247681.0}, 'macro avg': {'precision': 0.5805232976907818, 'recall': 0.3239082316600774, 'f1-score': 0.30379022016545865, 'support': 2247681.0}, 'weighted avg': {'precision': 0.9017774015581839, 'recall': 0.9279025804818388, 'f1-score': 0.8985710874639625, 'support': 2247681.0}}\n",
      "Début de la 30 itération\n"
     ]
    },
    {
     "name": "stderr",
     "output_type": "stream",
     "text": [
      "/opt/conda/lib/python3.12/site-packages/sklearn/metrics/_classification.py:407: UserWarning: A single label was found in 'y_true' and 'y_pred'. For the confusion matrix to have the correct shape, use the 'labels' parameter to pass all known labels.\n",
      "  warnings.warn(\n"
     ]
    },
    {
     "name": "stdout",
     "output_type": "stream",
     "text": [
      "{'11': {'precision': 0.6311188811188811, 'recall': 0.06319525120549994, 'f1-score': 0.11488666116969723, 'support': 62837.0}, '12': {'precision': 0.92513540982024, 'recall': 0.998928899689191, 'f1-score': 0.9606170567457442, 'support': 2053029.0}, '14': {'precision': 0.6303724928366762, 'recall': 0.00428741254652817, 'f1-score': 0.008516898300491658, 'support': 51313.0}, '22': {'precision': 0.034031826059555695, 'recall': 0.09557522123893805, 'f1-score': 0.050191704426629485, 'support': 2260.0}, '23': {'precision': 0.5015920070267896, 'recall': 0.469792791403157, 'f1-score': 0.485171910261516, 'support': 19449.0}, '24': {'precision': 0.7200079317866349, 'recall': 0.44196048200592364, 'f1-score': 0.5477172164119066, 'support': 49294.0}, 'micro avg': {'precision': 0.9156848828333665, 'recall': 0.9320779096606084, 'f1-score': 0.9238086782201795, 'support': 2238182.0}, 'macro avg': {'precision': 0.5737097581081295, 'recall': 0.34562334301487296, 'f1-score': 0.3611835745526642, 'support': 2238182.0}, 'weighted avg': {'precision': 0.9010251141357951, 'recall': 0.9320779096606084, 'f1-score': 0.900900619486959, 'support': 2238182.0}}\n"
     ]
    }
   ],
   "source": [
    "# 1 --- define parameters\n",
    "# inputs\n",
    "sample_filename = sample_rasterized\n",
    "image_filename = path_image_allbands\n",
    "id_filename = os.path.join(output_dir, \"rasterized_sample_id.tif\")\n",
    "\n",
    "# Sample parameters\n",
    "#test_size = 0.7\n",
    "nb_iter = 30\n",
    "nb_folds = 5\n",
    "is_point = False\n",
    "# if is_point is True\n",
    "field_name = 'Code'\n",
    "\n",
    "# outputs\n",
    "suffix = '_CV{}folds_stratified_group_x{}times'.format(nb_folds, nb_iter)\n",
    "out_folder = \"/home/onyxia/work\"\n",
    "out_classif = os.path.join(out_folder, 'ma_classif{}.tif'.format(suffix))\n",
    "out_matrix = os.path.join(out_folder, 'ma_matrice{}.png'.format(suffix))\n",
    "out_qualite = os.path.join(out_folder, 'mes_qualites{}.png'.format(suffix))\n",
    "\n",
    "\n",
    "# 2 --- extract samples\n",
    "if not is_point :\n",
    "    X, Y, t = cla.get_samples_from_roi(image_filename, sample_filename)\n",
    "    _, groups, _ = cla.get_samples_from_roi(image_filename, id_filename)\n",
    "else :\n",
    "    # get X\n",
    "    list_row, list_col = rw.get_row_col_from_file(sample_filename, image_filename)\n",
    "    image = rw.load_img_as_array(image_filename)\n",
    "    X = image[(list_row, list_col)]\n",
    "\n",
    "    # get Y\n",
    "    gdf = gpd.read_file(sample_filename)\n",
    "    Y = gdf.loc[:, field_name].values\n",
    "    Y = np.atleast_2d(Y).T\n",
    "\n",
    "list_cm = []\n",
    "list_accuracy = []\n",
    "list_report = []\n",
    "groups = np.squeeze(groups)\n",
    "\n",
    "# Iter on stratified K fold\n",
    "for i in range(nb_iter):\n",
    "    print (f\"Début de la {i+1} itération\")\n",
    "    kf = StratifiedGroupKFold(n_splits=nb_folds, shuffle=True)\n",
    "    for train, test in kf.split(X, Y, groups=groups):\n",
    "        X_train, X_test = X[train], X[test]\n",
    "        Y_train, Y_test = Y[train], Y[test]\n",
    "\n",
    "        # 3 --- Train\n",
    "        rfc = RandomForestClassifier(\n",
    "            max_depth = 50,\n",
    "            oob_score = True,\n",
    "            max_samples = 0.75,\n",
    "            class_weight = 'balanced',\n",
    "            n_jobs = -1\n",
    "        )\n",
    "        rfc.fit(X_train, Y_train[:,0])\n",
    "\n",
    "        # 4 --- Test\n",
    "        Y_predict = rfc.predict(X_test)\n",
    "\n",
    "        # compute quality\n",
    "        list_cm.append(confusion_matrix(Y_test, Y_predict))\n",
    "        list_accuracy.append(accuracy_score(Y_test, Y_predict))\n",
    "        report = classification_report(Y_test, Y_predict,\n",
    "                                        labels=np.unique(Y_predict),\n",
    "                                        output_dict=True,\n",
    "                                        zero_division = 0)\n",
    "\n",
    "        # store them\n",
    "        list_report.append(report_from_dict_to_df(report))"
   ]
  },
  {
   "cell_type": "code",
   "execution_count": 14,
   "metadata": {},
   "outputs": [],
   "source": [
    "import json\n",
    "\n",
    "# Sauvegarder la liste dans un fichier JSON\n",
    "# with open(os.path.join(racine,\"list_cm.json\"), \"w\", encoding=\"utf-8\") as fichier:\n",
    "#     json.dump(list_cm, fichier, indent=4, ensure_ascii=False)\n",
    "# with open(os.path.join(racine,\"list_accuracy.json\"), \"w\", encoding=\"utf-8\") as fichier:\n",
    "#     json.dump(list_accuracy, fichier, indent=4, ensure_ascii=False)\n",
    "list_json = [df.to_dict(orient=\"records\") for df in list_report]\n",
    "with open(os.path.join(racine,\"list_report.json\"), \"w\", encoding=\"utf-8\") as fichier:\n",
    "    json.dump(list_json, fichier, indent=4, ensure_ascii=False)"
   ]
  },
  {
   "cell_type": "code",
   "execution_count": 15,
   "metadata": {},
   "outputs": [],
   "source": [
    "import json\n",
    "# Open list_report\n",
    "with open(os.path.join(racine,\"list_report.json\"), \"r\", encoding=\"utf-8\") as fichier:\n",
    "    list_json = json.load(fichier)\n",
    "    fichier = None\n",
    "list_report = [pd.DataFrame(i) for i in list_json]"
   ]
  },
  {
   "cell_type": "code",
   "execution_count": 16,
   "metadata": {},
   "outputs": [
    {
     "name": "stdout",
     "output_type": "stream",
     "text": [
      "0\n",
      "30\n",
      "The 'try except' is finished\n"
     ]
    }
   ],
   "source": [
    "# Stratégie d'évitement : supprimer les tableaux qui n'ont pas toutes les classes\n",
    "list_report_2 = []\n",
    "list_cm_2 = []\n",
    "try :\n",
    "    list_report\n",
    "except NameError:\n",
    "    print('list_report is not defined')\n",
    "else :\n",
    "    for report in list_report:\n",
    "        nb_report = len(report.keys())\n",
    "        if nb_report == 9 :\n",
    "            list_report_2.append(report)\n",
    "    print(len(list_report_2))\n",
    "try :\n",
    "    list_cm\n",
    "except NameError:\n",
    "    print('list_cm is not defined')\n",
    "else :\n",
    "    for cm in list_cm:\n",
    "        nb_cm = len(cm)\n",
    "        if nb_cm == 9:\n",
    "            list_cm_2.append(cm)\n",
    "    print(len(list_cm_2))\n",
    "finally:\n",
    "  print(\"The 'try except' is finished\")"
   ]
  },
  {
   "cell_type": "code",
   "execution_count": null,
   "metadata": {},
   "outputs": [],
   "source": [
    "# compute mean of cm\n",
    "array_cm = np.array(list_cm_2)\n",
    "mean_cm = array_cm.mean(axis=0)\n",
    "\n",
    "# compute mean and std of overall accuracy\n",
    "array_accuracy = np.array(list_accuracy)\n",
    "mean_accuracy = array_accuracy.mean()\n",
    "std_accuracy = array_accuracy.std()\n",
    "\n",
    "# compute mean and std of classification report\n",
    "array_report = np.array(list_report_2)\n",
    "mean_report = array_report.mean(axis=0)\n",
    "std_report = array_report.std(axis=0)\n",
    "a_report = list_report[0]\n",
    "mean_df_report = pd.DataFrame(mean_report, index=a_report.index,\n",
    "                              columns=a_report.columns)\n",
    "std_df_report = pd.DataFrame(std_report, index=a_report.index,\n",
    "                             columns=a_report.columns)\n",
    "\n",
    "# Display confusion matrix\n",
    "plots.plot_cm(mean_cm, np.unique(Y_predict))\n",
    "plt.savefig(out_matrix, bbox_inches='tight')\n",
    "\n",
    "# Display class metrics\n",
    "fig, ax = plt.subplots(figsize=(10, 7))\n",
    "ax = mean_df_report.T.plot.bar(ax=ax, yerr=std_df_report.T, zorder=2)\n",
    "ax.set_ylim(0.5, 1)\n",
    "_ = ax.text(1.5, 0.95, 'OA : {:.2f} +- {:.2f}'.format(mean_accuracy,\n",
    "                                                      std_accuracy),\n",
    "            fontsize=14)\n",
    "ax.set_title('Class quality estimation')\n",
    "\n",
    "# custom : cuteness\n",
    "# background color\n",
    "ax.set_facecolor('ivory')\n",
    "# labels\n",
    "x_label = ax.get_xlabel()\n",
    "ax.set_xlabel(x_label, fontdict={'fontname': 'Sawasdee'}, fontsize=14)\n",
    "y_label = ax.get_ylabel()\n",
    "ax.set_ylabel(y_label, fontdict={'fontname': 'Sawasdee'}, fontsize=14)\n",
    "# borders\n",
    "ax.spines[\"top\"].set_visible(False)\n",
    "ax.spines[\"right\"].set_visible(False)\n",
    "ax.spines[\"bottom\"].set_visible(False)\n",
    "ax.spines[\"left\"].set_visible(False)\n",
    "ax.tick_params(axis='x', colors='darkslategrey', labelsize=14)\n",
    "ax.tick_params(axis='y', colors='darkslategrey', labelsize=14)\n",
    "# grid\n",
    "ax.minorticks_on()\n",
    "ax.yaxis.grid(which='major', color='darkgoldenrod', linestyle='--',\n",
    "              linewidth=0.5, zorder=1)\n",
    "ax.yaxis.grid(which='minor', color='darkgoldenrod', linestyle='-.',\n",
    "              linewidth=0.3, zorder=1)\n",
    "plt.savefig(out_qualite, bbox_inches='tight')"
   ]
  },
  {
   "cell_type": "code",
   "execution_count": 10,
   "metadata": {},
   "outputs": [],
   "source": [
    "# Ecriture de la classif\n",
    "\n",
    "X_img, _, t_img = cla.get_samples_from_roi(path_image_allbands, path_image_allbands)\n",
    "Y_predict = rfc.predict(X_img)\n",
    "image_filename = path_image_allbands\n",
    "\n",
    "# Get image dimension\n",
    "ds = rw.open_image(image_filename)\n",
    "nb_row, nb_col, _ = rw.get_image_dimension(ds)\n",
    "\n",
    "#initialization of the array\n",
    "img = np.zeros((nb_row, nb_col, 1), dtype='uint8')\n",
    "#np.Y_predict\n",
    "\n",
    "img[t_img[0], t_img[1], 0] = Y_predict\n",
    "image_filename =path_image_allbands\n",
    "\n",
    "out_filename = '/home/onyxia/work/Depot_Git/results/data/classif/carte_essences_echelle_pixel.tif'\n",
    "\n",
    "# get reference dataset\n",
    "ds = rw.open_image(image_filename)\n",
    "\n",
    "# just replace the number of band (1 instead of 3)\n",
    "rw.write_image(out_filename, img, data_set=ds, gdal_dtype=gdal.GDT_Byte,\n",
    "                transform=None, projection=None, driver_name=None,\n",
    "                nb_col=None, nb_ligne=None, nb_band=1)"
   ]
  },
  {
   "cell_type": "code",
   "execution_count": 38,
   "metadata": {},
   "outputs": [],
   "source": [
    "## Nettoyage des dossiers\n",
    "supprimer_dossier_non_vide(output_dir)"
   ]
  },
  {
   "cell_type": "code",
   "execution_count": null,
   "metadata": {},
   "outputs": [],
   "source": []
  }
 ],
 "metadata": {
  "kernelspec": {
   "display_name": "base",
   "language": "python",
   "name": "python3"
  },
  "language_info": {
   "codemirror_mode": {
    "name": "ipython",
    "version": 3
   },
   "file_extension": ".py",
   "mimetype": "text/x-python",
   "name": "python",
   "nbconvert_exporter": "python",
   "pygments_lexer": "ipython3",
   "version": "3.12.7"
  }
 },
 "nbformat": 4,
 "nbformat_minor": 2
}
