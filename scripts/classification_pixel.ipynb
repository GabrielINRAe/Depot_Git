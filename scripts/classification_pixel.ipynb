{
 "cells": [
  {
   "cell_type": "code",
   "execution_count": 1,
   "metadata": {},
   "outputs": [],
   "source": [
    "# Importation des librairies\n",
    "from my_function import ( \n",
    "    train_random_forest, \n",
    "    save_classification,\n",
    "    sel_classif_pixel,\n",
    "    supprimer_dossier_non_vide)\n",
    "import os\n",
    "import geopandas as gpd\n",
    "import sys\n",
    "sys.path.append('/home/onyxia/work/libsigma')\n",
    "import read_and_write as rw\n",
    "# import classification as cla"
   ]
  },
  {
   "cell_type": "code",
   "execution_count": 2,
   "metadata": {},
   "outputs": [],
   "source": [
    "# Création du dossier de sauvegarde temporaire\n",
    "output_dir = \"/home/onyxia/work/output\"\n",
    "os.makedirs(output_dir, exist_ok=True) # Création d'un dossier output temporaire"
   ]
  },
  {
   "cell_type": "code",
   "execution_count": 8,
   "metadata": {},
   "outputs": [
    {
     "name": "stdout",
     "output_type": "stream",
     "text": [
      "501127.9696999999 6314464.023599998 511990.9696999999 6321845.023599998\n"
     ]
    }
   ],
   "source": [
    "sptial_resolution = rw.get_image_dimension(ref_image_open)[0]\n",
    "xmin,ymin = rw.get_origin_coordinates(ref_image_open)\n",
    "y,x = rw.get_image_dimension(ref_image_open)[0:2]\n",
    "xmax,ymax = xmin+x,ymin+y\n",
    "print(xmin,ymin,xmax,ymax)"
   ]
  },
  {
   "cell_type": "code",
   "execution_count": 9,
   "metadata": {},
   "outputs": [
    {
     "data": {
      "text/html": [
       "<div>\n",
       "<style scoped>\n",
       "    .dataframe tbody tr th:only-of-type {\n",
       "        vertical-align: middle;\n",
       "    }\n",
       "\n",
       "    .dataframe tbody tr th {\n",
       "        vertical-align: top;\n",
       "    }\n",
       "\n",
       "    .dataframe thead th {\n",
       "        text-align: right;\n",
       "    }\n",
       "</style>\n",
       "<table border=\"1\" class=\"dataframe\">\n",
       "  <thead>\n",
       "    <tr style=\"text-align: right;\">\n",
       "      <th></th>\n",
       "      <th>ID</th>\n",
       "      <th>CODE_TFV</th>\n",
       "      <th>TFV</th>\n",
       "      <th>TFV_G11</th>\n",
       "      <th>ESSENCE</th>\n",
       "      <th>Nom</th>\n",
       "      <th>Code</th>\n",
       "      <th>geometry</th>\n",
       "    </tr>\n",
       "  </thead>\n",
       "  <tbody>\n",
       "    <tr>\n",
       "      <th>0</th>\n",
       "      <td>FORESTIE0000000003108720</td>\n",
       "      <td>FF1-00</td>\n",
       "      <td>Forêt fermée de feuillus purs en îlots</td>\n",
       "      <td>Forêt fermée feuillus</td>\n",
       "      <td>Feuillus</td>\n",
       "      <td>Feuillus en îlots</td>\n",
       "      <td>16</td>\n",
       "      <td>POLYGON ((542016.264 6240744.823, 542019.845 6...</td>\n",
       "    </tr>\n",
       "    <tr>\n",
       "      <th>1</th>\n",
       "      <td>FORESTIE0000000003108753</td>\n",
       "      <td>FF1-00</td>\n",
       "      <td>Forêt fermée de feuillus purs en îlots</td>\n",
       "      <td>Forêt fermée feuillus</td>\n",
       "      <td>Feuillus</td>\n",
       "      <td>Feuillus en îlots</td>\n",
       "      <td>16</td>\n",
       "      <td>POLYGON ((542369.772 6240980.009, 542369.28 62...</td>\n",
       "    </tr>\n",
       "    <tr>\n",
       "      <th>2</th>\n",
       "      <td>FORESTIE0000000003116029</td>\n",
       "      <td>FF1-00-00</td>\n",
       "      <td>Forêt fermée à mélange de feuillus</td>\n",
       "      <td>Forêt fermée feuillus</td>\n",
       "      <td>Feuillus</td>\n",
       "      <td>Mélange de feuillus</td>\n",
       "      <td>15</td>\n",
       "      <td>POLYGON ((541667.758 6240990.232, 541662.797 6...</td>\n",
       "    </tr>\n",
       "    <tr>\n",
       "      <th>3</th>\n",
       "      <td>FORESTIE0000000003108760</td>\n",
       "      <td>FF1-00</td>\n",
       "      <td>Forêt fermée de feuillus purs en îlots</td>\n",
       "      <td>Forêt fermée feuillus</td>\n",
       "      <td>Feuillus</td>\n",
       "      <td>Feuillus en îlots</td>\n",
       "      <td>16</td>\n",
       "      <td>POLYGON ((545450.8 6241119, 545446 6241115.3, ...</td>\n",
       "    </tr>\n",
       "    <tr>\n",
       "      <th>4</th>\n",
       "      <td>FORESTIE0000000003116048</td>\n",
       "      <td>FF1-00-00</td>\n",
       "      <td>Forêt fermée à mélange de feuillus</td>\n",
       "      <td>Forêt fermée feuillus</td>\n",
       "      <td>Feuillus</td>\n",
       "      <td>Mélange de feuillus</td>\n",
       "      <td>15</td>\n",
       "      <td>POLYGON ((545762.816 6241493.748, 545772.766 6...</td>\n",
       "    </tr>\n",
       "  </tbody>\n",
       "</table>\n",
       "</div>"
      ],
      "text/plain": [
       "                         ID   CODE_TFV  \\\n",
       "0  FORESTIE0000000003108720     FF1-00   \n",
       "1  FORESTIE0000000003108753     FF1-00   \n",
       "2  FORESTIE0000000003116029  FF1-00-00   \n",
       "3  FORESTIE0000000003108760     FF1-00   \n",
       "4  FORESTIE0000000003116048  FF1-00-00   \n",
       "\n",
       "                                      TFV                TFV_G11   ESSENCE  \\\n",
       "0  Forêt fermée de feuillus purs en îlots  Forêt fermée feuillus  Feuillus   \n",
       "1  Forêt fermée de feuillus purs en îlots  Forêt fermée feuillus  Feuillus   \n",
       "2      Forêt fermée à mélange de feuillus  Forêt fermée feuillus  Feuillus   \n",
       "3  Forêt fermée de feuillus purs en îlots  Forêt fermée feuillus  Feuillus   \n",
       "4      Forêt fermée à mélange de feuillus  Forêt fermée feuillus  Feuillus   \n",
       "\n",
       "                   Nom Code                                           geometry  \n",
       "0    Feuillus en îlots   16  POLYGON ((542016.264 6240744.823, 542019.845 6...  \n",
       "1    Feuillus en îlots   16  POLYGON ((542369.772 6240980.009, 542369.28 62...  \n",
       "2  Mélange de feuillus   15  POLYGON ((541667.758 6240990.232, 541662.797 6...  \n",
       "3    Feuillus en îlots   16  POLYGON ((545450.8 6241119, 545446 6241115.3, ...  \n",
       "4  Mélange de feuillus   15  POLYGON ((545762.816 6241493.748, 545772.766 6...  "
      ]
     },
     "execution_count": 9,
     "metadata": {},
     "output_type": "execute_result"
    }
   ],
   "source": [
    "gpd.read_file(in_vector).head()"
   ]
  },
  {
   "cell_type": "code",
   "execution_count": 4,
   "metadata": {},
   "outputs": [
    {
     "name": "stdout",
     "output_type": "stream",
     "text": [
      "0...10...20...30...40...50...60...70...80...90...100 - done.\n"
     ]
    },
    {
     "data": {
      "text/plain": [
       "0"
      ]
     },
     "execution_count": 4,
     "metadata": {},
     "output_type": "execute_result"
    }
   ],
   "source": [
    "# cmd rasterisation paramètres\n",
    "in_vector = '/home/onyxia/work/Depot_Git/results/data/sample/Sample_BD_foret_T31TCJ.shp'\n",
    "ref_image = '/home/onyxia/work/Depot_Git/results/data/img_pretraitees/Serie_temp_S2_allbands.tif'\n",
    "ref_image_open = rw.open_image(ref_image)\n",
    "out_image = os.path.join(output_dir, \"rasterized_sample.tif\")\n",
    "field_name = 'Code'  # field containing the numeric label of the classes\n",
    "sptial_resolution = rw.get_image_dimension(ref_image_open)[0]\n",
    "xmin,ymin = rw.get_origin_coordinates(ref_image_open)\n",
    "y,x = rw.get_image_dimension(ref_image_open)[0:2]\n",
    "xmax,ymax = xmin+x,ymin+y\n",
    "\n",
    "# define command pattern to fill with paremeters\n",
    "cmd_pattern = (\"gdal_rasterize -a {field_name} \"\n",
    "               \"-tr {sptial_resolution} {sptial_resolution} \"\n",
    "               \"-te {xmin} {ymin} {xmax} {ymax} -ot Byte -of GTiff \"\n",
    "               \"{in_vector} {out_image}\")\n",
    "\n",
    "# fill the string with the parameter thanks to format function\n",
    "cmd = cmd_pattern.format(in_vector=in_vector, xmin=xmin, ymin=ymin, xmax=xmax,\n",
    "                         ymax=ymax, out_image=out_image, field_name=field_name,\n",
    "                         sptial_resolution=sptial_resolution)\n",
    "\n",
    "# execute the command in the terminal\n",
    "os.system(cmd)"
   ]
  },
  {
   "cell_type": "code",
   "execution_count": 7,
   "metadata": {},
   "outputs": [
    {
     "data": {
      "text/plain": [
       "array([[[0]]], dtype=uint8)"
      ]
     },
     "execution_count": 7,
     "metadata": {},
     "output_type": "execute_result"
    }
   ],
   "source": [
    "test = rw.load_img_as_array('/home/onyxia/work/output/rasterized_sample.tif')\n",
    "test"
   ]
  },
  {
   "cell_type": "code",
   "execution_count": null,
   "metadata": {},
   "outputs": [],
   "source": [
    "# Entraîner le modèle\n",
    "model = train_random_forest(Samples_X, Class_Y)"
   ]
  },
  {
   "cell_type": "code",
   "execution_count": null,
   "metadata": {},
   "outputs": [],
   "source": [
    "# Sauvegarder la carte\n",
    "save_classification(model, images, 'results/data/classif/carte_essences_echelle_pixel.tif')"
   ]
  },
  {
   "cell_type": "code",
   "execution_count": null,
   "metadata": {},
   "outputs": [],
   "source": [
    "## Nettoyage des dossiers\n",
    "supprimer_dossier_non_vide(output_dir)"
   ]
  }
 ],
 "metadata": {
  "kernelspec": {
   "display_name": "base",
   "language": "python",
   "name": "python3"
  },
  "language_info": {
   "codemirror_mode": {
    "name": "ipython",
    "version": 3
   },
   "file_extension": ".py",
   "mimetype": "text/x-python",
   "name": "python",
   "nbconvert_exporter": "python",
   "pygments_lexer": "ipython3",
   "version": "3.12.7"
  }
 },
 "nbformat": 4,
 "nbformat_minor": 2
}
