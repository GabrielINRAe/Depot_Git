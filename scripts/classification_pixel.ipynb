{
 "cells": [
  {
   "cell_type": "markdown",
   "metadata": {},
   "source": [
    "Attention la j'ai fait la rasterisation de tout le vecteur pas seulement de la classif pixel"
   ]
  },
  {
   "cell_type": "code",
   "execution_count": 1,
   "metadata": {},
   "outputs": [],
   "source": [
    "# Importation des librairies\n",
    "from my_function import ( \n",
    "    train_random_forest, \n",
    "    save_classification,\n",
    "    sel_classif_pixel,\n",
    "    supprimer_dossier_non_vide)\n",
    "import os\n",
    "import geopandas as gpd\n",
    "import pandas as pd\n",
    "import sys\n",
    "sys.path.append('/home/onyxia/work/libsigma')\n",
    "import read_and_write as rw\n",
    "# import classification as cla"
   ]
  },
  {
   "cell_type": "code",
   "execution_count": 2,
   "metadata": {},
   "outputs": [],
   "source": [
    "# Création du dossier de sauvegarde temporaire\n",
    "output_dir = \"/home/onyxia/work/output\"\n",
    "os.makedirs(output_dir, exist_ok=True) # Création d'un dossier output temporaire"
   ]
  },
  {
   "cell_type": "code",
   "execution_count": 3,
   "metadata": {},
   "outputs": [],
   "source": [
    "# Save d'un vecteur echantillons avec que les données pour classif pixel\n",
    "sample_p = \"/home/onyxia/work/Depot_Git/results/data/sample/Sample_BD_foret_T31TCJ.shp\"\n",
    "sample = gpd.read_file(sample_p)\n",
    "sample_px = sel_classif_pixel(sample)\n",
    "sample_px_file = os.path.join(output_dir,\"sample_classif_px.shp\")\n",
    "sample_px.to_file(sample_px_file)"
   ]
  },
  {
   "cell_type": "code",
   "execution_count": 4,
   "metadata": {},
   "outputs": [
    {
     "name": "stderr",
     "output_type": "stream",
     "text": [
      "/opt/conda/lib/python3.12/site-packages/osgeo/gdal.py:312: FutureWarning: Neither gdal.UseExceptions() nor gdal.DontUseExceptions() has been explicitly called. In GDAL 4.0, exceptions will be enabled by default.\n",
      "  warnings.warn(\n"
     ]
    },
    {
     "name": "stdout",
     "output_type": "stream",
     "text": [
      "0...10...20...30...40...50...60...70...80...90...100 - done.\n"
     ]
    },
    {
     "data": {
      "text/plain": [
       "0"
      ]
     },
     "execution_count": 4,
     "metadata": {},
     "output_type": "execute_result"
    }
   ],
   "source": [
    "# cmd rasterisation paramètres\n",
    "in_vector = '/home/onyxia/work/output/sample_classif_px.shp'\n",
    "ref_image = '/home/onyxia/work/Depot_Git/results/data/img_pretraitees/Serie_temp_S2_allbands.tif'\n",
    "ref_image_open = rw.open_image(ref_image)\n",
    "out_image = os.path.join(output_dir, \"rasterized_sample.tif\")\n",
    "field_name = 'Code'  # field containing the numeric label of the classes\n",
    "sptial_resolution = rw.get_pixel_size(ref_image_open)[0]\n",
    "xmin,ymax = rw.get_origin_coordinates(ref_image_open)\n",
    "y,x = rw.get_image_dimension(ref_image_open)[0:2]\n",
    "xmax,ymin = xmin+x*10,ymax-y*10\n",
    "\n",
    "# define command pattern to fill with paremeters\n",
    "cmd_pattern = (\"gdal_rasterize -a {field_name} \"\n",
    "               \"-tr {sptial_resolution} {sptial_resolution} \"\n",
    "               \"-te {xmin} {ymin} {xmax} {ymax} -ot Byte -of GTiff \"\n",
    "               \"{in_vector} {out_image}\")\n",
    "\n",
    "# fill the string with the parameter thanks to format function\n",
    "cmd = cmd_pattern.format(in_vector=in_vector, xmin=xmin, ymin=ymin, xmax=xmax,\n",
    "                         ymax=ymax, out_image=out_image, field_name=field_name,\n",
    "                         sptial_resolution=sptial_resolution)\n",
    "\n",
    "# execute the command in the terminal\n",
    "os.system(cmd)"
   ]
  },
  {
   "cell_type": "code",
   "execution_count": null,
   "metadata": {},
   "outputs": [],
   "source": [
    "# Entraîner le modèle\n",
    "model = train_random_forest(Samples_X, Class_Y)"
   ]
  },
  {
   "cell_type": "code",
   "execution_count": null,
   "metadata": {},
   "outputs": [],
   "source": [
    "# Sauvegarder la carte\n",
    "save_classification(model, images, 'results/data/classif/carte_essences_echelle_pixel.tif')"
   ]
  },
  {
   "cell_type": "code",
   "execution_count": null,
   "metadata": {},
   "outputs": [],
   "source": [
    "## Nettoyage des dossiers\n",
    "supprimer_dossier_non_vide(output_dir)"
   ]
  }
 ],
 "metadata": {
  "kernelspec": {
   "display_name": "base",
   "language": "python",
   "name": "python3"
  },
  "language_info": {
   "codemirror_mode": {
    "name": "ipython",
    "version": 3
   },
   "file_extension": ".py",
   "mimetype": "text/x-python",
   "name": "python",
   "nbconvert_exporter": "python",
   "pygments_lexer": "ipython3",
   "version": "3.12.7"
  }
 },
 "nbformat": 4,
 "nbformat_minor": 2
}
