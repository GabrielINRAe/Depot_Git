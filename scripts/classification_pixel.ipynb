{
 "cells": [
  {
   "cell_type": "code",
   "execution_count": 1,
   "metadata": {},
   "outputs": [],
   "source": [
    "# Importation des librairies\n",
    "from my_function import ( \n",
    "    sel_classif_pixel,\n",
    "    report_from_dict_to_df,\n",
    "    supprimer_dossier_non_vide)\n",
    "import os\n",
    "import geopandas as gpd\n",
    "import numpy as np\n",
    "import pandas as pd\n",
    "import sys\n",
    "from sklearn.ensemble import RandomForestClassifier\n",
    "from sklearn.model_selection import train_test_split, KFold, RepeatedStratifiedKFold\n",
    "from sklearn.metrics import confusion_matrix, classification_report, \\\n",
    "    accuracy_score\n",
    "sys.path.append('/home/onyxia/work/libsigma')\n",
    "import read_and_write as rw\n",
    "import classification as cla\n",
    "import plots"
   ]
  },
  {
   "cell_type": "code",
   "execution_count": 2,
   "metadata": {},
   "outputs": [],
   "source": [
    "# Création du dossier de sauvegarde temporaire et paramètres\n",
    "output_dir = \"/home/onyxia/work/output_classif\"\n",
    "os.makedirs(output_dir, exist_ok=True) # Création d'un dossier output temporaire\n",
    "\n",
    "sample_path = \"/home/onyxia/work/Depot_Git/results/data/sample/Sample_BD_foret_T31TCJ.shp\"\n",
    "path_sample_px = os.path.join(output_dir,\"sample_classif_px.shp\")\n",
    "\n",
    "sample_rasterized = os.path.join(output_dir,\"rasterized_sample.tif\")\n",
    "path_image_3b = \"/home/onyxia/work/Depot_Git/results/data/img_pretraitees/Serie_temp_S2_3_bands.tif\"\n",
    "path_image_allbands = \"/home/onyxia/work/Depot_Git/results/data/img_pretraitees/Serie_temp_S2_allbands.tif\"\n",
    "\n",
    "path_sample_px_centroid = os.path.join(output_dir,\"sample_px_centroid.shp\")"
   ]
  },
  {
   "cell_type": "code",
   "execution_count": 3,
   "metadata": {},
   "outputs": [],
   "source": [
    "# Save d'un vecteur echantillons avec que les données pour classif pixel\n",
    "sample = gpd.read_file(sample_path)\n",
    "sample_px = sel_classif_pixel(sample[['Code',\"geometry\"]])\n",
    "sample_px.to_file(path_sample_px)"
   ]
  },
  {
   "cell_type": "code",
   "execution_count": 5,
   "metadata": {},
   "outputs": [
    {
     "name": "stdout",
     "output_type": "stream",
     "text": [
      "0...10...20...30...40...50...60...70...80...90...100 - done.\n"
     ]
    },
    {
     "data": {
      "text/plain": [
       "0"
      ]
     },
     "execution_count": 5,
     "metadata": {},
     "output_type": "execute_result"
    }
   ],
   "source": [
    "# cmd rasterisation paramètres\n",
    "in_vector = os.path.join(output_dir,'sample_classif_px.shp')\n",
    "ref_image = '/home/onyxia/work/Depot_Git/results/data/img_pretraitees/Serie_temp_S2_allbands.tif'\n",
    "ref_image_open = rw.open_image(ref_image)\n",
    "out_image = os.path.join(output_dir, \"rasterized_sample.tif\")\n",
    "field_name = 'Code'  # field containing the numeric label of the classes\n",
    "sptial_resolution = rw.get_pixel_size(ref_image_open)[0]\n",
    "xmin,ymax = rw.get_origin_coordinates(ref_image_open)\n",
    "y,x = rw.get_image_dimension(ref_image_open)[0:2]\n",
    "xmax,ymin = xmin+x*10,ymax-y*10\n",
    "\n",
    "# define command pattern to fill with paremeters\n",
    "cmd_pattern = (\"gdal_rasterize -a {field_name} \"\n",
    "               \"-tr {sptial_resolution} {sptial_resolution} \"\n",
    "               \"-te {xmin} {ymin} {xmax} {ymax} -ot Byte -of GTiff \"\n",
    "               \"{in_vector} {out_image}\")\n",
    "\n",
    "# fill the string with the parameter thanks to format function\n",
    "cmd = cmd_pattern.format(in_vector=in_vector, xmin=xmin, ymin=ymin, xmax=xmax,\n",
    "                         ymax=ymax, out_image=out_image, field_name=field_name,\n",
    "                         sptial_resolution=sptial_resolution)\n",
    "\n",
    "# execute the command in the terminal\n",
    "os.system(cmd)"
   ]
  },
  {
   "cell_type": "code",
   "execution_count": null,
   "metadata": {},
   "outputs": [],
   "source": [
    "# Extraction des échantillons à partir d'un fichier de points pour tenir compte de l'appartenance aux polygones\n",
    "\n",
    "sample_px['geom_points'] = sample_px.centroid                  # Calcul des centroides\n",
    "sample_px_centroid = sample_px[['Code','geom_points']]\n",
    "sample_px_centroid.to_file(path_sample_px_centroid)      # Save des centroides dans le dossier output_classif\n",
    "\n",
    "# Récupération des coordonnées X\n",
    "list_row, list_col = rw.get_row_col_from_file (path_sample_px_centroid,path_image_allbands)     # Coordonnées images des points du fichiers points\n",
    "image_3b = rw.load_img_as_array(path_image_3b)\n",
    "X = image_3b[(list_row, list_col)]\n",
    "\n",
    "# Récupération des coordonnées Y\n",
    "gdf = gpd.read_file(path_sample_px_centroid)             \n",
    "Y = gdf.loc[:, \"Code\"].values\n",
    "Y = np.atleast_2d(Y).T\n",
    "\n",
    "# Séparation des données avec un jeu train et test\n",
    "# X_train, X_test, Y_train, Y_test = train_test_split(X, Y, test_size=0.7)"
   ]
  },
  {
   "cell_type": "code",
   "execution_count": null,
   "metadata": {},
   "outputs": [],
   "source": [
    "# Application validation statifiée avec appartenance à polygones\n",
    "\n",
    "nb_iter = 10\n",
    "nb_folds = 2\n",
    "\n",
    "# outputs\n",
    "suffix = '_CV{}fold_stratifed_x{}times'.format(nb_folds, nb_iter)\n",
    "out_classif = os.path.join(output_dir, 'ma_classif{}.tif'.format(suffix))\n",
    "out_matrix = os.path.join(output_dir, 'ma_matrice{}.png'.format(suffix))\n",
    "out_qualite = os.path.join(output_dir, 'mes_qualites{}.png'.format(suffix))\n",
    "\n",
    "list_cm = []\n",
    "list_accuracy = []\n",
    "list_report = []\n",
    "\n",
    "# Iter on stratified K fold\n",
    "kf = RepeatedStratifiedKFold(n_splits=nb_folds, n_repeats=nb_iter)\n",
    "for train, test in kf.split(X, Y):\n",
    "    X_train, X_test = X[train], X[test]\n",
    "    Y_train, Y_test = Y[train], Y[test]\n",
    "\n",
    "    # Modèle Random Forest Classifier\n",
    "    rfc = RandomForestClassifier(\n",
    "        max_depth = 50,\n",
    "        oob_score = True,\n",
    "        max_samples = 0.75,\n",
    "        class_weight = 'balanced',\n",
    "        n_jobs = -1\n",
    "    )\n",
    "    rfc.fit(X_train, Y_train)\n",
    "\n",
    "    Y_predict = rfc.predict(X_test)\n",
    "\n",
    "    # compute quality\n",
    "    list_cm.append(confusion_matrix(Y_test, Y_predict))\n",
    "    list_accuracy.append(accuracy_score(Y_test, Y_predict))\n",
    "    report = classification_report(Y_test, Y_predict, labels=np.unique(Y_predict), output_dict=True)\n",
    "\n",
    "    # store them\n",
    "    list_report.append(report_from_dict_to_df(report))"
   ]
  },
  {
   "cell_type": "code",
   "execution_count": null,
   "metadata": {},
   "outputs": [],
   "source": [
    "a,b,c,d,e,f,g,h,j = 0,0,0,0,0,0,0,0,0\n",
    "for i in Y:\n",
    "    if i == 11:\n",
    "        a+=1\n",
    "    if i == 12:\n",
    "        b+=1\n",
    "    if i == 13:\n",
    "        c+=1\n",
    "    if i == 14:\n",
    "        d+=1\n",
    "    if i == 21:\n",
    "        e+=1\n",
    "    if i == 22:\n",
    "        f+=1\n",
    "    if i == 23:\n",
    "        g+=1\n",
    "    if i == 24:\n",
    "        h+=1\n",
    "    if i == 25:\n",
    "        j+=1"
   ]
  },
  {
   "cell_type": "code",
   "execution_count": null,
   "metadata": {},
   "outputs": [],
   "source": [
    "print(a,b,c,d,e,f,g,h,j)"
   ]
  },
  {
   "cell_type": "code",
   "execution_count": null,
   "metadata": {},
   "outputs": [],
   "source": [
    "kf = RepeatedStratifiedKFold(n_splits=5, n_repeats=1)\n",
    "for train, test in kf.split(X, Y):\n",
    "    X_train, X_test = X[train], X[test]\n",
    "    Y_train, Y_test = Y[train], Y[test]\n",
    "for i in kf.split(X, Y):\n",
    "    print(i[0])"
   ]
  },
  {
   "cell_type": "code",
   "execution_count": null,
   "metadata": {},
   "outputs": [],
   "source": [
    "for i in list_report:\n",
    "    print (i)"
   ]
  },
  {
   "cell_type": "code",
   "execution_count": null,
   "metadata": {},
   "outputs": [],
   "source": [
    "# compute mean of cm\n",
    "array_cm = np.array(list_cm)\n",
    "mean_cm = array_cm.mean(axis=0)\n",
    "\n",
    "# compute mean and std of overall accuracy\n",
    "array_accuracy = np.array(list_accuracy)\n",
    "mean_accuracy = array_accuracy.mean()\n",
    "std_accuracy = array_accuracy.std()\n",
    "\n",
    "# compute mean and std of classification report\n",
    "array_report = np.array(list_report)\n",
    "mean_report = array_report.mean(axis=0)\n",
    "std_report = array_report.std(axis=0)\n",
    "a_report = list_report[0]\n",
    "mean_df_report = pd.DataFrame(mean_report, index=a_report.index,\n",
    "                              columns=a_report.columns)\n",
    "std_df_report = pd.DataFrame(std_report, index=a_report.index,\n",
    "                             columns=a_report.columns)\n",
    "\n",
    "# Display confusion matrix\n",
    "plots.plot_cm(mean_cm, np.unique(Y_predict))\n",
    "plt.savefig(out_matrix, bbox_inches='tight')\n",
    "\n",
    "# Display class metrics\n",
    "fig, ax = plt.subplots(figsize=(10, 7))\n",
    "ax = mean_df_report.T.plot.bar(ax=ax, yerr=std_df_report.T, zorder=2)\n",
    "ax.set_ylim(0.5, 1)\n",
    "_ = ax.text(1.5, 0.95, 'OA : {:.2f} +- {:.2f}'.format(mean_accuracy,\n",
    "                                                      std_accuracy),\n",
    "            fontsize=14)\n",
    "ax.set_title('Class quality estimation')\n",
    "\n",
    "# custom : cuteness\n",
    "# background color\n",
    "ax.set_facecolor('ivory')\n",
    "# labels\n",
    "x_label = ax.get_xlabel()\n",
    "ax.set_xlabel(x_label, fontdict={'fontname': 'Sawasdee'}, fontsize=14)\n",
    "y_label = ax.get_ylabel()\n",
    "ax.set_ylabel(y_label, fontdict={'fontname': 'Sawasdee'}, fontsize=14)\n",
    "# borders\n",
    "ax.spines[\"top\"].set_visible(False)\n",
    "ax.spines[\"right\"].set_visible(False)\n",
    "ax.spines[\"bottom\"].set_visible(False)\n",
    "ax.spines[\"left\"].set_visible(False)\n",
    "ax.tick_params(axis='x', colors='darkslategrey', labelsize=14)\n",
    "ax.tick_params(axis='y', colors='darkslategrey', labelsize=14)\n",
    "# grid\n",
    "ax.minorticks_on()\n",
    "ax.yaxis.grid(which='major', color='darkgoldenrod', linestyle='--',\n",
    "              linewidth=0.5, zorder=1)\n",
    "ax.yaxis.grid(which='minor', color='darkgoldenrod', linestyle='-.',\n",
    "              linewidth=0.3, zorder=1)\n",
    "plt.savefig(out_qualite, bbox_inches='tight')"
   ]
  },
  {
   "cell_type": "code",
   "execution_count": null,
   "metadata": {},
   "outputs": [],
   "source": [
    "## Entraîner le modèle\n",
    "\n",
    "# Modèle Random Forest Classifier\n",
    "rfc = RandomForestClassifier(\n",
    "    max_depth = 50,\n",
    "    oob_score = True,\n",
    "    max_samples = 0.75,\n",
    "    class_weight = 'balanced',\n",
    "    n_jobs = -1\n",
    ")\n",
    "\n",
    "# Fit avec nos valeurs\n",
    "rfc.fit(X_train,Y_train)"
   ]
  },
  {
   "cell_type": "code",
   "execution_count": null,
   "metadata": {},
   "outputs": [],
   "source": [
    "# Sauvegarder la carte\n",
    "save_classification(model, images, 'results/data/classif/carte_essences_echelle_pixel.tif')"
   ]
  },
  {
   "cell_type": "code",
   "execution_count": null,
   "metadata": {},
   "outputs": [],
   "source": [
    "## Nettoyage des dossiers\n",
    "supprimer_dossier_non_vide(output_dir)"
   ]
  }
 ],
 "metadata": {
  "kernelspec": {
   "display_name": "base",
   "language": "python",
   "name": "python3"
  },
  "language_info": {
   "codemirror_mode": {
    "name": "ipython",
    "version": 3
   },
   "file_extension": ".py",
   "mimetype": "text/x-python",
   "name": "python",
   "nbconvert_exporter": "python",
   "pygments_lexer": "ipython3",
   "version": "3.12.7"
  }
 },
 "nbformat": 4,
 "nbformat_minor": 2
}
