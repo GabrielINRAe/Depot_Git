{
 "cells": [
  {
   "cell_type": "code",
   "execution_count": 35,
   "metadata": {},
   "outputs": [],
   "source": [
    "# Importation des librairies\n",
    "from my_function import ( \n",
    "    sel_classif_pixel,\n",
    "    report_from_dict_to_df,\n",
    "    supprimer_dossier_non_vide)\n",
    "import os\n",
    "from osgeo import gdal\n",
    "import geopandas as gpd\n",
    "import numpy as np\n",
    "import pandas as pd\n",
    "import sys\n",
    "from sklearn.ensemble import RandomForestClassifier\n",
    "from sklearn.model_selection import train_test_split, KFold, RepeatedStratifiedKFold\n",
    "from sklearn.metrics import confusion_matrix, classification_report, \\\n",
    "    accuracy_score\n",
    "sys.path.append('/home/onyxia/work/libsigma')\n",
    "import read_and_write as rw\n",
    "import classification as cla\n",
    "import plots"
   ]
  },
  {
   "cell_type": "code",
   "execution_count": 2,
   "metadata": {},
   "outputs": [],
   "source": [
    "# Création du dossier de sauvegarde temporaire et paramètres\n",
    "output_dir = \"/home/onyxia/work/output_classif\"\n",
    "os.makedirs(output_dir, exist_ok=True) # Création d'un dossier output temporaire\n",
    "\n",
    "sample_path = \"/home/onyxia/work/Depot_Git/results/data/sample/Sample_BD_foret_T31TCJ.shp\"\n",
    "path_sample_px = os.path.join(output_dir,\"sample_classif_px.shp\")\n",
    "\n",
    "sample_rasterized = os.path.join(output_dir,\"rasterized_sample.tif\")\n",
    "path_image_3b = \"/home/onyxia/work/Depot_Git/results/data/img_pretraitees/Serie_temp_S2_3_bands.tif\"\n",
    "path_image_10b = \"/home/onyxia/work/Depot_Git/results/data/img_pretraitees/Serie_temp_S2_10_bands.tif\"\n",
    "path_image_allbands = \"/home/onyxia/work/Depot_Git/results/data/img_pretraitees/Serie_temp_S2_allbands.tif\"\n",
    "\n",
    "path_sample_px_centroid = os.path.join(output_dir,\"sample_px_centroid.shp\")"
   ]
  },
  {
   "cell_type": "code",
   "execution_count": 3,
   "metadata": {},
   "outputs": [],
   "source": [
    "# Save d'un vecteur echantillons avec que les données pour classif pixel\n",
    "sample = gpd.read_file(sample_path)\n",
    "sample_px = sel_classif_pixel(sample[['Code',\"geometry\"]])\n",
    "sample_px.to_file(path_sample_px)"
   ]
  },
  {
   "cell_type": "code",
   "execution_count": 4,
   "metadata": {},
   "outputs": [
    {
     "name": "stderr",
     "output_type": "stream",
     "text": [
      "/opt/conda/lib/python3.12/site-packages/osgeo/gdal.py:311: FutureWarning: Neither gdal.UseExceptions() nor gdal.DontUseExceptions() has been explicitly called. In GDAL 4.0, exceptions will be enabled by default.\n",
      "  warnings.warn(\n"
     ]
    },
    {
     "name": "stdout",
     "output_type": "stream",
     "text": [
      "0...10...20...30...40...50...60...70...80...90...100 - done.\n"
     ]
    },
    {
     "data": {
      "text/plain": [
       "0"
      ]
     },
     "execution_count": 4,
     "metadata": {},
     "output_type": "execute_result"
    }
   ],
   "source": [
    "# cmd rasterisation paramètres\n",
    "in_vector = os.path.join(output_dir,'sample_classif_px.shp')\n",
    "ref_image = '/home/onyxia/work/Depot_Git/results/data/img_pretraitees/Serie_temp_S2_allbands.tif'\n",
    "ref_image_open = rw.open_image(ref_image)\n",
    "out_image = os.path.join(output_dir, \"rasterized_sample.tif\")\n",
    "field_name = 'Code'  # field containing the numeric label of the classes\n",
    "sptial_resolution = rw.get_pixel_size(ref_image_open)[0]\n",
    "xmin,ymax = rw.get_origin_coordinates(ref_image_open)\n",
    "y,x = rw.get_image_dimension(ref_image_open)[0:2]\n",
    "xmax,ymin = xmin+x*10,ymax-y*10\n",
    "\n",
    "# define command pattern to fill with paremeters\n",
    "cmd_pattern = (\"gdal_rasterize -a {field_name} \"\n",
    "               \"-tr {sptial_resolution} {sptial_resolution} \"\n",
    "               \"-te {xmin} {ymin} {xmax} {ymax} -ot Byte -of GTiff \"\n",
    "               \"{in_vector} {out_image}\")\n",
    "\n",
    "# fill the string with the parameter thanks to format function\n",
    "cmd = cmd_pattern.format(in_vector=in_vector, xmin=xmin, ymin=ymin, xmax=xmax,\n",
    "                         ymax=ymax, out_image=out_image, field_name=field_name,\n",
    "                         sptial_resolution=sptial_resolution)\n",
    "\n",
    "# execute the command in the terminal\n",
    "os.system(cmd)"
   ]
  },
  {
   "cell_type": "code",
   "execution_count": 5,
   "metadata": {},
   "outputs": [
    {
     "name": "stderr",
     "output_type": "stream",
     "text": [
      "/tmp/ipykernel_49822/2955711469.py:5: UserWarning: Column names longer than 10 characters will be truncated when saved to ESRI Shapefile.\n",
      "  sample_px_centroid.to_file(path_sample_px_centroid)      # Save des centroides dans le dossier output_classif\n"
     ]
    }
   ],
   "source": [
    "# Extraction des échantillons à partir d'un fichier de points pour tenir compte de l'appartenance aux polygones\n",
    "\n",
    "sample_px['geom_points'] = sample_px.centroid                  # Calcul des centroides\n",
    "sample_px_centroid = sample_px[['Code','geom_points']]\n",
    "sample_px_centroid.to_file(path_sample_px_centroid)      # Save des centroides dans le dossier output_classif\n",
    "\n",
    "# Récupération des coordonnées X\n",
    "list_row, list_col = rw.get_row_col_from_file (path_sample_px_centroid,path_image_allbands)     # Coordonnées images des points du fichiers points\n",
    "image = rw.load_img_as_array(path_image_allbands)\n",
    "X = image[(list_row, list_col)]\n",
    "\n",
    "# Récupération des coordonnées Y\n",
    "gdf = gpd.read_file(path_sample_px_centroid)             \n",
    "Y = gdf.loc[:, \"Code\"].values\n",
    "Y = np.atleast_2d(Y).T\n",
    "\n",
    "# Séparation des données avec un jeu train et test\n",
    "# X_train, X_test, Y_train, Y_test = train_test_split(X, Y, test_size=0.7)"
   ]
  },
  {
   "cell_type": "code",
   "execution_count": 9,
   "metadata": {},
   "outputs": [
    {
     "data": {
      "text/plain": [
       "array([[12],\n",
       "       [12],\n",
       "       [12],\n",
       "       ...,\n",
       "       [12],\n",
       "       [12],\n",
       "       [12]], shape=(2679, 1), dtype=int32)"
      ]
     },
     "execution_count": 9,
     "metadata": {},
     "output_type": "execute_result"
    }
   ],
   "source": [
    "Y"
   ]
  },
  {
   "cell_type": "code",
   "execution_count": 8,
   "metadata": {},
   "outputs": [
    {
     "name": "stderr",
     "output_type": "stream",
     "text": [
      "/opt/conda/lib/python3.12/site-packages/sklearn/base.py:1389: DataConversionWarning: A column-vector y was passed when a 1d array was expected. Please change the shape of y to (n_samples,), for example using ravel().\n",
      "  return fit_method(estimator, *args, **kwargs)\n"
     ]
    },
    {
     "name": "stdout",
     "output_type": "stream",
     "text": [
      "{'11': {'precision': 0.7, 'recall': 0.2692307692307692, 'f1-score': 0.3888888888888889, 'support': 26.0}, '12': {'precision': 0.8741865509761388, 'recall': 0.9264367816091954, 'f1-score': 0.8995535714285714, 'support': 435.0}, '13': {'precision': 1.0, 'recall': 0.08333333333333333, 'f1-score': 0.15384615384615385, 'support': 12.0}, '14': {'precision': 0.7142857142857143, 'recall': 0.29411764705882354, 'f1-score': 0.4166666666666667, 'support': 34.0}, '23': {'precision': 0.02857142857142857, 'recall': 0.3333333333333333, 'f1-score': 0.05263157894736842, 'support': 3.0}, '24': {'precision': 0.7142857142857143, 'recall': 0.5, 'f1-score': 0.5882352941176471, 'support': 20.0}, '25': {'precision': 1.0, 'recall': 0.25, 'f1-score': 0.4, 'support': 4.0}, 'micro avg': {'precision': 0.8078358208955224, 'recall': 0.8108614232209738, 'f1-score': 0.8093457943925234, 'support': 534.0}, 'macro avg': {'precision': 0.7187613440169994, 'recall': 0.37949312350935066, 'f1-score': 0.41426030769932803, 'support': 534.0}, 'weighted avg': {'precision': 0.8485548549283956, 'recall': 0.8108614232209738, 'f1-score': 0.8070268460946727, 'support': 534.0}}\n"
     ]
    },
    {
     "name": "stderr",
     "output_type": "stream",
     "text": [
      "/opt/conda/lib/python3.12/site-packages/sklearn/base.py:1389: DataConversionWarning: A column-vector y was passed when a 1d array was expected. Please change the shape of y to (n_samples,), for example using ravel().\n",
      "  return fit_method(estimator, *args, **kwargs)\n"
     ]
    },
    {
     "name": "stdout",
     "output_type": "stream",
     "text": [
      "{'11': {'precision': 0.75, 'recall': 0.11538461538461539, 'f1-score': 0.2, 'support': 26.0}, '12': {'precision': 0.8791946308724832, 'recall': 0.903448275862069, 'f1-score': 0.891156462585034, 'support': 435.0}, '13': {'precision': 1.0, 'recall': 0.09090909090909091, 'f1-score': 0.16666666666666666, 'support': 11.0}, '14': {'precision': 0.6, 'recall': 0.2647058823529412, 'f1-score': 0.3673469387755102, 'support': 34.0}, '23': {'precision': 0.0, 'recall': 0.0, 'f1-score': 0.0, 'support': 3.0}, '24': {'precision': 0.64, 'recall': 0.8, 'f1-score': 0.7111111111111111, 'support': 20.0}, '25': {'precision': 0.0, 'recall': 0.0, 'f1-score': 0.0, 'support': 5.0}, 'micro avg': {'precision': 0.7873134328358209, 'recall': 0.7902621722846442, 'f1-score': 0.788785046728972, 'support': 534.0}, 'macro avg': {'precision': 0.5527420901246405, 'recall': 0.3106354092155309, 'f1-score': 0.33375445416261745, 'support': 534.0}, 'weighted avg': {'precision': 0.8354862629766483, 'recall': 0.7902621722846442, 'f1-score': 0.7891356043041436, 'support': 534.0}}\n"
     ]
    },
    {
     "name": "stderr",
     "output_type": "stream",
     "text": [
      "/opt/conda/lib/python3.12/site-packages/sklearn/base.py:1389: DataConversionWarning: A column-vector y was passed when a 1d array was expected. Please change the shape of y to (n_samples,), for example using ravel().\n",
      "  return fit_method(estimator, *args, **kwargs)\n"
     ]
    },
    {
     "name": "stdout",
     "output_type": "stream",
     "text": [
      "{'11': {'precision': 0.5714285714285714, 'recall': 0.16, 'f1-score': 0.25, 'support': 25.0}, '12': {'precision': 0.888402625820569, 'recall': 0.9354838709677419, 'f1-score': 0.9113355780022446, 'support': 434.0}, '14': {'precision': 0.8823529411764706, 'recall': 0.42857142857142855, 'f1-score': 0.5769230769230769, 'support': 35.0}, '23': {'precision': 0.0, 'recall': 0.0, 'f1-score': 0.0, 'support': 4.0}, '24': {'precision': 0.64, 'recall': 0.8421052631578947, 'f1-score': 0.7272727272727273, 'support': 19.0}, '25': {'precision': 0.6666666666666666, 'recall': 0.4, 'f1-score': 0.5, 'support': 5.0}, 'micro avg': {'precision': 0.8264925373134329, 'recall': 0.8486590038314177, 'f1-score': 0.8374291115311909, 'support': 522.0}, 'macro avg': {'precision': 0.6081418008487129, 'recall': 0.46102676044951085, 'f1-score': 0.49425523036634145, 'support': 522.0}, 'weighted avg': {'precision': 0.8548431803953085, 'recall': 0.8486590038314177, 'f1-score': 0.8396171079759841, 'support': 522.0}}\n"
     ]
    },
    {
     "name": "stderr",
     "output_type": "stream",
     "text": [
      "/opt/conda/lib/python3.12/site-packages/sklearn/base.py:1389: DataConversionWarning: A column-vector y was passed when a 1d array was expected. Please change the shape of y to (n_samples,), for example using ravel().\n",
      "  return fit_method(estimator, *args, **kwargs)\n"
     ]
    },
    {
     "name": "stdout",
     "output_type": "stream",
     "text": [
      "{'11': {'precision': 0.5, 'recall': 0.16, 'f1-score': 0.24242424242424243, 'support': 25.0}, '12': {'precision': 0.8625498007968128, 'recall': 0.9976958525345622, 'f1-score': 0.9252136752136753, 'support': 434.0}, '14': {'precision': 0.6666666666666666, 'recall': 0.17142857142857143, 'f1-score': 0.2727272727272727, 'support': 35.0}, '23': {'precision': 0.0, 'recall': 0.0, 'f1-score': 0.0, 'support': 4.0}, '24': {'precision': 0.7692307692307693, 'recall': 0.5263157894736842, 'f1-score': 0.625, 'support': 19.0}, '25': {'precision': 0.6666666666666666, 'recall': 0.4, 'f1-score': 0.5, 'support': 5.0}, 'micro avg': {'precision': 0.8488805970149254, 'recall': 0.8716475095785441, 'f1-score': 0.8601134215500945, 'support': 522.0}, 'macro avg': {'precision': 0.5775189838934859, 'recall': 0.3759067022394696, 'f1-score': 0.42756086506086505, 'support': 522.0}, 'weighted avg': {'precision': 0.8201698559920844, 'recall': 0.8716475095785441, 'f1-score': 0.8266739380245127, 'support': 522.0}}\n"
     ]
    },
    {
     "name": "stderr",
     "output_type": "stream",
     "text": [
      "/opt/conda/lib/python3.12/site-packages/sklearn/base.py:1389: DataConversionWarning: A column-vector y was passed when a 1d array was expected. Please change the shape of y to (n_samples,), for example using ravel().\n",
      "  return fit_method(estimator, *args, **kwargs)\n"
     ]
    },
    {
     "name": "stdout",
     "output_type": "stream",
     "text": [
      "{'11': {'precision': 0.16666666666666666, 'recall': 0.038461538461538464, 'f1-score': 0.0625, 'support': 26.0}, '12': {'precision': 0.893569844789357, 'recall': 0.9285714285714286, 'f1-score': 0.9107344632768362, 'support': 434.0}, '14': {'precision': 0.5833333333333334, 'recall': 0.4117647058823529, 'f1-score': 0.4827586206896552, 'support': 34.0}, '23': {'precision': 0.0, 'recall': 0.0, 'f1-score': 0.0, 'support': 4.0}, '24': {'precision': 0.7894736842105263, 'recall': 0.7894736842105263, 'f1-score': 0.7894736842105263, 'support': 19.0}, '25': {'precision': 0.75, 'recall': 0.75, 'f1-score': 0.75, 'support': 4.0}, 'micro avg': {'precision': 0.8149532710280374, 'recall': 0.836852207293666, 'f1-score': 0.8257575757575758, 'support': 521.0}, 'macro avg': {'precision': 0.530507254833314, 'recall': 0.48637855952097436, 'f1-score': 0.49924446136283623, 'support': 521.0}, 'weighted avg': {'precision': 0.8252897875340645, 'recall': 0.836852207293666, 'f1-score': 0.8278263918725435, 'support': 521.0}}\n"
     ]
    },
    {
     "name": "stderr",
     "output_type": "stream",
     "text": [
      "/opt/conda/lib/python3.12/site-packages/sklearn/base.py:1389: DataConversionWarning: A column-vector y was passed when a 1d array was expected. Please change the shape of y to (n_samples,), for example using ravel().\n",
      "  return fit_method(estimator, *args, **kwargs)\n"
     ]
    },
    {
     "name": "stdout",
     "output_type": "stream",
     "text": [
      "{'11': {'precision': 1.0, 'recall': 0.07692307692307693, 'f1-score': 0.14285714285714285, 'support': 26.0}, '12': {'precision': 0.8811475409836066, 'recall': 0.9885057471264368, 'f1-score': 0.9317443120260022, 'support': 435.0}, '13': {'precision': 1.0, 'recall': 0.08333333333333333, 'f1-score': 0.15384615384615385, 'support': 12.0}, '14': {'precision': 0.55, 'recall': 0.3235294117647059, 'f1-score': 0.4074074074074074, 'support': 34.0}, '24': {'precision': 0.6818181818181818, 'recall': 0.75, 'f1-score': 0.7142857142857143, 'support': 20.0}, '25': {'precision': 0.3333333333333333, 'recall': 0.25, 'f1-score': 0.2857142857142857, 'support': 4.0}, 'micro avg': {'precision': 0.8582089552238806, 'recall': 0.8662900188323918, 'f1-score': 0.8622305529522024, 'support': 531.0}, 'macro avg': {'precision': 0.7410498426891868, 'recall': 0.4120485948579255, 'f1-score': 0.43930916935611775, 'support': 531.0}, 'weighted avg': {'precision': 0.8568152114831747, 'recall': 0.8662900188323918, 'f1-score': 0.8289070406255628, 'support': 531.0}}\n"
     ]
    },
    {
     "name": "stderr",
     "output_type": "stream",
     "text": [
      "/opt/conda/lib/python3.12/site-packages/sklearn/base.py:1389: DataConversionWarning: A column-vector y was passed when a 1d array was expected. Please change the shape of y to (n_samples,), for example using ravel().\n",
      "  return fit_method(estimator, *args, **kwargs)\n"
     ]
    },
    {
     "name": "stdout",
     "output_type": "stream",
     "text": [
      "{'11': {'precision': 0.6666666666666666, 'recall': 0.15384615384615385, 'f1-score': 0.25, 'support': 26.0}, '12': {'precision': 0.8980044345898004, 'recall': 0.9310344827586207, 'f1-score': 0.9142212189616253, 'support': 435.0}, '14': {'precision': 0.8, 'recall': 0.47058823529411764, 'f1-score': 0.5925925925925926, 'support': 34.0}, '23': {'precision': 0.029411764705882353, 'recall': 0.3333333333333333, 'f1-score': 0.05405405405405406, 'support': 3.0}, '24': {'precision': 0.75, 'recall': 0.75, 'f1-score': 0.75, 'support': 20.0}, '25': {'precision': 0.4, 'recall': 0.4, 'f1-score': 0.4, 'support': 5.0}, 'micro avg': {'precision': 0.8264925373134329, 'recall': 0.847036328871893, 'f1-score': 0.8366383380547686, 'support': 523.0}, 'macro avg': {'precision': 0.5906804776603914, 'recall': 0.5064670342053709, 'f1-score': 0.4934779776013786, 'support': 523.0}, 'weighted avg': {'precision': 0.8647294410593004, 'recall': 0.847036328871893, 'f1-score': 0.8441616454275667, 'support': 523.0}}\n"
     ]
    },
    {
     "name": "stderr",
     "output_type": "stream",
     "text": [
      "/opt/conda/lib/python3.12/site-packages/sklearn/base.py:1389: DataConversionWarning: A column-vector y was passed when a 1d array was expected. Please change the shape of y to (n_samples,), for example using ravel().\n",
      "  return fit_method(estimator, *args, **kwargs)\n"
     ]
    },
    {
     "name": "stdout",
     "output_type": "stream",
     "text": [
      "{'11': {'precision': 0.5714285714285714, 'recall': 0.16, 'f1-score': 0.25, 'support': 25.0}, '12': {'precision': 0.8660907127429806, 'recall': 0.923963133640553, 'f1-score': 0.8940914158305463, 'support': 434.0}, '14': {'precision': 0.6428571428571429, 'recall': 0.2571428571428571, 'f1-score': 0.3673469387755102, 'support': 35.0}, '23': {'precision': 0.0, 'recall': 0.0, 'f1-score': 0.0, 'support': 4.0}, '24': {'precision': 0.75, 'recall': 0.631578947368421, 'f1-score': 0.6857142857142857, 'support': 19.0}, '25': {'precision': 1.0, 'recall': 0.4, 'f1-score': 0.5714285714285714, 'support': 5.0}, 'micro avg': {'precision': 0.7985074626865671, 'recall': 0.8199233716475096, 'f1-score': 0.8090737240075614, 'support': 522.0}, 'macro avg': {'precision': 0.6383960711714491, 'recall': 0.3954474896919719, 'f1-score': 0.46143020195815226, 'support': 522.0}, 'weighted avg': {'precision': 0.8274311946669882, 'recall': 0.8199233716475096, 'f1-score': 0.8103994858492608, 'support': 522.0}}\n"
     ]
    },
    {
     "name": "stderr",
     "output_type": "stream",
     "text": [
      "/opt/conda/lib/python3.12/site-packages/sklearn/base.py:1389: DataConversionWarning: A column-vector y was passed when a 1d array was expected. Please change the shape of y to (n_samples,), for example using ravel().\n",
      "  return fit_method(estimator, *args, **kwargs)\n"
     ]
    },
    {
     "name": "stdout",
     "output_type": "stream",
     "text": [
      "{'11': {'precision': 0.6, 'recall': 0.24, 'f1-score': 0.34285714285714286, 'support': 25.0}, '12': {'precision': 0.8868312757201646, 'recall': 0.9930875576036866, 'f1-score': 0.9369565217391305, 'support': 434.0}, '14': {'precision': 0.7058823529411765, 'recall': 0.34285714285714286, 'f1-score': 0.46153846153846156, 'support': 35.0}, '23': {'precision': 0.5, 'recall': 0.25, 'f1-score': 0.3333333333333333, 'support': 4.0}, '24': {'precision': 0.65, 'recall': 0.6842105263157895, 'f1-score': 0.6666666666666666, 'support': 19.0}, '25': {'precision': 1.0, 'recall': 0.2, 'f1-score': 0.3333333333333333, 'support': 5.0}, 'micro avg': {'precision': 0.8656716417910447, 'recall': 0.8888888888888888, 'f1-score': 0.8771266540642723, 'support': 522.0}, 'macro avg': {'precision': 0.7237856047768902, 'recall': 0.4516925377961032, 'f1-score': 0.5124475765780114, 'support': 522.0}, 'weighted avg': {'precision': 0.8504610268496027, 'recall': 0.8888888888888888, 'f1-score': 0.8563813636527279, 'support': 522.0}}\n"
     ]
    },
    {
     "name": "stderr",
     "output_type": "stream",
     "text": [
      "/opt/conda/lib/python3.12/site-packages/sklearn/base.py:1389: DataConversionWarning: A column-vector y was passed when a 1d array was expected. Please change the shape of y to (n_samples,), for example using ravel().\n",
      "  return fit_method(estimator, *args, **kwargs)\n"
     ]
    },
    {
     "name": "stdout",
     "output_type": "stream",
     "text": [
      "{'11': {'precision': 0.8333333333333334, 'recall': 0.19230769230769232, 'f1-score': 0.3125, 'support': 26.0}, '12': {'precision': 0.8744588744588745, 'recall': 0.9308755760368663, 'f1-score': 0.9017857142857143, 'support': 434.0}, '13': {'precision': 1.0, 'recall': 0.09090909090909091, 'f1-score': 0.16666666666666666, 'support': 11.0}, '14': {'precision': 0.7142857142857143, 'recall': 0.29411764705882354, 'f1-score': 0.4166666666666667, 'support': 34.0}, '23': {'precision': 0.0, 'recall': 0.0, 'f1-score': 0.0, 'support': 4.0}, '24': {'precision': 0.6470588235294118, 'recall': 0.5789473684210527, 'f1-score': 0.6111111111111112, 'support': 19.0}, '25': {'precision': 0.6666666666666666, 'recall': 0.5, 'f1-score': 0.5714285714285714, 'support': 4.0}, 'micro avg': {'precision': 0.8093457943925234, 'recall': 0.8139097744360902, 'f1-score': 0.8116213683223993, 'support': 532.0}, 'macro avg': {'precision': 0.6765433446105716, 'recall': 0.36959391067621794, 'f1-score': 0.4257369614512472, 'support': 532.0}, 'weighted avg': {'precision': 0.8485494676339436, 'recall': 0.8139097744360902, 'f1-score': 0.8071368898436567, 'support': 532.0}}\n"
     ]
    },
    {
     "name": "stderr",
     "output_type": "stream",
     "text": [
      "/opt/conda/lib/python3.12/site-packages/sklearn/base.py:1389: DataConversionWarning: A column-vector y was passed when a 1d array was expected. Please change the shape of y to (n_samples,), for example using ravel().\n",
      "  return fit_method(estimator, *args, **kwargs)\n"
     ]
    },
    {
     "name": "stdout",
     "output_type": "stream",
     "text": [
      "{'11': {'precision': 0.5, 'recall': 0.11538461538461539, 'f1-score': 0.1875, 'support': 26.0}, '12': {'precision': 0.8840262582056893, 'recall': 0.9287356321839081, 'f1-score': 0.905829596412556, 'support': 435.0}, '14': {'precision': 0.6363636363636364, 'recall': 0.20588235294117646, 'f1-score': 0.3111111111111111, 'support': 34.0}, '23': {'precision': 0.02702702702702703, 'recall': 0.3333333333333333, 'f1-score': 0.05, 'support': 3.0}, '24': {'precision': 0.6842105263157895, 'recall': 0.65, 'f1-score': 0.6666666666666666, 'support': 20.0}, '25': {'precision': 0.5, 'recall': 0.75, 'f1-score': 0.6, 'support': 4.0}, 'micro avg': {'precision': 0.8041044776119403, 'recall': 0.8256704980842912, 'f1-score': 0.8147448015122873, 'support': 522.0}, 'macro avg': {'precision': 0.5386045746520237, 'recall': 0.4972226556405055, 'f1-score': 0.45351789569838896, 'support': 522.0}, 'weighted avg': {'precision': 0.8332434436077306, 'recall': 0.8256704980842912, 'f1-score': 0.8148888612079941, 'support': 522.0}}\n"
     ]
    },
    {
     "name": "stderr",
     "output_type": "stream",
     "text": [
      "/opt/conda/lib/python3.12/site-packages/sklearn/base.py:1389: DataConversionWarning: A column-vector y was passed when a 1d array was expected. Please change the shape of y to (n_samples,), for example using ravel().\n",
      "  return fit_method(estimator, *args, **kwargs)\n"
     ]
    },
    {
     "name": "stdout",
     "output_type": "stream",
     "text": [
      "{'11': {'precision': 1.0, 'recall': 0.15384615384615385, 'f1-score': 0.26666666666666666, 'support': 26.0}, '12': {'precision': 0.8774617067833698, 'recall': 0.9218390804597701, 'f1-score': 0.899103139013453, 'support': 435.0}, '13': {'precision': 1.0, 'recall': 0.09090909090909091, 'f1-score': 0.16666666666666666, 'support': 11.0}, '14': {'precision': 0.5238095238095238, 'recall': 0.3235294117647059, 'f1-score': 0.4, 'support': 34.0}, '23': {'precision': 0.0, 'recall': 0.0, 'f1-score': 0.0, 'support': 3.0}, '24': {'precision': 0.75, 'recall': 0.9, 'f1-score': 0.8181818181818182, 'support': 20.0}, '25': {'precision': 0.0, 'recall': 0.0, 'f1-score': 0.0, 'support': 5.0}, 'micro avg': {'precision': 0.8115671641791045, 'recall': 0.8146067415730337, 'f1-score': 0.8130841121495327, 'support': 534.0}, 'macro avg': {'precision': 0.5930387472275562, 'recall': 0.3414462481399601, 'f1-score': 0.3643740415040864, 'support': 534.0}, 'weighted avg': {'precision': 0.8455156671541004, 'recall': 0.8146067415730337, 'f1-score': 0.8049441357699533, 'support': 534.0}}\n"
     ]
    },
    {
     "name": "stderr",
     "output_type": "stream",
     "text": [
      "/opt/conda/lib/python3.12/site-packages/sklearn/base.py:1389: DataConversionWarning: A column-vector y was passed when a 1d array was expected. Please change the shape of y to (n_samples,), for example using ravel().\n",
      "  return fit_method(estimator, *args, **kwargs)\n"
     ]
    },
    {
     "name": "stdout",
     "output_type": "stream",
     "text": [
      "{'11': {'precision': 0.25, 'recall': 0.08, 'f1-score': 0.12121212121212122, 'support': 25.0}, '12': {'precision': 0.8744588744588745, 'recall': 0.9308755760368663, 'f1-score': 0.9017857142857143, 'support': 434.0}, '14': {'precision': 0.7857142857142857, 'recall': 0.3142857142857143, 'f1-score': 0.4489795918367347, 'support': 35.0}, '23': {'precision': 0.029411764705882353, 'recall': 0.25, 'f1-score': 0.05263157894736842, 'support': 4.0}, '24': {'precision': 0.6111111111111112, 'recall': 0.5789473684210527, 'f1-score': 0.5945945945945946, 'support': 19.0}, 'micro avg': {'precision': 0.8003731343283582, 'recall': 0.8297872340425532, 'f1-score': 0.8148148148148148, 'support': 517.0}, 'macro avg': {'precision': 0.5101392071980306, 'recall': 0.4308217317487267, 'f1-score': 0.4238407201753066, 'support': 517.0}, 'weighted avg': {'precision': 0.8220385100291802, 'recall': 0.8297872340425532, 'f1-score': 0.8155269097827379, 'support': 517.0}}\n"
     ]
    },
    {
     "name": "stderr",
     "output_type": "stream",
     "text": [
      "/opt/conda/lib/python3.12/site-packages/sklearn/base.py:1389: DataConversionWarning: A column-vector y was passed when a 1d array was expected. Please change the shape of y to (n_samples,), for example using ravel().\n",
      "  return fit_method(estimator, *args, **kwargs)\n"
     ]
    },
    {
     "name": "stdout",
     "output_type": "stream",
     "text": [
      "{'11': {'precision': 0.45454545454545453, 'recall': 0.2, 'f1-score': 0.2777777777777778, 'support': 25.0}, '12': {'precision': 0.8788546255506607, 'recall': 0.9193548387096774, 'f1-score': 0.8986486486486487, 'support': 434.0}, '13': {'precision': 1.0, 'recall': 0.09090909090909091, 'f1-score': 0.16666666666666666, 'support': 11.0}, '14': {'precision': 0.8333333333333334, 'recall': 0.2857142857142857, 'f1-score': 0.425531914893617, 'support': 35.0}, '23': {'precision': 0.02564102564102564, 'recall': 0.25, 'f1-score': 0.046511627906976744, 'support': 4.0}, '24': {'precision': 0.7058823529411765, 'recall': 0.631578947368421, 'f1-score': 0.6666666666666666, 'support': 19.0}, '25': {'precision': 1.0, 'recall': 0.4, 'f1-score': 0.5714285714285714, 'support': 5.0}, 'micro avg': {'precision': 0.8022388059701493, 'recall': 0.8067542213883677, 'f1-score': 0.804490177736202, 'support': 533.0}, 'macro avg': {'precision': 0.6997509702873786, 'recall': 0.39679388038592495, 'f1-score': 0.43617598199841784, 'support': 533.0}, 'weighted avg': {'precision': 0.8470310306336516, 'recall': 0.8067542213883677, 'f1-score': 0.8056186948367831, 'support': 533.0}}\n"
     ]
    },
    {
     "name": "stderr",
     "output_type": "stream",
     "text": [
      "/opt/conda/lib/python3.12/site-packages/sklearn/base.py:1389: DataConversionWarning: A column-vector y was passed when a 1d array was expected. Please change the shape of y to (n_samples,), for example using ravel().\n",
      "  return fit_method(estimator, *args, **kwargs)\n"
     ]
    },
    {
     "name": "stdout",
     "output_type": "stream",
     "text": [
      "{'11': {'precision': 0.5, 'recall': 0.07692307692307693, 'f1-score': 0.13333333333333333, 'support': 26.0}, '12': {'precision': 0.8709677419354839, 'recall': 0.9953917050691244, 'f1-score': 0.9290322580645162, 'support': 434.0}, '14': {'precision': 0.6, 'recall': 0.2647058823529412, 'f1-score': 0.3673469387755102, 'support': 34.0}, '23': {'precision': 0.5, 'recall': 0.25, 'f1-score': 0.3333333333333333, 'support': 4.0}, '24': {'precision': 0.7857142857142857, 'recall': 0.5789473684210527, 'f1-score': 0.6666666666666666, 'support': 19.0}, '25': {'precision': 0.25, 'recall': 0.25, 'f1-score': 0.25, 'support': 4.0}, 'micro avg': {'precision': 0.8523364485981308, 'recall': 0.8752399232245681, 'f1-score': 0.8636363636363636, 'support': 521.0}, 'macro avg': {'precision': 0.5844470046082949, 'recall': 0.4026613387943659, 'f1-score': 0.4466187550288933, 'support': 521.0}, 'weighted avg': {'precision': 0.8240471620510008, 'recall': 0.8752399232245681, 'f1-score': 0.8333137477639809, 'support': 521.0}}\n"
     ]
    },
    {
     "name": "stderr",
     "output_type": "stream",
     "text": [
      "/opt/conda/lib/python3.12/site-packages/sklearn/base.py:1389: DataConversionWarning: A column-vector y was passed when a 1d array was expected. Please change the shape of y to (n_samples,), for example using ravel().\n",
      "  return fit_method(estimator, *args, **kwargs)\n"
     ]
    },
    {
     "name": "stdout",
     "output_type": "stream",
     "text": [
      "{'11': {'precision': 0.6, 'recall': 0.11538461538461539, 'f1-score': 0.1935483870967742, 'support': 26.0}, '12': {'precision': 0.8628691983122363, 'recall': 0.9402298850574713, 'f1-score': 0.8998899889988999, 'support': 435.0}, '13': {'precision': 1.0, 'recall': 0.16666666666666666, 'f1-score': 0.2857142857142857, 'support': 12.0}, '14': {'precision': 0.8181818181818182, 'recall': 0.2647058823529412, 'f1-score': 0.4, 'support': 34.0}, '23': {'precision': 0.0, 'recall': 0.0, 'f1-score': 0.0, 'support': 3.0}, '24': {'precision': 0.6111111111111112, 'recall': 0.55, 'f1-score': 0.5789473684210527, 'support': 20.0}, 'micro avg': {'precision': 0.8097014925373134, 'recall': 0.8188679245283019, 'f1-score': 0.8142589118198874, 'support': 530.0}, 'macro avg': {'precision': 0.6486936879341944, 'recall': 0.3394978415769491, 'f1-score': 0.3930166717051687, 'support': 530.0}, 'weighted avg': {'precision': 0.8358273685023148, 'recall': 0.8188679245283019, 'f1-score': 0.8020602303321324, 'support': 530.0}}\n"
     ]
    },
    {
     "name": "stderr",
     "output_type": "stream",
     "text": [
      "/opt/conda/lib/python3.12/site-packages/sklearn/base.py:1389: DataConversionWarning: A column-vector y was passed when a 1d array was expected. Please change the shape of y to (n_samples,), for example using ravel().\n",
      "  return fit_method(estimator, *args, **kwargs)\n"
     ]
    },
    {
     "name": "stdout",
     "output_type": "stream",
     "text": [
      "{'11': {'precision': 0.8333333333333334, 'recall': 0.19230769230769232, 'f1-score': 0.3125, 'support': 26.0}, '12': {'precision': 0.8864142538975501, 'recall': 0.9149425287356322, 'f1-score': 0.9004524886877828, 'support': 435.0}, '13': {'precision': 0.0, 'recall': 0.0, 'f1-score': 0.0, 'support': 11.0}, '14': {'precision': 0.5555555555555556, 'recall': 0.29411764705882354, 'f1-score': 0.38461538461538464, 'support': 34.0}, '23': {'precision': 0.0, 'recall': 0.0, 'f1-score': 0.0, 'support': 3.0}, '24': {'precision': 0.782608695652174, 'recall': 0.9, 'f1-score': 0.8372093023255814, 'support': 20.0}, '25': {'precision': 0.5, 'recall': 0.4, 'f1-score': 0.4444444444444444, 'support': 5.0}, 'micro avg': {'precision': 0.8078358208955224, 'recall': 0.8108614232209738, 'f1-score': 0.8093457943925234, 'support': 534.0}, 'macro avg': {'precision': 0.5082731197769447, 'recall': 0.38590969544316406, 'f1-score': 0.41131737429617043, 'support': 534.0}, 'weighted avg': {'precision': 0.8320185953446319, 'recall': 0.8108614232209738, 'f1-score': 0.8087362620315403, 'support': 534.0}}\n"
     ]
    },
    {
     "name": "stderr",
     "output_type": "stream",
     "text": [
      "/opt/conda/lib/python3.12/site-packages/sklearn/base.py:1389: DataConversionWarning: A column-vector y was passed when a 1d array was expected. Please change the shape of y to (n_samples,), for example using ravel().\n",
      "  return fit_method(estimator, *args, **kwargs)\n"
     ]
    },
    {
     "name": "stdout",
     "output_type": "stream",
     "text": [
      "{'11': {'precision': 0.75, 'recall': 0.12, 'f1-score': 0.20689655172413793, 'support': 25.0}, '12': {'precision': 0.8837719298245614, 'recall': 0.9285714285714286, 'f1-score': 0.9056179775280899, 'support': 434.0}, '14': {'precision': 0.7333333333333333, 'recall': 0.3142857142857143, 'f1-score': 0.44, 'support': 35.0}, '23': {'precision': 0.0, 'recall': 0.0, 'f1-score': 0.0, 'support': 4.0}, '24': {'precision': 0.7368421052631579, 'recall': 0.7368421052631579, 'f1-score': 0.7368421052631579, 'support': 19.0}, '25': {'precision': 0.8, 'recall': 0.8, 'f1-score': 0.8, 'support': 5.0}, 'micro avg': {'precision': 0.8115671641791045, 'recall': 0.8333333333333334, 'f1-score': 0.8223062381852552, 'support': 522.0}, 'macro avg': {'precision': 0.6506578947368421, 'recall': 0.48328320802005004, 'f1-score': 0.5148927724192309, 'support': 522.0}, 'weighted avg': {'precision': 0.854355716878403, 'recall': 0.8333333333333334, 'f1-score': 0.8268402606135908, 'support': 522.0}}\n"
     ]
    },
    {
     "name": "stderr",
     "output_type": "stream",
     "text": [
      "/opt/conda/lib/python3.12/site-packages/sklearn/base.py:1389: DataConversionWarning: A column-vector y was passed when a 1d array was expected. Please change the shape of y to (n_samples,), for example using ravel().\n",
      "  return fit_method(estimator, *args, **kwargs)\n"
     ]
    },
    {
     "name": "stdout",
     "output_type": "stream",
     "text": [
      "{'11': {'precision': 0.5, 'recall': 0.12, 'f1-score': 0.1935483870967742, 'support': 25.0}, '12': {'precision': 0.8865979381443299, 'recall': 0.9907834101382489, 'f1-score': 0.9357997823721437, 'support': 434.0}, '13': {'precision': 1.0, 'recall': 0.09090909090909091, 'f1-score': 0.16666666666666666, 'support': 11.0}, '14': {'precision': 0.6, 'recall': 0.34285714285714286, 'f1-score': 0.43636363636363634, 'support': 35.0}, '24': {'precision': 0.6, 'recall': 0.631578947368421, 'f1-score': 0.6153846153846154, 'support': 19.0}, '25': {'precision': 0.5, 'recall': 0.4, 'f1-score': 0.4444444444444444, 'support': 5.0}, 'micro avg': {'precision': 0.8582089552238806, 'recall': 0.8695652173913043, 'f1-score': 0.863849765258216, 'support': 529.0}, 'macro avg': {'precision': 0.6810996563573882, 'recall': 0.4293547652121506, 'f1-score': 0.4653679220547134, 'support': 529.0}, 'weighted avg': {'precision': 0.8377760021826827, 'recall': 0.8695652173913043, 'f1-score': 0.8355319579348207, 'support': 529.0}}\n"
     ]
    },
    {
     "name": "stderr",
     "output_type": "stream",
     "text": [
      "/opt/conda/lib/python3.12/site-packages/sklearn/base.py:1389: DataConversionWarning: A column-vector y was passed when a 1d array was expected. Please change the shape of y to (n_samples,), for example using ravel().\n",
      "  return fit_method(estimator, *args, **kwargs)\n"
     ]
    },
    {
     "name": "stdout",
     "output_type": "stream",
     "text": [
      "{'11': {'precision': 0.4444444444444444, 'recall': 0.15384615384615385, 'f1-score': 0.22857142857142856, 'support': 26.0}, '12': {'precision': 0.8795918367346939, 'recall': 0.9930875576036866, 'f1-score': 0.9329004329004329, 'support': 434.0}, '14': {'precision': 0.8333333333333334, 'recall': 0.29411764705882354, 'f1-score': 0.43478260869565216, 'support': 34.0}, '23': {'precision': 1.0, 'recall': 0.25, 'f1-score': 0.4, 'support': 4.0}, '24': {'precision': 0.6842105263157895, 'recall': 0.6842105263157895, 'f1-score': 0.6842105263157895, 'support': 19.0}, '25': {'precision': 0.25, 'recall': 0.25, 'f1-score': 0.25, 'support': 4.0}, 'micro avg': {'precision': 0.8598130841121495, 'recall': 0.8829174664107485, 'f1-score': 0.8712121212121212, 'support': 521.0}, 'macro avg': {'precision': 0.6819300234713769, 'recall': 0.4375436474707423, 'f1-score': 0.4884108327472172, 'support': 521.0}, 'weighted avg': {'precision': 0.8438229290436583, 'recall': 0.8829174664107485, 'f1-score': 0.8468411779602634, 'support': 521.0}}\n"
     ]
    },
    {
     "name": "stderr",
     "output_type": "stream",
     "text": [
      "/opt/conda/lib/python3.12/site-packages/sklearn/base.py:1389: DataConversionWarning: A column-vector y was passed when a 1d array was expected. Please change the shape of y to (n_samples,), for example using ravel().\n",
      "  return fit_method(estimator, *args, **kwargs)\n"
     ]
    },
    {
     "name": "stdout",
     "output_type": "stream",
     "text": [
      "{'11': {'precision': 0.8, 'recall': 0.15384615384615385, 'f1-score': 0.25806451612903225, 'support': 26.0}, '12': {'precision': 0.8793103448275862, 'recall': 0.9379310344827586, 'f1-score': 0.9076751946607341, 'support': 435.0}, '14': {'precision': 0.7333333333333333, 'recall': 0.3235294117647059, 'f1-score': 0.4489795918367347, 'support': 34.0}, '23': {'precision': 0.03225806451612903, 'recall': 0.3333333333333333, 'f1-score': 0.058823529411764705, 'support': 3.0}, '24': {'precision': 0.6842105263157895, 'recall': 0.65, 'f1-score': 0.6666666666666666, 'support': 20.0}, '25': {'precision': 1.0, 'recall': 0.5, 'f1-score': 0.6666666666666666, 'support': 4.0}, 'micro avg': {'precision': 0.8190298507462687, 'recall': 0.8409961685823755, 'f1-score': 0.8298676748582231, 'support': 522.0}, 'macro avg': {'precision': 0.688185378165473, 'recall': 0.48310665557115856, 'f1-score': 0.5011460275619332, 'support': 522.0}, 'weighted avg': {'precision': 0.8544335594888842, 'recall': 0.8409961685823755, 'f1-score': 0.8294830724280813, 'support': 522.0}}\n"
     ]
    },
    {
     "name": "stderr",
     "output_type": "stream",
     "text": [
      "/opt/conda/lib/python3.12/site-packages/sklearn/base.py:1389: DataConversionWarning: A column-vector y was passed when a 1d array was expected. Please change the shape of y to (n_samples,), for example using ravel().\n",
      "  return fit_method(estimator, *args, **kwargs)\n"
     ]
    },
    {
     "name": "stdout",
     "output_type": "stream",
     "text": [
      "{'11': {'precision': 0.375, 'recall': 0.11538461538461539, 'f1-score': 0.17647058823529413, 'support': 26.0}, '12': {'precision': 0.8813905930470347, 'recall': 0.9908045977011494, 'f1-score': 0.9329004329004329, 'support': 435.0}, '14': {'precision': 0.5714285714285714, 'recall': 0.23529411764705882, 'f1-score': 0.3333333333333333, 'support': 34.0}, '24': {'precision': 0.7, 'recall': 0.7, 'f1-score': 0.7, 'support': 20.0}, '25': {'precision': 0.6, 'recall': 0.6, 'f1-score': 0.6, 'support': 5.0}, 'micro avg': {'precision': 0.8563432835820896, 'recall': 0.8826923076923077, 'f1-score': 0.8693181818181818, 'support': 520.0}, 'macro avg': {'precision': 0.6255638328951212, 'recall': 0.5282966661465648, 'f1-score': 0.5485408708938121, 'support': 520.0}, 'weighted avg': {'precision': 0.8261220757769837, 'recall': 0.8826923076923077, 'f1-score': 0.8437178018060371, 'support': 520.0}}\n"
     ]
    },
    {
     "name": "stderr",
     "output_type": "stream",
     "text": [
      "/opt/conda/lib/python3.12/site-packages/sklearn/base.py:1389: DataConversionWarning: A column-vector y was passed when a 1d array was expected. Please change the shape of y to (n_samples,), for example using ravel().\n",
      "  return fit_method(estimator, *args, **kwargs)\n"
     ]
    },
    {
     "name": "stdout",
     "output_type": "stream",
     "text": [
      "{'11': {'precision': 0.4, 'recall': 0.08, 'f1-score': 0.13333333333333333, 'support': 25.0}, '12': {'precision': 0.8742393509127789, 'recall': 0.9930875576036866, 'f1-score': 0.9298813376483279, 'support': 434.0}, '13': {'precision': 1.0, 'recall': 0.09090909090909091, 'f1-score': 0.16666666666666666, 'support': 11.0}, '14': {'precision': 0.8461538461538461, 'recall': 0.3142857142857143, 'f1-score': 0.4583333333333333, 'support': 35.0}, '24': {'precision': 0.5909090909090909, 'recall': 0.6842105263157895, 'f1-score': 0.6341463414634146, 'support': 19.0}, '25': {'precision': 1.0, 'recall': 0.4, 'f1-score': 0.5714285714285714, 'support': 5.0}, 'micro avg': {'precision': 0.8582089552238806, 'recall': 0.8695652173913043, 'f1-score': 0.863849765258216, 'support': 529.0}, 'macro avg': {'precision': 0.7852170479959527, 'recall': 0.4270821481857135, 'f1-score': 0.4822982639789412, 'support': 529.0}, 'weighted avg': {'precision': 0.8435964756877192, 'recall': 0.8695652173913043, 'f1-score': 0.8311583312243013, 'support': 529.0}}\n"
     ]
    },
    {
     "name": "stderr",
     "output_type": "stream",
     "text": [
      "/opt/conda/lib/python3.12/site-packages/sklearn/base.py:1389: DataConversionWarning: A column-vector y was passed when a 1d array was expected. Please change the shape of y to (n_samples,), for example using ravel().\n",
      "  return fit_method(estimator, *args, **kwargs)\n"
     ]
    },
    {
     "name": "stdout",
     "output_type": "stream",
     "text": [
      "{'11': {'precision': 0.5, 'recall': 0.08, 'f1-score': 0.13793103448275862, 'support': 25.0}, '12': {'precision': 0.8696581196581197, 'recall': 0.9377880184331797, 'f1-score': 0.9024390243902439, 'support': 434.0}, '13': {'precision': 1.0, 'recall': 0.09090909090909091, 'f1-score': 0.16666666666666666, 'support': 11.0}, '14': {'precision': 0.7142857142857143, 'recall': 0.2857142857142857, 'f1-score': 0.40816326530612246, 'support': 35.0}, '22': {'precision': 0.0, 'recall': 0.0, 'f1-score': 0.0, 'support': 2.0}, '23': {'precision': 0.0, 'recall': 0.0, 'f1-score': 0.0, 'support': 4.0}, '24': {'precision': 0.7777777777777778, 'recall': 0.7368421052631579, 'f1-score': 0.7567567567567568, 'support': 19.0}, '25': {'precision': 0.5, 'recall': 0.4, 'f1-score': 0.4444444444444444, 'support': 5.0}, 'micro avg': {'precision': 0.8134328358208955, 'recall': 0.8149532710280374, 'f1-score': 0.8141923436041083, 'support': 535.0}, 'macro avg': {'precision': 0.5452152014652014, 'recall': 0.31640668753996426, 'f1-score': 0.3520501490058741, 'support': 535.0}, 'weighted avg': {'precision': 0.8284287882418724, 'recall': 0.8149532710280374, 'f1-score': 0.7996756274151086, 'support': 535.0}}\n"
     ]
    },
    {
     "name": "stderr",
     "output_type": "stream",
     "text": [
      "/opt/conda/lib/python3.12/site-packages/sklearn/base.py:1389: DataConversionWarning: A column-vector y was passed when a 1d array was expected. Please change the shape of y to (n_samples,), for example using ravel().\n",
      "  return fit_method(estimator, *args, **kwargs)\n"
     ]
    },
    {
     "name": "stdout",
     "output_type": "stream",
     "text": [
      "{'11': {'precision': 0.5, 'recall': 0.15384615384615385, 'f1-score': 0.23529411764705882, 'support': 26.0}, '12': {'precision': 0.8730853391684902, 'recall': 0.9193548387096774, 'f1-score': 0.8956228956228957, 'support': 434.0}, '14': {'precision': 0.6666666666666666, 'recall': 0.29411764705882354, 'f1-score': 0.40816326530612246, 'support': 34.0}, '23': {'precision': 0.02631578947368421, 'recall': 0.25, 'f1-score': 0.047619047619047616, 'support': 4.0}, '24': {'precision': 0.8125, 'recall': 0.6842105263157895, 'f1-score': 0.7428571428571429, 'support': 19.0}, '25': {'precision': 0.0, 'recall': 0.0, 'f1-score': 0.0, 'support': 4.0}, 'micro avg': {'precision': 0.7981308411214953, 'recall': 0.8195777351247601, 'f1-score': 0.8087121212121212, 'support': 521.0}, 'macro avg': {'precision': 0.47976129921814015, 'recall': 0.38358819432174074, 'f1-score': 0.38825941150871124, 'support': 521.0}, 'weighted avg': {'precision': 0.825582470294983, 'recall': 0.8195777351247601, 'f1-score': 0.8119007613902693, 'support': 521.0}}\n"
     ]
    },
    {
     "name": "stderr",
     "output_type": "stream",
     "text": [
      "/opt/conda/lib/python3.12/site-packages/sklearn/base.py:1389: DataConversionWarning: A column-vector y was passed when a 1d array was expected. Please change the shape of y to (n_samples,), for example using ravel().\n",
      "  return fit_method(estimator, *args, **kwargs)\n"
     ]
    },
    {
     "name": "stdout",
     "output_type": "stream",
     "text": [
      "{'11': {'precision': 0.5, 'recall': 0.07692307692307693, 'f1-score': 0.13333333333333333, 'support': 26.0}, '12': {'precision': 0.8813186813186813, 'recall': 0.9218390804597701, 'f1-score': 0.9011235955056179, 'support': 435.0}, '13': {'precision': 1.0, 'recall': 0.08333333333333333, 'f1-score': 0.15384615384615385, 'support': 12.0}, '14': {'precision': 0.65, 'recall': 0.38235294117647056, 'f1-score': 0.48148148148148145, 'support': 34.0}, '23': {'precision': 0.0, 'recall': 0.0, 'f1-score': 0.0, 'support': 3.0}, '24': {'precision': 0.7777777777777778, 'recall': 0.7, 'f1-score': 0.7368421052631579, 'support': 20.0}, '25': {'precision': 0.5, 'recall': 0.5, 'f1-score': 0.5, 'support': 4.0}, 'micro avg': {'precision': 0.8078358208955224, 'recall': 0.8108614232209738, 'f1-score': 0.8093457943925234, 'support': 534.0}, 'macro avg': {'precision': 0.6155852084423513, 'recall': 0.3806354902703787, 'f1-score': 0.4152323813471064, 'support': 534.0}, 'weighted avg': {'precision': 0.83900595866888, 'recall': 0.8108614232209738, 'f1-score': 0.8060089832086103, 'support': 534.0}}\n"
     ]
    },
    {
     "name": "stderr",
     "output_type": "stream",
     "text": [
      "/opt/conda/lib/python3.12/site-packages/sklearn/base.py:1389: DataConversionWarning: A column-vector y was passed when a 1d array was expected. Please change the shape of y to (n_samples,), for example using ravel().\n",
      "  return fit_method(estimator, *args, **kwargs)\n"
     ]
    },
    {
     "name": "stdout",
     "output_type": "stream",
     "text": [
      "{'11': {'precision': 0.625, 'recall': 0.19230769230769232, 'f1-score': 0.29411764705882354, 'support': 26.0}, '12': {'precision': 0.8801742919389978, 'recall': 0.9287356321839081, 'f1-score': 0.9038031319910514, 'support': 435.0}, '14': {'precision': 0.6666666666666666, 'recall': 0.23529411764705882, 'f1-score': 0.34782608695652173, 'support': 34.0}, '23': {'precision': 0.027777777777777776, 'recall': 0.3333333333333333, 'f1-score': 0.05128205128205128, 'support': 3.0}, '24': {'precision': 0.7, 'recall': 0.7, 'f1-score': 0.7, 'support': 20.0}, '25': {'precision': 0.0, 'recall': 0.0, 'f1-score': 0.0, 'support': 5.0}, 'micro avg': {'precision': 0.8059701492537313, 'recall': 0.8260038240917782, 'f1-score': 0.8158640226628895, 'support': 523.0}, 'macro avg': {'precision': 0.48326978939724025, 'recall': 0.39827846257866545, 'f1-score': 0.382838152881408, 'support': 523.0}, 'weighted avg': {'precision': 0.8334145640410402, 'recall': 0.8260038240917782, 'f1-score': 0.8160255341300281, 'support': 523.0}}\n"
     ]
    },
    {
     "name": "stderr",
     "output_type": "stream",
     "text": [
      "/opt/conda/lib/python3.12/site-packages/sklearn/base.py:1389: DataConversionWarning: A column-vector y was passed when a 1d array was expected. Please change the shape of y to (n_samples,), for example using ravel().\n",
      "  return fit_method(estimator, *args, **kwargs)\n"
     ]
    },
    {
     "name": "stdout",
     "output_type": "stream",
     "text": [
      "{'11': {'precision': 0.8333333333333334, 'recall': 0.2, 'f1-score': 0.3225806451612903, 'support': 25.0}, '12': {'precision': 0.8834355828220859, 'recall': 0.9953917050691244, 'f1-score': 0.9360780065005417, 'support': 434.0}, '14': {'precision': 0.7894736842105263, 'recall': 0.42857142857142855, 'f1-score': 0.5555555555555556, 'support': 35.0}, '24': {'precision': 0.7368421052631579, 'recall': 0.7368421052631579, 'f1-score': 0.7368421052631579, 'support': 19.0}, '25': {'precision': 0.6666666666666666, 'recall': 0.4, 'f1-score': 0.5, 'support': 5.0}, 'micro avg': {'precision': 0.8731343283582089, 'recall': 0.9034749034749034, 'f1-score': 0.888045540796964, 'support': 518.0}, 'macro avg': {'precision': 0.781950274459154, 'recall': 0.5521610477807422, 'f1-score': 0.6102112624961091, 'support': 518.0}, 'weighted avg': {'precision': 0.8671993987622014, 'recall': 0.9034749034749034, 'f1-score': 0.8692409563604476, 'support': 518.0}}\n"
     ]
    },
    {
     "name": "stderr",
     "output_type": "stream",
     "text": [
      "/opt/conda/lib/python3.12/site-packages/sklearn/base.py:1389: DataConversionWarning: A column-vector y was passed when a 1d array was expected. Please change the shape of y to (n_samples,), for example using ravel().\n",
      "  return fit_method(estimator, *args, **kwargs)\n"
     ]
    },
    {
     "name": "stdout",
     "output_type": "stream",
     "text": [
      "{'11': {'precision': 0.5555555555555556, 'recall': 0.2, 'f1-score': 0.29411764705882354, 'support': 25.0}, '12': {'precision': 0.8888888888888888, 'recall': 0.9216589861751152, 'f1-score': 0.9049773755656109, 'support': 434.0}, '14': {'precision': 0.7, 'recall': 0.4, 'f1-score': 0.509090909090909, 'support': 35.0}, '23': {'precision': 0.029411764705882353, 'recall': 0.25, 'f1-score': 0.05263157894736842, 'support': 4.0}, '24': {'precision': 0.7, 'recall': 0.7368421052631579, 'f1-score': 0.717948717948718, 'support': 19.0}, '25': {'precision': 0.6666666666666666, 'recall': 0.4, 'f1-score': 0.5, 'support': 5.0}, 'micro avg': {'precision': 0.8134328358208955, 'recall': 0.8352490421455939, 'f1-score': 0.8241965973534972, 'support': 522.0}, 'macro avg': {'precision': 0.5900871459694988, 'recall': 0.48475018190637886, 'f1-score': 0.49646103810190495, 'support': 522.0}, 'weighted avg': {'precision': 0.8446698219517692, 'recall': 0.8352490421455939, 'f1-score': 0.8319594941512312, 'support': 522.0}}\n"
     ]
    },
    {
     "name": "stderr",
     "output_type": "stream",
     "text": [
      "/opt/conda/lib/python3.12/site-packages/sklearn/base.py:1389: DataConversionWarning: A column-vector y was passed when a 1d array was expected. Please change the shape of y to (n_samples,), for example using ravel().\n",
      "  return fit_method(estimator, *args, **kwargs)\n"
     ]
    },
    {
     "name": "stdout",
     "output_type": "stream",
     "text": [
      "{'11': {'precision': 0.8333333333333334, 'recall': 0.19230769230769232, 'f1-score': 0.3125, 'support': 26.0}, '12': {'precision': 0.8785425101214575, 'recall': 1.0, 'f1-score': 0.9353448275862069, 'support': 434.0}, '14': {'precision': 0.8571428571428571, 'recall': 0.35294117647058826, 'f1-score': 0.5, 'support': 34.0}, '23': {'precision': 0.0, 'recall': 0.0, 'f1-score': 0.0, 'support': 4.0}, '24': {'precision': 0.6111111111111112, 'recall': 0.5789473684210527, 'f1-score': 0.5945945945945946, 'support': 19.0}, '25': {'precision': 0.5, 'recall': 0.25, 'f1-score': 0.3333333333333333, 'support': 4.0}, 'micro avg': {'precision': 0.8654205607476636, 'recall': 0.8886756238003839, 'f1-score': 0.8768939393939394, 'support': 521.0}, 'macro avg': {'precision': 0.6133549686181266, 'recall': 0.3956993728665556, 'f1-score': 0.4459621259190225, 'support': 521.0}, 'weighted avg': {'precision': 0.8554857664363674, 'recall': 0.8886756238003839, 'f1-score': 0.8516224295643846, 'support': 521.0}}\n"
     ]
    },
    {
     "name": "stderr",
     "output_type": "stream",
     "text": [
      "/opt/conda/lib/python3.12/site-packages/sklearn/base.py:1389: DataConversionWarning: A column-vector y was passed when a 1d array was expected. Please change the shape of y to (n_samples,), for example using ravel().\n",
      "  return fit_method(estimator, *args, **kwargs)\n"
     ]
    },
    {
     "name": "stdout",
     "output_type": "stream",
     "text": [
      "{'11': {'precision': 1.0, 'recall': 0.15384615384615385, 'f1-score': 0.26666666666666666, 'support': 26.0}, '12': {'precision': 0.8813905930470347, 'recall': 0.9908045977011494, 'f1-score': 0.9329004329004329, 'support': 435.0}, '14': {'precision': 0.6, 'recall': 0.35294117647058826, 'f1-score': 0.4444444444444444, 'support': 34.0}, '23': {'precision': 1.0, 'recall': 0.3333333333333333, 'f1-score': 0.5, 'support': 3.0}, '24': {'precision': 0.7222222222222222, 'recall': 0.65, 'f1-score': 0.6842105263157895, 'support': 20.0}, '25': {'precision': 0.5, 'recall': 0.5, 'f1-score': 0.5, 'support': 4.0}, 'micro avg': {'precision': 0.8638059701492538, 'recall': 0.8869731800766284, 'f1-score': 0.8752362948960303, 'support': 522.0}, 'macro avg': {'precision': 0.7839354692115429, 'recall': 0.49682087689187077, 'f1-score': 0.5547036783878889, 'support': 522.0}, 'weighted avg': {'precision': 0.8606309433331505, 'recall': 0.8869731800766284, 'f1-score': 0.8525677074376409, 'support': 522.0}}\n"
     ]
    },
    {
     "name": "stderr",
     "output_type": "stream",
     "text": [
      "/opt/conda/lib/python3.12/site-packages/sklearn/base.py:1389: DataConversionWarning: A column-vector y was passed when a 1d array was expected. Please change the shape of y to (n_samples,), for example using ravel().\n",
      "  return fit_method(estimator, *args, **kwargs)\n"
     ]
    },
    {
     "name": "stdout",
     "output_type": "stream",
     "text": [
      "{'11': {'precision': 0.2222222222222222, 'recall': 0.07692307692307693, 'f1-score': 0.11428571428571428, 'support': 26.0}, '12': {'precision': 0.8808988764044944, 'recall': 0.9011494252873563, 'f1-score': 0.8909090909090909, 'support': 435.0}, '14': {'precision': 0.6666666666666666, 'recall': 0.29411764705882354, 'f1-score': 0.40816326530612246, 'support': 34.0}, '23': {'precision': 0.02040816326530612, 'recall': 0.3333333333333333, 'f1-score': 0.038461538461538464, 'support': 3.0}, '24': {'precision': 0.75, 'recall': 0.6, 'f1-score': 0.6666666666666666, 'support': 20.0}, '25': {'precision': 1.0, 'recall': 0.4, 'f1-score': 0.5714285714285714, 'support': 5.0}, 'micro avg': {'precision': 0.7817164179104478, 'recall': 0.8011472275334608, 'f1-score': 0.7913125590179415, 'support': 523.0}, 'macro avg': {'precision': 0.5900326547597815, 'recall': 0.4342539137670984, 'f1-score': 0.44831914117628396, 'support': 523.0}, 'weighted avg': {'precision': 0.8254238626581174, 'recall': 0.8011472275334608, 'f1-score': 0.8043982694897744, 'support': 523.0}}\n"
     ]
    },
    {
     "name": "stderr",
     "output_type": "stream",
     "text": [
      "/opt/conda/lib/python3.12/site-packages/sklearn/base.py:1389: DataConversionWarning: A column-vector y was passed when a 1d array was expected. Please change the shape of y to (n_samples,), for example using ravel().\n",
      "  return fit_method(estimator, *args, **kwargs)\n"
     ]
    },
    {
     "name": "stdout",
     "output_type": "stream",
     "text": [
      "{'11': {'precision': 0.7, 'recall': 0.28, 'f1-score': 0.4, 'support': 25.0}, '12': {'precision': 0.8742004264392325, 'recall': 0.9447004608294931, 'f1-score': 0.9080841638981174, 'support': 434.0}, '14': {'precision': 0.6363636363636364, 'recall': 0.2, 'f1-score': 0.30434782608695654, 'support': 35.0}, '23': {'precision': 0.06896551724137931, 'recall': 0.5, 'f1-score': 0.12121212121212122, 'support': 4.0}, '24': {'precision': 0.8571428571428571, 'recall': 0.631578947368421, 'f1-score': 0.7272727272727273, 'support': 19.0}, '25': {'precision': 0.6666666666666666, 'recall': 0.4, 'f1-score': 0.5, 'support': 5.0}, 'micro avg': {'precision': 0.8208955223880597, 'recall': 0.842911877394636, 'f1-score': 0.831758034026465, 'support': 522.0}, 'macro avg': {'precision': 0.6338898506422953, 'recall': 0.49271323469965234, 'f1-score': 0.493486139744987, 'support': 522.0}, 'weighted avg': {'precision': 0.8411314598378683, 'recall': 0.842911877394636, 'f1-score': 0.8267504431951279, 'support': 522.0}}\n"
     ]
    },
    {
     "name": "stderr",
     "output_type": "stream",
     "text": [
      "/opt/conda/lib/python3.12/site-packages/sklearn/base.py:1389: DataConversionWarning: A column-vector y was passed when a 1d array was expected. Please change the shape of y to (n_samples,), for example using ravel().\n",
      "  return fit_method(estimator, *args, **kwargs)\n"
     ]
    },
    {
     "name": "stdout",
     "output_type": "stream",
     "text": [
      "{'11': {'precision': 0.625, 'recall': 0.2, 'f1-score': 0.30303030303030304, 'support': 25.0}, '12': {'precision': 0.885480572597137, 'recall': 0.9976958525345622, 'f1-score': 0.9382448537378115, 'support': 434.0}, '14': {'precision': 0.7777777777777778, 'recall': 0.4, 'f1-score': 0.5283018867924528, 'support': 35.0}, '24': {'precision': 0.7368421052631579, 'recall': 0.7368421052631579, 'f1-score': 0.7368421052631579, 'support': 19.0}, '25': {'precision': 1.0, 'recall': 0.4, 'f1-score': 0.5714285714285714, 'support': 5.0}, 'micro avg': {'precision': 0.8731343283582089, 'recall': 0.9034749034749034, 'f1-score': 0.888045540796964, 'support': 518.0}, 'macro avg': {'precision': 0.8050200911276146, 'recall': 0.546907591559544, 'f1-score': 0.6155695440504594, 'support': 518.0}, 'weighted avg': {'precision': 0.8612853102883777, 'recall': 0.9034749034749034, 'f1-score': 0.8689608745035645, 'support': 518.0}}\n"
     ]
    },
    {
     "name": "stderr",
     "output_type": "stream",
     "text": [
      "/opt/conda/lib/python3.12/site-packages/sklearn/base.py:1389: DataConversionWarning: A column-vector y was passed when a 1d array was expected. Please change the shape of y to (n_samples,), for example using ravel().\n",
      "  return fit_method(estimator, *args, **kwargs)\n"
     ]
    },
    {
     "name": "stdout",
     "output_type": "stream",
     "text": [
      "{'11': {'precision': 0.3333333333333333, 'recall': 0.038461538461538464, 'f1-score': 0.06896551724137931, 'support': 26.0}, '12': {'precision': 0.8714596949891068, 'recall': 0.9216589861751152, 'f1-score': 0.8958566629339306, 'support': 434.0}, '14': {'precision': 0.6666666666666666, 'recall': 0.29411764705882354, 'f1-score': 0.40816326530612246, 'support': 34.0}, '23': {'precision': 0.02857142857142857, 'recall': 0.25, 'f1-score': 0.05128205128205128, 'support': 4.0}, '24': {'precision': 0.7222222222222222, 'recall': 0.6842105263157895, 'f1-score': 0.7027027027027027, 'support': 19.0}, '25': {'precision': 0.2, 'recall': 0.25, 'f1-score': 0.2222222222222222, 'support': 4.0}, 'micro avg': {'precision': 0.7962616822429907, 'recall': 0.817658349328215, 'f1-score': 0.8068181818181818, 'support': 521.0}, 'macro avg': {'precision': 0.47037555763045963, 'recall': 0.4064081163352111, 'f1-score': 0.3915320702814015, 'support': 521.0}, 'weighted avg': {'precision': 0.8141714950002182, 'recall': 0.817658349328215, 'f1-score': 0.8040649033155055, 'support': 521.0}}\n"
     ]
    },
    {
     "name": "stderr",
     "output_type": "stream",
     "text": [
      "/opt/conda/lib/python3.12/site-packages/sklearn/base.py:1389: DataConversionWarning: A column-vector y was passed when a 1d array was expected. Please change the shape of y to (n_samples,), for example using ravel().\n",
      "  return fit_method(estimator, *args, **kwargs)\n"
     ]
    },
    {
     "name": "stdout",
     "output_type": "stream",
     "text": [
      "{'11': {'precision': 0.6666666666666666, 'recall': 0.23076923076923078, 'f1-score': 0.34285714285714286, 'support': 26.0}, '12': {'precision': 0.8662420382165605, 'recall': 0.9379310344827586, 'f1-score': 0.9006622516556292, 'support': 435.0}, '14': {'precision': 0.6666666666666666, 'recall': 0.23529411764705882, 'f1-score': 0.34782608695652173, 'support': 34.0}, '23': {'precision': 0.038461538461538464, 'recall': 0.3333333333333333, 'f1-score': 0.06896551724137931, 'support': 3.0}, '24': {'precision': 0.7333333333333333, 'recall': 0.55, 'f1-score': 0.6285714285714286, 'support': 20.0}, '25': {'precision': 0.3333333333333333, 'recall': 0.25, 'f1-score': 0.2857142857142857, 'support': 4.0}, 'micro avg': {'precision': 0.8115671641791045, 'recall': 0.8333333333333334, 'f1-score': 0.8223062381852552, 'support': 522.0}, 'macro avg': {'precision': 0.5507839294463498, 'recall': 0.42288795270539686, 'f1-score': 0.4290994521660645, 'support': 522.0}, 'weighted avg': {'precision': 0.8293691019915488, 'recall': 0.8333333333333334, 'f1-score': 0.8169533226188046, 'support': 522.0}}\n"
     ]
    },
    {
     "name": "stderr",
     "output_type": "stream",
     "text": [
      "/opt/conda/lib/python3.12/site-packages/sklearn/base.py:1389: DataConversionWarning: A column-vector y was passed when a 1d array was expected. Please change the shape of y to (n_samples,), for example using ravel().\n",
      "  return fit_method(estimator, *args, **kwargs)\n"
     ]
    },
    {
     "name": "stdout",
     "output_type": "stream",
     "text": [
      "{'11': {'precision': 0.4, 'recall': 0.07692307692307693, 'f1-score': 0.12903225806451613, 'support': 26.0}, '12': {'precision': 0.8874458874458875, 'recall': 0.9425287356321839, 'f1-score': 0.9141583054626533, 'support': 435.0}, '14': {'precision': 0.5333333333333333, 'recall': 0.23529411764705882, 'f1-score': 0.32653061224489793, 'support': 34.0}, '23': {'precision': 0.0, 'recall': 0.0, 'f1-score': 0.0, 'support': 3.0}, '24': {'precision': 0.75, 'recall': 0.75, 'f1-score': 0.75, 'support': 20.0}, '25': {'precision': 0.75, 'recall': 0.6, 'f1-score': 0.6666666666666666, 'support': 5.0}, 'micro avg': {'precision': 0.8171641791044776, 'recall': 0.8374760994263862, 'f1-score': 0.8271954674220963, 'support': 523.0}, 'macro avg': {'precision': 0.5534632034632034, 'recall': 0.43412432170038656, 'f1-score': 0.46439797373978897, 'support': 523.0}, 'weighted avg': {'precision': 0.8285321116105056, 'recall': 0.8374760994263862, 'f1-score': 0.8230383857277084, 'support': 523.0}}\n"
     ]
    },
    {
     "name": "stderr",
     "output_type": "stream",
     "text": [
      "/opt/conda/lib/python3.12/site-packages/sklearn/base.py:1389: DataConversionWarning: A column-vector y was passed when a 1d array was expected. Please change the shape of y to (n_samples,), for example using ravel().\n",
      "  return fit_method(estimator, *args, **kwargs)\n"
     ]
    },
    {
     "name": "stdout",
     "output_type": "stream",
     "text": [
      "{'11': {'precision': 0.75, 'recall': 0.12, 'f1-score': 0.20689655172413793, 'support': 25.0}, '12': {'precision': 0.8703296703296703, 'recall': 0.9124423963133641, 'f1-score': 0.890888638920135, 'support': 434.0}, '14': {'precision': 0.75, 'recall': 0.34285714285714286, 'f1-score': 0.47058823529411764, 'support': 35.0}, '23': {'precision': 0.025, 'recall': 0.25, 'f1-score': 0.045454545454545456, 'support': 4.0}, '24': {'precision': 0.6190476190476191, 'recall': 0.6842105263157895, 'f1-score': 0.65, 'support': 19.0}, 'micro avg': {'precision': 0.792910447761194, 'recall': 0.8220502901353965, 'f1-score': 0.8072174738841406, 'support': 517.0}, 'macro avg': {'precision': 0.6028754578754578, 'recall': 0.46190201309725926, 'f1-score': 0.4527655942785872, 'support': 517.0}, 'weighted avg': {'precision': 0.8405899065473534, 'recall': 0.8220502901353965, 'f1-score': 0.813966130563935, 'support': 517.0}}\n"
     ]
    },
    {
     "name": "stderr",
     "output_type": "stream",
     "text": [
      "/opt/conda/lib/python3.12/site-packages/sklearn/base.py:1389: DataConversionWarning: A column-vector y was passed when a 1d array was expected. Please change the shape of y to (n_samples,), for example using ravel().\n",
      "  return fit_method(estimator, *args, **kwargs)\n"
     ]
    },
    {
     "name": "stdout",
     "output_type": "stream",
     "text": [
      "{'11': {'precision': 0.6, 'recall': 0.12, 'f1-score': 0.2, 'support': 25.0}, '12': {'precision': 0.8780487804878049, 'recall': 0.9953917050691244, 'f1-score': 0.9330453563714903, 'support': 434.0}, '14': {'precision': 0.6875, 'recall': 0.3142857142857143, 'f1-score': 0.43137254901960786, 'support': 35.0}, '24': {'precision': 0.7058823529411765, 'recall': 0.631578947368421, 'f1-score': 0.6666666666666666, 'support': 19.0}, '25': {'precision': 0.5, 'recall': 0.6, 'f1-score': 0.5454545454545454, 'support': 5.0}, 'micro avg': {'precision': 0.8600746268656716, 'recall': 0.88996138996139, 'f1-score': 0.8747628083491461, 'support': 518.0}, 'macro avg': {'precision': 0.6742862266857963, 'recall': 0.532251273344652, 'f1-score': 0.555307823502462, 'support': 518.0}, 'weighted avg': {'precision': 0.8417904159026828, 'recall': 0.88996138996139, 'f1-score': 0.85025803721014, 'support': 518.0}}\n"
     ]
    },
    {
     "name": "stderr",
     "output_type": "stream",
     "text": [
      "/opt/conda/lib/python3.12/site-packages/sklearn/base.py:1389: DataConversionWarning: A column-vector y was passed when a 1d array was expected. Please change the shape of y to (n_samples,), for example using ravel().\n",
      "  return fit_method(estimator, *args, **kwargs)\n"
     ]
    },
    {
     "name": "stdout",
     "output_type": "stream",
     "text": [
      "{'11': {'precision': 0.75, 'recall': 0.11538461538461539, 'f1-score': 0.2, 'support': 26.0}, '12': {'precision': 0.8816326530612245, 'recall': 0.9953917050691244, 'f1-score': 0.935064935064935, 'support': 434.0}, '14': {'precision': 0.8, 'recall': 0.35294117647058826, 'f1-score': 0.4897959183673469, 'support': 34.0}, '23': {'precision': 1.0, 'recall': 0.25, 'f1-score': 0.4, 'support': 4.0}, '24': {'precision': 0.6521739130434783, 'recall': 0.7894736842105263, 'f1-score': 0.7142857142857143, 'support': 19.0}, '25': {'precision': 0.5, 'recall': 0.25, 'f1-score': 0.3333333333333333, 'support': 4.0}, 'micro avg': {'precision': 0.8672897196261682, 'recall': 0.8905950095969289, 'f1-score': 0.8787878787878788, 'support': 521.0}, 'macro avg': {'precision': 0.7639677610174505, 'recall': 0.45886519685580907, 'f1-score': 0.512079983508555, 'support': 521.0}, 'weighted avg': {'precision': 0.8593471703961564, 'recall': 0.8905950095969289, 'f1-score': 0.8525451150622524, 'support': 521.0}}\n"
     ]
    },
    {
     "name": "stderr",
     "output_type": "stream",
     "text": [
      "/opt/conda/lib/python3.12/site-packages/sklearn/base.py:1389: DataConversionWarning: A column-vector y was passed when a 1d array was expected. Please change the shape of y to (n_samples,), for example using ravel().\n",
      "  return fit_method(estimator, *args, **kwargs)\n"
     ]
    },
    {
     "name": "stdout",
     "output_type": "stream",
     "text": [
      "{'11': {'precision': 1.0, 'recall': 0.15384615384615385, 'f1-score': 0.26666666666666666, 'support': 26.0}, '12': {'precision': 0.8790983606557377, 'recall': 0.9862068965517241, 'f1-score': 0.9295774647887324, 'support': 435.0}, '13': {'precision': 1.0, 'recall': 0.08333333333333333, 'f1-score': 0.15384615384615385, 'support': 12.0}, '14': {'precision': 0.5, 'recall': 0.29411764705882354, 'f1-score': 0.37037037037037035, 'support': 34.0}, '24': {'precision': 0.8, 'recall': 0.8, 'f1-score': 0.8, 'support': 20.0}, '25': {'precision': 1.0, 'recall': 0.75, 'f1-score': 0.8571428571428571, 'support': 4.0}, 'micro avg': {'precision': 0.8638059701492538, 'recall': 0.871939736346516, 'f1-score': 0.8678537956888472, 'support': 531.0}, 'macro avg': {'precision': 0.8631830601092897, 'recall': 0.5112506717983392, 'f1-score': 0.5629339188024634, 'support': 531.0}, 'weighted avg': {'precision': 0.8614082615541353, 'recall': 0.871939736346516, 'f1-score': 0.8383556466737285, 'support': 531.0}}\n"
     ]
    },
    {
     "name": "stderr",
     "output_type": "stream",
     "text": [
      "/opt/conda/lib/python3.12/site-packages/sklearn/base.py:1389: DataConversionWarning: A column-vector y was passed when a 1d array was expected. Please change the shape of y to (n_samples,), for example using ravel().\n",
      "  return fit_method(estimator, *args, **kwargs)\n"
     ]
    },
    {
     "name": "stdout",
     "output_type": "stream",
     "text": [
      "{'11': {'precision': 0.75, 'recall': 0.11538461538461539, 'f1-score': 0.2, 'support': 26.0}, '12': {'precision': 0.8659574468085106, 'recall': 0.9356321839080459, 'f1-score': 0.8994475138121547, 'support': 435.0}, '13': {'precision': 1.0, 'recall': 0.09090909090909091, 'f1-score': 0.16666666666666666, 'support': 11.0}, '14': {'precision': 0.8181818181818182, 'recall': 0.2647058823529412, 'f1-score': 0.4, 'support': 34.0}, '23': {'precision': 0.0, 'recall': 0.0, 'f1-score': 0.0, 'support': 3.0}, '24': {'precision': 0.7, 'recall': 0.7, 'f1-score': 0.7, 'support': 20.0}, '25': {'precision': 1.0, 'recall': 0.2, 'f1-score': 0.3333333333333333, 'support': 5.0}, 'micro avg': {'precision': 0.8115671641791045, 'recall': 0.8146067415730337, 'f1-score': 0.8130841121495327, 'support': 534.0}, 'macro avg': {'precision': 0.7334484664271897, 'recall': 0.3295188246506705, 'f1-score': 0.38563535911602215, 'support': 534.0}, 'weighted avg': {'precision': 0.8502053767413557, 'recall': 0.8146067415730337, 'f1-score': 0.8006735365323733, 'support': 534.0}}\n"
     ]
    },
    {
     "name": "stderr",
     "output_type": "stream",
     "text": [
      "/opt/conda/lib/python3.12/site-packages/sklearn/base.py:1389: DataConversionWarning: A column-vector y was passed when a 1d array was expected. Please change the shape of y to (n_samples,), for example using ravel().\n",
      "  return fit_method(estimator, *args, **kwargs)\n"
     ]
    },
    {
     "name": "stdout",
     "output_type": "stream",
     "text": [
      "{'11': {'precision': 0.5, 'recall': 0.24, 'f1-score': 0.32432432432432434, 'support': 25.0}, '12': {'precision': 0.8791208791208791, 'recall': 0.9216589861751152, 'f1-score': 0.8998875140607424, 'support': 434.0}, '14': {'precision': 0.5833333333333334, 'recall': 0.2, 'f1-score': 0.2978723404255319, 'support': 35.0}, '23': {'precision': 0.0, 'recall': 0.0, 'f1-score': 0.0, 'support': 4.0}, '24': {'precision': 0.6842105263157895, 'recall': 0.6842105263157895, 'f1-score': 0.6842105263157895, 'support': 19.0}, '25': {'precision': 0.5, 'recall': 0.4, 'f1-score': 0.4444444444444444, 'support': 5.0}, 'micro avg': {'precision': 0.7985074626865671, 'recall': 0.8199233716475096, 'f1-score': 0.8090737240075614, 'support': 522.0}, 'macro avg': {'precision': 0.5244441231283337, 'recall': 0.4076449187484841, 'f1-score': 0.44178985826180545, 'support': 522.0}, 'weighted avg': {'precision': 0.8236688279791728, 'recall': 0.8199233716475096, 'f1-score': 0.8128487420451842, 'support': 522.0}}\n"
     ]
    },
    {
     "name": "stderr",
     "output_type": "stream",
     "text": [
      "/opt/conda/lib/python3.12/site-packages/sklearn/base.py:1389: DataConversionWarning: A column-vector y was passed when a 1d array was expected. Please change the shape of y to (n_samples,), for example using ravel().\n",
      "  return fit_method(estimator, *args, **kwargs)\n"
     ]
    },
    {
     "name": "stdout",
     "output_type": "stream",
     "text": [
      "{'11': {'precision': 1.0, 'recall': 0.16, 'f1-score': 0.27586206896551724, 'support': 25.0}, '12': {'precision': 0.8762677484787018, 'recall': 0.9953917050691244, 'f1-score': 0.9320388349514563, 'support': 434.0}, '13': {'precision': 1.0, 'recall': 0.09090909090909091, 'f1-score': 0.16666666666666666, 'support': 11.0}, '14': {'precision': 0.7222222222222222, 'recall': 0.37142857142857144, 'f1-score': 0.49056603773584906, 'support': 35.0}, '23': {'precision': 0.6666666666666666, 'recall': 0.5, 'f1-score': 0.5714285714285714, 'support': 4.0}, '24': {'precision': 0.7692307692307693, 'recall': 0.5263157894736842, 'f1-score': 0.625, 'support': 19.0}, '25': {'precision': 0.75, 'recall': 0.6, 'f1-score': 0.6666666666666666, 'support': 5.0}, 'micro avg': {'precision': 0.8675373134328358, 'recall': 0.8724202626641651, 'f1-score': 0.8699719363891487, 'support': 533.0}, 'macro avg': {'precision': 0.82634105808548, 'recall': 0.4634350224114958, 'f1-score': 0.5326041209163896, 'support': 533.0}, 'weighted avg': {'precision': 0.8679362699804609, 'recall': 0.8724202626641651, 'f1-score': 0.840335081362487, 'support': 533.0}}\n"
     ]
    },
    {
     "name": "stderr",
     "output_type": "stream",
     "text": [
      "/opt/conda/lib/python3.12/site-packages/sklearn/base.py:1389: DataConversionWarning: A column-vector y was passed when a 1d array was expected. Please change the shape of y to (n_samples,), for example using ravel().\n",
      "  return fit_method(estimator, *args, **kwargs)\n"
     ]
    },
    {
     "name": "stdout",
     "output_type": "stream",
     "text": [
      "{'11': {'precision': 0.25, 'recall': 0.038461538461538464, 'f1-score': 0.06666666666666667, 'support': 26.0}, '12': {'precision': 0.8911111111111111, 'recall': 0.923963133640553, 'f1-score': 0.9072398190045249, 'support': 434.0}, '13': {'precision': 1.0, 'recall': 0.09090909090909091, 'f1-score': 0.16666666666666666, 'support': 11.0}, '14': {'precision': 0.7777777777777778, 'recall': 0.4117647058823529, 'f1-score': 0.5384615384615384, 'support': 34.0}, '23': {'precision': 0.0, 'recall': 0.0, 'f1-score': 0.0, 'support': 4.0}, '24': {'precision': 0.625, 'recall': 0.7894736842105263, 'f1-score': 0.6976744186046512, 'support': 19.0}, '25': {'precision': 0.0, 'recall': 0.0, 'f1-score': 0.0, 'support': 4.0}, 'micro avg': {'precision': 0.8074766355140187, 'recall': 0.8120300751879699, 'f1-score': 0.8097469540768509, 'support': 532.0}, 'macro avg': {'precision': 0.5062698412698412, 'recall': 0.32208173615772306, 'f1-score': 0.3395298727720068, 'support': 532.0}, 'weighted avg': {'precision': 0.8318828320802005, 'recall': 0.8120300751879699, 'f1-score': 0.8061508540898706, 'support': 532.0}}\n"
     ]
    },
    {
     "name": "stderr",
     "output_type": "stream",
     "text": [
      "/opt/conda/lib/python3.12/site-packages/sklearn/base.py:1389: DataConversionWarning: A column-vector y was passed when a 1d array was expected. Please change the shape of y to (n_samples,), for example using ravel().\n",
      "  return fit_method(estimator, *args, **kwargs)\n"
     ]
    },
    {
     "name": "stdout",
     "output_type": "stream",
     "text": [
      "{'11': {'precision': 0.6666666666666666, 'recall': 0.07692307692307693, 'f1-score': 0.13793103448275862, 'support': 26.0}, '12': {'precision': 0.8629550321199143, 'recall': 0.9264367816091954, 'f1-score': 0.893569844789357, 'support': 435.0}, '13': {'precision': 1.0, 'recall': 0.16666666666666666, 'f1-score': 0.2857142857142857, 'support': 12.0}, '14': {'precision': 0.7692307692307693, 'recall': 0.29411764705882354, 'f1-score': 0.425531914893617, 'support': 34.0}, '23': {'precision': 0.03125, 'recall': 0.3333333333333333, 'f1-score': 0.05714285714285714, 'support': 3.0}, '24': {'precision': 0.7647058823529411, 'recall': 0.65, 'f1-score': 0.7027027027027027, 'support': 20.0}, '25': {'precision': 0.5, 'recall': 0.25, 'f1-score': 0.3333333333333333, 'support': 4.0}, 'micro avg': {'precision': 0.8059701492537313, 'recall': 0.8089887640449438, 'f1-score': 0.8074766355140187, 'support': 534.0}, 'macro avg': {'precision': 0.6564011929100416, 'recall': 0.38535392937015656, 'f1-score': 0.40513228186555883, 'support': 534.0}, 'weighted avg': {'precision': 0.8394391125588033, 'recall': 0.8089887640449438, 'f1-score': 0.7972744604376263, 'support': 534.0}}\n"
     ]
    },
    {
     "name": "stderr",
     "output_type": "stream",
     "text": [
      "/opt/conda/lib/python3.12/site-packages/sklearn/base.py:1389: DataConversionWarning: A column-vector y was passed when a 1d array was expected. Please change the shape of y to (n_samples,), for example using ravel().\n",
      "  return fit_method(estimator, *args, **kwargs)\n"
     ]
    },
    {
     "name": "stdout",
     "output_type": "stream",
     "text": [
      "{'11': {'precision': 0.5555555555555556, 'recall': 0.19230769230769232, 'f1-score': 0.2857142857142857, 'support': 26.0}, '12': {'precision': 0.8875255623721882, 'recall': 0.9977011494252873, 'f1-score': 0.9393939393939394, 'support': 435.0}, '14': {'precision': 0.5625, 'recall': 0.2647058823529412, 'f1-score': 0.36, 'support': 34.0}, '23': {'precision': 0.0, 'recall': 0.0, 'f1-score': 0.0, 'support': 3.0}, '24': {'precision': 0.9411764705882353, 'recall': 0.8, 'f1-score': 0.8648648648648649, 'support': 20.0}, '25': {'precision': 0.5, 'recall': 0.4, 'f1-score': 0.4444444444444444, 'support': 5.0}, 'micro avg': {'precision': 0.8694029850746269, 'recall': 0.8910133843212237, 'f1-score': 0.8800755429650614, 'support': 523.0}, 'macro avg': {'precision': 0.5744595980859964, 'recall': 0.44245245401432015, 'f1-score': 0.4824029224029223, 'support': 523.0}, 'weighted avg': {'precision': 0.8431483623099637, 'recall': 0.8910133843212237, 'f1-score': 0.8562609074272556, 'support': 523.0}}\n"
     ]
    },
    {
     "name": "stderr",
     "output_type": "stream",
     "text": [
      "/opt/conda/lib/python3.12/site-packages/sklearn/base.py:1389: DataConversionWarning: A column-vector y was passed when a 1d array was expected. Please change the shape of y to (n_samples,), for example using ravel().\n",
      "  return fit_method(estimator, *args, **kwargs)\n"
     ]
    },
    {
     "name": "stdout",
     "output_type": "stream",
     "text": [
      "{'11': {'precision': 0.6, 'recall': 0.12, 'f1-score': 0.2, 'support': 25.0}, '12': {'precision': 0.8795918367346939, 'recall': 0.9930875576036866, 'f1-score': 0.9329004329004329, 'support': 434.0}, '14': {'precision': 0.75, 'recall': 0.34285714285714286, 'f1-score': 0.47058823529411764, 'support': 35.0}, '24': {'precision': 0.6666666666666666, 'recall': 0.7368421052631579, 'f1-score': 0.7, 'support': 19.0}, '25': {'precision': 0.5, 'recall': 0.4, 'f1-score': 0.4444444444444444, 'support': 5.0}, 'micro avg': {'precision': 0.8619402985074627, 'recall': 0.8918918918918919, 'f1-score': 0.8766603415559773, 'support': 518.0}, 'macro avg': {'precision': 0.6792517006802721, 'recall': 0.5185573611447974, 'f1-score': 0.549586622527799, 'support': 518.0}, 'weighted avg': {'precision': 0.8458678065820923, 'recall': 0.8918918918918919, 'f1-score': 0.853033973622209, 'support': 518.0}}\n"
     ]
    },
    {
     "name": "stderr",
     "output_type": "stream",
     "text": [
      "/opt/conda/lib/python3.12/site-packages/sklearn/base.py:1389: DataConversionWarning: A column-vector y was passed when a 1d array was expected. Please change the shape of y to (n_samples,), for example using ravel().\n",
      "  return fit_method(estimator, *args, **kwargs)\n"
     ]
    },
    {
     "name": "stdout",
     "output_type": "stream",
     "text": [
      "{'11': {'precision': 0.5, 'recall': 0.08, 'f1-score': 0.13793103448275862, 'support': 25.0}, '12': {'precision': 0.8850325379609545, 'recall': 0.9400921658986175, 'f1-score': 0.911731843575419, 'support': 434.0}, '14': {'precision': 0.75, 'recall': 0.42857142857142855, 'f1-score': 0.5454545454545454, 'support': 35.0}, '23': {'precision': 0.0, 'recall': 0.0, 'f1-score': 0.0, 'support': 4.0}, '24': {'precision': 0.6111111111111112, 'recall': 0.5789473684210527, 'f1-score': 0.5945945945945946, 'support': 19.0}, '25': {'precision': 0.6666666666666666, 'recall': 0.4, 'f1-score': 0.5, 'support': 5.0}, 'micro avg': {'precision': 0.8171641791044776, 'recall': 0.8390804597701149, 'f1-score': 0.8279773156899811, 'support': 522.0}, 'macro avg': {'precision': 0.5688017192897887, 'recall': 0.4046018271485164, 'f1-score': 0.4482853363512196, 'support': 522.0}, 'weighted avg': {'precision': 0.8386945707270088, 'recall': 0.8390804597701149, 'f1-score': 0.8276400428390942, 'support': 522.0}}\n"
     ]
    },
    {
     "name": "stderr",
     "output_type": "stream",
     "text": [
      "/opt/conda/lib/python3.12/site-packages/sklearn/base.py:1389: DataConversionWarning: A column-vector y was passed when a 1d array was expected. Please change the shape of y to (n_samples,), for example using ravel().\n",
      "  return fit_method(estimator, *args, **kwargs)\n"
     ]
    },
    {
     "name": "stdout",
     "output_type": "stream",
     "text": [
      "{'11': {'precision': 0.75, 'recall': 0.23076923076923078, 'f1-score': 0.35294117647058826, 'support': 26.0}, '12': {'precision': 0.8849557522123894, 'recall': 0.9216589861751152, 'f1-score': 0.9029345372460497, 'support': 434.0}, '13': {'precision': 1.0, 'recall': 0.18181818181818182, 'f1-score': 0.3076923076923077, 'support': 11.0}, '14': {'precision': 0.5454545454545454, 'recall': 0.17647058823529413, 'f1-score': 0.26666666666666666, 'support': 34.0}, '23': {'precision': 0.02631578947368421, 'recall': 0.25, 'f1-score': 0.047619047619047616, 'support': 4.0}, '24': {'precision': 0.6086956521739131, 'recall': 0.7368421052631579, 'f1-score': 0.6666666666666666, 'support': 19.0}, '25': {'precision': 1.0, 'recall': 0.25, 'f1-score': 0.4, 'support': 4.0}, 'micro avg': {'precision': 0.8037383177570093, 'recall': 0.8082706766917294, 'f1-score': 0.8059981255857545, 'support': 532.0}, 'macro avg': {'precision': 0.6879173913306474, 'recall': 0.39250844175156857, 'f1-score': 0.42064577176590373, 'support': 532.0}, 'weighted avg': {'precision': 0.8435840818699825, 'recall': 0.8082706766917294, 'f1-score': 0.8044332418448229, 'support': 532.0}}\n"
     ]
    },
    {
     "name": "stderr",
     "output_type": "stream",
     "text": [
      "/opt/conda/lib/python3.12/site-packages/sklearn/base.py:1389: DataConversionWarning: A column-vector y was passed when a 1d array was expected. Please change the shape of y to (n_samples,), for example using ravel().\n",
      "  return fit_method(estimator, *args, **kwargs)\n"
     ]
    },
    {
     "name": "stdout",
     "output_type": "stream",
     "text": [
      "{'11': {'precision': 0.7, 'recall': 0.2692307692307692, 'f1-score': 0.3888888888888889, 'support': 26.0}, '12': {'precision': 0.8901098901098901, 'recall': 0.9310344827586207, 'f1-score': 0.9101123595505618, 'support': 435.0}, '14': {'precision': 0.75, 'recall': 0.35294117647058826, 'f1-score': 0.48, 'support': 34.0}, '23': {'precision': 0.029411764705882353, 'recall': 0.3333333333333333, 'f1-score': 0.05405405405405406, 'support': 3.0}, '24': {'precision': 0.8, 'recall': 0.8, 'f1-score': 0.8, 'support': 20.0}, '25': {'precision': 0.0, 'recall': 0.0, 'f1-score': 0.0, 'support': 4.0}, 'micro avg': {'precision': 0.8227611940298507, 'recall': 0.8448275862068966, 'f1-score': 0.833648393194707, 'support': 522.0}, 'macro avg': {'precision': 0.528253609135962, 'recall': 0.44775662696555196, 'f1-score': 0.4388425504155841, 'support': 522.0}, 'weighted avg': {'precision': 0.8562950909806892, 'recall': 0.8448275862068966, 'f1-score': 0.8400232752447656, 'support': 522.0}}\n"
     ]
    },
    {
     "name": "stderr",
     "output_type": "stream",
     "text": [
      "/opt/conda/lib/python3.12/site-packages/sklearn/base.py:1389: DataConversionWarning: A column-vector y was passed when a 1d array was expected. Please change the shape of y to (n_samples,), for example using ravel().\n",
      "  return fit_method(estimator, *args, **kwargs)\n"
     ]
    },
    {
     "name": "stdout",
     "output_type": "stream",
     "text": [
      "{'11': {'precision': 0.75, 'recall': 0.11538461538461539, 'f1-score': 0.2, 'support': 26.0}, '12': {'precision': 0.8760869565217392, 'recall': 0.9264367816091954, 'f1-score': 0.9005586592178771, 'support': 435.0}, '13': {'precision': 1.0, 'recall': 0.09090909090909091, 'f1-score': 0.16666666666666666, 'support': 11.0}, '14': {'precision': 0.7857142857142857, 'recall': 0.3235294117647059, 'f1-score': 0.4583333333333333, 'support': 34.0}, '23': {'precision': 0.0, 'recall': 0.0, 'f1-score': 0.0, 'support': 3.0}, '24': {'precision': 0.7894736842105263, 'recall': 0.75, 'f1-score': 0.7692307692307693, 'support': 20.0}, '25': {'precision': 0.6, 'recall': 0.6, 'f1-score': 0.6, 'support': 5.0}, 'micro avg': {'precision': 0.8134328358208955, 'recall': 0.8164794007490637, 'f1-score': 0.8149532710280374, 'support': 534.0}, 'macro avg': {'precision': 0.685896418063793, 'recall': 0.40089427138108674, 'f1-score': 0.44211277549266376, 'support': 534.0}, 'weighted avg': {'precision': 0.8559954784371775, 'recall': 0.8164794007490637, 'f1-score': 0.8103825820431807, 'support': 534.0}}\n"
     ]
    },
    {
     "name": "stderr",
     "output_type": "stream",
     "text": [
      "/opt/conda/lib/python3.12/site-packages/sklearn/base.py:1389: DataConversionWarning: A column-vector y was passed when a 1d array was expected. Please change the shape of y to (n_samples,), for example using ravel().\n",
      "  return fit_method(estimator, *args, **kwargs)\n"
     ]
    },
    {
     "name": "stdout",
     "output_type": "stream",
     "text": [
      "{'11': {'precision': 0.5, 'recall': 0.04, 'f1-score': 0.07407407407407407, 'support': 25.0}, '12': {'precision': 0.8780487804878049, 'recall': 0.9953917050691244, 'f1-score': 0.9330453563714903, 'support': 434.0}, '14': {'precision': 0.7, 'recall': 0.4, 'f1-score': 0.509090909090909, 'support': 35.0}, '24': {'precision': 0.5, 'recall': 0.5263157894736842, 'f1-score': 0.5128205128205128, 'support': 19.0}, '25': {'precision': 0.5, 'recall': 0.2, 'f1-score': 0.2857142857142857, 'support': 5.0}, 'micro avg': {'precision': 0.8544776119402985, 'recall': 0.8841698841698842, 'f1-score': 0.8690702087286527, 'support': 518.0}, 'macro avg': {'precision': 0.615609756097561, 'recall': 0.43234149890856177, 'f1-score': 0.4629490276142544, 'support': 518.0}, 'weighted avg': {'precision': 0.8302570863546473, 'recall': 0.8841698841698842, 'f1-score': 0.8412816206706982, 'support': 518.0}}\n"
     ]
    },
    {
     "name": "stderr",
     "output_type": "stream",
     "text": [
      "/opt/conda/lib/python3.12/site-packages/sklearn/base.py:1389: DataConversionWarning: A column-vector y was passed when a 1d array was expected. Please change the shape of y to (n_samples,), for example using ravel().\n",
      "  return fit_method(estimator, *args, **kwargs)\n"
     ]
    },
    {
     "name": "stdout",
     "output_type": "stream",
     "text": [
      "{'11': {'precision': 0.5714285714285714, 'recall': 0.16, 'f1-score': 0.25, 'support': 25.0}, '12': {'precision': 0.8826086956521739, 'recall': 0.9354838709677419, 'f1-score': 0.9082774049217002, 'support': 434.0}, '14': {'precision': 0.7222222222222222, 'recall': 0.37142857142857144, 'f1-score': 0.49056603773584906, 'support': 35.0}, '23': {'precision': 0.06451612903225806, 'recall': 0.5, 'f1-score': 0.11428571428571428, 'support': 4.0}, '24': {'precision': 0.75, 'recall': 0.631578947368421, 'f1-score': 0.6857142857142857, 'support': 19.0}, '25': {'precision': 0.75, 'recall': 0.6, 'f1-score': 0.6666666666666666, 'support': 5.0}, 'micro avg': {'precision': 0.8208955223880597, 'recall': 0.842911877394636, 'f1-score': 0.831758034026465, 'support': 522.0}, 'macro avg': {'precision': 0.6234626030558709, 'recall': 0.5330818982941224, 'f1-score': 0.5192516848873693, 'support': 522.0}, 'weighted avg': {'precision': 0.8445856905989743, 'recall': 0.842911877394636, 'f1-score': 0.8322437790724525, 'support': 522.0}}\n"
     ]
    },
    {
     "name": "stderr",
     "output_type": "stream",
     "text": [
      "/opt/conda/lib/python3.12/site-packages/sklearn/base.py:1389: DataConversionWarning: A column-vector y was passed when a 1d array was expected. Please change the shape of y to (n_samples,), for example using ravel().\n",
      "  return fit_method(estimator, *args, **kwargs)\n"
     ]
    },
    {
     "name": "stdout",
     "output_type": "stream",
     "text": [
      "{'11': {'precision': 0.5, 'recall': 0.07692307692307693, 'f1-score': 0.13333333333333333, 'support': 26.0}, '12': {'precision': 0.8795918367346939, 'recall': 0.9930875576036866, 'f1-score': 0.9329004329004329, 'support': 434.0}, '13': {'precision': 1.0, 'recall': 0.09090909090909091, 'f1-score': 0.16666666666666666, 'support': 11.0}, '14': {'precision': 0.6428571428571429, 'recall': 0.2647058823529412, 'f1-score': 0.375, 'support': 34.0}, '23': {'precision': 0.5, 'recall': 0.25, 'f1-score': 0.3333333333333333, 'support': 4.0}, '24': {'precision': 0.75, 'recall': 0.7894736842105263, 'f1-score': 0.7692307692307693, 'support': 19.0}, '25': {'precision': 0.5, 'recall': 0.5, 'f1-score': 0.5, 'support': 4.0}, 'micro avg': {'precision': 0.8616822429906542, 'recall': 0.8665413533834586, 'f1-score': 0.8641049671977507, 'support': 532.0}, 'macro avg': {'precision': 0.6817784256559767, 'recall': 0.4235856131427603, 'f1-score': 0.4586377907806479, 'support': 532.0}, 'weighted avg': {'precision': 0.838063909774436, 'recall': 0.8665413533834586, 'f1-score': 0.8287171162171162, 'support': 532.0}}\n"
     ]
    },
    {
     "name": "stderr",
     "output_type": "stream",
     "text": [
      "/opt/conda/lib/python3.12/site-packages/sklearn/base.py:1389: DataConversionWarning: A column-vector y was passed when a 1d array was expected. Please change the shape of y to (n_samples,), for example using ravel().\n",
      "  return fit_method(estimator, *args, **kwargs)\n"
     ]
    },
    {
     "name": "stdout",
     "output_type": "stream",
     "text": [
      "{'11': {'precision': 1.0, 'recall': 0.23076923076923078, 'f1-score': 0.375, 'support': 26.0}, '12': {'precision': 0.8827292110874201, 'recall': 0.9517241379310345, 'f1-score': 0.915929203539823, 'support': 435.0}, '13': {'precision': 1.0, 'recall': 0.08333333333333333, 'f1-score': 0.15384615384615385, 'support': 12.0}, '14': {'precision': 0.65, 'recall': 0.38235294117647056, 'f1-score': 0.48148148148148145, 'support': 34.0}, '23': {'precision': 0.0, 'recall': 0.0, 'f1-score': 0.0, 'support': 3.0}, '24': {'precision': 0.75, 'recall': 0.6, 'f1-score': 0.6666666666666666, 'support': 20.0}, '25': {'precision': 0.3333333333333333, 'recall': 0.25, 'f1-score': 0.2857142857142857, 'support': 4.0}, 'micro avg': {'precision': 0.8339552238805971, 'recall': 0.8370786516853933, 'f1-score': 0.8355140186915888, 'support': 534.0}, 'macro avg': {'precision': 0.6594375063458218, 'recall': 0.356882806172867, 'f1-score': 0.41123397017834434, 'support': 534.0}, 'weighted avg': {'precision': 0.8622107493564815, 'recall': 0.8370786516853933, 'f1-score': 0.8256028431320931, 'support': 534.0}}\n"
     ]
    },
    {
     "name": "stderr",
     "output_type": "stream",
     "text": [
      "/opt/conda/lib/python3.12/site-packages/sklearn/base.py:1389: DataConversionWarning: A column-vector y was passed when a 1d array was expected. Please change the shape of y to (n_samples,), for example using ravel().\n",
      "  return fit_method(estimator, *args, **kwargs)\n"
     ]
    },
    {
     "name": "stdout",
     "output_type": "stream",
     "text": [
      "{'11': {'precision': 0.5, 'recall': 0.07692307692307693, 'f1-score': 0.13333333333333333, 'support': 26.0}, '12': {'precision': 0.8766233766233766, 'recall': 0.9310344827586207, 'f1-score': 0.903010033444816, 'support': 435.0}, '13': {'precision': 1.0, 'recall': 0.09090909090909091, 'f1-score': 0.16666666666666666, 'support': 11.0}, '14': {'precision': 0.6, 'recall': 0.2647058823529412, 'f1-score': 0.3673469387755102, 'support': 34.0}, '23': {'precision': 0.02857142857142857, 'recall': 0.3333333333333333, 'f1-score': 0.05263157894736842, 'support': 3.0}, '24': {'precision': 0.7368421052631579, 'recall': 0.7, 'f1-score': 0.717948717948718, 'support': 20.0}, 'micro avg': {'precision': 0.8059701492537313, 'recall': 0.8166351606805293, 'f1-score': 0.8112676056338028, 'support': 529.0}, 'macro avg': {'precision': 0.6236728184096605, 'recall': 0.39948431104617715, 'f1-score': 0.3901562115194021, 'support': 529.0}, 'weighted avg': {'precision': 0.832804773576836, 'recall': 0.8166351606805293, 'f1-score': 0.8036219840504323, 'support': 529.0}}\n"
     ]
    },
    {
     "name": "stderr",
     "output_type": "stream",
     "text": [
      "/opt/conda/lib/python3.12/site-packages/sklearn/base.py:1389: DataConversionWarning: A column-vector y was passed when a 1d array was expected. Please change the shape of y to (n_samples,), for example using ravel().\n",
      "  return fit_method(estimator, *args, **kwargs)\n"
     ]
    },
    {
     "name": "stdout",
     "output_type": "stream",
     "text": [
      "{'11': {'precision': 0.625, 'recall': 0.2, 'f1-score': 0.30303030303030304, 'support': 25.0}, '12': {'precision': 0.87527352297593, 'recall': 0.9216589861751152, 'f1-score': 0.8978675645342312, 'support': 434.0}, '14': {'precision': 0.7272727272727273, 'recall': 0.22857142857142856, 'f1-score': 0.34782608695652173, 'support': 35.0}, '23': {'precision': 0.0, 'recall': 0.0, 'f1-score': 0.0, 'support': 4.0}, '24': {'precision': 0.631578947368421, 'recall': 0.631578947368421, 'f1-score': 0.631578947368421, 'support': 19.0}, '25': {'precision': 0.6666666666666666, 'recall': 0.4, 'f1-score': 0.5, 'support': 5.0}, 'micro avg': {'precision': 0.7966417910447762, 'recall': 0.8180076628352491, 'f1-score': 0.8071833648393195, 'support': 522.0}, 'macro avg': {'precision': 0.5876319773806242, 'recall': 0.3969682270191608, 'f1-score': 0.4467171503149128, 'support': 522.0}, 'weighted avg': {'precision': 0.8357884822977631, 'recall': 0.8180076628352491, 'f1-score': 0.8121153134618624, 'support': 522.0}}\n"
     ]
    },
    {
     "name": "stderr",
     "output_type": "stream",
     "text": [
      "/opt/conda/lib/python3.12/site-packages/sklearn/base.py:1389: DataConversionWarning: A column-vector y was passed when a 1d array was expected. Please change the shape of y to (n_samples,), for example using ravel().\n",
      "  return fit_method(estimator, *args, **kwargs)\n"
     ]
    },
    {
     "name": "stdout",
     "output_type": "stream",
     "text": [
      "{'11': {'precision': 0.044444444444444446, 'recall': 0.08, 'f1-score': 0.05714285714285714, 'support': 25.0}, '12': {'precision': 0.8839285714285714, 'recall': 0.9124423963133641, 'f1-score': 0.8979591836734694, 'support': 434.0}, '13': {'precision': 1.0, 'recall': 0.09090909090909091, 'f1-score': 0.16666666666666666, 'support': 11.0}, '14': {'precision': 0.7692307692307693, 'recall': 0.2857142857142857, 'f1-score': 0.4166666666666667, 'support': 35.0}, '24': {'precision': 0.5925925925925926, 'recall': 0.8421052631578947, 'f1-score': 0.6956521739130435, 'support': 19.0}, '25': {'precision': 0.5, 'recall': 0.2, 'f1-score': 0.2857142857142857, 'support': 5.0}, 'micro avg': {'precision': 0.7947761194029851, 'recall': 0.8052930056710775, 'f1-score': 0.8, 'support': 529.0}, 'macro avg': {'precision': 0.6316993962827296, 'recall': 0.40186183934910596, 'f1-score': 0.4199669722961648, 'support': 529.0}, 'weighted avg': {'precision': 0.8249876130310911, 'recall': 0.8052930056710775, 'f1-score': 0.7981200123675672, 'support': 529.0}}\n"
     ]
    },
    {
     "name": "stderr",
     "output_type": "stream",
     "text": [
      "/opt/conda/lib/python3.12/site-packages/sklearn/base.py:1389: DataConversionWarning: A column-vector y was passed when a 1d array was expected. Please change the shape of y to (n_samples,), for example using ravel().\n",
      "  return fit_method(estimator, *args, **kwargs)\n"
     ]
    },
    {
     "name": "stdout",
     "output_type": "stream",
     "text": [
      "{'11': {'precision': 0.4444444444444444, 'recall': 0.15384615384615385, 'f1-score': 0.22857142857142856, 'support': 26.0}, '12': {'precision': 0.8881987577639752, 'recall': 0.988479262672811, 'f1-score': 0.935659760087241, 'support': 434.0}, '14': {'precision': 0.7, 'recall': 0.4117647058823529, 'f1-score': 0.5185185185185185, 'support': 34.0}, '24': {'precision': 0.8125, 'recall': 0.6842105263157895, 'f1-score': 0.7428571428571429, 'support': 19.0}, '25': {'precision': 0.42857142857142855, 'recall': 0.75, 'f1-score': 0.5454545454545454, 'support': 4.0}, 'micro avg': {'precision': 0.8654205607476636, 'recall': 0.8955512572533849, 'f1-score': 0.8802281368821293, 'support': 517.0}, 'macro avg': {'precision': 0.6547429261559696, 'recall': 0.5976601297434214, 'f1-score': 0.5942122790977753, 'support': 517.0}, 'weighted avg': {'precision': 0.847167508973707, 'recall': 0.8955512572533849, 'f1-score': 0.8625627205927529, 'support': 517.0}}\n"
     ]
    },
    {
     "name": "stderr",
     "output_type": "stream",
     "text": [
      "/opt/conda/lib/python3.12/site-packages/sklearn/base.py:1389: DataConversionWarning: A column-vector y was passed when a 1d array was expected. Please change the shape of y to (n_samples,), for example using ravel().\n",
      "  return fit_method(estimator, *args, **kwargs)\n"
     ]
    },
    {
     "name": "stdout",
     "output_type": "stream",
     "text": [
      "{'11': {'precision': 0.0, 'recall': 0.0, 'f1-score': 0.0, 'support': 26.0}, '12': {'precision': 0.8836734693877552, 'recall': 0.9954022988505747, 'f1-score': 0.9362162162162162, 'support': 435.0}, '14': {'precision': 0.8, 'recall': 0.35294117647058826, 'f1-score': 0.4897959183673469, 'support': 34.0}, '23': {'precision': 0.0, 'recall': 0.0, 'f1-score': 0.0, 'support': 3.0}, '24': {'precision': 0.6818181818181818, 'recall': 0.75, 'f1-score': 0.7142857142857143, 'support': 20.0}, '25': {'precision': 0.3333333333333333, 'recall': 0.5, 'f1-score': 0.4, 'support': 4.0}, 'micro avg': {'precision': 0.8619402985074627, 'recall': 0.8850574712643678, 'f1-score': 0.8733459357277883, 'support': 522.0}, 'macro avg': {'precision': 0.4498041640898784, 'recall': 0.43305724588686045, 'f1-score': 0.42338297481154624, 'support': 522.0}, 'weighted avg': {'precision': 0.8171794179183341, 'recall': 0.8850574712643678, 'f1-score': 0.8425149991652455, 'support': 522.0}}\n"
     ]
    },
    {
     "name": "stderr",
     "output_type": "stream",
     "text": [
      "/opt/conda/lib/python3.12/site-packages/sklearn/base.py:1389: DataConversionWarning: A column-vector y was passed when a 1d array was expected. Please change the shape of y to (n_samples,), for example using ravel().\n",
      "  return fit_method(estimator, *args, **kwargs)\n"
     ]
    },
    {
     "name": "stdout",
     "output_type": "stream",
     "text": [
      "{'11': {'precision': 0.6666666666666666, 'recall': 0.07692307692307693, 'f1-score': 0.13793103448275862, 'support': 26.0}, '12': {'precision': 0.8580508474576272, 'recall': 0.9310344827586207, 'f1-score': 0.8930540242557883, 'support': 435.0}, '13': {'precision': 1.0, 'recall': 0.09090909090909091, 'f1-score': 0.16666666666666666, 'support': 11.0}, '14': {'precision': 0.7777777777777778, 'recall': 0.20588235294117646, 'f1-score': 0.32558139534883723, 'support': 34.0}, '23': {'precision': 0.0, 'recall': 0.0, 'f1-score': 0.0, 'support': 3.0}, '24': {'precision': 0.6470588235294118, 'recall': 0.55, 'f1-score': 0.5945945945945946, 'support': 20.0}, '25': {'precision': 1.0, 'recall': 0.2, 'f1-score': 0.3333333333333333, 'support': 5.0}, 'micro avg': {'precision': 0.7966417910447762, 'recall': 0.799625468164794, 'f1-score': 0.7981308411214953, 'support': 534.0}, 'macro avg': {'precision': 0.7070791593473548, 'recall': 0.2935355719331379, 'f1-score': 0.3501658640974256, 'support': 534.0}, 'weighted avg': {'precision': 0.8351518218959435, 'recall': 0.799625468164794, 'f1-score': 0.7837572411639925, 'support': 534.0}}\n"
     ]
    },
    {
     "name": "stderr",
     "output_type": "stream",
     "text": [
      "/opt/conda/lib/python3.12/site-packages/sklearn/base.py:1389: DataConversionWarning: A column-vector y was passed when a 1d array was expected. Please change the shape of y to (n_samples,), for example using ravel().\n",
      "  return fit_method(estimator, *args, **kwargs)\n"
     ]
    },
    {
     "name": "stdout",
     "output_type": "stream",
     "text": [
      "{'11': {'precision': 0.0, 'recall': 0.0, 'f1-score': 0.0, 'support': 25.0}, '12': {'precision': 0.8733624454148472, 'recall': 0.9216589861751152, 'f1-score': 0.8968609865470852, 'support': 434.0}, '13': {'precision': 1.0, 'recall': 0.09090909090909091, 'f1-score': 0.16666666666666666, 'support': 11.0}, '14': {'precision': 0.7058823529411765, 'recall': 0.34285714285714286, 'f1-score': 0.46153846153846156, 'support': 35.0}, '23': {'precision': 0.0, 'recall': 0.0, 'f1-score': 0.0, 'support': 4.0}, '24': {'precision': 0.6111111111111112, 'recall': 0.5789473684210527, 'f1-score': 0.5945945945945946, 'support': 19.0}, '25': {'precision': 0.8, 'recall': 0.8, 'f1-score': 0.8, 'support': 5.0}, 'micro avg': {'precision': 0.7985074626865671, 'recall': 0.8030018761726079, 'f1-score': 0.8007483629560337, 'support': 533.0}, 'macro avg': {'precision': 0.5700508442095906, 'recall': 0.39062465548034314, 'f1-score': 0.41709438704954405, 'support': 533.0}, 'weighted avg': {'precision': 0.8074226918838573, 'recall': 0.8030018761726079, 'f1-score': 0.7927244745701909, 'support': 533.0}}\n"
     ]
    },
    {
     "name": "stderr",
     "output_type": "stream",
     "text": [
      "/opt/conda/lib/python3.12/site-packages/sklearn/base.py:1389: DataConversionWarning: A column-vector y was passed when a 1d array was expected. Please change the shape of y to (n_samples,), for example using ravel().\n",
      "  return fit_method(estimator, *args, **kwargs)\n"
     ]
    },
    {
     "name": "stdout",
     "output_type": "stream",
     "text": [
      "{'11': {'precision': 0.7142857142857143, 'recall': 0.2, 'f1-score': 0.3125, 'support': 25.0}, '12': {'precision': 0.8760162601626016, 'recall': 0.9930875576036866, 'f1-score': 0.9308855291576674, 'support': 434.0}, '13': {'precision': 0.0, 'recall': 0.0, 'f1-score': 0.0, 'support': 11.0}, '14': {'precision': 0.6, 'recall': 0.2571428571428571, 'f1-score': 0.36, 'support': 35.0}, '23': {'precision': 1.0, 'recall': 0.25, 'f1-score': 0.4, 'support': 4.0}, '24': {'precision': 0.7058823529411765, 'recall': 0.631578947368421, 'f1-score': 0.6666666666666666, 'support': 19.0}, '25': {'precision': 0.6666666666666666, 'recall': 0.4, 'f1-score': 0.5, 'support': 5.0}, 'micro avg': {'precision': 0.8582089552238806, 'recall': 0.8630393996247655, 'f1-score': 0.8606173994387278, 'support': 533.0}, 'macro avg': {'precision': 0.6518358562937371, 'recall': 0.3902584803021378, 'f1-score': 0.45286459940347623, 'support': 533.0}, 'weighted avg': {'precision': 0.8251281384745359, 'recall': 0.8630393996247655, 'f1-score': 0.8277363720846048, 'support': 533.0}}\n"
     ]
    },
    {
     "name": "stderr",
     "output_type": "stream",
     "text": [
      "/opt/conda/lib/python3.12/site-packages/sklearn/base.py:1389: DataConversionWarning: A column-vector y was passed when a 1d array was expected. Please change the shape of y to (n_samples,), for example using ravel().\n",
      "  return fit_method(estimator, *args, **kwargs)\n"
     ]
    },
    {
     "name": "stdout",
     "output_type": "stream",
     "text": [
      "{'11': {'precision': 0.5, 'recall': 0.23076923076923078, 'f1-score': 0.3157894736842105, 'support': 26.0}, '12': {'precision': 0.8995433789954338, 'recall': 0.9078341013824884, 'f1-score': 0.9036697247706422, 'support': 434.0}, '13': {'precision': 1.0, 'recall': 0.09090909090909091, 'f1-score': 0.16666666666666666, 'support': 11.0}, '14': {'precision': 0.7058823529411765, 'recall': 0.35294117647058826, 'f1-score': 0.47058823529411764, 'support': 34.0}, '23': {'precision': 0.045454545454545456, 'recall': 0.5, 'f1-score': 0.08333333333333333, 'support': 4.0}, '24': {'precision': 0.7727272727272727, 'recall': 0.8947368421052632, 'f1-score': 0.8292682926829268, 'support': 19.0}, '25': {'precision': 0.0, 'recall': 0.0, 'f1-score': 0.0, 'support': 4.0}, 'micro avg': {'precision': 0.8074766355140187, 'recall': 0.8120300751879699, 'f1-score': 0.8097469540768509, 'support': 532.0}, 'macro avg': {'precision': 0.5605153643026327, 'recall': 0.4253129202338088, 'f1-score': 0.39561653234741384, 'support': 532.0}, 'weighted avg': {'precision': 0.8520027497136365, 'recall': 0.8120300751879699, 'f1-score': 0.8164021637103204, 'support': 532.0}}\n"
     ]
    },
    {
     "name": "stderr",
     "output_type": "stream",
     "text": [
      "/opt/conda/lib/python3.12/site-packages/sklearn/base.py:1389: DataConversionWarning: A column-vector y was passed when a 1d array was expected. Please change the shape of y to (n_samples,), for example using ravel().\n",
      "  return fit_method(estimator, *args, **kwargs)\n"
     ]
    },
    {
     "name": "stdout",
     "output_type": "stream",
     "text": [
      "{'11': {'precision': 0.7142857142857143, 'recall': 0.19230769230769232, 'f1-score': 0.30303030303030304, 'support': 26.0}, '12': {'precision': 0.8869565217391304, 'recall': 0.9379310344827586, 'f1-score': 0.911731843575419, 'support': 435.0}, '14': {'precision': 0.75, 'recall': 0.35294117647058826, 'f1-score': 0.48, 'support': 34.0}, '23': {'precision': 0.03333333333333333, 'recall': 0.3333333333333333, 'f1-score': 0.06060606060606061, 'support': 3.0}, '24': {'precision': 0.7894736842105263, 'recall': 0.75, 'f1-score': 0.7692307692307693, 'support': 20.0}, '25': {'precision': 1.0, 'recall': 1.0, 'f1-score': 1.0, 'support': 4.0}, 'micro avg': {'precision': 0.8302238805970149, 'recall': 0.8524904214559387, 'f1-score': 0.8412098298676749, 'support': 522.0}, 'macro avg': {'precision': 0.695674875594784, 'recall': 0.5944188727657288, 'f1-score': 0.5874331627404253, 'support': 522.0}, 'weighted avg': {'precision': 0.8616608988738713, 'recall': 0.8524904214559387, 'f1-score': 0.8436179567059937, 'support': 522.0}}\n"
     ]
    },
    {
     "name": "stderr",
     "output_type": "stream",
     "text": [
      "/opt/conda/lib/python3.12/site-packages/sklearn/base.py:1389: DataConversionWarning: A column-vector y was passed when a 1d array was expected. Please change the shape of y to (n_samples,), for example using ravel().\n",
      "  return fit_method(estimator, *args, **kwargs)\n"
     ]
    },
    {
     "name": "stdout",
     "output_type": "stream",
     "text": [
      "{'11': {'precision': 0.5, 'recall': 0.11538461538461539, 'f1-score': 0.1875, 'support': 26.0}, '12': {'precision': 0.8794642857142857, 'recall': 0.9057471264367816, 'f1-score': 0.8924122310305775, 'support': 435.0}, '14': {'precision': 0.7647058823529411, 'recall': 0.38235294117647056, 'f1-score': 0.5098039215686274, 'support': 34.0}, '23': {'precision': 0.0, 'recall': 0.0, 'f1-score': 0.0, 'support': 3.0}, '24': {'precision': 0.6956521739130435, 'recall': 0.8, 'f1-score': 0.7441860465116279, 'support': 20.0}, '25': {'precision': 0.5, 'recall': 0.2, 'f1-score': 0.2857142857142857, 'support': 5.0}, 'micro avg': {'precision': 0.7966417910447762, 'recall': 0.8164435946462715, 'f1-score': 0.8064211520302171, 'support': 523.0}, 'macro avg': {'precision': 0.5566370569967117, 'recall': 0.40058078049964463, 'f1-score': 0.4366027474708531, 'support': 523.0}, 'weighted avg': {'precision': 0.837437873353681, 'recall': 0.8164435946462715, 'f1-score': 0.8159081189109724, 'support': 523.0}}\n"
     ]
    },
    {
     "name": "stderr",
     "output_type": "stream",
     "text": [
      "/opt/conda/lib/python3.12/site-packages/sklearn/base.py:1389: DataConversionWarning: A column-vector y was passed when a 1d array was expected. Please change the shape of y to (n_samples,), for example using ravel().\n",
      "  return fit_method(estimator, *args, **kwargs)\n"
     ]
    },
    {
     "name": "stdout",
     "output_type": "stream",
     "text": [
      "{'11': {'precision': 0.5, 'recall': 0.16, 'f1-score': 0.24242424242424243, 'support': 25.0}, '12': {'precision': 0.8708971553610503, 'recall': 0.9170506912442397, 'f1-score': 0.8933782267115601, 'support': 434.0}, '14': {'precision': 0.75, 'recall': 0.17142857142857143, 'f1-score': 0.27906976744186046, 'support': 35.0}, '23': {'precision': 0.0, 'recall': 0.0, 'f1-score': 0.0, 'support': 4.0}, '24': {'precision': 0.6190476190476191, 'recall': 0.6842105263157895, 'f1-score': 0.65, 'support': 19.0}, '25': {'precision': 0.3333333333333333, 'recall': 0.2, 'f1-score': 0.25, 'support': 5.0}, 'micro avg': {'precision': 0.7873134328358209, 'recall': 0.8084291187739464, 'f1-score': 0.7977315689981096, 'support': 522.0}, 'macro avg': {'precision': 0.5122130179570005, 'recall': 0.3554482981647668, 'f1-score': 0.3858120394296105, 'support': 522.0}, 'weighted avg': {'precision': 0.8240381932093243, 'recall': 0.8084291187739464, 'f1-score': 0.7991459737813952, 'support': 522.0}}\n"
     ]
    },
    {
     "name": "stderr",
     "output_type": "stream",
     "text": [
      "/opt/conda/lib/python3.12/site-packages/sklearn/base.py:1389: DataConversionWarning: A column-vector y was passed when a 1d array was expected. Please change the shape of y to (n_samples,), for example using ravel().\n",
      "  return fit_method(estimator, *args, **kwargs)\n"
     ]
    },
    {
     "name": "stdout",
     "output_type": "stream",
     "text": [
      "{'11': {'precision': 0.6, 'recall': 0.12, 'f1-score': 0.2, 'support': 25.0}, '12': {'precision': 0.879837067209776, 'recall': 0.9953917050691244, 'f1-score': 0.9340540540540541, 'support': 434.0}, '14': {'precision': 0.7894736842105263, 'recall': 0.42857142857142855, 'f1-score': 0.5555555555555556, 'support': 35.0}, '23': {'precision': 1.0, 'recall': 0.5, 'f1-score': 0.6666666666666666, 'support': 4.0}, '24': {'precision': 0.7333333333333333, 'recall': 0.5789473684210527, 'f1-score': 0.6470588235294118, 'support': 19.0}, '25': {'precision': 0.75, 'recall': 0.6, 'f1-score': 0.6666666666666666, 'support': 5.0}, 'micro avg': {'precision': 0.8694029850746269, 'recall': 0.89272030651341, 'f1-score': 0.8809073724007561, 'support': 522.0}, 'macro avg': {'precision': 0.7921073474589392, 'recall': 0.537151750343601, 'f1-score': 0.6116669610787258, 'support': 522.0}, 'weighted avg': {'precision': 0.8547206886010432, 'recall': 0.89272030651341, 'f1-score': 0.8584636428179363, 'support': 522.0}}\n"
     ]
    },
    {
     "name": "stderr",
     "output_type": "stream",
     "text": [
      "/opt/conda/lib/python3.12/site-packages/sklearn/base.py:1389: DataConversionWarning: A column-vector y was passed when a 1d array was expected. Please change the shape of y to (n_samples,), for example using ravel().\n",
      "  return fit_method(estimator, *args, **kwargs)\n"
     ]
    },
    {
     "name": "stdout",
     "output_type": "stream",
     "text": [
      "{'11': {'precision': 0.6666666666666666, 'recall': 0.07692307692307693, 'f1-score': 0.13793103448275862, 'support': 26.0}, '12': {'precision': 0.8722109533468559, 'recall': 0.9907834101382489, 'f1-score': 0.9277238403451996, 'support': 434.0}, '14': {'precision': 0.5555555555555556, 'recall': 0.29411764705882354, 'f1-score': 0.38461538461538464, 'support': 34.0}, '23': {'precision': 0.0, 'recall': 0.0, 'f1-score': 0.0, 'support': 4.0}, '24': {'precision': 0.7368421052631579, 'recall': 0.7368421052631579, 'f1-score': 0.7368421052631579, 'support': 19.0}, '25': {'precision': 1.0, 'recall': 0.25, 'f1-score': 0.4, 'support': 4.0}, 'micro avg': {'precision': 0.8542056074766355, 'recall': 0.8771593090211133, 'f1-score': 0.865530303030303, 'support': 521.0}, 'macro avg': {'precision': 0.638545880138706, 'recall': 0.3914443732305512, 'f1-score': 0.4311853941177501, 'support': 521.0}, 'weighted avg': {'precision': 0.8306368060935848, 'recall': 0.8771593090211133, 'f1-score': 0.8347318170504635, 'support': 521.0}}\n"
     ]
    },
    {
     "name": "stderr",
     "output_type": "stream",
     "text": [
      "/opt/conda/lib/python3.12/site-packages/sklearn/base.py:1389: DataConversionWarning: A column-vector y was passed when a 1d array was expected. Please change the shape of y to (n_samples,), for example using ravel().\n",
      "  return fit_method(estimator, *args, **kwargs)\n"
     ]
    },
    {
     "name": "stdout",
     "output_type": "stream",
     "text": [
      "{'11': {'precision': 1.0, 'recall': 0.2692307692307692, 'f1-score': 0.42424242424242425, 'support': 26.0}, '12': {'precision': 0.8771551724137931, 'recall': 0.9356321839080459, 'f1-score': 0.9054505005561735, 'support': 435.0}, '14': {'precision': 0.6428571428571429, 'recall': 0.2647058823529412, 'f1-score': 0.375, 'support': 34.0}, '23': {'precision': 0.0, 'recall': 0.0, 'f1-score': 0.0, 'support': 3.0}, '24': {'precision': 0.5, 'recall': 0.45, 'f1-score': 0.47368421052631576, 'support': 20.0}, '25': {'precision': 0.6666666666666666, 'recall': 0.5, 'f1-score': 0.5714285714285714, 'support': 4.0}, 'micro avg': {'precision': 0.8097014925373134, 'recall': 0.8314176245210728, 'f1-score': 0.8204158790170132, 'support': 522.0}, 'macro avg': {'precision': 0.6144464969896004, 'recall': 0.4032614725819594, 'f1-score': 0.4583009511255809, 'support': 522.0}, 'weighted avg': {'precision': 0.846908638934501, 'recall': 0.8314176245210728, 'f1-score': 0.8226258031963201, 'support': 522.0}}\n"
     ]
    },
    {
     "name": "stderr",
     "output_type": "stream",
     "text": [
      "/opt/conda/lib/python3.12/site-packages/sklearn/base.py:1389: DataConversionWarning: A column-vector y was passed when a 1d array was expected. Please change the shape of y to (n_samples,), for example using ravel().\n",
      "  return fit_method(estimator, *args, **kwargs)\n"
     ]
    },
    {
     "name": "stdout",
     "output_type": "stream",
     "text": [
      "{'11': {'precision': 0.3333333333333333, 'recall': 0.07692307692307693, 'f1-score': 0.125, 'support': 26.0}, '12': {'precision': 0.8878923766816144, 'recall': 0.9103448275862069, 'f1-score': 0.8989784335981839, 'support': 435.0}, '14': {'precision': 0.6666666666666666, 'recall': 0.35294117647058826, 'f1-score': 0.46153846153846156, 'support': 34.0}, '23': {'precision': 0.025, 'recall': 0.3333333333333333, 'f1-score': 0.046511627906976744, 'support': 3.0}, '24': {'precision': 0.7391304347826086, 'recall': 0.85, 'f1-score': 0.7906976744186046, 'support': 20.0}, '25': {'precision': 0.3333333333333333, 'recall': 0.2, 'f1-score': 0.25, 'support': 5.0}, 'micro avg': {'precision': 0.8003731343283582, 'recall': 0.8202676864244742, 'f1-score': 0.8101983002832861, 'support': 523.0}, 'macro avg': {'precision': 0.49755935746625934, 'recall': 0.4539237357188676, 'f1-score': 0.42878769957703783, 'support': 523.0}, 'weighted avg': {'precision': 0.8300015153960889, 'recall': 0.8202676864244742, 'f1-score': 0.8168287087564259, 'support': 523.0}}\n"
     ]
    },
    {
     "name": "stderr",
     "output_type": "stream",
     "text": [
      "/opt/conda/lib/python3.12/site-packages/sklearn/base.py:1389: DataConversionWarning: A column-vector y was passed when a 1d array was expected. Please change the shape of y to (n_samples,), for example using ravel().\n",
      "  return fit_method(estimator, *args, **kwargs)\n"
     ]
    },
    {
     "name": "stdout",
     "output_type": "stream",
     "text": [
      "{'11': {'precision': 0.7142857142857143, 'recall': 0.2, 'f1-score': 0.3125, 'support': 25.0}, '12': {'precision': 0.8790983606557377, 'recall': 0.988479262672811, 'f1-score': 0.93058568329718, 'support': 434.0}, '13': {'precision': 1.0, 'recall': 0.18181818181818182, 'f1-score': 0.3076923076923077, 'support': 11.0}, '14': {'precision': 0.6428571428571429, 'recall': 0.2571428571428571, 'f1-score': 0.3673469387755102, 'support': 35.0}, '24': {'precision': 0.782608695652174, 'recall': 0.9473684210526315, 'f1-score': 0.8571428571428571, 'support': 19.0}, '25': {'precision': 1.0, 'recall': 0.4, 'f1-score': 0.5714285714285714, 'support': 5.0}, 'micro avg': {'precision': 0.8675373134328358, 'recall': 0.8790170132325141, 'f1-score': 0.8732394366197183, 'support': 529.0}, 'macro avg': {'precision': 0.8364749855751281, 'recall': 0.49580145378108026, 'f1-score': 0.5577827263894043, 'support': 529.0}, 'weighted avg': {'precision': 0.855870314932182, 'recall': 0.8790170132325141, 'f1-score': 0.8451253344718175, 'support': 529.0}}\n"
     ]
    },
    {
     "name": "stderr",
     "output_type": "stream",
     "text": [
      "/opt/conda/lib/python3.12/site-packages/sklearn/base.py:1389: DataConversionWarning: A column-vector y was passed when a 1d array was expected. Please change the shape of y to (n_samples,), for example using ravel().\n",
      "  return fit_method(estimator, *args, **kwargs)\n"
     ]
    },
    {
     "name": "stdout",
     "output_type": "stream",
     "text": [
      "{'11': {'precision': 0.6, 'recall': 0.24, 'f1-score': 0.34285714285714286, 'support': 25.0}, '12': {'precision': 0.8786008230452675, 'recall': 0.9838709677419355, 'f1-score': 0.9282608695652174, 'support': 434.0}, '13': {'precision': 1.0, 'recall': 0.09090909090909091, 'f1-score': 0.16666666666666666, 'support': 11.0}, '14': {'precision': 0.6875, 'recall': 0.3142857142857143, 'f1-score': 0.43137254901960786, 'support': 35.0}, '23': {'precision': 1.0, 'recall': 0.25, 'f1-score': 0.4, 'support': 4.0}, '24': {'precision': 0.7058823529411765, 'recall': 0.631578947368421, 'f1-score': 0.6666666666666666, 'support': 19.0}, '25': {'precision': 0.6, 'recall': 0.6, 'f1-score': 0.6, 'support': 5.0}, 'micro avg': {'precision': 0.8600746268656716, 'recall': 0.8649155722326454, 'f1-score': 0.862488306828812, 'support': 533.0}, 'macro avg': {'precision': 0.7817118822837777, 'recall': 0.44437781718645164, 'f1-score': 0.5051176992536145, 'support': 533.0}, 'weighted avg': {'precision': 0.8476304350985525, 'recall': 0.8649155722326454, 'f1-score': 0.8360875894529441, 'support': 533.0}}\n"
     ]
    },
    {
     "name": "stderr",
     "output_type": "stream",
     "text": [
      "/opt/conda/lib/python3.12/site-packages/sklearn/base.py:1389: DataConversionWarning: A column-vector y was passed when a 1d array was expected. Please change the shape of y to (n_samples,), for example using ravel().\n",
      "  return fit_method(estimator, *args, **kwargs)\n"
     ]
    },
    {
     "name": "stdout",
     "output_type": "stream",
     "text": [
      "{'11': {'precision': 0.4444444444444444, 'recall': 0.15384615384615385, 'f1-score': 0.22857142857142856, 'support': 26.0}, '12': {'precision': 0.8813186813186813, 'recall': 0.923963133640553, 'f1-score': 0.9021372328458943, 'support': 434.0}, '14': {'precision': 0.8125, 'recall': 0.38235294117647056, 'f1-score': 0.52, 'support': 34.0}, '23': {'precision': 0.027777777777777776, 'recall': 0.25, 'f1-score': 0.05, 'support': 4.0}, '24': {'precision': 0.8125, 'recall': 0.6842105263157895, 'f1-score': 0.7428571428571429, 'support': 19.0}, '25': {'precision': 0.3333333333333333, 'recall': 0.25, 'f1-score': 0.2857142857142857, 'support': 4.0}, 'micro avg': {'precision': 0.8093457943925234, 'recall': 0.8310940499040307, 'f1-score': 0.8200757575757576, 'support': 521.0}, 'macro avg': {'precision': 0.5519790394790395, 'recall': 0.4407287924964945, 'f1-score': 0.4548800149981253, 'support': 521.0}, 'weighted avg': {'precision': 0.8417558688911855, 'recall': 0.8310940499040307, 'f1-score': 0.8265020327353514, 'support': 521.0}}\n"
     ]
    },
    {
     "name": "stderr",
     "output_type": "stream",
     "text": [
      "/opt/conda/lib/python3.12/site-packages/sklearn/base.py:1389: DataConversionWarning: A column-vector y was passed when a 1d array was expected. Please change the shape of y to (n_samples,), for example using ravel().\n",
      "  return fit_method(estimator, *args, **kwargs)\n"
     ]
    },
    {
     "name": "stdout",
     "output_type": "stream",
     "text": [
      "{'11': {'precision': 1.0, 'recall': 0.11538461538461539, 'f1-score': 0.20689655172413793, 'support': 26.0}, '12': {'precision': 0.8840262582056893, 'recall': 0.9287356321839081, 'f1-score': 0.905829596412556, 'support': 435.0}, '13': {'precision': 1.0, 'recall': 0.16666666666666666, 'f1-score': 0.2857142857142857, 'support': 12.0}, '14': {'precision': 0.6190476190476191, 'recall': 0.38235294117647056, 'f1-score': 0.4727272727272727, 'support': 34.0}, '23': {'precision': 0.03125, 'recall': 0.3333333333333333, 'f1-score': 0.05714285714285714, 'support': 3.0}, '24': {'precision': 0.7222222222222222, 'recall': 0.65, 'f1-score': 0.6842105263157895, 'support': 20.0}, '25': {'precision': 1.0, 'recall': 0.75, 'f1-score': 0.8571428571428571, 'support': 4.0}, 'micro avg': {'precision': 0.8190298507462687, 'recall': 0.8220973782771536, 'f1-score': 0.8205607476635514, 'support': 534.0}, 'macro avg': {'precision': 0.7509351570679329, 'recall': 0.47521045553499913, 'f1-score': 0.4956662781685366, 'support': 534.0}, 'weighted avg': {'precision': 0.8654255352275999, 'recall': 0.8220973782771536, 'f1-score': 0.8168552322320298, 'support': 534.0}}\n"
     ]
    },
    {
     "name": "stderr",
     "output_type": "stream",
     "text": [
      "/opt/conda/lib/python3.12/site-packages/sklearn/base.py:1389: DataConversionWarning: A column-vector y was passed when a 1d array was expected. Please change the shape of y to (n_samples,), for example using ravel().\n",
      "  return fit_method(estimator, *args, **kwargs)\n"
     ]
    },
    {
     "name": "stdout",
     "output_type": "stream",
     "text": [
      "{'11': {'precision': 0.4, 'recall': 0.07692307692307693, 'f1-score': 0.12903225806451613, 'support': 26.0}, '12': {'precision': 0.8762677484787018, 'recall': 0.993103448275862, 'f1-score': 0.9310344827586207, 'support': 435.0}, '14': {'precision': 0.7, 'recall': 0.20588235294117646, 'f1-score': 0.3181818181818182, 'support': 34.0}, '22': {'precision': 0.0, 'recall': 0.0, 'f1-score': 0.0, 'support': 1.0}, '23': {'precision': 1.0, 'recall': 0.3333333333333333, 'f1-score': 0.5, 'support': 3.0}, '24': {'precision': 0.6666666666666666, 'recall': 0.7, 'f1-score': 0.6829268292682927, 'support': 20.0}, '25': {'precision': 0.4, 'recall': 0.4, 'f1-score': 0.4, 'support': 5.0}, 'micro avg': {'precision': 0.8544776119402985, 'recall': 0.8740458015267175, 'f1-score': 0.8641509433962264, 'support': 524.0}, 'macro avg': {'precision': 0.5775620593064812, 'recall': 0.3870346016390641, 'f1-score': 0.4230250554676068, 'support': 524.0}, 'weighted avg': {'precision': 0.8276904654991767, 'recall': 0.8740458015267175, 'f1-score': 0.8326938112847808, 'support': 524.0}}\n"
     ]
    },
    {
     "name": "stderr",
     "output_type": "stream",
     "text": [
      "/opt/conda/lib/python3.12/site-packages/sklearn/base.py:1389: DataConversionWarning: A column-vector y was passed when a 1d array was expected. Please change the shape of y to (n_samples,), for example using ravel().\n",
      "  return fit_method(estimator, *args, **kwargs)\n"
     ]
    },
    {
     "name": "stdout",
     "output_type": "stream",
     "text": [
      "{'11': {'precision': 0.25, 'recall': 0.04, 'f1-score': 0.06896551724137931, 'support': 25.0}, '12': {'precision': 0.8724696356275303, 'recall': 0.9930875576036866, 'f1-score': 0.9288793103448276, 'support': 434.0}, '13': {'precision': 1.0, 'recall': 0.09090909090909091, 'f1-score': 0.16666666666666666, 'support': 11.0}, '14': {'precision': 0.6923076923076923, 'recall': 0.2571428571428571, 'f1-score': 0.375, 'support': 35.0}, '23': {'precision': 0.0, 'recall': 0.0, 'f1-score': 0.0, 'support': 4.0}, '24': {'precision': 0.6666666666666666, 'recall': 0.7368421052631579, 'f1-score': 0.7, 'support': 19.0}, '25': {'precision': 1.0, 'recall': 0.4, 'f1-score': 0.5714285714285714, 'support': 5.0}, 'micro avg': {'precision': 0.8544776119402985, 'recall': 0.8592870544090057, 'f1-score': 0.8568755846585594, 'support': 533.0}, 'macro avg': {'precision': 0.640206284943127, 'recall': 0.3597116587026846, 'f1-score': 0.40156286652592066, 'support': 533.0}, 'weighted avg': {'precision': 0.8213869751590696, 'recall': 0.8592870544090057, 'f1-score': 0.8179610409215118, 'support': 533.0}}\n"
     ]
    },
    {
     "name": "stderr",
     "output_type": "stream",
     "text": [
      "/opt/conda/lib/python3.12/site-packages/sklearn/base.py:1389: DataConversionWarning: A column-vector y was passed when a 1d array was expected. Please change the shape of y to (n_samples,), for example using ravel().\n",
      "  return fit_method(estimator, *args, **kwargs)\n"
     ]
    },
    {
     "name": "stdout",
     "output_type": "stream",
     "text": [
      "{'11': {'precision': 1.0, 'recall': 0.08, 'f1-score': 0.14814814814814814, 'support': 25.0}, '12': {'precision': 0.8609271523178808, 'recall': 0.8986175115207373, 'f1-score': 0.8793686583990981, 'support': 434.0}, '13': {'precision': 0.0, 'recall': 0.0, 'f1-score': 0.0, 'support': 11.0}, '14': {'precision': 0.6666666666666666, 'recall': 0.2857142857142857, 'f1-score': 0.4, 'support': 35.0}, '23': {'precision': 0.021739130434782608, 'recall': 0.25, 'f1-score': 0.04, 'support': 4.0}, '24': {'precision': 0.8, 'recall': 0.631578947368421, 'f1-score': 0.7058823529411765, 'support': 19.0}, '25': {'precision': 0.5, 'recall': 0.4, 'f1-score': 0.4444444444444444, 'support': 5.0}, 'micro avg': {'precision': 0.7779850746268657, 'recall': 0.7823639774859287, 'f1-score': 0.7801683816651076, 'support': 533.0}, 'macro avg': {'precision': 0.5499047070599044, 'recall': 0.3637015349433491, 'f1-score': 0.37397765770469527, 'support': 533.0}, 'weighted avg': {'precision': 0.8250706828537198, 'recall': 0.7823639774859287, 'f1-score': 0.7788812164671987, 'support': 533.0}}\n"
     ]
    },
    {
     "name": "stderr",
     "output_type": "stream",
     "text": [
      "/opt/conda/lib/python3.12/site-packages/sklearn/base.py:1389: DataConversionWarning: A column-vector y was passed when a 1d array was expected. Please change the shape of y to (n_samples,), for example using ravel().\n",
      "  return fit_method(estimator, *args, **kwargs)\n"
     ]
    },
    {
     "name": "stdout",
     "output_type": "stream",
     "text": [
      "{'11': {'precision': 0.625, 'recall': 0.19230769230769232, 'f1-score': 0.29411764705882354, 'support': 26.0}, '12': {'precision': 0.8864142538975501, 'recall': 0.9170506912442397, 'f1-score': 0.9014722536806342, 'support': 434.0}, '14': {'precision': 0.5384615384615384, 'recall': 0.20588235294117646, 'f1-score': 0.2978723404255319, 'support': 34.0}, '23': {'precision': 0.02564102564102564, 'recall': 0.25, 'f1-score': 0.046511627906976744, 'support': 4.0}, '24': {'precision': 0.6363636363636364, 'recall': 0.7368421052631579, 'f1-score': 0.6829268292682927, 'support': 19.0}, '25': {'precision': 0.25, 'recall': 0.25, 'f1-score': 0.25, 'support': 4.0}, 'micro avg': {'precision': 0.7962616822429907, 'recall': 0.817658349328215, 'f1-score': 0.8068181818181818, 'support': 521.0}, 'macro avg': {'precision': 0.4936467423939584, 'recall': 0.4253471402927111, 'f1-score': 0.4121501163900432, 'support': 521.0}, 'weighted avg': {'precision': 0.8300478919245725, 'recall': 0.817658349328215, 'f1-score': 0.8122367231537778, 'support': 521.0}}\n"
     ]
    },
    {
     "name": "stderr",
     "output_type": "stream",
     "text": [
      "/opt/conda/lib/python3.12/site-packages/sklearn/base.py:1389: DataConversionWarning: A column-vector y was passed when a 1d array was expected. Please change the shape of y to (n_samples,), for example using ravel().\n",
      "  return fit_method(estimator, *args, **kwargs)\n"
     ]
    },
    {
     "name": "stdout",
     "output_type": "stream",
     "text": [
      "{'11': {'precision': 0.625, 'recall': 0.19230769230769232, 'f1-score': 0.29411764705882354, 'support': 26.0}, '12': {'precision': 0.8836734693877552, 'recall': 0.9954022988505747, 'f1-score': 0.9362162162162162, 'support': 435.0}, '13': {'precision': 1.0, 'recall': 0.08333333333333333, 'f1-score': 0.15384615384615385, 'support': 12.0}, '14': {'precision': 0.7647058823529411, 'recall': 0.38235294117647056, 'f1-score': 0.5098039215686274, 'support': 34.0}, '24': {'precision': 0.8947368421052632, 'recall': 0.85, 'f1-score': 0.8717948717948718, 'support': 20.0}, '25': {'precision': 1.0, 'recall': 0.25, 'f1-score': 0.4, 'support': 4.0}, 'micro avg': {'precision': 0.8768656716417911, 'recall': 0.8851224105461394, 'f1-score': 0.8809746954076851, 'support': 531.0}, 'macro avg': {'precision': 0.8613526989743265, 'recall': 0.4588993776113452, 'f1-score': 0.5276298017474488, 'support': 531.0}, 'weighted avg': {'precision': 0.8673120452462877, 'recall': 0.8851224105461394, 'f1-score': 0.8533267372748928, 'support': 531.0}}\n"
     ]
    },
    {
     "name": "stderr",
     "output_type": "stream",
     "text": [
      "/opt/conda/lib/python3.12/site-packages/sklearn/base.py:1389: DataConversionWarning: A column-vector y was passed when a 1d array was expected. Please change the shape of y to (n_samples,), for example using ravel().\n",
      "  return fit_method(estimator, *args, **kwargs)\n"
     ]
    },
    {
     "name": "stdout",
     "output_type": "stream",
     "text": [
      "{'11': {'precision': 1.0, 'recall': 0.15384615384615385, 'f1-score': 0.26666666666666666, 'support': 26.0}, '12': {'precision': 0.8766233766233766, 'recall': 0.9310344827586207, 'f1-score': 0.903010033444816, 'support': 435.0}, '14': {'precision': 0.6666666666666666, 'recall': 0.23529411764705882, 'f1-score': 0.34782608695652173, 'support': 34.0}, '23': {'precision': 0.0, 'recall': 0.0, 'f1-score': 0.0, 'support': 3.0}, '24': {'precision': 0.6956521739130435, 'recall': 0.8, 'f1-score': 0.7441860465116279, 'support': 20.0}, '25': {'precision': 1.0, 'recall': 0.2, 'f1-score': 0.3333333333333333, 'support': 5.0}, 'micro avg': {'precision': 0.8097014925373134, 'recall': 0.8298279158699808, 'f1-score': 0.8196411709159585, 'support': 523.0}, 'macro avg': {'precision': 0.7064903695338479, 'recall': 0.3866957923753056, 'f1-score': 0.4325036944854943, 'support': 523.0}, 'weighted avg': {'precision': 0.8583382007191136, 'recall': 0.8298279158699808, 'f1-score': 0.8185835037002855, 'support': 523.0}}\n"
     ]
    },
    {
     "name": "stderr",
     "output_type": "stream",
     "text": [
      "/opt/conda/lib/python3.12/site-packages/sklearn/base.py:1389: DataConversionWarning: A column-vector y was passed when a 1d array was expected. Please change the shape of y to (n_samples,), for example using ravel().\n",
      "  return fit_method(estimator, *args, **kwargs)\n"
     ]
    },
    {
     "name": "stdout",
     "output_type": "stream",
     "text": [
      "{'11': {'precision': 0.3333333333333333, 'recall': 0.04, 'f1-score': 0.07142857142857142, 'support': 25.0}, '12': {'precision': 0.8709677419354839, 'recall': 0.9953917050691244, 'f1-score': 0.9290322580645162, 'support': 434.0}, '14': {'precision': 0.7857142857142857, 'recall': 0.3142857142857143, 'f1-score': 0.4489795918367347, 'support': 35.0}, '22': {'precision': 0.0, 'recall': 0.0, 'f1-score': 0.0, 'support': 2.0}, '23': {'precision': 1.0, 'recall': 0.25, 'f1-score': 0.4, 'support': 4.0}, '24': {'precision': 0.5263157894736842, 'recall': 0.5263157894736842, 'f1-score': 0.5263157894736842, 'support': 19.0}, '25': {'precision': 1.0, 'recall': 0.4, 'f1-score': 0.5714285714285714, 'support': 5.0}, 'micro avg': {'precision': 0.8526119402985075, 'recall': 0.8721374045801527, 'f1-score': 0.8622641509433963, 'support': 524.0}, 'macro avg': {'precision': 0.6451901643509697, 'recall': 0.3608561726897889, 'f1-score': 0.4210263974617255, 'support': 524.0}, 'weighted avg': {'precision': 0.8260178117048346, 'recall': 0.8721374045801527, 'f1-score': 0.8304525627044712, 'support': 524.0}}\n"
     ]
    },
    {
     "name": "stderr",
     "output_type": "stream",
     "text": [
      "/opt/conda/lib/python3.12/site-packages/sklearn/base.py:1389: DataConversionWarning: A column-vector y was passed when a 1d array was expected. Please change the shape of y to (n_samples,), for example using ravel().\n",
      "  return fit_method(estimator, *args, **kwargs)\n"
     ]
    },
    {
     "name": "stdout",
     "output_type": "stream",
     "text": [
      "{'11': {'precision': 0.3333333333333333, 'recall': 0.12, 'f1-score': 0.17647058823529413, 'support': 25.0}, '12': {'precision': 0.8869565217391304, 'recall': 0.9400921658986175, 'f1-score': 0.912751677852349, 'support': 434.0}, '14': {'precision': 0.6428571428571429, 'recall': 0.2571428571428571, 'f1-score': 0.3673469387755102, 'support': 35.0}, '23': {'precision': 0.0, 'recall': 0.0, 'f1-score': 0.0, 'support': 4.0}, '24': {'precision': 0.65, 'recall': 0.6842105263157895, 'f1-score': 0.6666666666666666, 'support': 19.0}, '25': {'precision': 0.3333333333333333, 'recall': 0.2, 'f1-score': 0.25, 'support': 5.0}, 'micro avg': {'precision': 0.8097014925373134, 'recall': 0.8314176245210728, 'f1-score': 0.8204158790170132, 'support': 522.0}, 'macro avg': {'precision': 0.4744133885438233, 'recall': 0.36690759155954406, 'f1-score': 0.39553931192163666, 'support': 522.0}, 'weighted avg': {'precision': 0.8233508245877061, 'recall': 0.8314176245210728, 'f1-score': 0.8186203111448493, 'support': 522.0}}\n"
     ]
    },
    {
     "name": "stderr",
     "output_type": "stream",
     "text": [
      "/opt/conda/lib/python3.12/site-packages/sklearn/base.py:1389: DataConversionWarning: A column-vector y was passed when a 1d array was expected. Please change the shape of y to (n_samples,), for example using ravel().\n",
      "  return fit_method(estimator, *args, **kwargs)\n"
     ]
    },
    {
     "name": "stdout",
     "output_type": "stream",
     "text": [
      "{'11': {'precision': 0.45454545454545453, 'recall': 0.19230769230769232, 'f1-score': 0.2702702702702703, 'support': 26.0}, '12': {'precision': 0.8769574944071589, 'recall': 0.9032258064516129, 'f1-score': 0.8898978433598184, 'support': 434.0}, '13': {'precision': 1.0, 'recall': 0.09090909090909091, 'f1-score': 0.16666666666666666, 'support': 11.0}, '14': {'precision': 0.5625, 'recall': 0.2647058823529412, 'f1-score': 0.36, 'support': 34.0}, '23': {'precision': 0.0, 'recall': 0.0, 'f1-score': 0.0, 'support': 4.0}, '24': {'precision': 0.8571428571428571, 'recall': 0.631578947368421, 'f1-score': 0.7272727272727273, 'support': 19.0}, '25': {'precision': 0.75, 'recall': 0.75, 'f1-score': 0.75, 'support': 4.0}, 'micro avg': {'precision': 0.788785046728972, 'recall': 0.793233082706767, 'f1-score': 0.7910028116213683, 'support': 532.0}, 'macro avg': {'precision': 0.6430208294422101, 'recall': 0.40467534562710833, 'f1-score': 0.45201535822421185, 'support': 532.0}, 'weighted avg': {'precision': 0.8305046027755696, 'recall': 0.793233082706767, 'f1-score': 0.7972447484900439, 'support': 532.0}}\n"
     ]
    },
    {
     "name": "stderr",
     "output_type": "stream",
     "text": [
      "/opt/conda/lib/python3.12/site-packages/sklearn/base.py:1389: DataConversionWarning: A column-vector y was passed when a 1d array was expected. Please change the shape of y to (n_samples,), for example using ravel().\n",
      "  return fit_method(estimator, *args, **kwargs)\n"
     ]
    },
    {
     "name": "stdout",
     "output_type": "stream",
     "text": [
      "{'11': {'precision': 0.5714285714285714, 'recall': 0.15384615384615385, 'f1-score': 0.24242424242424243, 'support': 26.0}, '12': {'precision': 0.8913525498891353, 'recall': 0.9241379310344827, 'f1-score': 0.90744920993228, 'support': 435.0}, '13': {'precision': 1.0, 'recall': 0.08333333333333333, 'f1-score': 0.15384615384615385, 'support': 12.0}, '14': {'precision': 0.5882352941176471, 'recall': 0.29411764705882354, 'f1-score': 0.39215686274509803, 'support': 34.0}, '23': {'precision': 0.030303030303030304, 'recall': 0.3333333333333333, 'f1-score': 0.05555555555555555, 'support': 3.0}, '24': {'precision': 0.75, 'recall': 0.75, 'f1-score': 0.75, 'support': 20.0}, '25': {'precision': 0.2857142857142857, 'recall': 0.5, 'f1-score': 0.36363636363636365, 'support': 4.0}, 'micro avg': {'precision': 0.8115671641791045, 'recall': 0.8146067415730337, 'f1-score': 0.8130841121495327, 'support': 534.0}, 'macro avg': {'precision': 0.58814767592181, 'recall': 0.4341097712294467, 'f1-score': 0.4092954840199562, 'support': 534.0}, 'weighted avg': {'precision': 0.8442495660911665, 'recall': 0.8146067415730337, 'f1-score': 0.8105695429293472, 'support': 534.0}}\n"
     ]
    },
    {
     "name": "stderr",
     "output_type": "stream",
     "text": [
      "/opt/conda/lib/python3.12/site-packages/sklearn/base.py:1389: DataConversionWarning: A column-vector y was passed when a 1d array was expected. Please change the shape of y to (n_samples,), for example using ravel().\n",
      "  return fit_method(estimator, *args, **kwargs)\n"
     ]
    },
    {
     "name": "stdout",
     "output_type": "stream",
     "text": [
      "{'11': {'precision': 0.42857142857142855, 'recall': 0.11538461538461539, 'f1-score': 0.18181818181818182, 'support': 26.0}, '12': {'precision': 0.8758029978586723, 'recall': 0.9402298850574713, 'f1-score': 0.9068736141906873, 'support': 435.0}, '14': {'precision': 0.625, 'recall': 0.14705882352941177, 'f1-score': 0.23809523809523808, 'support': 34.0}, '23': {'precision': 0.03225806451612903, 'recall': 0.3333333333333333, 'f1-score': 0.058823529411764705, 'support': 3.0}, '24': {'precision': 0.6666666666666666, 'recall': 0.7, 'f1-score': 0.6829268292682927, 'support': 20.0}, '25': {'precision': 0.5, 'recall': 0.2, 'f1-score': 0.2857142857142857, 'support': 5.0}, 'micro avg': {'precision': 0.8078358208955224, 'recall': 0.8279158699808795, 'f1-score': 0.817752596789424, 'support': 523.0}, 'macro avg': {'precision': 0.5213831929354827, 'recall': 0.4060011095508053, 'f1-score': 0.39237527974974173, 'support': 523.0}, 'weighted avg': {'precision': 0.8208360778934252, 'recall': 0.8279158699808795, 'f1-score': 0.8079849170126816, 'support': 523.0}}\n"
     ]
    },
    {
     "name": "stderr",
     "output_type": "stream",
     "text": [
      "/opt/conda/lib/python3.12/site-packages/sklearn/base.py:1389: DataConversionWarning: A column-vector y was passed when a 1d array was expected. Please change the shape of y to (n_samples,), for example using ravel().\n",
      "  return fit_method(estimator, *args, **kwargs)\n"
     ]
    },
    {
     "name": "stdout",
     "output_type": "stream",
     "text": [
      "{'11': {'precision': 0.6666666666666666, 'recall': 0.16, 'f1-score': 0.25806451612903225, 'support': 25.0}, '12': {'precision': 0.8744493392070485, 'recall': 0.9147465437788018, 'f1-score': 0.8941441441441441, 'support': 434.0}, '14': {'precision': 0.7058823529411765, 'recall': 0.34285714285714286, 'f1-score': 0.46153846153846156, 'support': 35.0}, '22': {'precision': 0.0, 'recall': 0.0, 'f1-score': 0.0, 'support': 2.0}, '23': {'precision': 0.02564102564102564, 'recall': 0.25, 'f1-score': 0.046511627906976744, 'support': 4.0}, '24': {'precision': 0.5882352941176471, 'recall': 0.5263157894736842, 'f1-score': 0.5555555555555556, 'support': 19.0}, '25': {'precision': 1.0, 'recall': 0.4, 'f1-score': 0.5714285714285714, 'support': 5.0}, 'micro avg': {'precision': 0.7947761194029851, 'recall': 0.8129770992366412, 'f1-score': 0.8037735849056604, 'support': 524.0}, 'macro avg': {'precision': 0.5515535255105092, 'recall': 0.3705599251585184, 'f1-score': 0.39817755381467734, 'support': 524.0}, 'weighted avg': {'precision': 0.8342797651264624, 'recall': 0.8129770992366412, 'f1-score': 0.8096617605724367, 'support': 524.0}}\n"
     ]
    },
    {
     "name": "stderr",
     "output_type": "stream",
     "text": [
      "/opt/conda/lib/python3.12/site-packages/sklearn/base.py:1389: DataConversionWarning: A column-vector y was passed when a 1d array was expected. Please change the shape of y to (n_samples,), for example using ravel().\n",
      "  return fit_method(estimator, *args, **kwargs)\n"
     ]
    },
    {
     "name": "stdout",
     "output_type": "stream",
     "text": [
      "{'11': {'precision': 0.5, 'recall': 0.12, 'f1-score': 0.1935483870967742, 'support': 25.0}, '12': {'precision': 0.8818737270875764, 'recall': 0.9976958525345622, 'f1-score': 0.9362162162162162, 'support': 434.0}, '14': {'precision': 0.8, 'recall': 0.34285714285714286, 'f1-score': 0.48, 'support': 35.0}, '23': {'precision': 0.0, 'recall': 0.0, 'f1-score': 0.0, 'support': 4.0}, '24': {'precision': 0.6666666666666666, 'recall': 0.7368421052631579, 'f1-score': 0.7, 'support': 19.0}, '25': {'precision': 0.5, 'recall': 0.2, 'f1-score': 0.2857142857142857, 'support': 5.0}, 'micro avg': {'precision': 0.8638059701492538, 'recall': 0.8869731800766284, 'f1-score': 0.8752362948960303, 'support': 522.0}, 'macro avg': {'precision': 0.5580900656257072, 'recall': 0.39956585010914386, 'f1-score': 0.4325798148378793, 'support': 522.0}, 'weighted avg': {'precision': 0.8398464831852009, 'recall': 0.8869731800766284, 'f1-score': 0.8480557834172963, 'support': 522.0}}\n"
     ]
    },
    {
     "name": "stderr",
     "output_type": "stream",
     "text": [
      "/opt/conda/lib/python3.12/site-packages/sklearn/base.py:1389: DataConversionWarning: A column-vector y was passed when a 1d array was expected. Please change the shape of y to (n_samples,), for example using ravel().\n",
      "  return fit_method(estimator, *args, **kwargs)\n"
     ]
    },
    {
     "name": "stdout",
     "output_type": "stream",
     "text": [
      "{'11': {'precision': 0.6666666666666666, 'recall': 0.15384615384615385, 'f1-score': 0.25, 'support': 26.0}, '12': {'precision': 0.8778004073319755, 'recall': 0.9930875576036866, 'f1-score': 0.9318918918918919, 'support': 434.0}, '13': {'precision': 1.0, 'recall': 0.09090909090909091, 'f1-score': 0.16666666666666666, 'support': 11.0}, '14': {'precision': 0.7777777777777778, 'recall': 0.4117647058823529, 'f1-score': 0.5384615384615384, 'support': 34.0}, '24': {'precision': 0.75, 'recall': 0.631578947368421, 'f1-score': 0.6857142857142857, 'support': 19.0}, '25': {'precision': 0.6666666666666666, 'recall': 0.5, 'f1-score': 0.5714285714285714, 'support': 4.0}, 'micro avg': {'precision': 0.8672897196261682, 'recall': 0.8787878787878788, 'f1-score': 0.8730009407337723, 'support': 528.0}, 'macro avg': {'precision': 0.7898185864071811, 'recall': 0.4635310759349509, 'f1-score': 0.5240271590271589, 'support': 528.0}, 'weighted avg': {'precision': 0.8573102674744731, 'recall': 0.8787878787878788, 'f1-score': 0.8454477129477129, 'support': 528.0}}\n"
     ]
    },
    {
     "name": "stderr",
     "output_type": "stream",
     "text": [
      "/opt/conda/lib/python3.12/site-packages/sklearn/base.py:1389: DataConversionWarning: A column-vector y was passed when a 1d array was expected. Please change the shape of y to (n_samples,), for example using ravel().\n",
      "  return fit_method(estimator, *args, **kwargs)\n"
     ]
    },
    {
     "name": "stdout",
     "output_type": "stream",
     "text": [
      "{'11': {'precision': 0.875, 'recall': 0.2692307692307692, 'f1-score': 0.4117647058823529, 'support': 26.0}, '12': {'precision': 0.8788546255506607, 'recall': 0.9172413793103448, 'f1-score': 0.8976377952755905, 'support': 435.0}, '14': {'precision': 0.7058823529411765, 'recall': 0.35294117647058826, 'f1-score': 0.47058823529411764, 'support': 34.0}, '23': {'precision': 0.0, 'recall': 0.0, 'f1-score': 0.0, 'support': 3.0}, '24': {'precision': 0.8095238095238095, 'recall': 0.85, 'f1-score': 0.8292682926829268, 'support': 20.0}, '25': {'precision': 1.0, 'recall': 0.25, 'f1-score': 0.4, 'support': 4.0}, 'micro avg': {'precision': 0.8134328358208955, 'recall': 0.8352490421455939, 'f1-score': 0.8241965973534972, 'support': 522.0}, 'macro avg': {'precision': 0.7115434646692744, 'recall': 0.4399022208352837, 'f1-score': 0.5015431715224979, 'support': 522.0}, 'weighted avg': {'precision': 0.8606173147605626, 'recall': 0.8352490421455939, 'f1-score': 0.8340300558457502, 'support': 522.0}}\n"
     ]
    },
    {
     "name": "stderr",
     "output_type": "stream",
     "text": [
      "/opt/conda/lib/python3.12/site-packages/sklearn/base.py:1389: DataConversionWarning: A column-vector y was passed when a 1d array was expected. Please change the shape of y to (n_samples,), for example using ravel().\n",
      "  return fit_method(estimator, *args, **kwargs)\n"
     ]
    },
    {
     "name": "stdout",
     "output_type": "stream",
     "text": [
      "{'11': {'precision': 0.6, 'recall': 0.11538461538461539, 'f1-score': 0.1935483870967742, 'support': 26.0}, '12': {'precision': 0.8805970149253731, 'recall': 0.9494252873563218, 'f1-score': 0.9137168141592921, 'support': 435.0}, '14': {'precision': 0.8571428571428571, 'recall': 0.35294117647058826, 'f1-score': 0.5, 'support': 34.0}, '23': {'precision': 0.037037037037037035, 'recall': 0.3333333333333333, 'f1-score': 0.06666666666666667, 'support': 3.0}, '24': {'precision': 0.625, 'recall': 0.5, 'f1-score': 0.5555555555555556, 'support': 20.0}, '25': {'precision': 0.8, 'recall': 0.8, 'f1-score': 0.8, 'support': 5.0}, 'micro avg': {'precision': 0.8264925373134329, 'recall': 0.847036328871893, 'f1-score': 0.8366383380547686, 'support': 523.0}, 'macro avg': {'precision': 0.6332961515175445, 'recall': 0.5085140687574765, 'f1-score': 0.5049145705797148, 'support': 523.0}, 'weighted avg': {'precision': 0.8497393302992459, 'recall': 0.847036328871893, 'f1-score': 0.8313770235849317, 'support': 523.0}}\n"
     ]
    },
    {
     "name": "stderr",
     "output_type": "stream",
     "text": [
      "/opt/conda/lib/python3.12/site-packages/sklearn/base.py:1389: DataConversionWarning: A column-vector y was passed when a 1d array was expected. Please change the shape of y to (n_samples,), for example using ravel().\n",
      "  return fit_method(estimator, *args, **kwargs)\n"
     ]
    },
    {
     "name": "stdout",
     "output_type": "stream",
     "text": [
      "{'11': {'precision': 0.8, 'recall': 0.16, 'f1-score': 0.26666666666666666, 'support': 25.0}, '12': {'precision': 0.8827433628318584, 'recall': 0.9193548387096774, 'f1-score': 0.9006772009029346, 'support': 434.0}, '13': {'precision': 1.0, 'recall': 0.09090909090909091, 'f1-score': 0.16666666666666666, 'support': 11.0}, '14': {'precision': 0.6111111111111112, 'recall': 0.3142857142857143, 'f1-score': 0.41509433962264153, 'support': 35.0}, '23': {'precision': 0.0, 'recall': 0.0, 'f1-score': 0.0, 'support': 4.0}, '24': {'precision': 0.8421052631578947, 'recall': 0.8421052631578947, 'f1-score': 0.8421052631578947, 'support': 19.0}, '25': {'precision': 0.6666666666666666, 'recall': 0.4, 'f1-score': 0.5, 'support': 5.0}, 'micro avg': {'precision': 0.8078358208955224, 'recall': 0.8123827392120075, 'f1-score': 0.8101028999064547, 'support': 533.0}, 'macro avg': {'precision': 0.6860894862525043, 'recall': 0.3895221295803396, 'f1-score': 0.44160144814525776, 'support': 533.0}, 'weighted avg': {'precision': 0.8533449187453073, 'recall': 0.8123827392120075, 'f1-score': 0.8112986999599738, 'support': 533.0}}\n"
     ]
    },
    {
     "name": "stderr",
     "output_type": "stream",
     "text": [
      "/opt/conda/lib/python3.12/site-packages/sklearn/base.py:1389: DataConversionWarning: A column-vector y was passed when a 1d array was expected. Please change the shape of y to (n_samples,), for example using ravel().\n",
      "  return fit_method(estimator, *args, **kwargs)\n"
     ]
    },
    {
     "name": "stdout",
     "output_type": "stream",
     "text": [
      "{'11': {'precision': 0.4, 'recall': 0.16, 'f1-score': 0.22857142857142856, 'support': 25.0}, '12': {'precision': 0.8852459016393442, 'recall': 0.9953917050691244, 'f1-score': 0.9370932754880694, 'support': 434.0}, '14': {'precision': 0.7, 'recall': 0.4, 'f1-score': 0.509090909090909, 'support': 35.0}, '24': {'precision': 0.5625, 'recall': 0.47368421052631576, 'f1-score': 0.5142857142857142, 'support': 19.0}, '25': {'precision': 0.5, 'recall': 0.2, 'f1-score': 0.2857142857142857, 'support': 5.0}, 'micro avg': {'precision': 0.8582089552238806, 'recall': 0.888030888030888, 'f1-score': 0.872865275142315, 'support': 518.0}, 'macro avg': {'precision': 0.6095491803278689, 'recall': 0.44581518311908813, 'f1-score': 0.4949511226300814, 'support': 518.0}, 'weighted avg': {'precision': 0.8337533229951263, 'recall': 0.888030888030888, 'f1-score': 0.8521832994098256, 'support': 518.0}}\n"
     ]
    },
    {
     "name": "stderr",
     "output_type": "stream",
     "text": [
      "/opt/conda/lib/python3.12/site-packages/sklearn/base.py:1389: DataConversionWarning: A column-vector y was passed when a 1d array was expected. Please change the shape of y to (n_samples,), for example using ravel().\n",
      "  return fit_method(estimator, *args, **kwargs)\n"
     ]
    },
    {
     "name": "stdout",
     "output_type": "stream",
     "text": [
      "{'11': {'precision': 0.5, 'recall': 0.11538461538461539, 'f1-score': 0.1875, 'support': 26.0}, '12': {'precision': 0.8727272727272727, 'recall': 0.9953917050691244, 'f1-score': 0.930032292787944, 'support': 434.0}, '13': {'precision': 0.5, 'recall': 0.09090909090909091, 'f1-score': 0.15384615384615385, 'support': 11.0}, '14': {'precision': 0.7, 'recall': 0.20588235294117646, 'f1-score': 0.3181818181818182, 'support': 34.0}, '23': {'precision': 1.0, 'recall': 0.5, 'f1-score': 0.6666666666666666, 'support': 4.0}, '24': {'precision': 0.7058823529411765, 'recall': 0.631578947368421, 'f1-score': 0.6666666666666666, 'support': 19.0}, '25': {'precision': 0.3333333333333333, 'recall': 0.25, 'f1-score': 0.2857142857142857, 'support': 4.0}, 'micro avg': {'precision': 0.8560747663551402, 'recall': 0.8609022556390977, 'f1-score': 0.8584817244611059, 'support': 532.0}, 'macro avg': {'precision': 0.6588489941431117, 'recall': 0.3984495302389183, 'f1-score': 0.45837255483764777, 'support': 532.0}, 'weighted avg': {'precision': 0.8267081473737821, 'recall': 0.8609022556390977, 'f1-score': 0.8223603290538491, 'support': 532.0}}\n"
     ]
    },
    {
     "name": "stderr",
     "output_type": "stream",
     "text": [
      "/opt/conda/lib/python3.12/site-packages/sklearn/base.py:1389: DataConversionWarning: A column-vector y was passed when a 1d array was expected. Please change the shape of y to (n_samples,), for example using ravel().\n",
      "  return fit_method(estimator, *args, **kwargs)\n"
     ]
    },
    {
     "name": "stdout",
     "output_type": "stream",
     "text": [
      "{'11': {'precision': 0.8571428571428571, 'recall': 0.23076923076923078, 'f1-score': 0.36363636363636365, 'support': 26.0}, '12': {'precision': 0.8779956427015251, 'recall': 0.9264367816091954, 'f1-score': 0.901565995525727, 'support': 435.0}, '14': {'precision': 0.5, 'recall': 0.17647058823529413, 'f1-score': 0.2608695652173913, 'support': 34.0}, '23': {'precision': 0.0, 'recall': 0.0, 'f1-score': 0.0, 'support': 3.0}, '24': {'precision': 0.7272727272727273, 'recall': 0.8, 'f1-score': 0.7619047619047619, 'support': 20.0}, '25': {'precision': 1.0, 'recall': 0.5, 'f1-score': 0.6666666666666666, 'support': 4.0}, 'micro avg': {'precision': 0.8078358208955224, 'recall': 0.8295019157088123, 'f1-score': 0.8185255198487713, 'support': 522.0}, 'macro avg': {'precision': 0.6604018711861849, 'recall': 0.43894610010228674, 'f1-score': 0.49244055882515175, 'support': 522.0}, 'weighted avg': {'precision': 0.8424507153378012, 'recall': 0.8295019157088123, 'f1-score': 0.8207089667248849, 'support': 522.0}}\n"
     ]
    },
    {
     "name": "stderr",
     "output_type": "stream",
     "text": [
      "/opt/conda/lib/python3.12/site-packages/sklearn/base.py:1389: DataConversionWarning: A column-vector y was passed when a 1d array was expected. Please change the shape of y to (n_samples,), for example using ravel().\n",
      "  return fit_method(estimator, *args, **kwargs)\n"
     ]
    },
    {
     "name": "stdout",
     "output_type": "stream",
     "text": [
      "{'11': {'precision': 0.5454545454545454, 'recall': 0.23076923076923078, 'f1-score': 0.32432432432432434, 'support': 26.0}, '12': {'precision': 0.9002079002079002, 'recall': 0.9954022988505747, 'f1-score': 0.9454148471615721, 'support': 435.0}, '13': {'precision': 0.5, 'recall': 0.09090909090909091, 'f1-score': 0.15384615384615385, 'support': 11.0}, '14': {'precision': 0.75, 'recall': 0.4411764705882353, 'f1-score': 0.5555555555555556, 'support': 34.0}, '23': {'precision': 1.0, 'recall': 0.3333333333333333, 'f1-score': 0.5, 'support': 3.0}, '24': {'precision': 0.7368421052631579, 'recall': 0.7, 'f1-score': 0.717948717948718, 'support': 20.0}, '25': {'precision': 0.5, 'recall': 0.2, 'f1-score': 0.2857142857142857, 'support': 5.0}, 'micro avg': {'precision': 0.878731343283582, 'recall': 0.8820224719101124, 'f1-score': 0.8803738317757009, 'support': 534.0}, 'macro avg': {'precision': 0.7046435072750862, 'recall': 0.42737006063578076, 'f1-score': 0.4975434120786585, 'support': 534.0}, 'weighted avg': {'precision': 0.8558222787968501, 'recall': 0.8820224719101124, 'f1-score': 0.8568476279334433, 'support': 534.0}}\n"
     ]
    },
    {
     "name": "stderr",
     "output_type": "stream",
     "text": [
      "/opt/conda/lib/python3.12/site-packages/sklearn/base.py:1389: DataConversionWarning: A column-vector y was passed when a 1d array was expected. Please change the shape of y to (n_samples,), for example using ravel().\n",
      "  return fit_method(estimator, *args, **kwargs)\n"
     ]
    },
    {
     "name": "stdout",
     "output_type": "stream",
     "text": [
      "{'11': {'precision': 1.0, 'recall': 0.16, 'f1-score': 0.27586206896551724, 'support': 25.0}, '12': {'precision': 0.8712273641851107, 'recall': 0.9976958525345622, 'f1-score': 0.9301825993555317, 'support': 434.0}, '13': {'precision': 1.0, 'recall': 0.09090909090909091, 'f1-score': 0.16666666666666666, 'support': 11.0}, '14': {'precision': 0.7, 'recall': 0.2, 'f1-score': 0.3111111111111111, 'support': 35.0}, '24': {'precision': 0.5789473684210527, 'recall': 0.5789473684210527, 'f1-score': 0.5789473684210527, 'support': 19.0}, '25': {'precision': 0.2, 'recall': 0.2, 'f1-score': 0.2, 'support': 5.0}, 'micro avg': {'precision': 0.8526119402985075, 'recall': 0.8638941398865785, 'f1-score': 0.8582159624413146, 'support': 529.0}, 'macro avg': {'precision': 0.7250291221010273, 'recall': 0.37125871864411764, 'f1-score': 0.4104616357533133, 'support': 529.0}, 'weighted avg': {'precision': 0.8518198035091457, 'recall': 0.8638941398865785, 'f1-score': 0.8229074141146708, 'support': 529.0}}\n"
     ]
    },
    {
     "name": "stderr",
     "output_type": "stream",
     "text": [
      "/opt/conda/lib/python3.12/site-packages/sklearn/base.py:1389: DataConversionWarning: A column-vector y was passed when a 1d array was expected. Please change the shape of y to (n_samples,), for example using ravel().\n",
      "  return fit_method(estimator, *args, **kwargs)\n"
     ]
    },
    {
     "name": "stdout",
     "output_type": "stream",
     "text": [
      "{'11': {'precision': 0.45454545454545453, 'recall': 0.2, 'f1-score': 0.2777777777777778, 'support': 25.0}, '12': {'precision': 0.8847736625514403, 'recall': 0.9907834101382489, 'f1-score': 0.9347826086956522, 'support': 434.0}, '14': {'precision': 0.5, 'recall': 0.2857142857142857, 'f1-score': 0.36363636363636365, 'support': 35.0}, '23': {'precision': 0.0, 'recall': 0.0, 'f1-score': 0.0, 'support': 4.0}, '24': {'precision': 0.75, 'recall': 0.631578947368421, 'f1-score': 0.6857142857142857, 'support': 19.0}, '25': {'precision': 0.5, 'recall': 0.2, 'f1-score': 0.2857142857142857, 'support': 5.0}, 'micro avg': {'precision': 0.8544776119402985, 'recall': 0.8773946360153256, 'f1-score': 0.8657844990548205, 'support': 522.0}, 'macro avg': {'precision': 0.514886519516149, 'recall': 0.3846794405368259, 'f1-score': 0.42460422025639416, 'support': 522.0}, 'weighted avg': {'precision': 0.8229988618983936, 'recall': 0.8773946360153256, 'f1-score': 0.8425756938750443, 'support': 522.0}}\n"
     ]
    },
    {
     "name": "stderr",
     "output_type": "stream",
     "text": [
      "/opt/conda/lib/python3.12/site-packages/sklearn/base.py:1389: DataConversionWarning: A column-vector y was passed when a 1d array was expected. Please change the shape of y to (n_samples,), for example using ravel().\n",
      "  return fit_method(estimator, *args, **kwargs)\n"
     ]
    },
    {
     "name": "stdout",
     "output_type": "stream",
     "text": [
      "{'11': {'precision': 0.2857142857142857, 'recall': 0.07692307692307693, 'f1-score': 0.12121212121212122, 'support': 26.0}, '12': {'precision': 0.8775055679287305, 'recall': 0.9078341013824884, 'f1-score': 0.8924122310305775, 'support': 434.0}, '13': {'precision': 1.0, 'recall': 0.18181818181818182, 'f1-score': 0.3076923076923077, 'support': 11.0}, '14': {'precision': 0.875, 'recall': 0.4117647058823529, 'f1-score': 0.56, 'support': 34.0}, '23': {'precision': 0.0, 'recall': 0.0, 'f1-score': 0.0, 'support': 4.0}, '24': {'precision': 0.65, 'recall': 0.6842105263157895, 'f1-score': 0.6666666666666666, 'support': 19.0}, '25': {'precision': 0.0, 'recall': 0.0, 'f1-score': 0.0, 'support': 4.0}, 'micro avg': {'precision': 0.794392523364486, 'recall': 0.7988721804511278, 'f1-score': 0.7966260543580131, 'support': 532.0}, 'macro avg': {'precision': 0.5268885505204308, 'recall': 0.32322151318884135, 'f1-score': 0.3639976180859533, 'support': 532.0}, 'weighted avg': {'precision': 0.8296353156196249, 'recall': 0.7988721804511278, 'f1-score': 0.799905461409902, 'support': 532.0}}\n"
     ]
    },
    {
     "name": "stderr",
     "output_type": "stream",
     "text": [
      "/opt/conda/lib/python3.12/site-packages/sklearn/base.py:1389: DataConversionWarning: A column-vector y was passed when a 1d array was expected. Please change the shape of y to (n_samples,), for example using ravel().\n",
      "  return fit_method(estimator, *args, **kwargs)\n"
     ]
    },
    {
     "name": "stdout",
     "output_type": "stream",
     "text": [
      "{'11': {'precision': 0.0784313725490196, 'recall': 0.15384615384615385, 'f1-score': 0.1038961038961039, 'support': 26.0}, '12': {'precision': 0.8733333333333333, 'recall': 0.903448275862069, 'f1-score': 0.888135593220339, 'support': 435.0}, '14': {'precision': 0.6875, 'recall': 0.3235294117647059, 'f1-score': 0.44, 'support': 34.0}, '23': {'precision': 0.0, 'recall': 0.0, 'f1-score': 0.0, 'support': 3.0}, '24': {'precision': 0.8461538461538461, 'recall': 0.55, 'f1-score': 0.6666666666666666, 'support': 20.0}, '25': {'precision': 0.6, 'recall': 0.75, 'f1-score': 0.6666666666666666, 'support': 4.0}, 'micro avg': {'precision': 0.7873134328358209, 'recall': 0.8084291187739464, 'f1-score': 0.7977315689981096, 'support': 522.0}, 'macro avg': {'precision': 0.5142364253393665, 'recall': 0.44680397357882146, 'f1-score': 0.46089417174162933, 'support': 522.0}, 'weighted avg': {'precision': 0.8134814034661904, 'recall': 0.8084291187739464, 'f1-score': 0.8045982409044945, 'support': 522.0}}\n"
     ]
    },
    {
     "name": "stderr",
     "output_type": "stream",
     "text": [
      "/opt/conda/lib/python3.12/site-packages/sklearn/base.py:1389: DataConversionWarning: A column-vector y was passed when a 1d array was expected. Please change the shape of y to (n_samples,), for example using ravel().\n",
      "  return fit_method(estimator, *args, **kwargs)\n"
     ]
    },
    {
     "name": "stdout",
     "output_type": "stream",
     "text": [
      "{'11': {'precision': 0.8333333333333334, 'recall': 0.19230769230769232, 'f1-score': 0.3125, 'support': 26.0}, '12': {'precision': 0.8818380743982495, 'recall': 0.9264367816091954, 'f1-score': 0.9035874439461884, 'support': 435.0}, '14': {'precision': 0.5238095238095238, 'recall': 0.3235294117647059, 'f1-score': 0.4, 'support': 34.0}, '23': {'precision': 0.03225806451612903, 'recall': 0.3333333333333333, 'f1-score': 0.058823529411764705, 'support': 3.0}, '24': {'precision': 0.8947368421052632, 'recall': 0.85, 'f1-score': 0.8717948717948718, 'support': 20.0}, '25': {'precision': 0.5, 'recall': 0.2, 'f1-score': 0.2857142857142857, 'support': 5.0}, 'micro avg': {'precision': 0.8171641791044776, 'recall': 0.8374760994263862, 'f1-score': 0.8271954674220963, 'support': 523.0}, 'macro avg': {'precision': 0.6109959730270832, 'recall': 0.4709345365024878, 'f1-score': 0.4720700218111851, 'support': 523.0}, 'weighted avg': {'precision': 0.8481209634322805, 'recall': 0.8374760994263862, 'f1-score': 0.8294961330196867, 'support': 523.0}}\n"
     ]
    },
    {
     "name": "stderr",
     "output_type": "stream",
     "text": [
      "/opt/conda/lib/python3.12/site-packages/sklearn/base.py:1389: DataConversionWarning: A column-vector y was passed when a 1d array was expected. Please change the shape of y to (n_samples,), for example using ravel().\n",
      "  return fit_method(estimator, *args, **kwargs)\n"
     ]
    },
    {
     "name": "stdout",
     "output_type": "stream",
     "text": [
      "{'11': {'precision': 0.4, 'recall': 0.08, 'f1-score': 0.13333333333333333, 'support': 25.0}, '12': {'precision': 0.8809523809523809, 'recall': 0.9377880184331797, 'f1-score': 0.9084821428571429, 'support': 434.0}, '14': {'precision': 0.65, 'recall': 0.37142857142857144, 'f1-score': 0.4727272727272727, 'support': 35.0}, '23': {'precision': 0.0, 'recall': 0.0, 'f1-score': 0.0, 'support': 4.0}, '24': {'precision': 0.5555555555555556, 'recall': 0.5263157894736842, 'f1-score': 0.5405405405405406, 'support': 19.0}, '25': {'precision': 0.5, 'recall': 0.4, 'f1-score': 0.4444444444444444, 'support': 5.0}, 'micro avg': {'precision': 0.8097014925373134, 'recall': 0.8314176245210728, 'f1-score': 0.8204158790170132, 'support': 522.0}, 'macro avg': {'precision': 0.4977513227513228, 'recall': 0.38592206322257255, 'f1-score': 0.41658795565045564, 'support': 522.0}, 'weighted avg': {'precision': 0.8201894423158791, 'recall': 0.8314176245210728, 'f1-score': 0.8173420122055179, 'support': 522.0}}\n"
     ]
    },
    {
     "name": "stderr",
     "output_type": "stream",
     "text": [
      "/opt/conda/lib/python3.12/site-packages/sklearn/base.py:1389: DataConversionWarning: A column-vector y was passed when a 1d array was expected. Please change the shape of y to (n_samples,), for example using ravel().\n",
      "  return fit_method(estimator, *args, **kwargs)\n"
     ]
    },
    {
     "name": "stdout",
     "output_type": "stream",
     "text": [
      "{'11': {'precision': 0.38461538461538464, 'recall': 0.2, 'f1-score': 0.2631578947368421, 'support': 25.0}, '12': {'precision': 0.8986486486486487, 'recall': 0.9193548387096774, 'f1-score': 0.908883826879271, 'support': 434.0}, '14': {'precision': 0.8461538461538461, 'recall': 0.3142857142857143, 'f1-score': 0.4583333333333333, 'support': 35.0}, '23': {'precision': 0.0, 'recall': 0.0, 'f1-score': 0.0, 'support': 4.0}, '24': {'precision': 0.6, 'recall': 0.7894736842105263, 'f1-score': 0.6818181818181818, 'support': 19.0}, '25': {'precision': 0.25, 'recall': 0.2, 'f1-score': 0.2222222222222222, 'support': 5.0}, 'micro avg': {'precision': 0.8041044776119403, 'recall': 0.8256704980842912, 'f1-score': 0.8147448015122873, 'support': 522.0}, 'macro avg': {'precision': 0.4965696465696466, 'recall': 0.403852372867653, 'f1-score': 0.4224025764983084, 'support': 522.0}, 'weighted avg': {'precision': 0.8465407715407717, 'recall': 0.8256704980842912, 'f1-score': 0.8259422441884059, 'support': 522.0}}\n"
     ]
    },
    {
     "name": "stderr",
     "output_type": "stream",
     "text": [
      "/opt/conda/lib/python3.12/site-packages/sklearn/base.py:1389: DataConversionWarning: A column-vector y was passed when a 1d array was expected. Please change the shape of y to (n_samples,), for example using ravel().\n",
      "  return fit_method(estimator, *args, **kwargs)\n"
     ]
    },
    {
     "name": "stdout",
     "output_type": "stream",
     "text": [
      "{'11': {'precision': 0.3333333333333333, 'recall': 0.07692307692307693, 'f1-score': 0.125, 'support': 26.0}, '12': {'precision': 0.8762677484787018, 'recall': 0.9953917050691244, 'f1-score': 0.9320388349514563, 'support': 434.0}, '14': {'precision': 0.9166666666666666, 'recall': 0.3235294117647059, 'f1-score': 0.4782608695652174, 'support': 34.0}, '22': {'precision': 0.0, 'recall': 0.0, 'f1-score': 0.0, 'support': 2.0}, '23': {'precision': 1.0, 'recall': 0.25, 'f1-score': 0.4, 'support': 4.0}, '24': {'precision': 0.8, 'recall': 0.8421052631578947, 'f1-score': 0.8205128205128205, 'support': 19.0}, '25': {'precision': 0.0, 'recall': 0.0, 'f1-score': 0.0, 'support': 4.0}, 'micro avg': {'precision': 0.8635514018691589, 'recall': 0.8833652007648184, 'f1-score': 0.8733459357277883, 'support': 523.0}, 'macro avg': {'precision': 0.5608953926398145, 'recall': 0.35542135098782884, 'f1-score': 0.39368750357564203, 'support': 523.0}, 'weighted avg': {'precision': 0.8400258817841109, 'recall': 0.8833652007648184, 'f1-score': 0.8436051004280938, 'support': 523.0}}\n"
     ]
    },
    {
     "name": "stderr",
     "output_type": "stream",
     "text": [
      "/opt/conda/lib/python3.12/site-packages/sklearn/base.py:1389: DataConversionWarning: A column-vector y was passed when a 1d array was expected. Please change the shape of y to (n_samples,), for example using ravel().\n",
      "  return fit_method(estimator, *args, **kwargs)\n"
     ]
    },
    {
     "name": "stdout",
     "output_type": "stream",
     "text": [
      "{'11': {'precision': 0.8333333333333334, 'recall': 0.19230769230769232, 'f1-score': 0.3125, 'support': 26.0}, '12': {'precision': 0.8793859649122807, 'recall': 0.9218390804597701, 'f1-score': 0.9001122334455668, 'support': 435.0}, '14': {'precision': 0.8, 'recall': 0.35294117647058826, 'f1-score': 0.4897959183673469, 'support': 34.0}, '23': {'precision': 0.0, 'recall': 0.0, 'f1-score': 0.0, 'support': 3.0}, '24': {'precision': 0.7142857142857143, 'recall': 0.75, 'f1-score': 0.7317073170731707, 'support': 20.0}, '25': {'precision': 1.0, 'recall': 0.5, 'f1-score': 0.6666666666666666, 'support': 4.0}, 'micro avg': {'precision': 0.8115671641791045, 'recall': 0.8333333333333334, 'f1-score': 0.8223062381852552, 'support': 522.0}, 'macro avg': {'precision': 0.7045008354218881, 'recall': 0.4528479915396752, 'f1-score': 0.5167970225921252, 'support': 522.0}, 'weighted avg': {'precision': 0.8614660453816534, 'recall': 0.8333333333333334, 'f1-score': 0.8307043980487384, 'support': 522.0}}\n"
     ]
    },
    {
     "name": "stderr",
     "output_type": "stream",
     "text": [
      "/opt/conda/lib/python3.12/site-packages/sklearn/base.py:1389: DataConversionWarning: A column-vector y was passed when a 1d array was expected. Please change the shape of y to (n_samples,), for example using ravel().\n",
      "  return fit_method(estimator, *args, **kwargs)\n"
     ]
    },
    {
     "name": "stdout",
     "output_type": "stream",
     "text": [
      "{'11': {'precision': 0.4, 'recall': 0.15384615384615385, 'f1-score': 0.2222222222222222, 'support': 26.0}, '12': {'precision': 0.8831967213114754, 'recall': 0.9908045977011494, 'f1-score': 0.933911159263272, 'support': 435.0}, '14': {'precision': 0.7777777777777778, 'recall': 0.4117647058823529, 'f1-score': 0.5384615384615384, 'support': 34.0}, '23': {'precision': 0.0, 'recall': 0.0, 'f1-score': 0.0, 'support': 3.0}, '24': {'precision': 0.8125, 'recall': 0.65, 'f1-score': 0.7222222222222222, 'support': 20.0}, '25': {'precision': 0.6666666666666666, 'recall': 0.4, 'f1-score': 0.5, 'support': 5.0}, 'micro avg': {'precision': 0.8656716417910447, 'recall': 0.887189292543021, 'f1-score': 0.8762983947119924, 'support': 523.0}, 'macro avg': {'precision': 0.5900235276259866, 'recall': 0.434402576238276, 'f1-score': 0.4861361903615425, 'support': 523.0}, 'weighted avg': {'precision': 0.8424825077404772, 'recall': 0.887189292543021, 'f1-score': 0.8552223112991163, 'support': 523.0}}\n"
     ]
    },
    {
     "name": "stderr",
     "output_type": "stream",
     "text": [
      "/opt/conda/lib/python3.12/site-packages/sklearn/base.py:1389: DataConversionWarning: A column-vector y was passed when a 1d array was expected. Please change the shape of y to (n_samples,), for example using ravel().\n",
      "  return fit_method(estimator, *args, **kwargs)\n"
     ]
    },
    {
     "name": "stdout",
     "output_type": "stream",
     "text": [
      "{'11': {'precision': 0.4, 'recall': 0.08, 'f1-score': 0.13333333333333333, 'support': 25.0}, '12': {'precision': 0.8930131004366813, 'recall': 0.9423963133640553, 'f1-score': 0.9170403587443946, 'support': 434.0}, '14': {'precision': 0.5833333333333334, 'recall': 0.4, 'f1-score': 0.4745762711864407, 'support': 35.0}, '23': {'precision': 0.08333333333333333, 'recall': 0.5, 'f1-score': 0.14285714285714285, 'support': 4.0}, '24': {'precision': 0.6666666666666666, 'recall': 0.7368421052631579, 'f1-score': 0.7, 'support': 19.0}, '25': {'precision': 0.75, 'recall': 0.6, 'f1-score': 0.6666666666666666, 'support': 5.0}, 'micro avg': {'precision': 0.8283582089552238, 'recall': 0.8505747126436781, 'f1-score': 0.8393194706994329, 'support': 522.0}, 'macro avg': {'precision': 0.5627244056283358, 'recall': 0.5432064031045355, 'f1-score': 0.5057456287979963, 'support': 522.0}, 'weighted avg': {'precision': 0.8328244296095524, 'recall': 0.8505747126436781, 'f1-score': 0.8336087747599384, 'support': 522.0}}\n"
     ]
    },
    {
     "name": "stderr",
     "output_type": "stream",
     "text": [
      "/opt/conda/lib/python3.12/site-packages/sklearn/base.py:1389: DataConversionWarning: A column-vector y was passed when a 1d array was expected. Please change the shape of y to (n_samples,), for example using ravel().\n",
      "  return fit_method(estimator, *args, **kwargs)\n"
     ]
    },
    {
     "name": "stdout",
     "output_type": "stream",
     "text": [
      "{'11': {'precision': 0.8, 'recall': 0.16, 'f1-score': 0.26666666666666666, 'support': 25.0}, '12': {'precision': 0.8835164835164835, 'recall': 0.9262672811059908, 'f1-score': 0.9043869516310461, 'support': 434.0}, '14': {'precision': 0.6875, 'recall': 0.3142857142857143, 'f1-score': 0.43137254901960786, 'support': 35.0}, '23': {'precision': 0.029411764705882353, 'recall': 0.25, 'f1-score': 0.05263157894736842, 'support': 4.0}, '24': {'precision': 0.6666666666666666, 'recall': 0.7368421052631579, 'f1-score': 0.7, 'support': 19.0}, '25': {'precision': 0.2, 'recall': 0.2, 'f1-score': 0.2, 'support': 5.0}, 'micro avg': {'precision': 0.8078358208955224, 'recall': 0.8295019157088123, 'f1-score': 0.8185255198487713, 'support': 522.0}, 'macro avg': {'precision': 0.5445158191481722, 'recall': 0.4312325167758105, 'f1-score': 0.42584295771078146, 'support': 522.0}, 'weighted avg': {'precision': 0.8453888267656017, 'recall': 0.8295019157088123, 'f1-score': 0.8214160329617174, 'support': 522.0}}\n"
     ]
    },
    {
     "name": "stderr",
     "output_type": "stream",
     "text": [
      "/opt/conda/lib/python3.12/site-packages/sklearn/base.py:1389: DataConversionWarning: A column-vector y was passed when a 1d array was expected. Please change the shape of y to (n_samples,), for example using ravel().\n",
      "  return fit_method(estimator, *args, **kwargs)\n"
     ]
    },
    {
     "name": "stdout",
     "output_type": "stream",
     "text": [
      "{'11': {'precision': 0.75, 'recall': 0.11538461538461539, 'f1-score': 0.2, 'support': 26.0}, '12': {'precision': 0.8755364806866953, 'recall': 0.9400921658986175, 'f1-score': 0.9066666666666666, 'support': 434.0}, '14': {'precision': 0.6666666666666666, 'recall': 0.29411764705882354, 'f1-score': 0.40816326530612246, 'support': 34.0}, '23': {'precision': 0.0, 'recall': 0.0, 'f1-score': 0.0, 'support': 4.0}, '24': {'precision': 0.8, 'recall': 0.631578947368421, 'f1-score': 0.7058823529411765, 'support': 19.0}, '25': {'precision': 0.75, 'recall': 0.75, 'f1-score': 0.75, 'support': 4.0}, 'micro avg': {'precision': 0.8149532710280374, 'recall': 0.836852207293666, 'f1-score': 0.8257575757575758, 'support': 521.0}, 'macro avg': {'precision': 0.6403671912255603, 'recall': 0.45519556261841293, 'f1-score': 0.4951187141523276, 'support': 521.0}, 'weighted avg': {'precision': 0.8452005744427878, 'recall': 0.836852207293666, 'f1-score': 0.8233832035693356, 'support': 521.0}}\n"
     ]
    },
    {
     "name": "stderr",
     "output_type": "stream",
     "text": [
      "/opt/conda/lib/python3.12/site-packages/sklearn/base.py:1389: DataConversionWarning: A column-vector y was passed when a 1d array was expected. Please change the shape of y to (n_samples,), for example using ravel().\n",
      "  return fit_method(estimator, *args, **kwargs)\n"
     ]
    },
    {
     "name": "stdout",
     "output_type": "stream",
     "text": [
      "{'11': {'precision': 0.2, 'recall': 0.038461538461538464, 'f1-score': 0.06451612903225806, 'support': 26.0}, '12': {'precision': 0.8813905930470347, 'recall': 0.9908045977011494, 'f1-score': 0.9329004329004329, 'support': 435.0}, '13': {'precision': 1.0, 'recall': 0.08333333333333333, 'f1-score': 0.15384615384615385, 'support': 12.0}, '14': {'precision': 0.4444444444444444, 'recall': 0.23529411764705882, 'f1-score': 0.3076923076923077, 'support': 34.0}, '23': {'precision': 0.0, 'recall': 0.0, 'f1-score': 0.0, 'support': 3.0}, '24': {'precision': 0.7647058823529411, 'recall': 0.65, 'f1-score': 0.7027027027027027, 'support': 20.0}, '25': {'precision': 0.8, 'recall': 1.0, 'f1-score': 0.8888888888888888, 'support': 4.0}, 'micro avg': {'precision': 0.8544776119402985, 'recall': 0.8576779026217228, 'f1-score': 0.8560747663551402, 'support': 534.0}, 'macro avg': {'precision': 0.5843629885492029, 'recall': 0.42827051244901143, 'f1-score': 0.435792373580392, 'support': 534.0}, 'weighted avg': {'precision': 0.8131275968794569, 'recall': 0.8576779026217228, 'f1-score': 0.8191131265614775, 'support': 534.0}}\n"
     ]
    },
    {
     "name": "stderr",
     "output_type": "stream",
     "text": [
      "/opt/conda/lib/python3.12/site-packages/sklearn/base.py:1389: DataConversionWarning: A column-vector y was passed when a 1d array was expected. Please change the shape of y to (n_samples,), for example using ravel().\n",
      "  return fit_method(estimator, *args, **kwargs)\n"
     ]
    },
    {
     "name": "stdout",
     "output_type": "stream",
     "text": [
      "{'11': {'precision': 0.5, 'recall': 0.15384615384615385, 'f1-score': 0.23529411764705882, 'support': 26.0}, '12': {'precision': 0.8788546255506607, 'recall': 0.9172413793103448, 'f1-score': 0.8976377952755905, 'support': 435.0}, '13': {'precision': 1.0, 'recall': 0.09090909090909091, 'f1-score': 0.16666666666666666, 'support': 11.0}, '14': {'precision': 0.7333333333333333, 'recall': 0.3235294117647059, 'f1-score': 0.4489795918367347, 'support': 34.0}, '23': {'precision': 0.02564102564102564, 'recall': 0.3333333333333333, 'f1-score': 0.047619047619047616, 'support': 3.0}, '24': {'precision': 0.7333333333333333, 'recall': 0.55, 'f1-score': 0.6285714285714286, 'support': 20.0}, '25': {'precision': 0.25, 'recall': 0.2, 'f1-score': 0.2222222222222222, 'support': 5.0}, 'micro avg': {'precision': 0.7985074626865671, 'recall': 0.8014981273408239, 'f1-score': 0.8, 'support': 534.0}, 'macro avg': {'precision': 0.5887374739797647, 'recall': 0.3669799098805184, 'f1-score': 0.37814155283410705, 'support': 534.0}, 'weighted avg': {'precision': 0.8375069011076041, 'recall': 0.8014981273408239, 'f1-score': 0.8005882477245029, 'support': 534.0}}\n"
     ]
    },
    {
     "name": "stderr",
     "output_type": "stream",
     "text": [
      "/opt/conda/lib/python3.12/site-packages/sklearn/base.py:1389: DataConversionWarning: A column-vector y was passed when a 1d array was expected. Please change the shape of y to (n_samples,), for example using ravel().\n",
      "  return fit_method(estimator, *args, **kwargs)\n"
     ]
    },
    {
     "name": "stdout",
     "output_type": "stream",
     "text": [
      "{'11': {'precision': 0.7142857142857143, 'recall': 0.2, 'f1-score': 0.3125, 'support': 25.0}, '12': {'precision': 0.8849557522123894, 'recall': 0.9216589861751152, 'f1-score': 0.9029345372460497, 'support': 434.0}, '14': {'precision': 0.8, 'recall': 0.34285714285714286, 'f1-score': 0.48, 'support': 35.0}, '23': {'precision': 0.0, 'recall': 0.0, 'f1-score': 0.0, 'support': 4.0}, '24': {'precision': 0.5714285714285714, 'recall': 0.631578947368421, 'f1-score': 0.6, 'support': 19.0}, '25': {'precision': 0.8, 'recall': 0.8, 'f1-score': 0.8, 'support': 5.0}, 'micro avg': {'precision': 0.8078358208955224, 'recall': 0.8295019157088123, 'f1-score': 0.8185255198487713, 'support': 522.0}, 'macro avg': {'precision': 0.6284450063211126, 'recall': 0.4826825127334464, 'f1-score': 0.5159057562076749, 'support': 522.0}, 'weighted avg': {'precision': 0.852078701483645, 'recall': 0.8295019157088123, 'f1-score': 0.8273679869057193, 'support': 522.0}}\n"
     ]
    },
    {
     "name": "stderr",
     "output_type": "stream",
     "text": [
      "/opt/conda/lib/python3.12/site-packages/sklearn/base.py:1389: DataConversionWarning: A column-vector y was passed when a 1d array was expected. Please change the shape of y to (n_samples,), for example using ravel().\n",
      "  return fit_method(estimator, *args, **kwargs)\n"
     ]
    },
    {
     "name": "stdout",
     "output_type": "stream",
     "text": [
      "{'11': {'precision': 0.5555555555555556, 'recall': 0.2, 'f1-score': 0.29411764705882354, 'support': 25.0}, '12': {'precision': 0.8785249457700651, 'recall': 0.9331797235023042, 'f1-score': 0.9050279329608939, 'support': 434.0}, '13': {'precision': 1.0, 'recall': 0.09090909090909091, 'f1-score': 0.16666666666666666, 'support': 11.0}, '14': {'precision': 0.631578947368421, 'recall': 0.34285714285714286, 'f1-score': 0.4444444444444444, 'support': 35.0}, '23': {'precision': 0.034482758620689655, 'recall': 0.25, 'f1-score': 0.06060606060606061, 'support': 4.0}, '24': {'precision': 0.8823529411764706, 'recall': 0.7894736842105263, 'f1-score': 0.8333333333333334, 'support': 19.0}, 'micro avg': {'precision': 0.8190298507462687, 'recall': 0.8314393939393939, 'f1-score': 0.825187969924812, 'support': 528.0}, 'macro avg': {'precision': 0.6637491914152004, 'recall': 0.43440327357984404, 'f1-score': 0.45069934751170376, 'support': 528.0}, 'weighted avg': {'precision': 0.8431375292193705, 'recall': 0.8314393939393939, 'f1-score': 0.8212115730040624, 'support': 528.0}}\n"
     ]
    },
    {
     "name": "stderr",
     "output_type": "stream",
     "text": [
      "/opt/conda/lib/python3.12/site-packages/sklearn/base.py:1389: DataConversionWarning: A column-vector y was passed when a 1d array was expected. Please change the shape of y to (n_samples,), for example using ravel().\n",
      "  return fit_method(estimator, *args, **kwargs)\n"
     ]
    },
    {
     "name": "stdout",
     "output_type": "stream",
     "text": [
      "{'11': {'precision': 0.5714285714285714, 'recall': 0.15384615384615385, 'f1-score': 0.24242424242424243, 'support': 26.0}, '12': {'precision': 0.8865979381443299, 'recall': 0.9907834101382489, 'f1-score': 0.9357997823721437, 'support': 434.0}, '14': {'precision': 0.6, 'recall': 0.35294117647058826, 'f1-score': 0.4444444444444444, 'support': 34.0}, '23': {'precision': 1.0, 'recall': 0.5, 'f1-score': 0.6666666666666666, 'support': 4.0}, '24': {'precision': 0.7, 'recall': 0.7368421052631579, 'f1-score': 0.717948717948718, 'support': 19.0}, '25': {'precision': 1.0, 'recall': 0.25, 'f1-score': 0.4, 'support': 4.0}, 'micro avg': {'precision': 0.8654205607476636, 'recall': 0.8886756238003839, 'f1-score': 0.8768939393939394, 'support': 521.0}, 'macro avg': {'precision': 0.7930044182621502, 'recall': 0.4974021409530249, 'f1-score': 0.5678806423093692, 'support': 521.0}, 'weighted avg': {'precision': 0.8471029712318272, 'recall': 0.8886756238003839, 'f1-score': 0.8550075609814666, 'support': 521.0}}\n"
     ]
    },
    {
     "name": "stderr",
     "output_type": "stream",
     "text": [
      "/opt/conda/lib/python3.12/site-packages/sklearn/base.py:1389: DataConversionWarning: A column-vector y was passed when a 1d array was expected. Please change the shape of y to (n_samples,), for example using ravel().\n",
      "  return fit_method(estimator, *args, **kwargs)\n"
     ]
    },
    {
     "name": "stdout",
     "output_type": "stream",
     "text": [
      "{'11': {'precision': 0.7, 'recall': 0.2692307692307692, 'f1-score': 0.3888888888888889, 'support': 26.0}, '12': {'precision': 0.8871681415929203, 'recall': 0.9218390804597701, 'f1-score': 0.9041713641488163, 'support': 435.0}, '13': {'precision': 1.0, 'recall': 0.08333333333333333, 'f1-score': 0.15384615384615385, 'support': 12.0}, '14': {'precision': 0.8333333333333334, 'recall': 0.4411764705882353, 'f1-score': 0.5769230769230769, 'support': 34.0}, '23': {'precision': 0.0, 'recall': 0.0, 'f1-score': 0.0, 'support': 3.0}, '24': {'precision': 0.7333333333333333, 'recall': 0.55, 'f1-score': 0.6285714285714286, 'support': 20.0}, '25': {'precision': 0.6, 'recall': 0.75, 'f1-score': 0.6666666666666666, 'support': 4.0}, 'micro avg': {'precision': 0.8171641791044776, 'recall': 0.8202247191011236, 'f1-score': 0.8186915887850468, 'support': 534.0}, 'macro avg': {'precision': 0.6791192583227981, 'recall': 0.4307970933731583, 'f1-score': 0.4741525112921473, 'support': 534.0}, 'weighted avg': {'precision': 0.8642661827582777, 'recall': 0.8202247191011236, 'f1-score': 0.8242046595795504, 'support': 534.0}}\n"
     ]
    },
    {
     "name": "stderr",
     "output_type": "stream",
     "text": [
      "/opt/conda/lib/python3.12/site-packages/sklearn/base.py:1389: DataConversionWarning: A column-vector y was passed when a 1d array was expected. Please change the shape of y to (n_samples,), for example using ravel().\n",
      "  return fit_method(estimator, *args, **kwargs)\n"
     ]
    },
    {
     "name": "stdout",
     "output_type": "stream",
     "text": [
      "{'11': {'precision': 0.6666666666666666, 'recall': 0.15384615384615385, 'f1-score': 0.25, 'support': 26.0}, '12': {'precision': 0.8689516129032258, 'recall': 0.9908045977011494, 'f1-score': 0.9258861439312567, 'support': 435.0}, '14': {'precision': 0.6428571428571429, 'recall': 0.2647058823529412, 'f1-score': 0.375, 'support': 34.0}, '24': {'precision': 0.7647058823529411, 'recall': 0.65, 'f1-score': 0.7027027027027027, 'support': 20.0}, '25': {'precision': 1.0, 'recall': 0.6, 'f1-score': 0.75, 'support': 5.0}, 'micro avg': {'precision': 0.8582089552238806, 'recall': 0.8846153846153846, 'f1-score': 0.8712121212121212, 'support': 520.0}, 'macro avg': {'precision': 0.7886362609559953, 'recall': 0.5318713267800489, 'f1-score': 0.6007177693267919, 'support': 520.0}, 'weighted avg': {'precision': 0.8413048950969966, 'recall': 0.8846153846153846, 'f1-score': 0.8457971666618284, 'support': 520.0}}\n"
     ]
    },
    {
     "name": "stderr",
     "output_type": "stream",
     "text": [
      "/opt/conda/lib/python3.12/site-packages/sklearn/base.py:1389: DataConversionWarning: A column-vector y was passed when a 1d array was expected. Please change the shape of y to (n_samples,), for example using ravel().\n",
      "  return fit_method(estimator, *args, **kwargs)\n"
     ]
    },
    {
     "name": "stdout",
     "output_type": "stream",
     "text": [
      "{'11': {'precision': 0.6666666666666666, 'recall': 0.08, 'f1-score': 0.14285714285714285, 'support': 25.0}, '12': {'precision': 0.871244635193133, 'recall': 0.9354838709677419, 'f1-score': 0.9022222222222223, 'support': 434.0}, '14': {'precision': 0.8, 'recall': 0.34285714285714286, 'f1-score': 0.48, 'support': 35.0}, '23': {'precision': 0.0, 'recall': 0.0, 'f1-score': 0.0, 'support': 4.0}, '24': {'precision': 0.631578947368421, 'recall': 0.631578947368421, 'f1-score': 0.631578947368421, 'support': 19.0}, '25': {'precision': 0.3333333333333333, 'recall': 0.2, 'f1-score': 0.25, 'support': 5.0}, 'micro avg': {'precision': 0.8078358208955224, 'recall': 0.8295019157088123, 'f1-score': 0.8185255198487713, 'support': 522.0}, 'macro avg': {'precision': 0.5504705970935924, 'recall': 0.36498666019888426, 'f1-score': 0.4011097187412977, 'support': 522.0}, 'weighted avg': {'precision': 0.8361178256842012, 'recall': 0.8295019157088123, 'f1-score': 0.8145323237851974, 'support': 522.0}}\n"
     ]
    },
    {
     "name": "stderr",
     "output_type": "stream",
     "text": [
      "/opt/conda/lib/python3.12/site-packages/sklearn/base.py:1389: DataConversionWarning: A column-vector y was passed when a 1d array was expected. Please change the shape of y to (n_samples,), for example using ravel().\n",
      "  return fit_method(estimator, *args, **kwargs)\n"
     ]
    },
    {
     "name": "stdout",
     "output_type": "stream",
     "text": [
      "{'11': {'precision': 0.6666666666666666, 'recall': 0.24, 'f1-score': 0.35294117647058826, 'support': 25.0}, '12': {'precision': 0.8845360824742268, 'recall': 0.988479262672811, 'f1-score': 0.9336235038084875, 'support': 434.0}, '14': {'precision': 0.5882352941176471, 'recall': 0.2857142857142857, 'f1-score': 0.38461538461538464, 'support': 35.0}, '22': {'precision': 0.0, 'recall': 0.0, 'f1-score': 0.0, 'support': 2.0}, '23': {'precision': 0.0, 'recall': 0.0, 'f1-score': 0.0, 'support': 4.0}, '24': {'precision': 0.631578947368421, 'recall': 0.631578947368421, 'f1-score': 0.631578947368421, 'support': 19.0}, '25': {'precision': 0.5, 'recall': 0.4, 'f1-score': 0.4444444444444444, 'support': 5.0}, 'micro avg': {'precision': 0.8563432835820896, 'recall': 0.8759541984732825, 'f1-score': 0.8660377358490566, 'support': 524.0}, 'macro avg': {'precision': 0.4672881415181373, 'recall': 0.3636817851079311, 'f1-score': 0.39245763667247513, 'support': 524.0}, 'weighted avg': {'precision': 0.8313808430431274, 'recall': 0.8759541984732825, 'f1-score': 0.8429387228023072, 'support': 524.0}}\n"
     ]
    },
    {
     "name": "stderr",
     "output_type": "stream",
     "text": [
      "/opt/conda/lib/python3.12/site-packages/sklearn/base.py:1389: DataConversionWarning: A column-vector y was passed when a 1d array was expected. Please change the shape of y to (n_samples,), for example using ravel().\n",
      "  return fit_method(estimator, *args, **kwargs)\n"
     ]
    },
    {
     "name": "stdout",
     "output_type": "stream",
     "text": [
      "{'11': {'precision': 0.875, 'recall': 0.2692307692307692, 'f1-score': 0.4117647058823529, 'support': 26.0}, '12': {'precision': 0.8771551724137931, 'recall': 0.9377880184331797, 'f1-score': 0.9064587973273942, 'support': 434.0}, '14': {'precision': 0.7272727272727273, 'recall': 0.23529411764705882, 'f1-score': 0.35555555555555557, 'support': 34.0}, '23': {'precision': 0.03225806451612903, 'recall': 0.25, 'f1-score': 0.05714285714285714, 'support': 4.0}, '24': {'precision': 0.7142857142857143, 'recall': 0.7894736842105263, 'f1-score': 0.75, 'support': 19.0}, 'micro avg': {'precision': 0.8186915887850468, 'recall': 0.8471953578336557, 'f1-score': 0.8326996197718631, 'support': 517.0}, 'macro avg': {'precision': 0.6451943356976727, 'recall': 0.49635731790430687, 'f1-score': 0.496184383181632, 'support': 517.0}, 'weighted avg': {'precision': 0.854667463025826, 'recall': 0.8471953578336557, 'f1-score': 0.8330299046624577, 'support': 517.0}}\n"
     ]
    },
    {
     "name": "stderr",
     "output_type": "stream",
     "text": [
      "/opt/conda/lib/python3.12/site-packages/sklearn/base.py:1389: DataConversionWarning: A column-vector y was passed when a 1d array was expected. Please change the shape of y to (n_samples,), for example using ravel().\n",
      "  return fit_method(estimator, *args, **kwargs)\n"
     ]
    },
    {
     "name": "stdout",
     "output_type": "stream",
     "text": [
      "{'11': {'precision': 0.8, 'recall': 0.15384615384615385, 'f1-score': 0.25806451612903225, 'support': 26.0}, '12': {'precision': 0.8763557483731019, 'recall': 0.9287356321839081, 'f1-score': 0.9017857142857143, 'support': 435.0}, '13': {'precision': 1.0, 'recall': 0.16666666666666666, 'f1-score': 0.2857142857142857, 'support': 12.0}, '14': {'precision': 0.631578947368421, 'recall': 0.35294117647058826, 'f1-score': 0.4528301886792453, 'support': 34.0}, '23': {'precision': 0.0, 'recall': 0.0, 'f1-score': 0.0, 'support': 3.0}, '24': {'precision': 0.8, 'recall': 0.6, 'f1-score': 0.6857142857142857, 'support': 20.0}, '25': {'precision': 0.3333333333333333, 'recall': 0.25, 'f1-score': 0.2857142857142857, 'support': 4.0}, 'micro avg': {'precision': 0.8115671641791045, 'recall': 0.8146067415730337, 'f1-score': 0.8130841121495327, 'support': 534.0}, 'macro avg': {'precision': 0.6344668612964081, 'recall': 0.3503128041667596, 'f1-score': 0.40997475374812126, 'support': 534.0}, 'weighted avg': {'precision': 0.8479808391126572, 'recall': 0.8146067415730337, 'f1-score': 0.8102404566188188, 'support': 534.0}}\n"
     ]
    },
    {
     "name": "stderr",
     "output_type": "stream",
     "text": [
      "/opt/conda/lib/python3.12/site-packages/sklearn/base.py:1389: DataConversionWarning: A column-vector y was passed when a 1d array was expected. Please change the shape of y to (n_samples,), for example using ravel().\n",
      "  return fit_method(estimator, *args, **kwargs)\n"
     ]
    },
    {
     "name": "stdout",
     "output_type": "stream",
     "text": [
      "{'11': {'precision': 0.7142857142857143, 'recall': 0.19230769230769232, 'f1-score': 0.30303030303030304, 'support': 26.0}, '12': {'precision': 0.8960176991150443, 'recall': 0.9310344827586207, 'f1-score': 0.9131905298759865, 'support': 435.0}, '14': {'precision': 0.65, 'recall': 0.38235294117647056, 'f1-score': 0.48148148148148145, 'support': 34.0}, '23': {'precision': 0.030303030303030304, 'recall': 0.3333333333333333, 'f1-score': 0.05555555555555555, 'support': 3.0}, '24': {'precision': 0.8, 'recall': 0.8, 'f1-score': 0.8, 'support': 20.0}, '25': {'precision': 0.5, 'recall': 0.4, 'f1-score': 0.4444444444444444, 'support': 5.0}, 'micro avg': {'precision': 0.8246268656716418, 'recall': 0.8451242829827916, 'f1-score': 0.8347497639282342, 'support': 523.0}, 'macro avg': {'precision': 0.5984344072839648, 'recall': 0.5065047415960194, 'f1-score': 0.4996170523979619, 'support': 523.0}, 'weighted avg': {'precision': 0.8585660359032159, 'recall': 0.8451242829827916, 'f1-score': 0.8410629591474212, 'support': 523.0}}\n"
     ]
    },
    {
     "name": "stderr",
     "output_type": "stream",
     "text": [
      "/opt/conda/lib/python3.12/site-packages/sklearn/base.py:1389: DataConversionWarning: A column-vector y was passed when a 1d array was expected. Please change the shape of y to (n_samples,), for example using ravel().\n",
      "  return fit_method(estimator, *args, **kwargs)\n"
     ]
    },
    {
     "name": "stdout",
     "output_type": "stream",
     "text": [
      "{'11': {'precision': 0.625, 'recall': 0.2, 'f1-score': 0.30303030303030304, 'support': 25.0}, '12': {'precision': 0.8813905930470347, 'recall': 0.9930875576036866, 'f1-score': 0.933911159263272, 'support': 434.0}, '13': {'precision': 1.0, 'recall': 0.09090909090909091, 'f1-score': 0.16666666666666666, 'support': 11.0}, '14': {'precision': 0.6923076923076923, 'recall': 0.2571428571428571, 'f1-score': 0.375, 'support': 35.0}, '23': {'precision': 0.5, 'recall': 0.25, 'f1-score': 0.3333333333333333, 'support': 4.0}, '24': {'precision': 0.7, 'recall': 0.7368421052631579, 'f1-score': 0.717948717948718, 'support': 19.0}, '25': {'precision': 1.0, 'recall': 0.6, 'f1-score': 0.75, 'support': 5.0}, 'micro avg': {'precision': 0.8656716417910447, 'recall': 0.8705440900562852, 'f1-score': 0.8681010289990645, 'support': 533.0}, 'macro avg': {'precision': 0.7712426121935324, 'recall': 0.4468545158455418, 'f1-score': 0.5114128828917562, 'support': 533.0}, 'weighted avg': {'precision': 0.8511806503061581, 'recall': 0.8705440900562852, 'f1-score': 0.8378534577930766, 'support': 533.0}}\n"
     ]
    },
    {
     "name": "stderr",
     "output_type": "stream",
     "text": [
      "/opt/conda/lib/python3.12/site-packages/sklearn/base.py:1389: DataConversionWarning: A column-vector y was passed when a 1d array was expected. Please change the shape of y to (n_samples,), for example using ravel().\n",
      "  return fit_method(estimator, *args, **kwargs)\n"
     ]
    },
    {
     "name": "stdout",
     "output_type": "stream",
     "text": [
      "{'11': {'precision': 0.5, 'recall': 0.12, 'f1-score': 0.1935483870967742, 'support': 25.0}, '12': {'precision': 0.8725274725274725, 'recall': 0.9147465437788018, 'f1-score': 0.8931383577052868, 'support': 434.0}, '14': {'precision': 0.7333333333333333, 'recall': 0.3142857142857143, 'f1-score': 0.44, 'support': 35.0}, '23': {'precision': 0.02702702702702703, 'recall': 0.25, 'f1-score': 0.04878048780487805, 'support': 4.0}, '24': {'precision': 0.7894736842105263, 'recall': 0.7894736842105263, 'f1-score': 0.7894736842105263, 'support': 19.0}, '25': {'precision': 0.5, 'recall': 0.4, 'f1-score': 0.4444444444444444, 'support': 5.0}, 'micro avg': {'precision': 0.8003731343283582, 'recall': 0.8218390804597702, 'f1-score': 0.8109640831758034, 'support': 522.0}, 'macro avg': {'precision': 0.5703935861830599, 'recall': 0.4647509903791737, 'f1-score': 0.46823089354365166, 'support': 522.0}, 'weighted avg': {'precision': 0.8322829460760496, 'recall': 0.8218390804597702, 'f1-score': 0.8147090059290335, 'support': 522.0}}\n"
     ]
    },
    {
     "name": "stderr",
     "output_type": "stream",
     "text": [
      "/opt/conda/lib/python3.12/site-packages/sklearn/base.py:1389: DataConversionWarning: A column-vector y was passed when a 1d array was expected. Please change the shape of y to (n_samples,), for example using ravel().\n",
      "  return fit_method(estimator, *args, **kwargs)\n"
     ]
    },
    {
     "name": "stdout",
     "output_type": "stream",
     "text": [
      "{'11': {'precision': 0.3333333333333333, 'recall': 0.038461538461538464, 'f1-score': 0.06896551724137931, 'support': 26.0}, '12': {'precision': 0.8724696356275303, 'recall': 0.9930875576036866, 'f1-score': 0.9288793103448276, 'support': 434.0}, '14': {'precision': 0.8, 'recall': 0.35294117647058826, 'f1-score': 0.4897959183673469, 'support': 34.0}, '23': {'precision': 0.0, 'recall': 0.0, 'f1-score': 0.0, 'support': 4.0}, '24': {'precision': 0.631578947368421, 'recall': 0.631578947368421, 'f1-score': 0.631578947368421, 'support': 19.0}, '25': {'precision': 0.6666666666666666, 'recall': 0.5, 'f1-score': 0.5714285714285714, 'support': 4.0}, 'micro avg': {'precision': 0.8560747663551402, 'recall': 0.8790786948176583, 'f1-score': 0.8674242424242424, 'support': 521.0}, 'macro avg': {'precision': 0.5506747638326586, 'recall': 0.419344869984039, 'f1-score': 0.4484413774584244, 'support': 521.0}, 'weighted avg': {'precision': 0.823771890970598, 'recall': 0.8790786948176583, 'f1-score': 0.8365940492286663, 'support': 521.0}}\n"
     ]
    },
    {
     "name": "stderr",
     "output_type": "stream",
     "text": [
      "/opt/conda/lib/python3.12/site-packages/sklearn/base.py:1389: DataConversionWarning: A column-vector y was passed when a 1d array was expected. Please change the shape of y to (n_samples,), for example using ravel().\n",
      "  return fit_method(estimator, *args, **kwargs)\n"
     ]
    },
    {
     "name": "stdout",
     "output_type": "stream",
     "text": [
      "{'11': {'precision': 0.5454545454545454, 'recall': 0.23076923076923078, 'f1-score': 0.32432432432432434, 'support': 26.0}, '12': {'precision': 0.879837067209776, 'recall': 0.993103448275862, 'f1-score': 0.9330453563714903, 'support': 435.0}, '13': {'precision': 1.0, 'recall': 0.08333333333333333, 'f1-score': 0.15384615384615385, 'support': 12.0}, '14': {'precision': 0.6153846153846154, 'recall': 0.23529411764705882, 'f1-score': 0.3404255319148936, 'support': 34.0}, '23': {'precision': 1.0, 'recall': 0.3333333333333333, 'f1-score': 0.5, 'support': 3.0}, '24': {'precision': 0.875, 'recall': 0.7, 'f1-score': 0.7777777777777778, 'support': 20.0}, '25': {'precision': 0.6666666666666666, 'recall': 0.5, 'f1-score': 0.5714285714285714, 'support': 4.0}, 'micro avg': {'precision': 0.8656716417910447, 'recall': 0.8689138576779026, 'f1-score': 0.8672897196261682, 'support': 534.0}, 'macro avg': {'precision': 0.7974775563879435, 'recall': 0.43940478047983117, 'f1-score': 0.5144068165233159, 'support': 534.0}, 'weighted avg': {'precision': 0.8483158914004013, 'recall': 0.8689138576779026, 'f1-score': 0.837207966716406, 'support': 534.0}}\n"
     ]
    },
    {
     "name": "stderr",
     "output_type": "stream",
     "text": [
      "/opt/conda/lib/python3.12/site-packages/sklearn/base.py:1389: DataConversionWarning: A column-vector y was passed when a 1d array was expected. Please change the shape of y to (n_samples,), for example using ravel().\n",
      "  return fit_method(estimator, *args, **kwargs)\n"
     ]
    },
    {
     "name": "stdout",
     "output_type": "stream",
     "text": [
      "{'11': {'precision': 1.0, 'recall': 0.11538461538461539, 'f1-score': 0.20689655172413793, 'support': 26.0}, '12': {'precision': 0.87527352297593, 'recall': 0.9195402298850575, 'f1-score': 0.8968609865470852, 'support': 435.0}, '13': {'precision': 1.0, 'recall': 0.18181818181818182, 'f1-score': 0.3076923076923077, 'support': 11.0}, '14': {'precision': 0.7142857142857143, 'recall': 0.29411764705882354, 'f1-score': 0.4166666666666667, 'support': 34.0}, '23': {'precision': 0.02631578947368421, 'recall': 0.3333333333333333, 'f1-score': 0.04878048780487805, 'support': 3.0}, '24': {'precision': 0.75, 'recall': 0.75, 'f1-score': 0.75, 'support': 20.0}, '25': {'precision': 1.0, 'recall': 0.4, 'f1-score': 0.5714285714285714, 'support': 5.0}, 'micro avg': {'precision': 0.8078358208955224, 'recall': 0.8108614232209738, 'f1-score': 0.8093457943925234, 'support': 534.0}, 'macro avg': {'precision': 0.7665535752479041, 'recall': 0.4277420010685731, 'f1-score': 0.4569036531233781, 'support': 534.0}, 'weighted avg': {'precision': 0.8653719927877619, 'recall': 0.8108614232209738, 'f1-score': 0.8072445802708784, 'support': 534.0}}\n"
     ]
    },
    {
     "name": "stderr",
     "output_type": "stream",
     "text": [
      "/opt/conda/lib/python3.12/site-packages/sklearn/base.py:1389: DataConversionWarning: A column-vector y was passed when a 1d array was expected. Please change the shape of y to (n_samples,), for example using ravel().\n",
      "  return fit_method(estimator, *args, **kwargs)\n"
     ]
    },
    {
     "name": "stdout",
     "output_type": "stream",
     "text": [
      "{'11': {'precision': 0.6666666666666666, 'recall': 0.08, 'f1-score': 0.14285714285714285, 'support': 25.0}, '12': {'precision': 0.88470066518847, 'recall': 0.9193548387096774, 'f1-score': 0.9016949152542373, 'support': 434.0}, '14': {'precision': 0.7777777777777778, 'recall': 0.4, 'f1-score': 0.5283018867924528, 'support': 35.0}, '23': {'precision': 0.0, 'recall': 0.0, 'f1-score': 0.0, 'support': 4.0}, '24': {'precision': 0.7894736842105263, 'recall': 0.7894736842105263, 'f1-score': 0.7894736842105263, 'support': 19.0}, '25': {'precision': 0.6, 'recall': 0.6, 'f1-score': 0.6, 'support': 5.0}, 'micro avg': {'precision': 0.8078358208955224, 'recall': 0.8295019157088123, 'f1-score': 0.8185255198487713, 'support': 522.0}, 'macro avg': {'precision': 0.6197697989739067, 'recall': 0.464804753820034, 'f1-score': 0.4937212715190599, 'support': 522.0}, 'weighted avg': {'precision': 0.8541168152886683, 'recall': 0.8295019157088123, 'f1-score': 0.8264321605929184, 'support': 522.0}}\n"
     ]
    },
    {
     "name": "stderr",
     "output_type": "stream",
     "text": [
      "/opt/conda/lib/python3.12/site-packages/sklearn/base.py:1389: DataConversionWarning: A column-vector y was passed when a 1d array was expected. Please change the shape of y to (n_samples,), for example using ravel().\n",
      "  return fit_method(estimator, *args, **kwargs)\n"
     ]
    },
    {
     "name": "stdout",
     "output_type": "stream",
     "text": [
      "{'11': {'precision': 0.625, 'recall': 0.2, 'f1-score': 0.30303030303030304, 'support': 25.0}, '12': {'precision': 0.8730853391684902, 'recall': 0.9193548387096774, 'f1-score': 0.8956228956228957, 'support': 434.0}, '14': {'precision': 0.875, 'recall': 0.4, 'f1-score': 0.5490196078431373, 'support': 35.0}, '23': {'precision': 0.0, 'recall': 0.0, 'f1-score': 0.0, 'support': 4.0}, '24': {'precision': 0.5294117647058824, 'recall': 0.47368421052631576, 'f1-score': 0.5, 'support': 19.0}, '25': {'precision': 0.0, 'recall': 0.0, 'f1-score': 0.0, 'support': 5.0}, 'micro avg': {'precision': 0.7966417910447762, 'recall': 0.8180076628352491, 'f1-score': 0.8071833648393195, 'support': 522.0}, 'macro avg': {'precision': 0.4837495173123954, 'recall': 0.33217317487266557, 'f1-score': 0.374612134416056, 'support': 522.0}, 'weighted avg': {'precision': 0.8337698481389588, 'recall': 0.8180076628352491, 'f1-score': 0.8141604991390883, 'support': 522.0}}\n"
     ]
    },
    {
     "name": "stderr",
     "output_type": "stream",
     "text": [
      "/opt/conda/lib/python3.12/site-packages/sklearn/base.py:1389: DataConversionWarning: A column-vector y was passed when a 1d array was expected. Please change the shape of y to (n_samples,), for example using ravel().\n",
      "  return fit_method(estimator, *args, **kwargs)\n"
     ]
    },
    {
     "name": "stdout",
     "output_type": "stream",
     "text": [
      "{'11': {'precision': 0.125, 'recall': 0.038461538461538464, 'f1-score': 0.058823529411764705, 'support': 26.0}, '12': {'precision': 0.875, 'recall': 0.9838709677419355, 'f1-score': 0.9262472885032538, 'support': 434.0}, '14': {'precision': 0.46153846153846156, 'recall': 0.17647058823529413, 'f1-score': 0.2553191489361702, 'support': 34.0}, '22': {'precision': 0.0, 'recall': 0.0, 'f1-score': 0.0, 'support': 2.0}, '24': {'precision': 0.6818181818181818, 'recall': 0.7894736842105263, 'f1-score': 0.7317073170731707, 'support': 19.0}, '25': {'precision': 1.0, 'recall': 0.75, 'f1-score': 0.8571428571428571, 'support': 4.0}, 'micro avg': {'precision': 0.8448598130841122, 'recall': 0.8709055876685935, 'f1-score': 0.857685009487666, 'support': 519.0}, 'macro avg': {'precision': 0.5238927738927739, 'recall': 0.4563794631082157, 'f1-score': 0.4715400235112028, 'support': 519.0}, 'weighted avg': {'precision': 0.8008609887222603, 'recall': 0.8709055876685935, 'f1-score': 0.8276157928553168, 'support': 519.0}}\n"
     ]
    },
    {
     "name": "stderr",
     "output_type": "stream",
     "text": [
      "/opt/conda/lib/python3.12/site-packages/sklearn/base.py:1389: DataConversionWarning: A column-vector y was passed when a 1d array was expected. Please change the shape of y to (n_samples,), for example using ravel().\n",
      "  return fit_method(estimator, *args, **kwargs)\n"
     ]
    },
    {
     "name": "stdout",
     "output_type": "stream",
     "text": [
      "{'11': {'precision': 0.5, 'recall': 0.07692307692307693, 'f1-score': 0.13333333333333333, 'support': 26.0}, '12': {'precision': 0.8704103671706264, 'recall': 0.9264367816091954, 'f1-score': 0.8975501113585747, 'support': 435.0}, '13': {'precision': 0.5, 'recall': 0.08333333333333333, 'f1-score': 0.14285714285714285, 'support': 12.0}, '14': {'precision': 0.5, 'recall': 0.2647058823529412, 'f1-score': 0.34615384615384615, 'support': 34.0}, '23': {'precision': 0.03225806451612903, 'recall': 0.3333333333333333, 'f1-score': 0.058823529411764705, 'support': 3.0}, '24': {'precision': 0.6666666666666666, 'recall': 0.6, 'f1-score': 0.631578947368421, 'support': 20.0}, 'micro avg': {'precision': 0.7985074626865671, 'recall': 0.8075471698113208, 'f1-score': 0.8030018761726079, 'support': 530.0}, 'macro avg': {'precision': 0.5115558497255703, 'recall': 0.38078873459198, 'f1-score': 0.3683828184138471, 'support': 530.0}, 'weighted avg': {'precision': 0.8076577683888758, 'recall': 0.8075471698113208, 'f1-score': 0.7928160964655979, 'support': 530.0}}\n"
     ]
    },
    {
     "name": "stderr",
     "output_type": "stream",
     "text": [
      "/opt/conda/lib/python3.12/site-packages/sklearn/base.py:1389: DataConversionWarning: A column-vector y was passed when a 1d array was expected. Please change the shape of y to (n_samples,), for example using ravel().\n",
      "  return fit_method(estimator, *args, **kwargs)\n"
     ]
    },
    {
     "name": "stdout",
     "output_type": "stream",
     "text": [
      "{'11': {'precision': 0.5, 'recall': 0.11538461538461539, 'f1-score': 0.1875, 'support': 26.0}, '12': {'precision': 0.8881578947368421, 'recall': 0.9310344827586207, 'f1-score': 0.9090909090909091, 'support': 435.0}, '13': {'precision': 1.0, 'recall': 0.09090909090909091, 'f1-score': 0.16666666666666666, 'support': 11.0}, '14': {'precision': 0.8823529411764706, 'recall': 0.4411764705882353, 'f1-score': 0.5882352941176471, 'support': 34.0}, '23': {'precision': 0.0, 'recall': 0.0, 'f1-score': 0.0, 'support': 3.0}, '24': {'precision': 0.6363636363636364, 'recall': 0.7, 'f1-score': 0.6666666666666666, 'support': 20.0}, '25': {'precision': 0.3333333333333333, 'recall': 0.2, 'f1-score': 0.25, 'support': 5.0}, 'micro avg': {'precision': 0.8190298507462687, 'recall': 0.8220973782771536, 'f1-score': 0.8205607476635514, 'support': 534.0}, 'macro avg': {'precision': 0.6057439722300403, 'recall': 0.35407209423436603, 'f1-score': 0.39545136236312706, 'support': 534.0}, 'weighted avg': {'precision': 0.8515779468248423, 'recall': 0.8220973782771536, 'f1-score': 0.8178768017251162, 'support': 534.0}}\n"
     ]
    },
    {
     "name": "stderr",
     "output_type": "stream",
     "text": [
      "/opt/conda/lib/python3.12/site-packages/sklearn/base.py:1389: DataConversionWarning: A column-vector y was passed when a 1d array was expected. Please change the shape of y to (n_samples,), for example using ravel().\n",
      "  return fit_method(estimator, *args, **kwargs)\n"
     ]
    },
    {
     "name": "stdout",
     "output_type": "stream",
     "text": [
      "{'11': {'precision': 0.6, 'recall': 0.12, 'f1-score': 0.2, 'support': 25.0}, '12': {'precision': 0.8926174496644296, 'recall': 0.9193548387096774, 'f1-score': 0.905788876276958, 'support': 434.0}, '13': {'precision': 1.0, 'recall': 0.09090909090909091, 'f1-score': 0.16666666666666666, 'support': 11.0}, '14': {'precision': 0.8, 'recall': 0.45714285714285713, 'f1-score': 0.5818181818181818, 'support': 35.0}, '23': {'precision': 0.05128205128205128, 'recall': 0.5, 'f1-score': 0.09302325581395349, 'support': 4.0}, '24': {'precision': 0.7, 'recall': 0.7368421052631579, 'f1-score': 0.717948717948718, 'support': 19.0}, '25': {'precision': 0.5, 'recall': 0.4, 'f1-score': 0.4444444444444444, 'support': 5.0}, 'micro avg': {'precision': 0.8152985074626866, 'recall': 0.8198874296435272, 'f1-score': 0.8175865294667914, 'support': 533.0}, 'macro avg': {'precision': 0.6491285001352115, 'recall': 0.460606984574969, 'f1-score': 0.44424144899556034, 'support': 533.0}, 'weighted avg': {'precision': 0.8581634171847855, 'recall': 0.8198874296435272, 'f1-score': 0.8190331761494805, 'support': 533.0}}\n"
     ]
    },
    {
     "name": "stderr",
     "output_type": "stream",
     "text": [
      "/opt/conda/lib/python3.12/site-packages/sklearn/base.py:1389: DataConversionWarning: A column-vector y was passed when a 1d array was expected. Please change the shape of y to (n_samples,), for example using ravel().\n",
      "  return fit_method(estimator, *args, **kwargs)\n"
     ]
    },
    {
     "name": "stdout",
     "output_type": "stream",
     "text": [
      "{'11': {'precision': 0.6666666666666666, 'recall': 0.16, 'f1-score': 0.25806451612903225, 'support': 25.0}, '12': {'precision': 0.8803245436105477, 'recall': 1.0, 'f1-score': 0.9363538295577131, 'support': 434.0}, '13': {'precision': 0.0, 'recall': 0.0, 'f1-score': 0.0, 'support': 11.0}, '14': {'precision': 0.7272727272727273, 'recall': 0.22857142857142856, 'f1-score': 0.34782608695652173, 'support': 35.0}, '24': {'precision': 0.7727272727272727, 'recall': 0.8947368421052632, 'f1-score': 0.8292682926829268, 'support': 19.0}, '25': {'precision': 1.0, 'recall': 0.6, 'f1-score': 0.75, 'support': 5.0}, 'micro avg': {'precision': 0.8694029850746269, 'recall': 0.8809073724007561, 'f1-score': 0.8751173708920188, 'support': 529.0}, 'macro avg': {'precision': 0.6744985350462024, 'recall': 0.4805513784461153, 'f1-score': 0.520252120887699, 'support': 529.0}, 'weighted avg': {'precision': 0.8390621592249679, 'recall': 0.8809073724007561, 'f1-score': 0.8402820142452309, 'support': 529.0}}\n"
     ]
    },
    {
     "name": "stderr",
     "output_type": "stream",
     "text": [
      "/opt/conda/lib/python3.12/site-packages/sklearn/base.py:1389: DataConversionWarning: A column-vector y was passed when a 1d array was expected. Please change the shape of y to (n_samples,), for example using ravel().\n",
      "  return fit_method(estimator, *args, **kwargs)\n"
     ]
    },
    {
     "name": "stdout",
     "output_type": "stream",
     "text": [
      "{'11': {'precision': 0.36363636363636365, 'recall': 0.15384615384615385, 'f1-score': 0.21621621621621623, 'support': 26.0}, '12': {'precision': 0.8742393509127789, 'recall': 0.9930875576036866, 'f1-score': 0.9298813376483279, 'support': 434.0}, '14': {'precision': 0.6428571428571429, 'recall': 0.2647058823529412, 'f1-score': 0.375, 'support': 34.0}, '24': {'precision': 0.8, 'recall': 0.631578947368421, 'f1-score': 0.7058823529411765, 'support': 19.0}, '25': {'precision': 1.0, 'recall': 0.5, 'f1-score': 0.6666666666666666, 'support': 4.0}, 'micro avg': {'precision': 0.8560747663551402, 'recall': 0.8858800773694391, 'f1-score': 0.870722433460076, 'support': 517.0}, 'macro avg': {'precision': 0.7361465714812571, 'recall': 0.5086437082342405, 'f1-score': 0.5787293146944774, 'support': 517.0}, 'weighted avg': {'precision': 0.8315891036902018, 'recall': 0.8858800773694391, 'f1-score': 0.847231244745735, 'support': 517.0}}\n"
     ]
    },
    {
     "name": "stderr",
     "output_type": "stream",
     "text": [
      "/opt/conda/lib/python3.12/site-packages/sklearn/base.py:1389: DataConversionWarning: A column-vector y was passed when a 1d array was expected. Please change the shape of y to (n_samples,), for example using ravel().\n",
      "  return fit_method(estimator, *args, **kwargs)\n"
     ]
    },
    {
     "name": "stdout",
     "output_type": "stream",
     "text": [
      "{'11': {'precision': 0.42857142857142855, 'recall': 0.11538461538461539, 'f1-score': 0.18181818181818182, 'support': 26.0}, '12': {'precision': 0.8757637474541752, 'recall': 0.9885057471264368, 'f1-score': 0.9287257019438445, 'support': 435.0}, '14': {'precision': 0.6842105263157895, 'recall': 0.38235294117647056, 'f1-score': 0.49056603773584906, 'support': 34.0}, '24': {'precision': 0.7692307692307693, 'recall': 0.5, 'f1-score': 0.6060606060606061, 'support': 20.0}, '25': {'precision': 0.3333333333333333, 'recall': 0.5, 'f1-score': 0.4, 'support': 4.0}, 'micro avg': {'precision': 0.8544776119402985, 'recall': 0.882466281310212, 'f1-score': 0.8682464454976303, 'support': 519.0}, 'macro avg': {'precision': 0.6182219609810992, 'recall': 0.4972486607375045, 'f1-score': 0.5214341055116962, 'support': 519.0}, 'weighted avg': {'precision': 0.8325263851601327, 'recall': 0.882466281310212, 'f1-score': 0.8460952032313606, 'support': 519.0}}\n"
     ]
    },
    {
     "name": "stderr",
     "output_type": "stream",
     "text": [
      "/opt/conda/lib/python3.12/site-packages/sklearn/base.py:1389: DataConversionWarning: A column-vector y was passed when a 1d array was expected. Please change the shape of y to (n_samples,), for example using ravel().\n",
      "  return fit_method(estimator, *args, **kwargs)\n"
     ]
    },
    {
     "name": "stdout",
     "output_type": "stream",
     "text": [
      "{'11': {'precision': 1.0, 'recall': 0.19230769230769232, 'f1-score': 0.3225806451612903, 'support': 26.0}, '12': {'precision': 0.875, 'recall': 0.9977011494252873, 'f1-score': 0.9323308270676691, 'support': 435.0}, '13': {'precision': 1.0, 'recall': 0.09090909090909091, 'f1-score': 0.16666666666666666, 'support': 11.0}, '14': {'precision': 0.8461538461538461, 'recall': 0.3235294117647059, 'f1-score': 0.46808510638297873, 'support': 34.0}, '23': {'precision': 1.0, 'recall': 0.3333333333333333, 'f1-score': 0.5, 'support': 3.0}, '24': {'precision': 0.7647058823529411, 'recall': 0.65, 'f1-score': 0.7027027027027027, 'support': 20.0}, '25': {'precision': 0.6666666666666666, 'recall': 0.4, 'f1-score': 0.5, 'support': 5.0}, 'micro avg': {'precision': 0.871268656716418, 'recall': 0.8745318352059925, 'f1-score': 0.8728971962616823, 'support': 534.0}, 'macro avg': {'precision': 0.8789323421676364, 'recall': 0.42682581110573, 'f1-score': 0.5131951354259011, 'support': 534.0}, 'weighted avg': {'precision': 0.8764450969094062, 'recall': 0.8745318352059925, 'f1-score': 0.8422346208858394, 'support': 534.0}}\n"
     ]
    },
    {
     "name": "stderr",
     "output_type": "stream",
     "text": [
      "/opt/conda/lib/python3.12/site-packages/sklearn/base.py:1389: DataConversionWarning: A column-vector y was passed when a 1d array was expected. Please change the shape of y to (n_samples,), for example using ravel().\n",
      "  return fit_method(estimator, *args, **kwargs)\n"
     ]
    },
    {
     "name": "stdout",
     "output_type": "stream",
     "text": [
      "{'11': {'precision': 0.75, 'recall': 0.12, 'f1-score': 0.20689655172413793, 'support': 25.0}, '12': {'precision': 0.8828633405639913, 'recall': 0.9377880184331797, 'f1-score': 0.9094972067039107, 'support': 434.0}, '14': {'precision': 0.5714285714285714, 'recall': 0.22857142857142856, 'f1-score': 0.32653061224489793, 'support': 35.0}, '23': {'precision': 0.030303030303030304, 'recall': 0.25, 'f1-score': 0.05405405405405406, 'support': 4.0}, '24': {'precision': 0.6818181818181818, 'recall': 0.7894736842105263, 'f1-score': 0.7317073170731707, 'support': 19.0}, '25': {'precision': 1.0, 'recall': 0.4, 'f1-score': 0.5714285714285714, 'support': 5.0}, 'micro avg': {'precision': 0.8134328358208955, 'recall': 0.8352490421455939, 'f1-score': 0.8241965973534972, 'support': 522.0}, 'macro avg': {'precision': 0.6527355206856291, 'recall': 0.45430552186918916, 'f1-score': 0.46668571887145704, 'support': 522.0}, 'weighted avg': {'precision': 0.8428897459397122, 'recall': 0.8352490421455939, 'f1-score': 0.8204953467986998, 'support': 522.0}}\n"
     ]
    },
    {
     "name": "stderr",
     "output_type": "stream",
     "text": [
      "/opt/conda/lib/python3.12/site-packages/sklearn/base.py:1389: DataConversionWarning: A column-vector y was passed when a 1d array was expected. Please change the shape of y to (n_samples,), for example using ravel().\n",
      "  return fit_method(estimator, *args, **kwargs)\n"
     ]
    },
    {
     "name": "stdout",
     "output_type": "stream",
     "text": [
      "{'11': {'precision': 0.375, 'recall': 0.12, 'f1-score': 0.18181818181818182, 'support': 25.0}, '12': {'precision': 0.8687089715536105, 'recall': 0.9147465437788018, 'f1-score': 0.8911335578002245, 'support': 434.0}, '13': {'precision': 1.0, 'recall': 0.09090909090909091, 'f1-score': 0.16666666666666666, 'support': 11.0}, '14': {'precision': 0.6923076923076923, 'recall': 0.2571428571428571, 'f1-score': 0.375, 'support': 35.0}, '23': {'precision': 0.0, 'recall': 0.0, 'f1-score': 0.0, 'support': 4.0}, '24': {'precision': 0.8333333333333334, 'recall': 0.7894736842105263, 'f1-score': 0.8108108108108109, 'support': 19.0}, '25': {'precision': 0.6666666666666666, 'recall': 0.4, 'f1-score': 0.5, 'support': 5.0}, 'micro avg': {'precision': 0.7966417910447762, 'recall': 0.801125703564728, 'f1-score': 0.7988774555659495, 'support': 533.0}, 'macro avg': {'precision': 0.6337166662659005, 'recall': 0.3674674537201823, 'f1-score': 0.41791845958512625, 'support': 533.0}, 'weighted avg': {'precision': 0.827002119233964, 'recall': 0.801125703564728, 'f1-score': 0.7957995447832847, 'support': 533.0}}\n"
     ]
    },
    {
     "name": "stderr",
     "output_type": "stream",
     "text": [
      "/opt/conda/lib/python3.12/site-packages/sklearn/base.py:1389: DataConversionWarning: A column-vector y was passed when a 1d array was expected. Please change the shape of y to (n_samples,), for example using ravel().\n",
      "  return fit_method(estimator, *args, **kwargs)\n"
     ]
    },
    {
     "name": "stdout",
     "output_type": "stream",
     "text": [
      "{'11': {'precision': 0.8, 'recall': 0.15384615384615385, 'f1-score': 0.25806451612903225, 'support': 26.0}, '12': {'precision': 0.8893805309734514, 'recall': 0.9262672811059908, 'f1-score': 0.90744920993228, 'support': 434.0}, '13': {'precision': 1.0, 'recall': 0.09090909090909091, 'f1-score': 0.16666666666666666, 'support': 11.0}, '14': {'precision': 0.6666666666666666, 'recall': 0.35294117647058826, 'f1-score': 0.46153846153846156, 'support': 34.0}, '23': {'precision': 0.0, 'recall': 0.0, 'f1-score': 0.0, 'support': 4.0}, '24': {'precision': 0.5454545454545454, 'recall': 0.631578947368421, 'f1-score': 0.5853658536585366, 'support': 19.0}, '25': {'precision': 0.6666666666666666, 'recall': 0.5, 'f1-score': 0.5714285714285714, 'support': 4.0}, 'micro avg': {'precision': 0.8093457943925234, 'recall': 0.8139097744360902, 'f1-score': 0.8116213683223993, 'support': 532.0}, 'macro avg': {'precision': 0.6525954871087614, 'recall': 0.3793632356714635, 'f1-score': 0.4215018970505069, 'support': 532.0}, 'weighted avg': {'precision': 0.8524212784576083, 'recall': 0.8139097744360902, 'f1-score': 0.8110450019940447, 'support': 532.0}}\n"
     ]
    },
    {
     "name": "stderr",
     "output_type": "stream",
     "text": [
      "/opt/conda/lib/python3.12/site-packages/sklearn/base.py:1389: DataConversionWarning: A column-vector y was passed when a 1d array was expected. Please change the shape of y to (n_samples,), for example using ravel().\n",
      "  return fit_method(estimator, *args, **kwargs)\n"
     ]
    },
    {
     "name": "stdout",
     "output_type": "stream",
     "text": [
      "{'11': {'precision': 0.8333333333333334, 'recall': 0.19230769230769232, 'f1-score': 0.3125, 'support': 26.0}, '12': {'precision': 0.885480572597137, 'recall': 0.9954022988505747, 'f1-score': 0.9372294372294372, 'support': 435.0}, '13': {'precision': 1.0, 'recall': 0.08333333333333333, 'f1-score': 0.15384615384615385, 'support': 12.0}, '14': {'precision': 0.5625, 'recall': 0.2647058823529412, 'f1-score': 0.36, 'support': 34.0}, '24': {'precision': 0.6363636363636364, 'recall': 0.7, 'f1-score': 0.6666666666666666, 'support': 20.0}, '25': {'precision': 0.0, 'recall': 0.0, 'f1-score': 0.0, 'support': 4.0}, 'micro avg': {'precision': 0.8619402985074627, 'recall': 0.8700564971751412, 'f1-score': 0.865979381443299, 'support': 531.0}, 'macro avg': {'precision': 0.6529462570490178, 'recall': 0.3726248678074236, 'f1-score': 0.40504037629037626, 'support': 531.0}, 'weighted avg': {'precision': 0.8487815225493296, 'recall': 0.8700564971751412, 'f1-score': 0.8347255976916993, 'support': 531.0}}\n"
     ]
    },
    {
     "name": "stderr",
     "output_type": "stream",
     "text": [
      "/opt/conda/lib/python3.12/site-packages/sklearn/base.py:1389: DataConversionWarning: A column-vector y was passed when a 1d array was expected. Please change the shape of y to (n_samples,), for example using ravel().\n",
      "  return fit_method(estimator, *args, **kwargs)\n"
     ]
    },
    {
     "name": "stdout",
     "output_type": "stream",
     "text": [
      "{'11': {'precision': 0.09090909090909091, 'recall': 0.15384615384615385, 'f1-score': 0.11428571428571428, 'support': 26.0}, '12': {'precision': 0.8785871964679912, 'recall': 0.9149425287356322, 'f1-score': 0.8963963963963963, 'support': 435.0}, '14': {'precision': 0.6470588235294118, 'recall': 0.3235294117647059, 'f1-score': 0.43137254901960786, 'support': 34.0}, '22': {'precision': 0.0, 'recall': 0.0, 'f1-score': 0.0, 'support': 1.0}, '23': {'precision': 1.0, 'recall': 0.3333333333333333, 'f1-score': 0.5, 'support': 3.0}, '24': {'precision': 0.7647058823529411, 'recall': 0.65, 'f1-score': 0.7027027027027027, 'support': 20.0}, '25': {'precision': 0.6666666666666666, 'recall': 0.4, 'f1-score': 0.5, 'support': 5.0}, 'micro avg': {'precision': 0.8003731343283582, 'recall': 0.8187022900763359, 'f1-score': 0.809433962264151, 'support': 524.0}, 'macro avg': {'precision': 0.5782753799894431, 'recall': 0.39652163252568934, 'f1-score': 0.4492510517720602, 'support': 524.0}, 'weighted avg': {'precision': 0.8171307591748181, 'recall': 0.8187022900763359, 'f1-score': 0.8122606521461483, 'support': 524.0}}\n"
     ]
    },
    {
     "name": "stderr",
     "output_type": "stream",
     "text": [
      "/opt/conda/lib/python3.12/site-packages/sklearn/base.py:1389: DataConversionWarning: A column-vector y was passed when a 1d array was expected. Please change the shape of y to (n_samples,), for example using ravel().\n",
      "  return fit_method(estimator, *args, **kwargs)\n"
     ]
    },
    {
     "name": "stdout",
     "output_type": "stream",
     "text": [
      "{'11': {'precision': 0.3333333333333333, 'recall': 0.04, 'f1-score': 0.07142857142857142, 'support': 25.0}, '12': {'precision': 0.875, 'recall': 0.9354838709677419, 'f1-score': 0.9042316258351893, 'support': 434.0}, '14': {'precision': 0.8571428571428571, 'recall': 0.34285714285714286, 'f1-score': 0.4897959183673469, 'support': 35.0}, '23': {'precision': 0.03333333333333333, 'recall': 0.25, 'f1-score': 0.058823529411764705, 'support': 4.0}, '24': {'precision': 0.6086956521739131, 'recall': 0.7368421052631579, 'f1-score': 0.6666666666666666, 'support': 19.0}, '25': {'precision': 1.0, 'recall': 0.4, 'f1-score': 0.5714285714285714, 'support': 5.0}, 'micro avg': {'precision': 0.8134328358208955, 'recall': 0.8352490421455939, 'f1-score': 0.8241965973534972, 'support': 522.0}, 'macro avg': {'precision': 0.6179175293305728, 'recall': 0.4508638531813404, 'f1-score': 0.46039581385635175, 'support': 522.0}, 'weighted avg': {'precision': 0.8329154867010939, 'recall': 0.8352490421455939, 'f1-score': 0.8182455951772034, 'support': 522.0}}\n"
     ]
    },
    {
     "name": "stderr",
     "output_type": "stream",
     "text": [
      "/opt/conda/lib/python3.12/site-packages/sklearn/base.py:1389: DataConversionWarning: A column-vector y was passed when a 1d array was expected. Please change the shape of y to (n_samples,), for example using ravel().\n",
      "  return fit_method(estimator, *args, **kwargs)\n"
     ]
    },
    {
     "name": "stdout",
     "output_type": "stream",
     "text": [
      "{'11': {'precision': 0.7142857142857143, 'recall': 0.2, 'f1-score': 0.3125, 'support': 25.0}, '12': {'precision': 0.8783185840707964, 'recall': 0.9147465437788018, 'f1-score': 0.8961625282167043, 'support': 434.0}, '14': {'precision': 0.7222222222222222, 'recall': 0.37142857142857144, 'f1-score': 0.49056603773584906, 'support': 35.0}, '23': {'precision': 0.0, 'recall': 0.0, 'f1-score': 0.0, 'support': 4.0}, '24': {'precision': 0.8235294117647058, 'recall': 0.7368421052631579, 'f1-score': 0.7777777777777778, 'support': 19.0}, '25': {'precision': 0.4, 'recall': 0.4, 'f1-score': 0.4, 'support': 5.0}, 'micro avg': {'precision': 0.8041044776119403, 'recall': 0.8256704980842912, 'f1-score': 0.8147448015122873, 'support': 522.0}, 'macro avg': {'precision': 0.5897259887239065, 'recall': 0.4371695367450885, 'f1-score': 0.4795010572883885, 'support': 522.0}, 'weighted avg': {'precision': 0.8466901244160453, 'recall': 0.8256704980842912, 'f1-score': 0.825085491081575, 'support': 522.0}}\n"
     ]
    },
    {
     "name": "stderr",
     "output_type": "stream",
     "text": [
      "/opt/conda/lib/python3.12/site-packages/sklearn/base.py:1389: DataConversionWarning: A column-vector y was passed when a 1d array was expected. Please change the shape of y to (n_samples,), for example using ravel().\n",
      "  return fit_method(estimator, *args, **kwargs)\n"
     ]
    },
    {
     "name": "stdout",
     "output_type": "stream",
     "text": [
      "{'11': {'precision': 0.6666666666666666, 'recall': 0.07692307692307693, 'f1-score': 0.13793103448275862, 'support': 26.0}, '12': {'precision': 0.868995633187773, 'recall': 0.9170506912442397, 'f1-score': 0.8923766816143498, 'support': 434.0}, '13': {'precision': 1.0, 'recall': 0.09090909090909091, 'f1-score': 0.16666666666666666, 'support': 11.0}, '14': {'precision': 0.6923076923076923, 'recall': 0.2647058823529412, 'f1-score': 0.3829787234042553, 'support': 34.0}, '23': {'precision': 0.02631578947368421, 'recall': 0.25, 'f1-score': 0.047619047619047616, 'support': 4.0}, '24': {'precision': 0.7, 'recall': 0.7368421052631579, 'f1-score': 0.717948717948718, 'support': 19.0}, '25': {'precision': 1.0, 'recall': 0.5, 'f1-score': 0.6666666666666666, 'support': 4.0}, 'micro avg': {'precision': 0.7981308411214953, 'recall': 0.8026315789473685, 'f1-score': 0.8003748828491096, 'support': 532.0}, 'macro avg': {'precision': 0.7077551116622595, 'recall': 0.40520440667035806, 'f1-score': 0.4303125054860661, 'support': 532.0}, 'weighted avg': {'precision': 0.8391375241225246, 'recall': 0.8026315789473685, 'f1-score': 0.7936662878654624, 'support': 532.0}}\n"
     ]
    },
    {
     "name": "stderr",
     "output_type": "stream",
     "text": [
      "/opt/conda/lib/python3.12/site-packages/sklearn/base.py:1389: DataConversionWarning: A column-vector y was passed when a 1d array was expected. Please change the shape of y to (n_samples,), for example using ravel().\n",
      "  return fit_method(estimator, *args, **kwargs)\n"
     ]
    },
    {
     "name": "stdout",
     "output_type": "stream",
     "text": [
      "{'11': {'precision': 0.3333333333333333, 'recall': 0.038461538461538464, 'f1-score': 0.06896551724137931, 'support': 26.0}, '12': {'precision': 0.8742393509127789, 'recall': 0.9908045977011494, 'f1-score': 0.9288793103448276, 'support': 435.0}, '14': {'precision': 0.5882352941176471, 'recall': 0.29411764705882354, 'f1-score': 0.39215686274509803, 'support': 34.0}, '24': {'precision': 0.875, 'recall': 0.7, 'f1-score': 0.7777777777777778, 'support': 20.0}, '25': {'precision': 0.2857142857142857, 'recall': 0.5, 'f1-score': 0.36363636363636365, 'support': 4.0}, 'micro avg': {'precision': 0.8544776119402985, 'recall': 0.882466281310212, 'f1-score': 0.8682464454976303, 'support': 519.0}, 'macro avg': {'precision': 0.591304452815609, 'recall': 0.5046767566443023, 'f1-score': 0.5062831663490893, 'support': 519.0}, 'weighted avg': {'precision': 0.8238991164866718, 'recall': 0.882466281310212, 'f1-score': 0.8404605737797883, 'support': 519.0}}\n"
     ]
    },
    {
     "name": "stderr",
     "output_type": "stream",
     "text": [
      "/opt/conda/lib/python3.12/site-packages/sklearn/base.py:1389: DataConversionWarning: A column-vector y was passed when a 1d array was expected. Please change the shape of y to (n_samples,), for example using ravel().\n",
      "  return fit_method(estimator, *args, **kwargs)\n"
     ]
    },
    {
     "name": "stdout",
     "output_type": "stream",
     "text": [
      "{'11': {'precision': 0.625, 'recall': 0.19230769230769232, 'f1-score': 0.29411764705882354, 'support': 26.0}, '12': {'precision': 0.8800813008130082, 'recall': 0.9954022988505747, 'f1-score': 0.9341963322545846, 'support': 435.0}, '13': {'precision': 0.5, 'recall': 0.09090909090909091, 'f1-score': 0.15384615384615385, 'support': 11.0}, '14': {'precision': 0.6470588235294118, 'recall': 0.3235294117647059, 'f1-score': 0.43137254901960786, 'support': 34.0}, '24': {'precision': 0.8, 'recall': 0.6, 'f1-score': 0.6857142857142857, 'support': 20.0}, '25': {'precision': 1.0, 'recall': 0.4, 'f1-score': 0.5714285714285714, 'support': 5.0}, 'micro avg': {'precision': 0.8656716417910447, 'recall': 0.8738229755178908, 'f1-score': 0.8697282099343955, 'support': 531.0}, 'macro avg': {'precision': 0.74202335405707, 'recall': 0.4336914156386773, 'f1-score': 0.5117792565536711, 'support': 531.0}, 'weighted avg': {'precision': 0.8429102935097148, 'recall': 0.8738229755178908, 'f1-score': 0.8417191455455304, 'support': 531.0}}\n"
     ]
    },
    {
     "name": "stderr",
     "output_type": "stream",
     "text": [
      "/opt/conda/lib/python3.12/site-packages/sklearn/base.py:1389: DataConversionWarning: A column-vector y was passed when a 1d array was expected. Please change the shape of y to (n_samples,), for example using ravel().\n",
      "  return fit_method(estimator, *args, **kwargs)\n"
     ]
    },
    {
     "name": "stdout",
     "output_type": "stream",
     "text": [
      "{'11': {'precision': 0.5, 'recall': 0.08, 'f1-score': 0.13793103448275862, 'support': 25.0}, '12': {'precision': 0.8903225806451613, 'recall': 0.9539170506912442, 'f1-score': 0.9210233592880979, 'support': 434.0}, '14': {'precision': 0.8333333333333334, 'recall': 0.42857142857142855, 'f1-score': 0.5660377358490566, 'support': 35.0}, '23': {'precision': 0.045454545454545456, 'recall': 0.25, 'f1-score': 0.07692307692307693, 'support': 4.0}, '24': {'precision': 0.5833333333333334, 'recall': 0.7368421052631579, 'f1-score': 0.6511627906976745, 'support': 19.0}, '25': {'precision': 0.6666666666666666, 'recall': 0.4, 'f1-score': 0.5, 'support': 5.0}, 'micro avg': {'precision': 0.835820895522388, 'recall': 0.8582375478927203, 'f1-score': 0.8468809073724007, 'support': 522.0}, 'macro avg': {'precision': 0.5865184099055066, 'recall': 0.4748884307543051, 'f1-score': 0.4755129995401108, 'support': 522.0}, 'weighted avg': {'precision': 0.8480175316382214, 'recall': 0.8582375478927203, 'f1-score': 0.8393937162428515, 'support': 522.0}}\n"
     ]
    },
    {
     "name": "stderr",
     "output_type": "stream",
     "text": [
      "/opt/conda/lib/python3.12/site-packages/sklearn/base.py:1389: DataConversionWarning: A column-vector y was passed when a 1d array was expected. Please change the shape of y to (n_samples,), for example using ravel().\n",
      "  return fit_method(estimator, *args, **kwargs)\n"
     ]
    },
    {
     "name": "stdout",
     "output_type": "stream",
     "text": [
      "{'11': {'precision': 0.6666666666666666, 'recall': 0.32, 'f1-score': 0.43243243243243246, 'support': 25.0}, '12': {'precision': 0.8891352549889135, 'recall': 0.923963133640553, 'f1-score': 0.9062146892655367, 'support': 434.0}, '14': {'precision': 0.7272727272727273, 'recall': 0.22857142857142856, 'f1-score': 0.34782608695652173, 'support': 35.0}, '23': {'precision': 0.02631578947368421, 'recall': 0.25, 'f1-score': 0.047619047619047616, 'support': 4.0}, '24': {'precision': 0.6086956521739131, 'recall': 0.7368421052631579, 'f1-score': 0.6666666666666666, 'support': 19.0}, '25': {'precision': 1.0, 'recall': 0.2, 'f1-score': 0.3333333333333333, 'support': 5.0}, 'micro avg': {'precision': 0.8078358208955224, 'recall': 0.8295019157088123, 'f1-score': 0.8185255198487713, 'support': 522.0}, 'macro avg': {'precision': 0.6530143484293175, 'recall': 0.44322944457918995, 'f1-score': 0.4556820427122565, 'support': 522.0}, 'weighted avg': {'precision': 0.8518704853172409, 'recall': 0.8295019157088123, 'f1-score': 0.8252982921826467, 'support': 522.0}}\n"
     ]
    },
    {
     "name": "stderr",
     "output_type": "stream",
     "text": [
      "/opt/conda/lib/python3.12/site-packages/sklearn/base.py:1389: DataConversionWarning: A column-vector y was passed when a 1d array was expected. Please change the shape of y to (n_samples,), for example using ravel().\n",
      "  return fit_method(estimator, *args, **kwargs)\n"
     ]
    },
    {
     "name": "stdout",
     "output_type": "stream",
     "text": [
      "{'11': {'precision': 0.0, 'recall': 0.0, 'f1-score': 0.0, 'support': 26.0}, '12': {'precision': 0.8620689655172413, 'recall': 0.9216589861751152, 'f1-score': 0.89086859688196, 'support': 434.0}, '14': {'precision': 0.46153846153846156, 'recall': 0.17647058823529413, 'f1-score': 0.2553191489361702, 'support': 34.0}, '23': {'precision': 0.02857142857142857, 'recall': 0.25, 'f1-score': 0.05128205128205128, 'support': 4.0}, '24': {'precision': 0.6842105263157895, 'recall': 0.6842105263157895, 'f1-score': 0.6842105263157895, 'support': 19.0}, '25': {'precision': 1.0, 'recall': 0.25, 'f1-score': 0.4, 'support': 4.0}, 'micro avg': {'precision': 0.7869158878504673, 'recall': 0.8080614203454894, 'f1-score': 0.7973484848484849, 'support': 521.0}, 'macro avg': {'precision': 0.5060648969904867, 'recall': 0.38039001678769985, 'f1-score': 0.38028005390266184, 'support': 521.0}, 'weighted avg': {'precision': 0.7810835401940041, 'recall': 0.8080614203454894, 'f1-score': 0.7871841656731836, 'support': 521.0}}\n"
     ]
    }
   ],
   "source": [
    "# Application validation statifiée avec appartenance à polygones répétées 30 fois\n",
    "\n",
    "nb_iter = 30\n",
    "nb_folds = 5\n",
    "\n",
    "# outputs\n",
    "suffix = '_CV{}fold_stratifed_x{}times'.format(nb_folds, nb_iter)\n",
    "out_classif = os.path.join(output_dir, 'ma_classif{}.tif'.format(suffix))\n",
    "out_matrix = os.path.join(output_dir, 'ma_matrice{}.png'.format(suffix))\n",
    "out_qualite = os.path.join(output_dir, 'mes_qualites{}.png'.format(suffix))\n",
    "\n",
    "list_cm = []\n",
    "list_accuracy = []\n",
    "list_report = []\n",
    "\n",
    "# Iter on stratified K fold\n",
    "kf = RepeatedStratifiedKFold(n_splits=nb_folds, n_repeats=nb_iter)\n",
    "for train, test in kf.split(X, Y):\n",
    "    X_train, X_test = X[train], X[test]\n",
    "    Y_train, Y_test = Y[train], Y[test]\n",
    "\n",
    "    # Modèle Random Forest Classifier\n",
    "    rfc = RandomForestClassifier(\n",
    "        max_depth = 50,\n",
    "        oob_score = True,\n",
    "        max_samples = 0.75,\n",
    "        class_weight = 'balanced',\n",
    "        n_jobs = -1\n",
    "    )\n",
    "    rfc.fit(X_train, Y_train)\n",
    "\n",
    "    Y_predict = rfc.predict(X_test)\n",
    "\n",
    "    # compute quality\n",
    "    list_cm.append(confusion_matrix(Y_test, Y_predict))\n",
    "    list_accuracy.append(accuracy_score(Y_test, Y_predict))\n",
    "    report = classification_report(Y_test, Y_predict, labels=np.unique(Y_predict), output_dict=True)\n",
    "\n",
    "    # store them\n",
    "    list_report.append(report_from_dict_to_df(report))"
   ]
  },
  {
   "cell_type": "code",
   "execution_count": null,
   "metadata": {},
   "outputs": [],
   "source": [
    "# compute mean of cm\n",
    "array_cm = np.array(list_cm)\n",
    "mean_cm = array_cm.mean(axis=0)\n",
    "\n",
    "# compute mean and std of overall accuracy\n",
    "array_accuracy = np.array(list_accuracy)\n",
    "mean_accuracy = array_accuracy.mean()\n",
    "std_accuracy = array_accuracy.std()\n",
    "\n",
    "# compute mean and std of classification report\n",
    "array_report = np.array(list_report)\n",
    "mean_report = array_report.mean(axis=0)\n",
    "std_report = array_report.std(axis=0)\n",
    "a_report = list_report[0]\n",
    "mean_df_report = pd.DataFrame(mean_report, index=a_report.index,\n",
    "                              columns=a_report.columns)\n",
    "std_df_report = pd.DataFrame(std_report, index=a_report.index,\n",
    "                             columns=a_report.columns)\n",
    "\n",
    "# Display confusion matrix\n",
    "plots.plot_cm(mean_cm, np.unique(Y_predict))\n",
    "plt.savefig(out_matrix, bbox_inches='tight')\n",
    "\n",
    "# Display class metrics\n",
    "fig, ax = plt.subplots(figsize=(10, 7))\n",
    "ax = mean_df_report.T.plot.bar(ax=ax, yerr=std_df_report.T, zorder=2)\n",
    "ax.set_ylim(0.5, 1)\n",
    "_ = ax.text(1.5, 0.95, 'OA : {:.2f} +- {:.2f}'.format(mean_accuracy,\n",
    "                                                      std_accuracy),\n",
    "            fontsize=14)\n",
    "ax.set_title('Class quality estimation')\n",
    "\n",
    "# custom : cuteness\n",
    "# background color\n",
    "ax.set_facecolor('ivory')\n",
    "# labels\n",
    "x_label = ax.get_xlabel()\n",
    "ax.set_xlabel(x_label, fontdict={'fontname': 'Sawasdee'}, fontsize=14)\n",
    "y_label = ax.get_ylabel()\n",
    "ax.set_ylabel(y_label, fontdict={'fontname': 'Sawasdee'}, fontsize=14)\n",
    "# borders\n",
    "ax.spines[\"top\"].set_visible(False)\n",
    "ax.spines[\"right\"].set_visible(False)\n",
    "ax.spines[\"bottom\"].set_visible(False)\n",
    "ax.spines[\"left\"].set_visible(False)\n",
    "ax.tick_params(axis='x', colors='darkslategrey', labelsize=14)\n",
    "ax.tick_params(axis='y', colors='darkslategrey', labelsize=14)\n",
    "# grid\n",
    "ax.minorticks_on()\n",
    "ax.yaxis.grid(which='major', color='darkgoldenrod', linestyle='--',\n",
    "              linewidth=0.5, zorder=1)\n",
    "ax.yaxis.grid(which='minor', color='darkgoldenrod', linestyle='-.',\n",
    "              linewidth=0.3, zorder=1)\n",
    "plt.savefig(out_qualite, bbox_inches='tight')"
   ]
  },
  {
   "cell_type": "code",
   "execution_count": 11,
   "metadata": {},
   "outputs": [],
   "source": [
    "X_img, _, t_img = cla.get_samples_from_roi(path_image_allbands, path_image_allbands)"
   ]
  },
  {
   "cell_type": "code",
   "execution_count": 12,
   "metadata": {},
   "outputs": [],
   "source": [
    "Y_predict = rfc.predict(X_img)"
   ]
  },
  {
   "cell_type": "code",
   "execution_count": 13,
   "metadata": {},
   "outputs": [],
   "source": [
    "image_filename = path_image_allbands\n",
    "\n",
    "# Get image dimension\n",
    "ds = rw.open_image(image_filename)\n",
    "nb_row, nb_col, _ = rw.get_image_dimension(ds)\n",
    "\n",
    "#initialization of the array\n",
    "img = np.zeros((nb_row, nb_col, 1), dtype='uint8')\n",
    "#np.Y_predict\n",
    "\n",
    "img[t_img[0], t_img[1], 0] = Y_predict"
   ]
  },
  {
   "cell_type": "code",
   "execution_count": 27,
   "metadata": {},
   "outputs": [
    {
     "data": {
      "text/plain": [
       "array([[[0],\n",
       "        [0],\n",
       "        [0],\n",
       "        ...,\n",
       "        [0],\n",
       "        [0],\n",
       "        [0]],\n",
       "\n",
       "       [[0],\n",
       "        [0],\n",
       "        [0],\n",
       "        ...,\n",
       "        [0],\n",
       "        [0],\n",
       "        [0]],\n",
       "\n",
       "       [[0],\n",
       "        [0],\n",
       "        [0],\n",
       "        ...,\n",
       "        [0],\n",
       "        [0],\n",
       "        [0]],\n",
       "\n",
       "       ...,\n",
       "\n",
       "       [[0],\n",
       "        [0],\n",
       "        [0],\n",
       "        ...,\n",
       "        [0],\n",
       "        [0],\n",
       "        [0]],\n",
       "\n",
       "       [[0],\n",
       "        [0],\n",
       "        [0],\n",
       "        ...,\n",
       "        [0],\n",
       "        [0],\n",
       "        [0]],\n",
       "\n",
       "       [[0],\n",
       "        [0],\n",
       "        [0],\n",
       "        ...,\n",
       "        [0],\n",
       "        [0],\n",
       "        [0]]], shape=(7381, 10863, 1), dtype=uint8)"
      ]
     },
     "execution_count": 27,
     "metadata": {},
     "output_type": "execute_result"
    }
   ],
   "source": [
    "img"
   ]
  },
  {
   "cell_type": "code",
   "execution_count": 37,
   "metadata": {},
   "outputs": [],
   "source": [
    "image_filename =path_image_allbands\n",
    "\n",
    "out_filename = '/home/onyxia/work/Depot_Git/results/data/classif/carte_essences_echelle_pixel.tif'\n",
    "\n",
    "# get reference dataset\n",
    "ds = rw.open_image(image_filename)\n",
    "\n",
    "# just replace the number of band (1 instead of 3)\n",
    "rw.write_image(out_filename, img, data_set=ds, gdal_dtype=gdal.GDT_Byte,\n",
    "                transform=None, projection=None, driver_name=None,\n",
    "                nb_col=None, nb_ligne=None, nb_band=1)"
   ]
  },
  {
   "cell_type": "code",
   "execution_count": 38,
   "metadata": {},
   "outputs": [],
   "source": [
    "## Nettoyage des dossiers\n",
    "supprimer_dossier_non_vide(output_dir)"
   ]
  }
 ],
 "metadata": {
  "kernelspec": {
   "display_name": "base",
   "language": "python",
   "name": "python3"
  },
  "language_info": {
   "codemirror_mode": {
    "name": "ipython",
    "version": 3
   },
   "file_extension": ".py",
   "mimetype": "text/x-python",
   "name": "python",
   "nbconvert_exporter": "python",
   "pygments_lexer": "ipython3",
   "version": "3.12.7"
  }
 },
 "nbformat": 4,
 "nbformat_minor": 2
}
