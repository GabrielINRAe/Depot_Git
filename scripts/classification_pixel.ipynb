{
 "cells": [
  {
   "cell_type": "code",
   "execution_count": null,
   "metadata": {},
   "outputs": [],
   "source": [
    "from my_function import train_random_forest, save_classification\n",
    "\n",
    "# Charger les données\n",
    "samples = 'results/data/sample/Sample_BD_foret_T31TCJ.shp'\n",
    "images = 'results/data/img_pretraitees/Serie_temp_S2_allbands.tif'\n",
    "\n",
    "# Entraîner le modèle\n",
    "model = train_random_forest(samples, images)\n",
    "\n",
    "# Sauvegarder la carte\n",
    "save_classification(model, images, 'results/data/classif/carte_essences_echelle_pixel.tif')"
   ]
  }
 ],
 "metadata": {
  "kernelspec": {
   "display_name": "base",
   "language": "python",
   "name": "python3"
  },
  "language_info": {
   "name": "python",
   "version": "3.12.7"
  }
 },
 "nbformat": 4,
 "nbformat_minor": 2
}
