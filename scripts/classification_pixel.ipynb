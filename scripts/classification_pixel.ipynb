{
 "cells": [
  {
   "cell_type": "code",
   "execution_count": null,
   "metadata": {},
   "outputs": [],
   "source": [
    "# Importation des librairies\n",
    "from my_function import ( \n",
    "    sel_classif_pixel,\n",
    "    report_from_dict_to_df,\n",
    "    supprimer_dossier_non_vide)\n",
    "import os\n",
    "import geopandas as gpd\n",
    "import numpy as np\n",
    "import pandas as pd\n",
    "import sys\n",
    "from sklearn.ensemble import RandomForestClassifier\n",
    "from sklearn.model_selection import train_test_split, KFold, RepeatedStratifiedKFold\n",
    "from sklearn.metrics import confusion_matrix, classification_report, \\\n",
    "    accuracy_score\n",
    "sys.path.append('/home/onyxia/work/libsigma')\n",
    "import read_and_write as rw\n",
    "import classification as cla\n",
    "import plots"
   ]
  },
  {
   "cell_type": "code",
   "execution_count": 6,
   "metadata": {},
   "outputs": [],
   "source": [
    "# Création du dossier de sauvegarde temporaire et paramètres\n",
    "output_dir = \"/home/onyxia/work/output_classif\"\n",
    "os.makedirs(output_dir, exist_ok=True) # Création d'un dossier output temporaire\n",
    "\n",
    "sample_path = \"/home/onyxia/work/Depot_Git/results/data/sample/Sample_BD_foret_T31TCJ.shp\"\n",
    "path_sample_px = os.path.join(output_dir,\"sample_classif_px.shp\")\n",
    "\n",
    "sample_rasterized = os.path.join(output_dir,\"rasterized_sample.tif\")\n",
    "path_image_3b = \"/home/onyxia/work/Depot_Git/results/data/img_pretraitees/Serie_temp_S2_3_bands.tif\"\n",
    "path_image_allbands = \"/home/onyxia/work/Depot_Git/results/data/img_pretraitees/Serie_temp_S2_allbands.tif\"\n",
    "\n",
    "path_sample_px_centroid = os.path.join(output_dir,\"sample_px_centroid.shp\")"
   ]
  },
  {
   "cell_type": "code",
   "execution_count": null,
   "metadata": {},
   "outputs": [],
   "source": [
    "# Save d'un vecteur echantillons avec que les données pour classif pixel\n",
    "sample = gpd.read_file(sample_path)\n",
    "sample_px = sel_classif_pixel(sample[['Code',\"geometry\"]])\n",
    "sample_px.to_file(path_sample_px)"
   ]
  },
  {
   "cell_type": "code",
   "execution_count": null,
   "metadata": {},
   "outputs": [],
   "source": [
    "# cmd rasterisation paramètres\n",
    "in_vector = os.path.join(output_dir,'sample_classif_px.shp')\n",
    "ref_image = '/home/onyxia/work/Depot_Git/results/data/img_pretraitees/Serie_temp_S2_allbands.tif'\n",
    "ref_image_open = rw.open_image(ref_image)\n",
    "out_image = os.path.join(output_dir, \"rasterized_sample.tif\")\n",
    "field_name = 'Code'  # field containing the numeric label of the classes\n",
    "sptial_resolution = rw.get_pixel_size(ref_image_open)[0]\n",
    "xmin,ymax = rw.get_origin_coordinates(ref_image_open)\n",
    "y,x = rw.get_image_dimension(ref_image_open)[0:2]\n",
    "xmax,ymin = xmin+x*10,ymax-y*10\n",
    "\n",
    "# define command pattern to fill with paremeters\n",
    "cmd_pattern = (\"gdal_rasterize -a {field_name} \"\n",
    "               \"-tr {sptial_resolution} {sptial_resolution} \"\n",
    "               \"-te {xmin} {ymin} {xmax} {ymax} -ot Byte -of GTiff \"\n",
    "               \"{in_vector} {out_image}\")\n",
    "\n",
    "# fill the string with the parameter thanks to format function\n",
    "cmd = cmd_pattern.format(in_vector=in_vector, xmin=xmin, ymin=ymin, xmax=xmax,\n",
    "                         ymax=ymax, out_image=out_image, field_name=field_name,\n",
    "                         sptial_resolution=sptial_resolution)\n",
    "\n",
    "# execute the command in the terminal\n",
    "os.system(cmd)"
   ]
  },
  {
   "cell_type": "code",
   "execution_count": null,
   "metadata": {},
   "outputs": [],
   "source": [
    "# Extraction des échantillons à partir d'un fichier de points pour tenir compte de l'appartenance aux polygones\n",
    "\n",
    "sample_px['geom_points'] = sample_px.centroid                  # Calcul des centroides\n",
    "sample_px_centroid = sample_px[['Code','geom_points']]\n",
    "sample_px_centroid.to_file(path_sample_px_centroid)      # Save des centroides dans le dossier output_classif\n",
    "\n",
    "# Récupération des coordonnées X\n",
    "list_row, list_col = rw.get_row_col_from_file (path_sample_px_centroid,path_image_allbands)     # Coordonnées images des points du fichiers points\n",
    "image_3b = rw.load_img_as_array(path_image_3b)\n",
    "X = image_3b[(list_row, list_col)]\n",
    "\n",
    "# Récupération des coordonnées Y\n",
    "gdf = gpd.read_file(path_sample_px_centroid)             \n",
    "Y = gdf.loc[:, \"Code\"].values\n",
    "Y = np.atleast_2d(Y).T\n",
    "\n",
    "# Séparation des données avec un jeu train et test\n",
    "# X_train, X_test, Y_train, Y_test = train_test_split(X, Y, test_size=0.7)"
   ]
  },
  {
   "cell_type": "code",
   "execution_count": null,
   "metadata": {},
   "outputs": [],
   "source": [
    "# Application validation statifiée avec appartenance à polygones\n",
    "\n",
    "list_cm = []\n",
    "list_accuracy = []\n",
    "list_report = []\n",
    "\n",
    "# Iter on stratified K fold\n",
    "kf = RepeatedStratifiedKFold(n_splits=5, n_repeats=30)\n",
    "for train, test in kf.split(X, Y):\n",
    "    X_train, X_test = X[train], X[test]\n",
    "    Y_train, Y_test = Y[train], Y[test]\n",
    "\n",
    "    # Modèle Random Forest Classifier\n",
    "    rfc = RandomForestClassifier(\n",
    "        max_depth = 50,\n",
    "        oob_score = True,\n",
    "        max_samples = 0.75,\n",
    "        class_weight = 'balanced',\n",
    "        n_jobs = -1\n",
    "    )\n",
    "    rfc.fit(X_train, Y_train)\n",
    "\n",
    "    Y_predict = rfc.predict(X_test)\n",
    "\n",
    "    # compute quality\n",
    "    list_cm.append(confusion_matrix(Y_test, Y_predict))\n",
    "    list_accuracy.append(accuracy_score(Y_test, Y_predict))\n",
    "    report = classification_report(Y_test, Y_predict, labels=np.unique(Y_predict), output_dict=True)\n",
    "\n",
    "    # store them\n",
    "    list_report.append(report_from_dict_to_df(report))"
   ]
  },
  {
   "cell_type": "code",
   "execution_count": null,
   "metadata": {},
   "outputs": [],
   "source": [
    "## Entraîner le modèle\n",
    "\n",
    "# Modèle Random Forest Classifier\n",
    "rfc = RandomForestClassifier(\n",
    "    max_depth = 50,\n",
    "    oob_score = True,\n",
    "    max_samples = 0.75,\n",
    "    class_weight = 'balanced',\n",
    "    n_jobs = -1\n",
    ")\n",
    "\n",
    "# Fit avec nos valeurs\n",
    "rfc.fit(X_train,Y_train)"
   ]
  },
  {
   "cell_type": "code",
   "execution_count": null,
   "metadata": {},
   "outputs": [],
   "source": [
    "# Sauvegarder la carte\n",
    "save_classification(model, images, 'results/data/classif/carte_essences_echelle_pixel.tif')"
   ]
  },
  {
   "cell_type": "code",
   "execution_count": null,
   "metadata": {},
   "outputs": [],
   "source": [
    "## Nettoyage des dossiers\n",
    "supprimer_dossier_non_vide(output_dir)"
   ]
  }
 ],
 "metadata": {
  "kernelspec": {
   "display_name": "base",
   "language": "python",
   "name": "python3"
  },
  "language_info": {
   "codemirror_mode": {
    "name": "ipython",
    "version": 3
   },
   "file_extension": ".py",
   "mimetype": "text/x-python",
   "name": "python",
   "nbconvert_exporter": "python",
   "pygments_lexer": "ipython3",
   "version": "3.12.7"
  }
 },
 "nbformat": 4,
 "nbformat_minor": 2
}
