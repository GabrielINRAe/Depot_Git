{
 "cells": [
  {
   "cell_type": "code",
   "execution_count": 1,
   "metadata": {},
   "outputs": [],
   "source": [
    "# Import des bibliothèques nécessaires\n",
    "import numpy as np\n",
    "import os\n",
    "import matplotlib.pyplot as plt\n",
    "import matplotlib\n",
    "import sys\n",
    "# Ajout du chemin vers les fonctions personnalisées\n",
    "sys.path.append('/home/onyxia/work/Depot_Git/scripts')\n",
    "from my_function import compute_centroid, compute_avg_distance_to_centroid, create_bar_plot, create_violin_plot,get_polygon_labels\n",
    "sys.path.append('/home/onyxia/work/libsigma')\n",
    "import classification as cla"
   ]
  },
  {
   "cell_type": "code",
   "execution_count": 2,
   "metadata": {},
   "outputs": [],
   "source": [
    "# Définition des paramètres \n",
    "my_folder = '/home/onyxia/work/Depot_Git/results/data'\n",
    "in_vector = os.path.join(my_folder, 'sample/Sample_BD_foret_T31TCJ.shp')\n",
    "raster_ndvi = os.path.join(my_folder, 'img_pretraitees/Serie_temp_S2_ndvi.tif')\n",
    "diag_baton_dist_centroide_classe_path = os.path.join(my_folder, \"../figure/diag_baton_dist_centroide_classe.png\")\n",
    "violin_plot_dist_centroide_by_poly_by_class_path = os.path.join(my_folder, \"../figure/violin_plot_dist_centroide_by_poly_by_class.png\")\n",
    "out_image = os.path.splitext(in_vector)[0] + '_v2.tif'\n",
    "field_name = 'Code'  # field containing the numeric label of the classes\n"
   ]
  },
  {
   "cell_type": "code",
   "execution_count": 3,
   "metadata": {},
   "outputs": [
    {
     "name": "stdout",
     "output_type": "stream",
     "text": [
      "0...10...20...30...40...50...60...70...80...90...100 - done.\n"
     ]
    },
    {
     "data": {
      "text/plain": [
       "0"
      ]
     },
     "execution_count": 3,
     "metadata": {},
     "output_type": "execute_result"
    }
   ],
   "source": [
    "\n",
    "# for those parameters, you know how to get theses information if you had to\n",
    "sptial_resolution = 10\n",
    "xmin = 501127.9696999999\n",
    "ymin = 6240654.023599998\n",
    "xmax = 609757.9696999999\n",
    "ymax = 6314464.023599998\n",
    "\n",
    "# define command pattern to fill with paremeters\n",
    "cmd_pattern = (\"gdal_rasterize -a {field_name} \"\n",
    "               \"-tr {sptial_resolution} {sptial_resolution} \"\n",
    "               \"-te {xmin} {ymin} {xmax} {ymax} -ot Byte -of GTiff \"\n",
    "               \"{in_vector} {out_image}\")\n",
    "\n",
    "# fill the string with the parameter thanks to format function\n",
    "cmd = cmd_pattern.format(in_vector=in_vector, xmin=xmin, ymin=ymin, xmax=xmax,\n",
    "                         ymax=ymax, out_image=out_image, field_name=field_name,\n",
    "                         sptial_resolution=sptial_resolution)\n",
    "\n",
    "# execute the command in the terminal\n",
    "os.system(cmd)"
   ]
  },
  {
   "cell_type": "code",
   "execution_count": 4,
   "metadata": {},
   "outputs": [
    {
     "name": "stderr",
     "output_type": "stream",
     "text": [
      "/opt/conda/lib/python3.12/site-packages/osgeo/gdal.py:311: FutureWarning: Neither gdal.UseExceptions() nor gdal.DontUseExceptions() has been explicitly called. In GDAL 4.0, exceptions will be enabled by default.\n",
      "  warnings.warn(\n"
     ]
    },
    {
     "name": "stdout",
     "output_type": "stream",
     "text": [
      "(4997108, 6)\n",
      "(4997108, 1)\n",
      "Classes uniques : [11 12 13 14 15 16 21 22 23 24 25 26 27 28 29]\n"
     ]
    }
   ],
   "source": [
    "# Extraction des échantillons sous forme d'un tableau Numpy \n",
    "sample_filename = os.path.join(my_folder, 'sample/Sample_BD_foret_T31TCJ_v2.tif')\n",
    "image_filename = os.path.join(my_folder, 'img_pretraitees/Serie_temp_S2_ndvi.tif')\n",
    "X, Y, t = cla.get_samples_from_roi(image_filename, sample_filename)\n",
    "print(X.shape)\n",
    "print(Y.shape)\n",
    "unique_classes = np.unique(Y)\n",
    "print(\"Classes uniques :\", unique_classes)"
   ]
  },
  {
   "cell_type": "markdown",
   "metadata": {},
   "source": [
    "### Calcul de distance à l'échelle de l'image entière "
   ]
  },
  {
   "cell_type": "code",
   "execution_count": 5,
   "metadata": {},
   "outputs": [],
   "source": [
    "List_classes = [11,12,13,14,15,23,24,25,26,28,29]\n",
    "Y = Y.flatten() \n",
    "# Calculer la distance moyenne au centroïde pour chaque classe\n",
    "class_avg_distances = {}\n",
    "for cls in unique_classes:\n",
    "    class_samples = X[Y == cls]  # Filtre les échantillons pour la classe actuelle\n",
    "    centroid = compute_centroid(class_samples)\n",
    "    avg_distance = compute_avg_distance_to_centroid(class_samples, centroid)\n",
    "    class_avg_distances[cls] = avg_distance\n"
   ]
  },
  {
   "cell_type": "markdown",
   "metadata": {},
   "source": [
    "### Graphique en bâton"
   ]
  },
  {
   "cell_type": "code",
   "execution_count": 6,
   "metadata": {},
   "outputs": [],
   "source": [
    "create_bar_plot(class_avg_distances,diag_baton_dist_centroide_classe_path)"
   ]
  },
  {
   "cell_type": "markdown",
   "metadata": {},
   "source": [
    "### Calcul à l'échelle de polygone"
   ]
  },
  {
   "cell_type": "code",
   "execution_count": 7,
   "metadata": {},
   "outputs": [],
   "source": [
    "# Obtenez les étiquettes des polygones pour chaque pixel\n",
    "polygon_labels = get_polygon_labels(Y)\n",
    "\n",
    "# Dictionnaire pour stocker les distances moyennes par classe et par polygone\n",
    "class_avg_distances_by_polygon = {}\n",
    "\n",
    "# Calcul pour chaque classe\n",
    "for cls in unique_classes:\n",
    "    # Filtrer les labels des polygones pour correspondre aux classes qui nous intéressent \n",
    "    polygon_labels_filtered = polygon_labels[Y.flatten() == cls]\n",
    "    polygon_samples = X[Y.flatten() == cls]  # Données pour une classe donnée\n",
    "    \n",
    "    # Calcul pour chaque polygone\n",
    "    polygon_avg_distances = []\n",
    "    for poly_id in np.unique(polygon_labels_filtered):\n",
    "        # Sélectionner les échantillons du polygone courant\n",
    "        poly_samples = polygon_samples[polygon_labels_filtered == poly_id]\n",
    "        centroid = compute_centroid(poly_samples)\n",
    "        avg_distance = compute_avg_distance_to_centroid(poly_samples, centroid)\n",
    "        polygon_avg_distances.append(avg_distance)\n",
    "\n",
    "    # Ajouter la moyenne des distances des polygones pour la classe courante\n",
    "    class_avg_distances_by_polygon[cls] = polygon_avg_distances"
   ]
  },
  {
   "cell_type": "markdown",
   "metadata": {},
   "source": [
    "### Violin plot"
   ]
  },
  {
   "cell_type": "code",
   "execution_count": 8,
   "metadata": {},
   "outputs": [],
   "source": [
    "\n",
    "create_violin_plot(class_avg_distances_by_polygon,violin_plot_dist_centroide_by_poly_by_class_path )"
   ]
  },
  {
   "cell_type": "code",
   "execution_count": 9,
   "metadata": {},
   "outputs": [
    {
     "name": "stdout",
     "output_type": "stream",
     "text": [
      "Analyse terminée. Les graphiques sont enregistrés dans le dossier results/figure.\n"
     ]
    }
   ],
   "source": [
    "print(\"Analyse terminée. Les graphiques sont enregistrés dans le dossier results/figure.\")"
   ]
  }
 ],
 "metadata": {
  "kernelspec": {
   "display_name": "base",
   "language": "python",
   "name": "python3"
  },
  "language_info": {
   "codemirror_mode": {
    "name": "ipython",
    "version": 3
   },
   "file_extension": ".py",
   "mimetype": "text/x-python",
   "name": "python",
   "nbconvert_exporter": "python",
   "pygments_lexer": "ipython3",
   "version": "3.12.7"
  }
 },
 "nbformat": 4,
 "nbformat_minor": 2
}
