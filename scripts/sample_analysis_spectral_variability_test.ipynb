{
 "cells": [
  {
   "cell_type": "code",
   "execution_count": 11,
   "metadata": {},
   "outputs": [],
   "source": [
    "# Import des bibliothèques nécessaires\n",
    "import numpy as np\n",
    "import os\n",
    "import matplotlib.pyplot as plt\n",
    "import matplotlib\n",
    "import sys\n",
    "# Ajout du chemin vers les fonctions personnalisées\n",
    "sys.path.append('/home/onyxia/work/Depot_Git/scripts')\n",
    "from my_function import compute_centroid, compute_avg_distance_to_centroid, create_bar_plot, create_violin_plot,get_polygon_labels\n",
    "sys.path.append('/home/onyxia/work/libsigma')\n",
    "import classification as cla"
   ]
  },
  {
   "cell_type": "code",
   "execution_count": 12,
   "metadata": {},
   "outputs": [],
   "source": [
    "# Définition des paramètres \n",
    "my_folder = '/home/onyxia/work/Depot_Git/results/data'\n",
    "in_vector = os.path.join(my_folder, 'sample/Sample_BD_foret_T31TCJ.shp')\n",
    "raster = os.path.join(my_folder, 'results/data/img_pretraitees/Serie_temp_S2_allbands.tif')\n",
    "diag_baton_dist_centroide_classe_path = os.path.join(my_folder, \"../figure/diag_baton_dist_centroide_classe.png\")\n",
    "violin_plot_dist_centroide_by_poly_by_class_path = os.path.join(my_folder, \"../figure/violin_plot_dist_centroide_by_poly_by_class.png\")\n",
    "out_image = os.path.splitext(in_vector)[0] + '_v2.tif'\n",
    "field_name = 'Code'  # field containing the numeric label of the classes\n"
   ]
  },
  {
   "cell_type": "code",
   "execution_count": 13,
   "metadata": {},
   "outputs": [
    {
     "name": "stdout",
     "output_type": "stream",
     "text": [
      "0...10...20...30...40...50...60...70...80...90...100 - done.\n"
     ]
    },
    {
     "data": {
      "text/plain": [
       "0"
      ]
     },
     "execution_count": 13,
     "metadata": {},
     "output_type": "execute_result"
    }
   ],
   "source": [
    "\n",
    "# for those parameters, you know how to get theses information if you had to\n",
    "sptial_resolution = 10\n",
    "xmin = 501127.9696999999\n",
    "ymin = 6240654.023599998\n",
    "xmax = 609757.9696999999\n",
    "ymax = 6314464.023599998\n",
    "\n",
    "# define command pattern to fill with paremeters\n",
    "cmd_pattern = (\"gdal_rasterize -a {field_name} \"\n",
    "               \"-tr {sptial_resolution} {sptial_resolution} \"\n",
    "               \"-te {xmin} {ymin} {xmax} {ymax} -ot Byte -of GTiff \"\n",
    "               \"{in_vector} {out_image}\")\n",
    "\n",
    "# fill the string with the parameter thanks to format function\n",
    "cmd = cmd_pattern.format(in_vector=in_vector, xmin=xmin, ymin=ymin, xmax=xmax,\n",
    "                         ymax=ymax, out_image=out_image, field_name=field_name,\n",
    "                         sptial_resolution=sptial_resolution)\n",
    "\n",
    "# execute the command in the terminal\n",
    "os.system(cmd)"
   ]
  },
  {
   "cell_type": "code",
   "execution_count": 14,
   "metadata": {},
   "outputs": [
    {
     "name": "stdout",
     "output_type": "stream",
     "text": [
      "Impossible to open /home/onyxia/work/Depot_Git/results/data/results/data/img_pretraitees/Serie_temp_S2_allbands.tif\n"
     ]
    },
    {
     "name": "stderr",
     "output_type": "stream",
     "text": [
      "ERROR 4: /home/onyxia/work/Depot_Git/results/data/results/data/img_pretraitees/Serie_temp_S2_allbands.tif: No such file or directory\n"
     ]
    },
    {
     "ename": "AttributeError",
     "evalue": "'NoneType' object has no attribute 'RasterXSize'",
     "output_type": "error",
     "traceback": [
      "\u001b[0;31m---------------------------------------------------------------------------\u001b[0m",
      "\u001b[0;31mAttributeError\u001b[0m                            Traceback (most recent call last)",
      "Cell \u001b[0;32mIn[14], line 3\u001b[0m\n\u001b[1;32m      1\u001b[0m \u001b[38;5;66;03m# Extraction des échantillons sous forme d'un tableau Numpy \u001b[39;00m\n\u001b[1;32m      2\u001b[0m sample_filename \u001b[38;5;241m=\u001b[39m os\u001b[38;5;241m.\u001b[39mpath\u001b[38;5;241m.\u001b[39mjoin(my_folder, \u001b[38;5;124m'\u001b[39m\u001b[38;5;124msample/Sample_BD_foret_T31TCJ_v2.tif\u001b[39m\u001b[38;5;124m'\u001b[39m)\n\u001b[0;32m----> 3\u001b[0m X, Y, t \u001b[38;5;241m=\u001b[39m \u001b[43mcla\u001b[49m\u001b[38;5;241;43m.\u001b[39;49m\u001b[43mget_samples_from_roi\u001b[49m\u001b[43m(\u001b[49m\u001b[43mraster\u001b[49m\u001b[43m,\u001b[49m\u001b[43m \u001b[49m\u001b[43msample_filename\u001b[49m\u001b[43m)\u001b[49m\n\u001b[1;32m      4\u001b[0m \u001b[38;5;28mprint\u001b[39m(X\u001b[38;5;241m.\u001b[39mshape)\n\u001b[1;32m      5\u001b[0m \u001b[38;5;28mprint\u001b[39m(Y\u001b[38;5;241m.\u001b[39mshape)\n",
      "File \u001b[0;32m~/work/libsigma/classification.py:72\u001b[0m, in \u001b[0;36mget_samples_from_roi\u001b[0;34m(raster_name, roi_name, value_to_extract, bands, output_fmt)\u001b[0m\n\u001b[1;32m     70\u001b[0m \u001b[38;5;66;03m# Get size of output array\u001b[39;00m\n\u001b[1;32m     71\u001b[0m raster \u001b[38;5;241m=\u001b[39m rw\u001b[38;5;241m.\u001b[39mopen_image(raster_name)\n\u001b[0;32m---> 72\u001b[0m nb_col, nb_row, nb_band \u001b[38;5;241m=\u001b[39m \u001b[43mrw\u001b[49m\u001b[38;5;241;43m.\u001b[39;49m\u001b[43mget_image_dimension\u001b[49m\u001b[43m(\u001b[49m\u001b[43mraster\u001b[49m\u001b[43m)\u001b[49m\n\u001b[1;32m     74\u001b[0m \u001b[38;5;66;03m# Get data type\u001b[39;00m\n\u001b[1;32m     75\u001b[0m band \u001b[38;5;241m=\u001b[39m raster\u001b[38;5;241m.\u001b[39mGetRasterBand(\u001b[38;5;241m1\u001b[39m)\n",
      "File \u001b[0;32m~/work/libsigma/read_and_write.py:50\u001b[0m, in \u001b[0;36mget_image_dimension\u001b[0;34m(data_set, verbose)\u001b[0m\n\u001b[1;32m     35\u001b[0m \u001b[38;5;28;01mdef\u001b[39;00m\u001b[38;5;250m \u001b[39m\u001b[38;5;21mget_image_dimension\u001b[39m(data_set, verbose\u001b[38;5;241m=\u001b[39m\u001b[38;5;28;01mFalse\u001b[39;00m):\n\u001b[1;32m     36\u001b[0m \u001b[38;5;250m    \u001b[39m\u001b[38;5;124;03m\"\"\"\u001b[39;00m\n\u001b[1;32m     37\u001b[0m \u001b[38;5;124;03m    get image dimensions\u001b[39;00m\n\u001b[1;32m     38\u001b[0m \n\u001b[0;32m   (...)\u001b[0m\n\u001b[1;32m     47\u001b[0m \u001b[38;5;124;03m    nb_band : int\u001b[39;00m\n\u001b[1;32m     48\u001b[0m \u001b[38;5;124;03m    \"\"\"\u001b[39;00m\n\u001b[0;32m---> 50\u001b[0m     nb_col \u001b[38;5;241m=\u001b[39m \u001b[43mdata_set\u001b[49m\u001b[38;5;241;43m.\u001b[39;49m\u001b[43mRasterXSize\u001b[49m\n\u001b[1;32m     51\u001b[0m     nb_lignes \u001b[38;5;241m=\u001b[39m data_set\u001b[38;5;241m.\u001b[39mRasterYSize\n\u001b[1;32m     52\u001b[0m     nb_band \u001b[38;5;241m=\u001b[39m data_set\u001b[38;5;241m.\u001b[39mRasterCount\n",
      "\u001b[0;31mAttributeError\u001b[0m: 'NoneType' object has no attribute 'RasterXSize'"
     ]
    }
   ],
   "source": [
    "# Extraction des échantillons sous forme d'un tableau Numpy \n",
    "sample_filename = os.path.join(my_folder, 'sample/Sample_BD_foret_T31TCJ_v2.tif')\n",
    "X, Y, t = cla.get_samples_from_roi(raster, sample_filename)\n",
    "print(X.shape)\n",
    "print(Y.shape)\n",
    "unique_classes = np.unique(Y)\n",
    "print(\"Classes uniques :\", unique_classes)"
   ]
  },
  {
   "cell_type": "markdown",
   "metadata": {},
   "source": [
    "### Calcul de distance à l'échelle de l'image entière "
   ]
  },
  {
   "cell_type": "code",
   "execution_count": 5,
   "metadata": {},
   "outputs": [],
   "source": [
    "List_classes = [11,12,13,14,15,23,24,25,26,28,29]\n",
    "Y = Y.flatten() \n",
    "# Calculer la distance moyenne au centroïde pour chaque classe\n",
    "class_avg_distances = {}\n",
    "for cls in unique_classes:\n",
    "    class_samples = X[Y == cls]  # Filtre les échantillons pour la classe actuelle\n",
    "    centroid = compute_centroid(class_samples)\n",
    "    avg_distance = compute_avg_distance_to_centroid(class_samples, centroid)\n",
    "    class_avg_distances[cls] = avg_distance\n"
   ]
  },
  {
   "cell_type": "markdown",
   "metadata": {},
   "source": [
    "### Graphique en bâton"
   ]
  },
  {
   "cell_type": "code",
   "execution_count": 6,
   "metadata": {},
   "outputs": [],
   "source": [
    "create_bar_plot(class_avg_distances,diag_baton_dist_centroide_classe_path)"
   ]
  },
  {
   "cell_type": "markdown",
   "metadata": {},
   "source": [
    "### Calcul à l'échelle de polygone"
   ]
  },
  {
   "cell_type": "code",
   "execution_count": 7,
   "metadata": {},
   "outputs": [],
   "source": [
    "# Obtenez les étiquettes des polygones pour chaque pixel\n",
    "polygon_labels = get_polygon_labels(Y)\n",
    "\n",
    "# Dictionnaire pour stocker les distances moyennes par classe et par polygone\n",
    "class_avg_distances_by_polygon = {}\n",
    "\n",
    "# Calcul pour chaque classe\n",
    "for cls in unique_classes:\n",
    "    # Filtrer les labels des polygones pour correspondre aux classes qui nous intéressent \n",
    "    polygon_labels_filtered = polygon_labels[Y.flatten() == cls]\n",
    "    polygon_samples = X[Y.flatten() == cls]  # Données pour une classe donnée\n",
    "    \n",
    "    # Calcul pour chaque polygone\n",
    "    polygon_avg_distances = []\n",
    "    for poly_id in np.unique(polygon_labels_filtered):\n",
    "        # Sélectionner les échantillons du polygone courant\n",
    "        poly_samples = polygon_samples[polygon_labels_filtered == poly_id]\n",
    "        centroid = compute_centroid(poly_samples)\n",
    "        avg_distance = compute_avg_distance_to_centroid(poly_samples, centroid)\n",
    "        polygon_avg_distances.append(avg_distance)\n",
    "\n",
    "    # Ajouter la moyenne des distances des polygones pour la classe courante\n",
    "    class_avg_distances_by_polygon[cls] = polygon_avg_distances"
   ]
  },
  {
   "cell_type": "markdown",
   "metadata": {},
   "source": [
    "### Violin plot"
   ]
  },
  {
   "cell_type": "code",
   "execution_count": 8,
   "metadata": {},
   "outputs": [],
   "source": [
    "\n",
    "create_violin_plot(class_avg_distances_by_polygon,violin_plot_dist_centroide_by_poly_by_class_path )"
   ]
  },
  {
   "cell_type": "code",
   "execution_count": 9,
   "metadata": {},
   "outputs": [
    {
     "name": "stdout",
     "output_type": "stream",
     "text": [
      "Analyse terminée. Les graphiques sont enregistrés dans le dossier results/figure.\n"
     ]
    }
   ],
   "source": [
    "print(\"Analyse terminée. Les graphiques sont enregistrés dans le dossier results/figure.\")"
   ]
  }
 ],
 "metadata": {
  "kernelspec": {
   "display_name": "base",
   "language": "python",
   "name": "python3"
  },
  "language_info": {
   "codemirror_mode": {
    "name": "ipython",
    "version": 3
   },
   "file_extension": ".py",
   "mimetype": "text/x-python",
   "name": "python",
   "nbconvert_exporter": "python",
   "pygments_lexer": "ipython3",
   "version": "3.12.7"
  }
 },
 "nbformat": 4,
 "nbformat_minor": 2
}
