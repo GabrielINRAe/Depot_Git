{
 "cells": [
  {
   "cell_type": "code",
   "execution_count": 2,
   "metadata": {},
   "outputs": [],
   "source": [
    "# Importation des Bibliothèques \n",
    "import os\n",
    "import sys \n",
    "sys.path.append('/home/onyxia/work/Projet_Teledec/scripts')\n",
    "import numpy as np\n",
    "from osgeo import gdal\n",
    "from my_function import (\n",
    "    clip_raster_with_shapefile,\n",
    "    reproject_and_resample,\n",
    "    compute_ndvi,\n",
    "    save_raster)\n"
   ]
  },
  {
   "cell_type": "code",
   "execution_count": 3,
   "metadata": {},
   "outputs": [],
   "source": [
    "#  Définition des paramètres \n",
    "\n",
    "input_raster_dir = \"/home/onyxia/work/data/images\"  \n",
    "shapefile_path = \"/home/onyxia/work/data/project/emprise_etude.shp\"\n",
    "mask_foret_path = \"/home/onyxia/Projet_Teledec/results/data/img_pretraitees/masque_foret.tif\"\n",
    "output_dir = \"/home/onyxia/work/Projet_Teledec\"\n",
    "\n",
    "os.makedirs(output_dir, exist_ok=True)"
   ]
  },
  {
   "cell_type": "code",
   "execution_count": 4,
   "metadata": {},
   "outputs": [],
   "source": [
    "# Partie 1 : Image multibande\n",
    "output_multiband_path = os.path.join(output_dir, \"Serie_temp_S2_allbands.tif\")\n",
    "bands_to_use = [\"2\", \"3\", \"4\", \"5\", \"6\", \"7\", \"8\", \"8A\", \"11\", \"12\"]"
   ]
  },
  {
   "cell_type": "code",
   "execution_count": 5,
   "metadata": {},
   "outputs": [],
   "source": [
    "# Liste des images dans le dossier d'entrée\n",
    "L_images = sorted(os.listdir(input_raster_dir))\n",
    "if '.keep' in L_images:\n",
    "    L_images.remove('.keep')  # Supprime '.keep' si présent"
   ]
  },
  {
   "cell_type": "code",
   "execution_count": 6,
   "metadata": {},
   "outputs": [
    {
     "name": "stderr",
     "output_type": "stream",
     "text": [
      "/opt/conda/lib/python3.12/site-packages/osgeo/gdal.py:311: FutureWarning: Neither gdal.UseExceptions() nor gdal.DontUseExceptions() has been explicitly called. In GDAL 4.0, exceptions will be enabled by default.\n",
      "  warnings.warn(\n"
     ]
    },
    {
     "name": "stdout",
     "output_type": "stream",
     "text": [
      "Raster multibande créé avec succès : /home/onyxia/work/Projet_Teledec/Serie_temp_S2_allbands.tif\n"
     ]
    }
   ],
   "source": [
    "try:\n",
    "    # Vérifier le chemin de sortie\n",
    "    output_dir = os.path.dirname(output_multiband_path)\n",
    "    if not os.path.exists(output_dir):\n",
    "        raise RuntimeError(f\"Le répertoire de sortie n'existe pas : {output_dir}\")\n",
    "    if not os.access(output_dir, os.W_OK):\n",
    "        raise RuntimeError(f\"Permission d'écriture refusée dans le répertoire de sortie : {output_dir}\")\n",
    "\n",
    "    # Ouverture du premier raster qui sert comme une référence\n",
    "    ref_raster_path = os.path.join(input_raster_dir, L_images[0])\n",
    "    ref_raster = gdal.Open(ref_raster_path)\n",
    "    if not ref_raster:\n",
    "        raise RuntimeError(f\"Impossible d'ouvrir le fichier raster de référence : {ref_raster_path}\")\n",
    "\n",
    "    # Vérification de driver GDAL\n",
    "    driver = gdal.GetDriverByName('GTiff')\n",
    "    if not driver:\n",
    "        raise RuntimeError(\"Le driver GTiff n'est pas disponible.\")\n",
    "\n",
    "    # Création de raster de sortie\n",
    "    out_raster = driver.Create(\n",
    "    output_multiband_path,\n",
    "    ref_raster.RasterXSize,\n",
    "    ref_raster.RasterYSize,\n",
    "    len(bands_to_use) * 6,\n",
    "    gdal.GDT_Byte,\n",
    "    options=[\"COMPRESS=LZW\", \"TILED=YES\"] ) # Options pour compresser le raster de sortie \n",
    "\n",
    "    # out_raster = driver.Create(output_multiband_path, cols, rows, len(L_images), datatype)\n",
    "    if not out_raster:\n",
    "        raise RuntimeError(\"Impossible de créer le raster de sortie.\")\n",
    "    \n",
    "    # Ajout de la projection et la géotransformation\n",
    "    geotransform = ref_raster.GetGeoTransform()\n",
    "    projection = ref_raster.GetProjection()\n",
    "    out_raster.SetProjection(projection)\n",
    "    out_raster.SetGeoTransform(geotransform)\n",
    "\n",
    "    # Remplissage de raster vide qu'on vient de le crée par les données des bandes \n",
    "    band_idx = 1\n",
    "    for image in L_images:\n",
    "        raster_path = os.path.join(input_raster_dir, image)\n",
    "        src_raster = gdal.Open(raster_path)\n",
    "        if not src_raster:\n",
    "            raise RuntimeError(f\"Impossible d'ouvrir le fichier raster : {raster_path}\")\n",
    "    # Rééchantillonnage du raster source pour qu'il corresponde au raster de sortie\n",
    "    src_raster = gdal.Warp(\n",
    "    '',  # Pas besoin d'écrire un fichier temporaire\n",
    "    src_raster,\n",
    "    format = 'MEM',  # c'est optionnel pour avoir un  format en mémoire\n",
    "    width = out_raster.RasterXSize,\n",
    "    height = out_raster.RasterYSize,\n",
    "    resampleAlg = gdal.GRA_Bilinear  # Exemple de méthode de rééchantillonnage. Cette méthode on l'a pas vu dans le cours mais ca marche bien \n",
    ")\n",
    "    data = src_raster.GetRasterBand(1).ReadAsArray()\n",
    "    # Écrire les données\n",
    "    out_raster.GetRasterBand(band_idx).WriteArray(data)\n",
    "    band_idx += 1\n",
    "    src_raster = None\n",
    "\n",
    "except Exception as e:\n",
    "    print(f\"Erreur : {e}\")\n",
    "\n",
    "finally:\n",
    "    ref_raster = None\n",
    "    out_raster = None\n",
    "\n",
    "print(f\"Raster multibande créé avec succès : {output_multiband_path}\")  "
   ]
  },
  {
   "cell_type": "code",
   "execution_count": null,
   "metadata": {},
   "outputs": [],
   "source": [
    "# Découpage selon l'emprise d'étude\n",
    "clip_raster_with_shapefile(output_multiband_path, shapefile_path, output_multiband_path)\n",
    "\n",
    "# Application de masque forêt\n",
    "with gdal.Open(output_multiband_path) as src, gdal.Open(mask_foret_path) as mask:\n",
    "    mask_data = mask.ReadAsArray()\n",
    "    out_image = src.ReadAsArray()\n",
    "    out_image[:, mask_data == 0] = 0  # Masquage des pixels qui correspondent pas à une classe forêt\n",
    "    save_raster(out_image, output_multiband_path, output_multiband_path, gdal.GDT_UInt16, 0)"
   ]
  }
 ],
 "metadata": {
  "kernelspec": {
   "display_name": "base",
   "language": "python",
   "name": "python3"
  },
  "language_info": {
   "codemirror_mode": {
    "name": "ipython",
    "version": 3
   },
   "file_extension": ".py",
   "mimetype": "text/x-python",
   "name": "python",
   "nbconvert_exporter": "python",
   "pygments_lexer": "ipython3",
   "version": "3.12.6"
  }
 },
 "nbformat": 4,
 "nbformat_minor": 2
}
