{
 "cells": [
  {
   "cell_type": "code",
   "execution_count": null,
   "metadata": {},
   "outputs": [],
   "source": [
    "import os\n",
    "\n",
    "# define parameters\n",
    "my_folder = '/home/terudel/Documents/Enseignement/online/2021-2022/sigmaM2_telea/data/aumelas'\n",
    "in_vector = os.path.join(my_folder, 'sample_strata.shp')\n",
    "ref_image = os.path.join(my_folder, 'aumelas_orthoirc.tif')\n",
    "out_image = os.path.splitext(in_vector)[0] + '_v2.tif'\n",
    "field_name = 'num'  # field containing the numeric label of the classes\n",
    "\n",
    "# for those parameters, you know how to get theses information if you had to\n",
    "sptial_resolution = 0.5\n",
    "xmin = 748231.0\n",
    "ymin = 6273800.0\n",
    "xmax = 751231.0\n",
    "ymax = 6276800.0\n",
    "\n",
    "# define command pattern to fill with paremeters\n",
    "cmd_pattern = (\"gdal_rasterize -a {field_name} \"\n",
    "               \"-tr {sptial_resolution} {sptial_resolution} \"\n",
    "               \"-te {xmin} {ymin} {xmax} {ymax} -ot Byte -of GTiff \"\n",
    "               \"{in_vector} {out_image}\")\n",
    "\n",
    "# fill the string with the parameter thanks to format function\n",
    "cmd = cmd_pattern.format(in_vector=in_vector, xmin=xmin, ymin=ymin, xmax=xmax,\n",
    "                         ymax=ymax, out_image=out_image, field_name=field_name,\n",
    "                         sptial_resolution=sptial_resolution)\n",
    "\n",
    "# execute the command in the terminal\n",
    "os.system(cmd)"
   ]
  },
  {
   "cell_type": "markdown",
   "metadata": {},
   "source": [
    "# # for those parameters, you know how to get theses information if you had to\n",
    "sptial_resolution = 0.5\n",
    "xmin = 748231.0\n",
    "ymin = 6273800.0\n",
    "xmax = 751231.0\n",
    "ymax = 6276800.0"
   ]
  },
  {
   "cell_type": "code",
   "execution_count": 1,
   "metadata": {},
   "outputs": [],
   "source": [
    "from osgeo import gdal\n",
    "\n",
    "#filename = 'data/td_read_and_write/imagette_fabas.tif'\n",
    "#data_set = gdal.Open(filename, gdal.GA_ReadOnly)\n",
    "#type(data_set)"
   ]
  },
  {
   "cell_type": "code",
   "execution_count": 2,
   "metadata": {},
   "outputs": [
    {
     "name": "stdout",
     "output_type": "stream",
     "text": [
      "/home/onyxia/work/Depot_Git/results/data/img_pretraitees/Serie_temp_S2_ndvi.tif is open\n"
     ]
    },
    {
     "name": "stderr",
     "output_type": "stream",
     "text": [
      "/opt/conda/lib/python3.12/site-packages/osgeo/gdal.py:311: FutureWarning: Neither gdal.UseExceptions() nor gdal.DontUseExceptions() has been explicitly called. In GDAL 4.0, exceptions will be enabled by default.\n",
      "  warnings.warn(\n"
     ]
    }
   ],
   "source": [
    "def open_image(filename):\n",
    "    data_set = gdal.Open(filename, gdal.GA_ReadOnly)\n",
    "    if data_set is None:\n",
    "      print('Not open {}'.format(filename))\n",
    "    else:\n",
    "      print('{} is open'.format(filename))\n",
    "    \n",
    "    return data_set\n",
    "\n",
    "filename = '/home/onyxia/work/Depot_Git/results/data/img_pretraitees/Serie_temp_S2_ndvi.tif'\n",
    "data_set = open_image(filename)\n"
   ]
  },
  {
   "cell_type": "code",
   "execution_count": 3,
   "metadata": {},
   "outputs": [
    {
     "name": "stdout",
     "output_type": "stream",
     "text": [
      "Number of columns : 10863\n",
      "Number of lines : 7381\n",
      "Number of bands : 6\n"
     ]
    }
   ],
   "source": [
    "def get_image_dimension(data_set):\n",
    "    nb_col = data_set.RasterXSize\n",
    "    nb_lignes = data_set.RasterYSize\n",
    "    nb_band = data_set.RasterCount\n",
    "    print('Number of columns :', nb_col)\n",
    "    print('Number of lines :', nb_lignes)\n",
    "    print('Number of bands :', nb_band)\n",
    "\n",
    "    return nb_lignes, nb_col, nb_band\n",
    "\n",
    "nb_lignes, nb_col, nb_band = get_image_dimension(data_set)"
   ]
  },
  {
   "cell_type": "code",
   "execution_count": 4,
   "metadata": {},
   "outputs": [
    {
     "name": "stdout",
     "output_type": "stream",
     "text": [
      "Origin = (501127.9696999999, 6314464.023599998)\n"
     ]
    }
   ],
   "source": [
    "# geotransform : (527128.0, 2.0, 0.0, 6248618.0, 0.0, -2.0)\n",
    "\n",
    "def get_origin_coordinates(data_set):\n",
    "    geotransform = data_set.GetGeoTransform()\n",
    "    origin_x, origin_y = geotransform[0], geotransform[3]\n",
    "    print('Origin = ({}, {})'.format(origin_x, origin_y))\n",
    "\n",
    "    return origin_x, origin_y\n",
    "\n",
    "origin_x, origin_y = get_origin_coordinates(data_set)"
   ]
  },
  {
   "cell_type": "code",
   "execution_count": 5,
   "metadata": {},
   "outputs": [
    {
     "name": "stdout",
     "output_type": "stream",
     "text": [
      "pixel size = ((10.0, -10.0))\n"
     ]
    }
   ],
   "source": [
    "def get_pixel_size(data_set):\n",
    "    geotransform = data_set.GetGeoTransform()\n",
    "    pixel_size = geotransform[1], geotransform[5]\n",
    "    print('pixel size = ({})'.format(pixel_size))\n",
    "\n",
    "    return pixel_size\n",
    "\n",
    "pixel_size = get_pixel_size(data_set)"
   ]
  },
  {
   "cell_type": "code",
   "execution_count": 6,
   "metadata": {},
   "outputs": [
    {
     "name": "stdout",
     "output_type": "stream",
     "text": [
      "xmin: 501127.9696999999, ymin: 6240654.023599998, xmax: 609757.9696999999, ymax: 6314464.023599998\n",
      "Spatial resolution: (10.0, 10.0)\n"
     ]
    }
   ],
   "source": [
    "def get_raster_bounds(data_set):\n",
    "    geotransform = data_set.GetGeoTransform()\n",
    "    origin_x, origin_y = geotransform[0], geotransform[3]\n",
    "    pixel_size_x, pixel_size_y = geotransform[1], geotransform[5]\n",
    "    raster_x_size = data_set.RasterXSize\n",
    "    raster_y_size = data_set.RasterYSize\n",
    "\n",
    "    xmin = origin_x\n",
    "    xmax = origin_x + raster_x_size * pixel_size_x\n",
    "    ymax = origin_y\n",
    "    ymin = origin_y + raster_y_size * pixel_size_y\n",
    "\n",
    "    print(f\"xmin: {xmin}, ymin: {ymin}, xmax: {xmax}, ymax: {ymax}\")\n",
    "    print(f\"Spatial resolution: ({abs(pixel_size_x)}, {abs(pixel_size_y)})\")\n",
    "    \n",
    "    return xmin, ymin, xmax, ymax, (abs(pixel_size_x), abs(pixel_size_y))\n",
    "\n",
    "xmin, ymin, xmax, ymax, spatial_resolution = get_raster_bounds(data_set)\n"
   ]
  },
  {
   "cell_type": "code",
   "execution_count": 1,
   "metadata": {},
   "outputs": [
    {
     "name": "stdout",
     "output_type": "stream",
     "text": [
      "0...10...20...30...40...50...60...70...80...90...100 - done.\n"
     ]
    },
    {
     "data": {
      "text/plain": [
       "0"
      ]
     },
     "execution_count": 1,
     "metadata": {},
     "output_type": "execute_result"
    }
   ],
   "source": [
    "import os\n",
    "\n",
    "# define parameters\n",
    "my_folder = '/home/onyxia/work/Depot_Git/results/data'\n",
    "in_vector = os.path.join(my_folder, 'sample/Sample_BD_foret_T31TCJ.shp')\n",
    "ref_image = os.path.join(my_folder, 'img_pretraitees/Serie_temp_S2_ndvi.tif')\n",
    "out_image = os.path.splitext(in_vector)[0] + '_v2.tif'\n",
    "field_name = 'Code'  # field containing the numeric label of the classes\n",
    "\n",
    "# for those parameters, you know how to get theses information if you had to\n",
    "sptial_resolution = 10\n",
    "xmin = 501127.9696999999\n",
    "ymin = 6240654.023599998\n",
    "xmax = 609757.9696999999\n",
    "ymax = 6314464.023599998\n",
    "\n",
    "# define command pattern to fill with paremeters\n",
    "cmd_pattern = (\"gdal_rasterize -a {field_name} \"\n",
    "               \"-tr {sptial_resolution} {sptial_resolution} \"\n",
    "               \"-te {xmin} {ymin} {xmax} {ymax} -ot Byte -of GTiff \"\n",
    "               \"{in_vector} {out_image}\")\n",
    "\n",
    "# fill the string with the parameter thanks to format function\n",
    "cmd = cmd_pattern.format(in_vector=in_vector, xmin=xmin, ymin=ymin, xmax=xmax,\n",
    "                         ymax=ymax, out_image=out_image, field_name=field_name,\n",
    "                         sptial_resolution=sptial_resolution)\n",
    "\n",
    "# execute the command in the terminal\n",
    "os.system(cmd)"
   ]
  },
  {
   "cell_type": "markdown",
   "metadata": {},
   "source": [
    "# Lecteur image sous la forme tableau numpy !!!\n"
   ]
  },
  {
   "cell_type": "code",
   "execution_count": 4,
   "metadata": {},
   "outputs": [
    {
     "name": "stderr",
     "output_type": "stream",
     "text": [
      "/opt/conda/lib/python3.12/site-packages/osgeo/gdal.py:311: FutureWarning: Neither gdal.UseExceptions() nor gdal.DontUseExceptions() has been explicitly called. In GDAL 4.0, exceptions will be enabled by default.\n",
      "  warnings.warn(\n"
     ]
    },
    {
     "name": "stdout",
     "output_type": "stream",
     "text": [
      "(4997108, 6)\n",
      "(4997108, 1)\n"
     ]
    }
   ],
   "source": [
    "import os\n",
    "import numpy as np\n",
    "# personal librairies\n",
    "import classification as cla\n",
    "import read_and_write as rw\n",
    "\n",
    "my_folder = '/home/onyxia/work/Depot_Git/results/data'\n",
    "sample_filename = os.path.join(my_folder, 'sample/Sample_BD_foret_T31TCJ_v2.tif')\n",
    "image_filename = os.path.join(my_folder, 'img_pretraitees/Serie_temp_S2_ndvi.tif')\n",
    "X, Y, t = cla.get_samples_from_roi(image_filename, sample_filename)\n",
    "print(X.shape)\n",
    "print(Y.shape)"
   ]
  },
  {
   "cell_type": "code",
   "execution_count": 5,
   "metadata": {},
   "outputs": [
    {
     "name": "stdout",
     "output_type": "stream",
     "text": [
      "Valor mínimo de X: 0.0\n",
      "Valor máximo de X: 1129.82763671875\n",
      "Valores fuera del rango encontrados: [ 75.24856  97.58122 234.85663 ... 137.10042 189.28323 209.3067 ]\n"
     ]
    }
   ],
   "source": [
    "# Verificar los valores de X\n",
    "min_X = X.min()  # Valor mínimo en X\n",
    "max_X = X.max()  # Valor máximo en X\n",
    "print(f\"Valor mínimo de X: {min_X}\")\n",
    "print(f\"Valor máximo de X: {max_X}\")\n",
    "\n",
    "# Verificar si hay valores fuera del rango esperado de NDVI (-1 a 1)\n",
    "out_of_range = X[(X < -1) | (X > 1)]  # Filtrar valores fuera del rango [-1, 1]\n",
    "if len(out_of_range) > 0:\n",
    "    print(f\"Valores fuera del rango encontrados: {out_of_range}\")\n",
    "else:\n",
    "    print(\"No se encontraron valores fuera del rango de NDVI.\")"
   ]
  },
  {
   "cell_type": "code",
   "execution_count": 6,
   "metadata": {},
   "outputs": [
    {
     "name": "stdout",
     "output_type": "stream",
     "text": [
      "Primeras 5 filas de X:\n",
      "[[0.4382772  0.57193816 0.65543646 0.49634117 0.31929183 0.70168537]\n",
      " [0.448      0.6099796  0.69306123 0.5094035  0.3145946  0.69908696]\n",
      " [0.6382708  0.742119   0.7870801  0.54091394 0.3303602  0.812103  ]\n",
      " [0.5118004  0.57911    0.6497373  0.55889887 0.4703512  0.6795367 ]\n",
      " [0.70802194 0.73612887 0.7575246  0.5393292  0.2987512  0.74483776]]\n",
      "Primeras 5 etiquetas en Y:\n",
      "[[12]\n",
      " [12]\n",
      " [12]\n",
      " [12]\n",
      " [12]]\n",
      "Primeras 5 coordenadas convertidas:\n",
      "[(np.int64(77), np.int64(8124)), (np.int64(78), np.int64(8124)), (np.int64(78), np.int64(8125)), (np.int64(79), np.int64(8124)), (np.int64(79), np.int64(8125))]\n"
     ]
    }
   ],
   "source": [
    "# Inspeccionar las primeras filas de X y Y\n",
    "print(\"Primeras 5 filas de X:\")\n",
    "print(X[:5])  # Primeras 5 muestras de características\n",
    "\n",
    "print(\"Primeras 5 etiquetas en Y:\")\n",
    "print(Y[:5])  # Primeras 5 etiquetas asociadas\n",
    "\n",
    "# Convertir t a una lista de tuplas (x, y)\n",
    "coords = list(zip(t[0], t[1]))\n",
    "\n",
    "# Ver las primeras 5 coordenadas\n",
    "print(\"Primeras 5 coordenadas convertidas:\")\n",
    "print(coords[:5])\n",
    "\n",
    "\n"
   ]
  },
  {
   "cell_type": "code",
   "execution_count": 7,
   "metadata": {},
   "outputs": [
    {
     "name": "stdout",
     "output_type": "stream",
     "text": [
      "(4997108, 6)\n",
      "(4997108,)\n",
      "Shape de X_filtered: (2387823, 6)\n",
      "Shape de Y_filtered: (2387823,)\n",
      "Primeras 5 etiquetas en Y:\n",
      "[12 12 12 12 12]\n"
     ]
    }
   ],
   "source": [
    "import numpy as np\n",
    "\n",
    "# Asegúrate de que Y tenga la forma correcta, aplanándola\n",
    "Y = Y.flatten()  # Convierte Y de (4997108, 1) a (4997108,)\n",
    "\n",
    "# Verifica que las dimensiones de X y Y sean correctas\n",
    "print(X.shape)  # (4997108, 6)\n",
    "print(Y.shape)  # (4997108,)\n",
    "\n",
    "# Convertir los códigos de interés a cadenas\n",
    "codes_of_interest = ['12', '13', '14', '23', '24', '25']\n",
    "\n",
    "# Filtrar X y Y por las clases de interés\n",
    "mask = np.isin(Y.astype(str), codes_of_interest)  # Convertir Y a cadenas para compararlo con los códigos de interés\n",
    "\n",
    "# Filtrar las muestras\n",
    "X_filtered = X[mask]  # Seleccionar solo las muestras correspondientes\n",
    "Y_filtered = Y[mask]  # Seleccionar solo las clases correspondientes\n",
    "\n",
    "# Verificar el tamaño después del filtro\n",
    "print(\"Shape de X_filtered:\", X_filtered.shape)\n",
    "print(\"Shape de Y_filtered:\", Y_filtered.shape)\n",
    "\n",
    "\n",
    "\n",
    "print(\"Primeras 5 etiquetas en Y:\")\n",
    "print(Y[:5])  # Primeras 5 etiquetas asociadas\n"
   ]
  },
  {
   "cell_type": "code",
   "execution_count": 8,
   "metadata": {},
   "outputs": [
    {
     "name": "stdout",
     "output_type": "stream",
     "text": [
      "Clases únicas en Y: [11 12 13 14 15 16 21 22 23 24 25 26 27 28 29]\n"
     ]
    }
   ],
   "source": [
    "# Verificar las clases únicas en Y\n",
    "unique_classes_in_y = np.unique(Y)\n",
    "print(f\"Clases únicas en Y: {unique_classes_in_y}\")\n"
   ]
  },
  {
   "cell_type": "code",
   "execution_count": 9,
   "metadata": {},
   "outputs": [
    {
     "name": "stdout",
     "output_type": "stream",
     "text": [
      "Primeras 5 clases en Y: [12 12 12 12 12]\n",
      "Primeras 5 muestras en X: [[0.4382772  0.57193816 0.65543646 0.49634117 0.31929183 0.70168537]\n",
      " [0.448      0.6099796  0.69306123 0.5094035  0.3145946  0.69908696]\n",
      " [0.6382708  0.742119   0.7870801  0.54091394 0.3303602  0.812103  ]\n",
      " [0.5118004  0.57911    0.6497373  0.55889887 0.4703512  0.6795367 ]\n",
      " [0.70802194 0.73612887 0.7575246  0.5393292  0.2987512  0.74483776]]\n"
     ]
    }
   ],
   "source": [
    "# Verificar las primeras filas de X y Y\n",
    "print(\"Primeras 5 clases en Y:\", Y[:5])\n",
    "print(\"Primeras 5 muestras en X:\", X[:5])\n"
   ]
  },
  {
   "cell_type": "code",
   "execution_count": 10,
   "metadata": {},
   "outputs": [
    {
     "name": "stdout",
     "output_type": "stream",
     "text": [
      "Clases únicas en Y: ['11' '12' '13' '14' '15' '16' '21' '22' '23' '24' '25' '26' '27' '28'\n",
      " '29']\n",
      "Shape de X_filtered después de limpiar Y: (2387823, 6)\n",
      "Shape de Y_filtered después de limpiar Y: (2387823,)\n",
      "Primeras 5 muestras filtradas de X: [[0.4382772  0.57193816 0.65543646 0.49634117 0.31929183 0.70168537]\n",
      " [0.448      0.6099796  0.69306123 0.5094035  0.3145946  0.69908696]\n",
      " [0.6382708  0.742119   0.7870801  0.54091394 0.3303602  0.812103  ]\n",
      " [0.5118004  0.57911    0.6497373  0.55889887 0.4703512  0.6795367 ]\n",
      " [0.70802194 0.73612887 0.7575246  0.5393292  0.2987512  0.74483776]]\n",
      "Primeras 5 clases filtradas de Y: [12 12 12 12 12]\n"
     ]
    }
   ],
   "source": [
    "# Verificar todas las clases únicas en Y\n",
    "unique_classes_in_Y = np.unique(Y.astype(str))\n",
    "print(\"Clases únicas en Y:\", unique_classes_in_Y)\n",
    "\n",
    "# Asegurarse de que no haya espacios en blanco en las clases de Y\n",
    "Y_cleaned = np.array([str(y).strip() for y in Y])  # Eliminar espacios en blanco\n",
    "mask = np.isin(Y_cleaned, codes_of_interest)  # Filtrar usando las clases de interés\n",
    "\n",
    "# Filtrar las muestras nuevamente\n",
    "X_filtered = X[mask]\n",
    "Y_filtered = Y[mask]\n",
    "\n",
    "# Verificar el tamaño después del filtro\n",
    "print(\"Shape de X_filtered después de limpiar Y:\", X_filtered.shape)\n",
    "print(\"Shape de Y_filtered después de limpiar Y:\", Y_filtered.shape)\n",
    "\n",
    "# Verificar algunas muestras filtradas\n",
    "print(\"Primeras 5 muestras filtradas de X:\", X_filtered[:5])\n",
    "print(\"Primeras 5 clases filtradas de Y:\", Y_filtered[:5])\n"
   ]
  },
  {
   "cell_type": "code",
   "execution_count": 11,
   "metadata": {},
   "outputs": [
    {
     "name": "stderr",
     "output_type": "stream",
     "text": [
      "/tmp/ipykernel_23436/609399810.py:35: UserWarning: No artists with labels found to put in legend.  Note that artists whose label start with an underscore are ignored when legend() is called with no argument.\n",
      "  ax.legend(title=\"Clases\", loc='upper left')\n"
     ]
    },
    {
     "data": {
      "image/png": "[encoded data removed]",
      "text/plain": [
       "<Figure size 1000x600 with 1 Axes>"
      ]
     },
     "metadata": {},
     "output_type": "display_data"
    }
   ],
   "source": [
    "import matplotlib.pyplot as plt\n",
    "import numpy as np\n",
    "\n",
    "# Fechas correspondientes a las 6 bandas\n",
    "dates = ['2023-01-01', '2023-03-01', '2023-05-01', '2023-07-01', '2023-09-01', '2023-11-01']\n",
    "\n",
    "# Colores para las clases\n",
    "colors = ['tan', 'palegreen', 'limegreen', 'darkgreen', 'lightblue', 'orange']\n",
    "# Nombres de las clases\n",
    "class_names = ['Chêne', 'Robinier', 'Peupleraie', 'Douglas', 'Pin laricio ou pin noir', 'Pin maritime']\n",
    "\n",
    "# Preparar un gráfico\n",
    "fig, ax = plt.subplots(figsize=(10, 6))\n",
    "\n",
    "# Recorrer las clases y calcular la media y la desviación estándar para cada una\n",
    "for idx, code in enumerate(codes_of_interest):\n",
    "    # Filtrar X y Y para la clase actual\n",
    "    X_class = X_filtered[Y_filtered == code]\n",
    "    \n",
    "    # Verificar si hay muestras para la clase\n",
    "    if X_class.shape[0] > 0:\n",
    "        # Calcular la media y la desviación estándar para cada banda (columna)\n",
    "        means = X_class.mean(axis=0)\n",
    "        stds = X_class.std(axis=0)\n",
    "        \n",
    "        # Graficar la media\n",
    "        ax.plot(dates, means, color=colors[idx], label=class_names[idx])\n",
    "        # Rellenar con la desviación estándar\n",
    "        ax.fill_between(dates, means - stds, means + stds, color=colors[idx], alpha=0.3)\n",
    "\n",
    "# Configurar etiquetas y título\n",
    "ax.set_xlabel('Fecha')\n",
    "ax.set_ylabel('NDVI Promedio')\n",
    "ax.set_title('NDVI Promedio por Clase y Fecha')\n",
    "ax.legend(title=\"Clases\", loc='upper left')\n",
    "\n",
    "# Mostrar gráfico\n",
    "plt.xticks(rotation=45)\n",
    "plt.tight_layout()\n",
    "plt.show()\n",
    "\n"
   ]
  },
  {
   "cell_type": "code",
   "execution_count": 12,
   "metadata": {},
   "outputs": [
    {
     "name": "stderr",
     "output_type": "stream",
     "text": [
      "/tmp/ipykernel_23436/1812531210.py:40: UserWarning: No artists with labels found to put in legend.  Note that artists whose label start with an underscore are ignored when legend() is called with no argument.\n",
      "  ax.legend(title=\"Clases\", loc='upper left')\n"
     ]
    },
    {
     "data": {
      "image/png": "[encoded data removed]",
      "text/plain": [
       "<Figure size 1000x600 with 1 Axes>"
      ]
     },
     "metadata": {},
     "output_type": "display_data"
    }
   ],
   "source": [
    "import matplotlib.pyplot as plt\n",
    "import numpy as np\n",
    "\n",
    "# Fechas correspondientes a las 6 bandas\n",
    "dates = ['2023-01-01', '2023-03-01', '2023-05-01', '2023-07-01', '2023-09-01', '2023-11-01']\n",
    "\n",
    "# Colores para las clases\n",
    "colors = ['tan', 'palegreen', 'limegreen', 'darkgreen', 'lightblue', 'orange']\n",
    "# Nombres de las clases\n",
    "class_names = ['Chêne', 'Robinier', 'Peupleraie', 'Douglas', 'Pin laricio ou pin noir', 'Pin maritime']\n",
    "\n",
    "# Preparar un gráfico\n",
    "fig, ax = plt.subplots(figsize=(10, 6))\n",
    "\n",
    "# Recorrer las clases y calcular la media y la desviación estándar para cada una\n",
    "for idx, code in enumerate(codes_of_interest):\n",
    "    # Filtrar X y Y para la clase actual\n",
    "    X_class = X_filtered[Y_filtered == code]\n",
    "    \n",
    "    # Verificar si hay muestras para la clase\n",
    "    if X_class.shape[0] > 0:\n",
    "        # Calcular la media y la desviación estándar para cada banda (columna)\n",
    "        means = X_class.mean(axis=0)\n",
    "        stds = X_class.std(axis=0)\n",
    "        \n",
    "        # Graficar la media\n",
    "        ax.plot(dates, means, color=colors[idx], label=class_names[idx])\n",
    "        # Rellenar con la desviación estándar\n",
    "        ax.fill_between(dates, means - stds, means + stds, color=colors[idx], alpha=0.3)\n",
    "\n",
    "# Configurar etiquetas y título\n",
    "ax.set_xlabel('Fecha')\n",
    "ax.set_ylabel('NDVI Promedio')\n",
    "ax.set_title('NDVI Promedio por Clase y Fecha')\n",
    "\n",
    "# Limitar el rango de NDVI entre -1 y 1\n",
    "ax.set_ylim(0, 1)\n",
    "\n",
    "# Añadir una leyenda\n",
    "ax.legend(title=\"Clases\", loc='upper left')\n",
    "\n",
    "# Mostrar gráfico\n",
    "plt.xticks(rotation=45)\n",
    "plt.tight_layout()\n",
    "plt.show()\n"
   ]
  },
  {
   "cell_type": "code",
   "execution_count": 13,
   "metadata": {},
   "outputs": [
    {
     "name": "stderr",
     "output_type": "stream",
     "text": [
      "/tmp/ipykernel_23436/2115488106.py:42: UserWarning: No artists with labels found to put in legend.  Note that artists whose label start with an underscore are ignored when legend() is called with no argument.\n",
      "  ax.legend(title=\"Clases\", loc='upper left')\n"
     ]
    },
    {
     "data": {
      "image/png": "[encoded data removed]",
      "text/plain": [
       "<Figure size 1000x600 with 1 Axes>"
      ]
     },
     "metadata": {},
     "output_type": "display_data"
    }
   ],
   "source": [
    "import matplotlib.pyplot as plt\n",
    "import numpy as np\n",
    "\n",
    "# Fechas correspondientes a las 6 bandas\n",
    "dates = ['2023-01-01', '2023-03-01', '2023-05-01', '2023-07-01', '2023-09-01', '2023-11-01']\n",
    "\n",
    "# Colores más diferenciados\n",
    "colors = ['#1f77b4', '#ff7f0e', '#2ca02c', '#d62728', '#9467bd', '#8c564b']  # Paleta de colores\n",
    "\n",
    "# Nombres de las clases\n",
    "class_names = ['Chêne', 'Robinier', 'Peupleraie', 'Douglas', 'Pin laricio ou pin noir', 'Pin maritime']\n",
    "\n",
    "# Preparar un gráfico\n",
    "fig, ax = plt.subplots(figsize=(10, 6))\n",
    "\n",
    "# Recorrer las clases y calcular la media y desviación estándar para cada una\n",
    "for idx, code in enumerate(codes_of_interest):\n",
    "    # Filtrar X y Y para la clase actual\n",
    "    X_class = X_filtered[Y_filtered == code]\n",
    "    \n",
    "    # Verificar si hay muestras para la clase\n",
    "    if X_class.shape[0] > 0:\n",
    "        # Calcular la media y desviación estándar para cada banda (columna)\n",
    "        means = X_class.mean(axis=0)\n",
    "        stds = X_class.std(axis=0)\n",
    "        \n",
    "        # Graficar la media\n",
    "        ax.plot(dates, means, color=colors[idx], label=class_names[idx])\n",
    "        \n",
    "        # Graficar el área sombreada para la desviación estándar\n",
    "        ax.fill_between(dates, means + stds, means - stds, color=colors[idx], alpha=0.3)\n",
    "\n",
    "# Configurar etiquetas y título\n",
    "ax.set_xlabel('Fecha')\n",
    "ax.set_ylabel('NDVI Promedio')\n",
    "ax.set_title('NDVI Promedio por Clase y Fecha con Desviación Estándar')\n",
    "\n",
    "# Limitar el rango de NDVI entre -1 y 1\n",
    "ax.set_ylim(0, 1)\n",
    "\n",
    "# Añadir una leyenda\n",
    "ax.legend(title=\"Clases\", loc='upper left')\n",
    "\n",
    "# Mostrar gráfico\n",
    "plt.xticks(rotation=45)\n",
    "plt.tight_layout()\n",
    "plt.show()\n"
   ]
  },
  {
   "cell_type": "code",
   "execution_count": 14,
   "metadata": {},
   "outputs": [
    {
     "name": "stdout",
     "output_type": "stream",
     "text": [
      "Clase: Chêne (Código: 12)\n",
      "Número de muestras para esta clase: 0\n",
      "No hay muestras para esta clase.\n",
      "Clase: Robinier (Código: 13)\n",
      "Número de muestras para esta clase: 0\n",
      "No hay muestras para esta clase.\n",
      "Clase: Peupleraie (Código: 14)\n",
      "Número de muestras para esta clase: 0\n",
      "No hay muestras para esta clase.\n",
      "Clase: Douglas (Código: 23)\n",
      "Número de muestras para esta clase: 0\n",
      "No hay muestras para esta clase.\n",
      "Clase: Pin laricio ou pin noir (Código: 24)\n",
      "Número de muestras para esta clase: 0\n",
      "No hay muestras para esta clase.\n",
      "Clase: Pin maritime (Código: 25)\n",
      "Número de muestras para esta clase: 0\n",
      "No hay muestras para esta clase.\n"
     ]
    }
   ],
   "source": [
    "# Verificar la cantidad de muestras por clase y por fecha\n",
    "for idx, code in enumerate(codes_of_interest):\n",
    "    X_class = X_filtered[Y_filtered == code]\n",
    "    print(f\"Clase: {class_names[idx]} (Código: {code})\")\n",
    "    print(f\"Número de muestras para esta clase: {X_class.shape[0]}\")\n",
    "    if X_class.shape[0] > 0:\n",
    "        print(f\"Primeras 5 muestras: {X_class[:5]}\")\n",
    "    else:\n",
    "        print(\"No hay muestras para esta clase.\")\n"
   ]
  },
  {
   "cell_type": "code",
   "execution_count": 15,
   "metadata": {},
   "outputs": [],
   "source": [
    "# Verificar la varianza (desviación estándar) de las clases\n",
    "for idx, code in enumerate(codes_of_interest):\n",
    "    X_class = X_filtered[Y_filtered == code]\n",
    "    if X_class.shape[0] > 0:\n",
    "        stds = X_class.std(axis=0)\n",
    "        print(f\"Clase: {class_names[idx]} (Código: {code})\")\n",
    "        print(f\"Desviación estándar por fecha: {stds}\")\n",
    "        if np.all(stds == 0):\n",
    "            print(\"¡Advertencia! La desviación estándar es 0 para todas las fechas.\")\n"
   ]
  },
  {
   "cell_type": "code",
   "execution_count": 43,
   "metadata": {},
   "outputs": [
    {
     "name": "stdout",
     "output_type": "stream",
     "text": [
      "Premières valeurs NDVI pour la première date (bande 1) :\n",
      "[0.4382772  0.448      0.6382708  0.5118004  0.70802194 0.5278351\n",
      " 0.6368918  0.50426024 0.59365994 0.4893365  0.51985776 0.5609756\n",
      " 0.5656109  0.6034115  0.5115741  0.55778897 0.4985039  0.5379276\n",
      " 0.5285714  0.5262248 ]\n",
      "Valeurs hors limites au premier rendez-vous (bande 1) :\n",
      "[ 75.24856   97.58122   53.69351   41.758797  48.9716    40.79712\n",
      "  46.945404  72.50333   44.72821   50.72847   46.698788  45.14335\n",
      "  50.749805  55.60153   49.710705  43.6159    44.026226  38.45583\n",
      "  34.93387  239.9597  ]\n"
     ]
    }
   ],
   "source": [
    "# Verificar valores de NDVI para la primera fecha (banda 1) para todas las clases\n",
    "banda1_values = X_filtered[:, 0]  # Primera banda (banda 1)\n",
    "print(\"Premières valeurs NDVI pour la première date (bande 1) :\")\n",
    "print(banda1_values[:20])  # Mostrar los primeros 20 valores\n",
    "\n",
    "# Verificar si hay valores fuera del rango esperado para NDVI (-1, 1)\n",
    "out_of_range_values = banda1_values[(banda1_values < -1) | (banda1_values > 1)]\n",
    "print(\"Valeurs hors limites au premier rendez-vous (bande 1) :\")\n",
    "print(out_of_range_values[:20])  # Mostrar algunos valores fuera del rango\n"
   ]
  }
 ],
 "metadata": {
  "kernelspec": {
   "display_name": "base",
   "language": "python",
   "name": "python3"
  },
  "language_info": {
   "codemirror_mode": {
    "name": "ipython",
    "version": 3
   },
   "file_extension": ".py",
   "mimetype": "text/x-python",
   "name": "python",
   "nbconvert_exporter": "python",
   "pygments_lexer": "ipython3",
   "version": "3.12.7"
  }
 },
 "nbformat": 4,
 "nbformat_minor": 2
}
