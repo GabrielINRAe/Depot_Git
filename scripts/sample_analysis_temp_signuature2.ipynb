{
 "cells": [
  {
   "cell_type": "markdown",
   "metadata": {},
   "source": [
    "### Importation de Bibliothèques "
   ]
  },
  {
   "cell_type": "code",
   "execution_count": 1,
   "metadata": {},
   "outputs": [],
   "source": [
    "import os\n",
    "import sys \n",
    "sys.path.append('/home/onyxia/work/libsigma')\n",
    "# Personal librairies\n",
    "import read_and_write as rw\n",
    "import classification as cla\n",
    "import numpy as np\n",
    "import matplotlib.pyplot as plt"
   ]
  },
  {
   "cell_type": "markdown",
   "metadata": {},
   "source": [
    "### Définition des chemins de jeux de données "
   ]
  },
  {
   "cell_type": "code",
   "execution_count": 2,
   "metadata": {},
   "outputs": [],
   "source": [
    "my_folder = '/home/onyxia/work/Depot_Git/results/data'\n",
    "sample_filename = os.path.join(my_folder, 'sample/Sample_BD_foret_T31TCJ.tif')\n",
    "image_filename = os.path.join(my_folder, 'img_pretraitees/Serie_temp_S2_ndvi.tif')"
   ]
  },
  {
   "cell_type": "markdown",
   "metadata": {},
   "source": [
    "### Extraction de classes  à partir de fichier des échantillons et des valeurs de pixels à partir de raster de NDVI "
   ]
  },
  {
   "cell_type": "code",
   "execution_count": null,
   "metadata": {},
   "outputs": [],
   "source": [
    "X, Y, t = cla.get_samples_from_roi(image_filename, sample_filename)\n",
    "print(X.shape)\n",
    "print(Y.shape)\n",
    "# Vérification de valeur min et max de NDVI \n",
    "min_X = X.min()\n",
    "max_X = X.max()  \n",
    "print(f\"Valeur minimale  de X: {min_X}\")\n",
    "print(f\"Valeur maximale de X: {max_X}\")\n",
    "\n",
    "# Vérifiaction s'il y a des valeur de NDVI en dehors de l'intervalle [-1,1]\n",
    "out_of_range = X[(X < -1) | (X > 1)] \n",
    "if len(out_of_range) > 0:\n",
    "    print(f\"valeurs de NDVI en dehors de l'intervalle [-1,1] : {out_of_range}\")\n",
    "else:\n",
    "    print(\"Pas de valeur de NDVI en dehors de l'intervalle [-1,1]\")"
   ]
  },
  {
   "cell_type": "code",
   "execution_count": null,
   "metadata": {},
   "outputs": [],
   "source": [
    "# Convertion de matrice de label dans la bonne format \n",
    "Y = Y.flatten()  # Convierte Y de (4997108, 1) a (4997108,)\n",
    "\n",
    "# Vérification de la taille de matrice de labels et la matrice des valeurs de NDVI pour le six dates \n",
    "print(X.shape)  # (4997108, 6)\n",
    "print(Y.shape)  # (4997108,)\n",
    "\n",
    "# list de codes de classes d'intérêt \n",
    "codes_of_interest = ['12', '13', '14', '23', '24', '25']\n",
    "\n",
    "# Filtrage pour ne garder que les pixels dnt la code de la classe est inclu dans la liste de codes d'intérêt\n",
    "mask = np.isin(Y.astype(str), codes_of_interest) \n",
    "\n",
    "X_filtered = X[mask]  \n",
    "Y_filtered = Y[mask] \n",
    "\n",
    "# Vérification de résultat de filtrage appliqué\n",
    "print(\"Shape de X_filtered:\", X_filtered.shape)\n",
    "print(\"Shape de Y_filtered:\", Y_filtered.shape)\n",
    "\n",
    "# Vérification des classes présentes après filtrage \n",
    "unique_classes_in_y = np.unique(Y)\n",
    "print(f\"Classes uniques : {unique_classes_in_y}\")\n"
   ]
  },
  {
   "cell_type": "markdown",
   "metadata": {},
   "source": [
    "### Visualisation graphique de l'évolution de signature Spectrale de moyenne et l'écart-type par classe en fonction de dates  "
   ]
  },
  {
   "cell_type": "code",
   "execution_count": null,
   "metadata": {},
   "outputs": [],
   "source": [
    "# Liste de dates \n",
    "dates = ['2023-01-01', '2023-03-01', '2023-05-01', '2023-07-01', '2023-09-01', '2023-11-01']\n",
    "\n",
    "# Coleurs choisis pour chaque classe \n",
    "colors = ['tan', 'palegreen', 'limegreen', 'darkgreen', 'lightblue', 'orange']\n",
    "# Liste de Labels \n",
    "class_names = ['Chêne', 'Robinier', 'Peupleraie', 'Douglas', 'Pin laricio ou pin noir', 'Pin maritime']\n",
    "\n",
    "# Préparation de fênetre graphique \n",
    "fig, ax = plt.subplots(figsize=(10, 6))\n",
    "\n",
    "# Parcourir la liste de code de classes et calculer pour chaque classse la valeur moyenne et l'écart-type pour chaque date \n",
    "for idx, code in enumerate(codes_of_interest):\n",
    "    X_class = X_filtered[Y_filtered == code]\n",
    "    \n",
    "    if X_class.shape[0] > 0:\n",
    "        # Calcul de moyenne et d'écart-type de NDVI \n",
    "        means = X_class.mean(axis=0)\n",
    "        stds = X_class.std(axis=0)\n",
    "        \n",
    "        ax.plot(dates, means, color=colors[idx], label=class_names[idx])\n",
    "        ax.fill_between(dates, means - stds, means + stds, color=colors[idx], alpha=0.3)\n",
    "\n",
    "# Configurer les étiquettes et le graphique \n",
    "ax.set_xlabel('Dates')\n",
    "ax.set_ylabel('NDVI')\n",
    "ax.set_title('Evolution de la signature spectrale par classe en fonction de dates')\n",
    "\n",
    "ax.set_ylim(0, 1)\n",
    "\n",
    "ax.legend(title=\"Classes\", loc='upper left')\n",
    "\n",
    "plt.xticks(rotation=45)\n",
    "plt.tight_layout()\n",
    "plt.show()"
   ]
  }
 ],
 "metadata": {
  "kernelspec": {
   "display_name": "base",
   "language": "python",
   "name": "python3"
  },
  "language_info": {
   "codemirror_mode": {
    "name": "ipython",
    "version": 3
   },
   "file_extension": ".py",
   "mimetype": "text/x-python",
   "name": "python",
   "nbconvert_exporter": "python",
   "pygments_lexer": "ipython3",
   "version": "3.12.7"
  }
 },
 "nbformat": 4,
 "nbformat_minor": 2
}
