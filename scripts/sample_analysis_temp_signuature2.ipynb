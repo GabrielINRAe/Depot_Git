{
 "cells": [
  {
   "cell_type": "markdown",
   "metadata": {},
   "source": [
    "### Importation de Bibliothèques "
   ]
  },
  {
   "cell_type": "code",
   "execution_count": 1,
   "metadata": {},
   "outputs": [],
   "source": [
    "import os\n",
    "import sys \n",
    "sys.path.append('/home/onyxia/work/libsigma')\n",
    "# Personal librairies\n",
    "import read_and_write as rw\n",
    "import classification as cla\n",
    "import numpy as np\n",
    "import matplotlib.pyplot as plt\n",
    "from osgeo import gdal"
   ]
  },
  {
   "cell_type": "markdown",
   "metadata": {},
   "source": [
    "### Définition des chemins de jeux de données "
   ]
  },
  {
   "cell_type": "code",
   "execution_count": 2,
   "metadata": {},
   "outputs": [],
   "source": [
    "my_folder = '/home/onyxia/work/Depot_Git/results/data'\n",
    "in_vector = os.path.join(my_folder, 'sample/Sample_BD_foret_T31TCJ.shp')\n",
    "ref_image = os.path.join(my_folder, 'img_pretraitees/Serie_temp_S2_ndvi.tif')\n",
    "out_image = os.path.splitext(in_vector)[0] + '_v2.tif'\n",
    "field_name = \"Code\"  "
   ]
  },
  {
   "cell_type": "code",
   "execution_count": 4,
   "metadata": {},
   "outputs": [
    {
     "name": "stdout",
     "output_type": "stream",
     "text": [
      "7381\n",
      "10863\n",
      "6\n",
      "xmin: 501127.9696999999, ymin: 6240654.023599998, xmax: 609757.9696999999, ymax: 6314464.023599998\n",
      "Spatial resolution: (10.0, 10.0)\n"
     ]
    },
    {
     "name": "stderr",
     "output_type": "stream",
     "text": [
      "/opt/conda/lib/python3.12/site-packages/osgeo/gdal.py:311: FutureWarning: Neither gdal.UseExceptions() nor gdal.DontUseExceptions() has been explicitly called. In GDAL 4.0, exceptions will be enabled by default.\n",
      "  warnings.warn(\n"
     ]
    }
   ],
   "source": [
    "# Extraction des caractéristiques de la couche raster de NDVI \n",
    "data_set = rw.open_image(ref_image)\n",
    "nb_lignes, nb_col, nb_band = rw.get_image_dimension(data_set)\n",
    "print (nb_lignes)\n",
    "print(nb_col)\n",
    "print(nb_band)\n",
    "origin_x, origin_y = rw.get_origin_coordinates(data_set)\n",
    "pixel_size = rw.get_pixel_size(data_set)\n",
    "def get_raster_bounds(data_set):\n",
    "    geotransform = data_set.GetGeoTransform()\n",
    "    origin_x, origin_y = geotransform[0], geotransform[3]\n",
    "    pixel_size_x, pixel_size_y = geotransform[1], geotransform[5]\n",
    "    raster_x_size = data_set.RasterXSize\n",
    "    raster_y_size = data_set.RasterYSize\n",
    "\n",
    "    xmin = origin_x\n",
    "    xmax = origin_x + raster_x_size * pixel_size_x\n",
    "    ymax = origin_y\n",
    "    ymin = origin_y + raster_y_size * pixel_size_y\n",
    "\n",
    "    print(f\"xmin: {xmin}, ymin: {ymin}, xmax: {xmax}, ymax: {ymax}\")\n",
    "    print(f\"Spatial resolution: ({abs(pixel_size_x)}, {abs(pixel_size_y)})\")\n",
    "    \n",
    "    return xmin, ymin, xmax, ymax, (abs(pixel_size_x), abs(pixel_size_y))\n",
    "xmin, ymin, xmax, ymax, spatial_resolution = get_raster_bounds(data_set)"
   ]
  },
  {
   "cell_type": "code",
   "execution_count": 5,
   "metadata": {},
   "outputs": [
    {
     "name": "stdout",
     "output_type": "stream",
     "text": [
      "0...10...20...30...40...50...60...70...80...90...100 - done.\n"
     ]
    },
    {
     "data": {
      "text/plain": [
       "0"
      ]
     },
     "execution_count": 5,
     "metadata": {},
     "output_type": "execute_result"
    }
   ],
   "source": [
    "# Rastérisation de la couche vecteur des échantillons \n",
    "sptial_resolution = 10\n",
    "xmin = 501127.9696999999\n",
    "ymin = 6240654.023599998\n",
    "xmax = 609757.9696999999\n",
    "ymax = 6314464.023599998\n",
    "\n",
    "# define command pattern to fill with paremeters\n",
    "cmd_pattern = (\"gdal_rasterize -a {field_name} \"\n",
    "               \"-tr {sptial_resolution} {sptial_resolution} \"\n",
    "               \"-te {xmin} {ymin} {xmax} {ymax} -ot Byte -of GTiff \"\n",
    "               \"{in_vector} {out_image}\")\n",
    "\n",
    "# fill the string with the parameter thanks to format function\n",
    "cmd = cmd_pattern.format(in_vector=in_vector, xmin=xmin, ymin=ymin, xmax=xmax,\n",
    "                         ymax=ymax, out_image=out_image, field_name=field_name,\n",
    "                         sptial_resolution=sptial_resolution)\n",
    "\n",
    "# execute the command in the terminal\n",
    "os.system(cmd)"
   ]
  },
  {
   "cell_type": "markdown",
   "metadata": {},
   "source": [
    "### Extraction de classes  à partir de fichier des échantillons et des valeurs de pixels à partir de raster de NDVI "
   ]
  },
  {
   "cell_type": "code",
   "execution_count": 6,
   "metadata": {},
   "outputs": [
    {
     "name": "stdout",
     "output_type": "stream",
     "text": [
      "(4997108, 6)\n",
      "(4997108, 1)\n",
      "Valeur minimale  de X: 0.0\n",
      "Valeur maximale de X: 1129.82763671875\n",
      "valeurs de NDVI en dehors de l'intervalle [-1,1] : [ 75.24856  97.58122 234.85663 ... 137.10042 189.28323 209.3067 ]\n"
     ]
    }
   ],
   "source": [
    "my_folder = '/home/onyxia/work/Depot_Git/results/data'\n",
    "sample_filename = os.path.join(my_folder, 'sample/Sample_BD_foret_T31TCJ_v2.tif')\n",
    "image_filename = os.path.join(my_folder, 'img_pretraitees/Serie_temp_S2_ndvi.tif')\n",
    "X, Y, t = cla.get_samples_from_roi(image_filename, sample_filename)\n",
    "print(X.shape)\n",
    "print(Y.shape)\n",
    "# Vérification de valeur min et max de NDVI \n",
    "min_X = X.min()\n",
    "max_X = X.max()  \n",
    "print(f\"Valeur minimale  de X: {min_X}\")\n",
    "print(f\"Valeur maximale de X: {max_X}\")\n",
    "\n",
    "# Vérifiaction s'il y a des valeur de NDVI en dehors de l'intervalle [-1,1]\n",
    "out_of_range = X[(X < -1) | (X > 1)] \n",
    "if len(out_of_range) > 0:\n",
    "    print(f\"valeurs de NDVI en dehors de l'intervalle [-1,1] : {out_of_range}\")\n",
    "else:\n",
    "    print(\"Pas de valeur de NDVI en dehors de l'intervalle [-1,1]\")"
   ]
  },
  {
   "cell_type": "code",
   "execution_count": 7,
   "metadata": {},
   "outputs": [
    {
     "name": "stdout",
     "output_type": "stream",
     "text": [
      "(4997108, 6)\n",
      "(4997108,)\n",
      "Shape de X_filtered: (2387823, 6)\n",
      "Shape de Y_filtered: (2387823,)\n",
      "Classes uniques : [12 13 14 23 24 25]\n"
     ]
    }
   ],
   "source": [
    "# Convertion de matrice de label dans la bonne format \n",
    "Y = Y.flatten()  # Convertion Y de (4997108, 1) à (4997108,)\n",
    "\n",
    "# Vérification de la taille de matrice de labels et la matrice des valeurs de NDVI pour le six dates \n",
    "print(X.shape)  # (4997108, 6)\n",
    "print(Y.shape)  # (4997108,)\n",
    "\n",
    "# list de codes de classes d'intérêt \n",
    "codes_of_interest = ['12', '13', '14', '23', '24', '25']\n",
    "\n",
    "# Filtrage pour ne garder que les pixels dnt la code de la classe est inclu dans la liste de codes d'intérêt\n",
    "mask = np.isin(Y.astype(str), codes_of_interest) \n",
    "\n",
    "X_filtered = X[mask]  \n",
    "Y_filtered = Y[mask] \n",
    "\n",
    "# Vérification de résultat de filtrage appliqué\n",
    "print(\"Shape de X_filtered:\", X_filtered.shape)\n",
    "print(\"Shape de Y_filtered:\", Y_filtered.shape)\n",
    "\n",
    "# Vérification des classes présentes après filtrage \n",
    "unique_classes_in_y = np.unique(Y_filtered)\n",
    "print(f\"Classes uniques : {unique_classes_in_y}\")"
   ]
  },
  {
   "cell_type": "markdown",
   "metadata": {},
   "source": [
    "### Visualisation graphique de l'évolution de signature Spectrale de moyenne et l'écart-type par classe en fonction de dates  "
   ]
  },
  {
   "cell_type": "code",
   "execution_count": 8,
   "metadata": {},
   "outputs": [
    {
     "name": "stdout",
     "output_type": "stream",
     "text": [
      "Classe 12: 0 instances trouvées\n",
      "Classe 13: 0 instances trouvées\n",
      "Classe 14: 0 instances trouvées\n",
      "Classe 23: 0 instances trouvées\n",
      "Classe 24: 0 instances trouvées\n",
      "Classe 25: 0 instances trouvées\n"
     ]
    },
    {
     "name": "stderr",
     "output_type": "stream",
     "text": [
      "/tmp/ipykernel_20748/3424651926.py:41: UserWarning: No artists with labels found to put in legend.  Note that artists whose label start with an underscore are ignored when legend() is called with no argument.\n",
      "  ax.legend(title=\"Classes\", loc='upper left')\n"
     ]
    },
    {
     "data": {
      "image/png": "[encoded data removed]",
      "text/plain": [
       "<Figure size 1000x600 with 1 Axes>"
      ]
     },
     "metadata": {},
     "output_type": "display_data"
    }
   ],
   "source": [
    "# Liste de dates\n",
    "dates = ['2023-01-01', '2023-03-01', '2023-05-01', '2023-07-01', '2023-09-01', '2023-11-01']\n",
    "# Couleurs choisies pour chaque classe\n",
    "colors = ['tan', 'palegreen', 'limegreen', 'darkgreen', 'lightblue', 'orange']\n",
    "# Liste de Labels\n",
    "class_names = ['Chêne', 'Robinier', 'Peupleraie', 'Douglas', 'Pin_laricio_ou_pin_noir', 'Pin_maritime']\n",
    "\n",
    "# Préparation de la fenêtre graphique\n",
    "fig, ax = plt.subplots(figsize=(10, 6))\n",
    "\n",
    "# Parcourir les classes\n",
    "for idx, code in enumerate(codes_of_interest):\n",
    "    # Vérifier les données pour chaque classe\n",
    "    X_class = X_filtered[Y_filtered == code]\n",
    "    print(f\"Classe {code}: {X_class.shape[0]} instances trouvées\")\n",
    "\n",
    "    if X_class.shape[0] > 0:\n",
    "        # Calculer moyenne et écart-type\n",
    "        means = X_class.mean(axis=0)\n",
    "        stds = X_class.std(axis=0)\n",
    "\n",
    "        # Vérifier les valeurs calculées\n",
    "        print(f\"Classe {code}: Moyennes {means}, Écart-types {stds}\")\n",
    "\n",
    "        # Vérification des indices\n",
    "        assert idx < len(colors), f\"Indice {idx} dépasse la taille de 'colors'\"\n",
    "        assert idx < len(class_names), f\"Indice {idx} dépasse la taille de 'class_names'\"\n",
    "\n",
    "        # Tracer les moyennes et intervalles\n",
    "        ax.plot(dates, means, color=colors[idx], label=class_names[idx])\n",
    "        ax.fill_between(dates, means - stds, means + stds, color=colors[idx], alpha=0.3)\n",
    "\n",
    "# Configurer les étiquettes et le graphique\n",
    "ax.set_xlabel('Dates')\n",
    "ax.set_ylabel('NDVI')\n",
    "ax.set_title('Evolution de la signature spectrale par classe en fonction de dates')\n",
    "\n",
    "# Supprimer temporairement la limite pour tester\n",
    "ax.set_ylim(None)\n",
    "\n",
    "ax.legend(title=\"Classes\", loc='upper left')\n",
    "\n",
    "plt.xticks(rotation=45)\n",
    "plt.tight_layout()\n",
    "plt.show()\n"
   ]
  }
 ],
 "metadata": {
  "kernelspec": {
   "display_name": "base",
   "language": "python",
   "name": "python3"
  },
  "language_info": {
   "codemirror_mode": {
    "name": "ipython",
    "version": 3
   },
   "file_extension": ".py",
   "mimetype": "text/x-python",
   "name": "python",
   "nbconvert_exporter": "python",
   "pygments_lexer": "ipython3",
   "version": "3.12.7"
  }
 },
 "nbformat": 4,
 "nbformat_minor": 2
}
