{
 "cells": [
  {
   "cell_type": "code",
   "execution_count": null,
   "metadata": {},
   "outputs": [],
   "source": [
    "# Importation des bibliothèques nécéessaires \n",
    "import os\n",
    "from osgeo import gdal, ogr\n",
    "import geopandas as gpd\n",
    "import numpy as np\n",
    "import matplotlib.pyplot as plt\n",
    "from my_function import read_ndvi_with_gdal, calculate_ndvi_stats, plot_ndvi_signatures "
   ]
  },
  {
   "cell_type": "code",
   "execution_count": null,
   "metadata": {},
   "outputs": [],
   "source": [
    "# Définition des paramètres \n",
    "\n",
    "my_folder = '/home/onyxia/work'\n",
    "ndvi_file = os.path.join(my_folder, 'Depot_Git/results/data/img_pretraitees/Serie_temp_S2_ndvi.tif')\n",
    "in_vector = os.path.join(my_folder, 'Depot_Git/results/data/sample/Sample_BD_foret_T31TCJ.shp')\n",
    "output_file = os.path.join (my_folder,'Depot_Git/results/figure/temp_mean_ndvi.png')\n"
   ]
  },
  {
   "cell_type": "code",
   "execution_count": null,
   "metadata": {},
   "outputs": [],
   "source": [
    "# chargement de couches des échantillons sélectionnés \n",
    "samples = gpd.read_file(in_vector)\n",
    "# Liste des classes d'intérêt\n",
    "classes = [\"Chêne\", \"Robinier\", \"Peupleraie\", \"Douglas\", \"Pin laricio ou pin noir\", \"Pin maritime\"]\n",
    "\n",
    "# Filtrage  des échantillons qu'ont une classe incluse dans la liste des classes d'intérêt \n",
    "filtered_samples = samples[samples['Nom'].isin(classes)]\n",
    "print(filtered_samples)\n",
    "\n",
    "# Chargement de raster de NDVI avec GDAL\n",
    "ndvi_data, dates = read_ndvi_with_gdal(ndvi_file)"
   ]
  },
  {
   "cell_type": "code",
   "execution_count": null,
   "metadata": {},
   "outputs": [],
   "source": [
    "spatial_resolution = 10\n",
    "# Calcul des statistiques NDVI par classe\n",
    "ndvi_stats = calculate_ndvi_stats(ndvi_data, filtered_samples, class_column = 'Nom', geometry_column ='geometry',\n",
    "                                      spatial_resolution = spatial_resolution, reference_raster = ndvi_file)\n",
    "print(ndvi_stats)"
   ]
  },
  {
   "cell_type": "code",
   "execution_count": null,
   "metadata": {},
   "outputs": [],
   "source": [
    "# Tracer les courbes des signatures temporelles\n",
    "plot_ndvi_signatures(ndvi_stats, output_file)"
   ]
  }
 ],
 "metadata": {
  "kernelspec": {
   "display_name": "base",
   "language": "python",
   "name": "python3"
  },
  "language_info": {
   "codemirror_mode": {
    "name": "ipython",
    "version": 3
   },
   "file_extension": ".py",
   "mimetype": "text/x-python",
   "name": "python",
   "nbconvert_exporter": "python",
   "pygments_lexer": "ipython3",
   "version": "3.12.6"
  }
 },
 "nbformat": 4,
 "nbformat_minor": 2
}
