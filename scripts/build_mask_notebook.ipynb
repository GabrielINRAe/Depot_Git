{
 "cells": [
  {
   "cell_type": "code",
   "execution_count": 7,
   "metadata": {},
   "outputs": [],
   "source": [
    "import geopandas as gpd\n",
    "import numpy as np\n",
    "import os\n",
    "from my_function import filter_classes,supprimer_dossier_non_vide"
   ]
  },
  {
   "cell_type": "code",
   "execution_count": 9,
   "metadata": {},
   "outputs": [],
   "source": [
    "# Paramètrage des paths\n",
    "racine = r\"C:\\Users\\orabo\\Documents\\GitHub\\Projet Teledec\"    # Racine du projet\n",
    "output_dir = os.path.join(racine, \"output_masque\")    # Dossier de sortie\n",
    "os.makedirs(output_dir, exist_ok=True)       # Crée le dossier output temporaire\n",
    "path_masque_traite = os.path.join(output_dir,'mask_traite.shp')    # Path pour le fichier shp masque traité \n",
    "path_f_vege = os.path.join(racine,\"data/project/FORMATION_VEGETALE.shp\")    # Path pour le fichier shp formation végétale"
   ]
  },
  {
   "cell_type": "code",
   "execution_count": 11,
   "metadata": {},
   "outputs": [],
   "source": [
    "f_vege = gpd.read_file(path_f_vege)\n",
    "L_mask = ['Lande',\n",
    "          'Formation herbacée',\n",
    "          'Forêt ouverte de conifères purs',\n",
    "          'Forêt ouverte de feuillus purs',\n",
    "          'Forêt ouverte sans couvert arboré',\n",
    "          'Forêt ouverte à mélange de feuillus et conifères',\n",
    "          'Forêt fermée sans couvert arboré']\n",
    "## Utilise la fonction filter_classes"
   ]
  },
  {
   "cell_type": "code",
   "execution_count": null,
   "metadata": {},
   "outputs": [],
   "source": [
    "def masque_shp(path_f_vege):\n",
    "    \"\"\"\n",
    "    Permet la création du masque en format shp à partir d'un fichier formation végétale.\n",
    "\n",
    "    Parameters:\n",
    "        path_f_vege (str): Chemin du fichier pour accéder au fichier formation végétale\n",
    "\n",
    "    Returns:\n",
    "        None\n",
    "    \"\"\"\n",
    "    f_vege = gpd.read_file(path_f_vege)    # Mettre le path en paramètre\n",
    "    L_mask = ['Lande',\n",
    "          'Formation herbacée',\n",
    "          'Forêt ouverte de conifères purs',\n",
    "          'Forêt ouverte de feuillus purs',\n",
    "          'Forêt ouverte sans couvert arboré',\n",
    "          'Forêt ouverte à mélange de feuillus et conifères',\n",
    "          'Forêt fermée sans couvert arboré']\n",
    "    "
   ]
  },
  {
   "cell_type": "code",
   "execution_count": null,
   "metadata": {},
   "outputs": [],
   "source": [
    "filtered = filter_classes(f_vege, L_mask)"
   ]
  },
  {
   "cell_type": "code",
   "execution_count": null,
   "metadata": {},
   "outputs": [],
   "source": [
    "# Construction du masque en format shp\n",
    "f_vege = gpd.read_file(path_f_vege)\n",
    "L_mask = ['Lande','Formation herbacée','Forêt ouverte de conifères purs','Forêt ouverte de feuillus purs','Forêt ouverte sans couvert arboré',\n",
    "        'Forêt ouverte à mélange de feuillus et conifères','Forêt fermée sans couvert arboré']\n",
    "ones = np.ones((24041,1),dtype=int)\n",
    "f_vege['value'] = ones\n",
    "\n",
    "for i,j in zip(f_vege['TFV'],range(len(f_vege['value']))):\n",
    "    if i in L_mask:\n",
    "        #f_vege['mask'][j]=0\n",
    "        f_vege.loc[j,'value'] = 0\n",
    "\n",
    "for i in range(len(f_vege['value'])):\n",
    "    if f_vege['value'][i] == 1:\n",
    "        f_vege['Classe'] = 'Zone de forêt'\n",
    "    else:\n",
    "        f_vege['Classe'] = 'Zone hors forêt'\n",
    "\n",
    "Masque = f_vege[['ID','Classe','value','geometry']]\n",
    "Masque.loc[:,'value'] = Masque['value'].astype('uint8')\n",
    "Masque.to_file(path_masque_traite) \n",
    "\n",
    "shp = gpd.read_file('/home/onyxia/work/data/project/emprise_etude.shp')"
   ]
  },
  {
   "cell_type": "code",
   "execution_count": null,
   "metadata": {},
   "outputs": [],
   "source": [
    "for i,j in zip(f_vege['TFV'],range(len(f_vege['value']))):\n",
    "    if i in L_mask:\n",
    "        #f_vege['mask'][j]=0\n",
    "        f_vege.loc[j,'value'] = 0\n",
    "\n",
    "for i in range(len(f_vege['value'])):\n",
    "    if f_vege['value'][i] == 1:\n",
    "        f_vege['Classe'] = 'Zone de forêt'\n",
    "    else:\n",
    "        f_vege['Classe'] = 'Zone hors forêt'\n",
    "\n",
    "Masque = f_vege[['ID','Classe','value','geometry']]\n",
    "Masque.loc[:,'value'] = Masque['value'].astype('uint8')\n",
    "Masque.to_file(path_masque_traite) \n",
    "\n",
    "shp = gpd.read_file('/home/onyxia/work/data/project/emprise_etude.shp')"
   ]
  },
  {
   "cell_type": "code",
   "execution_count": null,
   "metadata": {},
   "outputs": [],
   "source": [
    "## Rasterization\n",
    "my_folder = '/home/onyxia/work'\n",
    "in_vector = path_masque_traite\n",
    "out_image = os.path.join(my_folder, 'Depot_Git/results/data/img_pretraitees/masque_foret.tif')\n",
    "field_name = 'value'  # field containing the numeric label of the classes\n",
    "\n",
    "sptial_resolution = 10\n",
    "xmin,ymin,xmax,ymax=shp.total_bounds\n",
    "# xmin = shp['MINX'][0]\n",
    "# ymin = shp['MINY'][0]\n",
    "# xmax = shp['MAXX'][0]\n",
    "# ymax = shp['MAXY'][0]\n",
    "\n",
    "# Créer le répertoire de sortie si nécessaire\n",
    "out_dir = os.path.dirname(out_image)\n",
    "os.makedirs(out_dir, exist_ok=True)  # Crée les répertoires manquants\n",
    "\n",
    "# define command pattern to fill with paremeters\n",
    "cmd_pattern = (\"gdal_rasterize -a {field_name} \"\n",
    "               \"-tr {sptial_resolution} {sptial_resolution} \"\n",
    "               \"-te {xmin} {ymin} {xmax} {ymax} -ot Byte -of GTiff \"\n",
    "               \"{in_vector} {out_image}\")\n",
    "\n",
    "# fill the string with the parameter thanks to format function\n",
    "cmd = cmd_pattern.format(in_vector=in_vector, xmin=xmin, ymin=ymin, xmax=xmax,\n",
    "                         ymax=ymax, out_image=out_image, field_name=field_name,\n",
    "                         sptial_resolution=sptial_resolution)\n",
    "\n",
    "# execute the command in the terminal\n",
    "os.system(cmd)"
   ]
  },
  {
   "cell_type": "code",
   "execution_count": null,
   "metadata": {},
   "outputs": [],
   "source": [
    "supprimer_dossier_non_vide(output_dir)"
   ]
  }
 ],
 "metadata": {
  "kernelspec": {
   "display_name": "SIGMA",
   "language": "python",
   "name": "python3"
  },
  "language_info": {
   "codemirror_mode": {
    "name": "ipython",
    "version": 3
   },
   "file_extension": ".py",
   "mimetype": "text/x-python",
   "name": "python",
   "nbconvert_exporter": "python",
   "pygments_lexer": "ipython3",
   "version": "3.12.5"
  }
 },
 "nbformat": 4,
 "nbformat_minor": 2
}
