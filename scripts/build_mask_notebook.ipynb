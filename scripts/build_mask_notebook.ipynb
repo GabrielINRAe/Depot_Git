{
 "cells": [
  {
   "cell_type": "code",
   "execution_count": 1,
   "metadata": {},
   "outputs": [],
   "source": [
    "import geopandas as gpd\n",
    "import numpy as np\n",
    "import os\n",
    "from my_function import masque_shp,rasterization,supprimer_dossier_non_vide"
   ]
  },
  {
   "cell_type": "code",
   "execution_count": 2,
   "metadata": {},
   "outputs": [],
   "source": [
    "# Paramètrage des paths\n",
    "racine = \"/home/onyxia/work\"    # Racine du projet\n",
    "output_dir = os.path.join(racine, \"output_masque\")    # Dossier de sortie\n",
    "os.makedirs(output_dir, exist_ok=True)       # Crée le dossier output temporaire\n",
    "path_f_vege = os.path.join(racine,\"data/project/FORMATION_VEGETALE.shp\")    # Path pour le fichier shp formation végétale\n",
    "path_masque_traite = os.path.join(output_dir,'mask_traite.shp')    # Path pour le fichier shp masque traité \n",
    "path_emprise = os.path.join(racine,\"data/project/emprise_etude.shp\")    # Path pour le fichier shp emprise\n",
    "path_masque_raster = os.path.join(racine, 'Depot_Git/results/data/img_pretraitees/masque_foret.tif')"
   ]
  },
  {
   "cell_type": "code",
   "execution_count": 3,
   "metadata": {},
   "outputs": [],
   "source": [
    "# Formatage du fichier masque en format shp à partir\n",
    "masque_shp(path_f_vege,path_masque_traite)"
   ]
  },
  {
   "cell_type": "code",
   "execution_count": 4,
   "metadata": {},
   "outputs": [
    {
     "name": "stdout",
     "output_type": "stream",
     "text": [
      "0...10...20...30...40...50...60...70...80...90...100 - done.\n"
     ]
    }
   ],
   "source": [
    "# Rasterisation du fichier masque\n",
    "emprise = gpd.read_file(path_emprise)\n",
    "rasterization(\n",
    "    path_masque_traite,\n",
    "    path_masque_raster,\n",
    "    'value',\n",
    "    10,\n",
    "    emprise = emprise)"
   ]
  },
  {
   "cell_type": "code",
   "execution_count": 5,
   "metadata": {},
   "outputs": [],
   "source": [
    "supprimer_dossier_non_vide(output_dir)"
   ]
  }
 ],
 "metadata": {
  "kernelspec": {
   "display_name": "base",
   "language": "python",
   "name": "python3"
  },
  "language_info": {
   "codemirror_mode": {
    "name": "ipython",
    "version": 3
   },
   "file_extension": ".py",
   "mimetype": "text/x-python",
   "name": "python",
   "nbconvert_exporter": "python",
   "pygments_lexer": "ipython3",
   "version": "3.12.7"
  }
 },
 "nbformat": 4,
 "nbformat_minor": 2
}
