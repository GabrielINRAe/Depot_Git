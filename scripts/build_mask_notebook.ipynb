{
 "cells": [
  {
   "cell_type": "code",
   "execution_count": 5,
   "metadata": {},
   "outputs": [],
   "source": [
    "import geopandas as gpd\n",
    "import numpy as np\n",
    "import os\n",
    "from my_function import masque_shp,supprimer_dossier_non_vide"
   ]
  },
  {
   "cell_type": "code",
   "execution_count": 6,
   "metadata": {},
   "outputs": [],
   "source": [
    "# Paramètrage des paths\n",
    "racine = \"/home/onyxia/work\"    # Racine du projet\n",
    "output_dir = os.path.join(racine, \"output_masque\")    # Dossier de sortie\n",
    "os.makedirs(output_dir, exist_ok=True)       # Crée le dossier output temporaire\n",
    "path_f_vege = os.path.join(racine,\"data/project/FORMATION_VEGETALE.shp\")    # Path pour le fichier shp formation végétale\n",
    "path_masque_traite = os.path.join(output_dir,'mask_traite.shp')    # Path pour le fichier shp masque traité \n",
    "path_emprise = os.path.join(racine,\"data/project/emprise_etude.shp\")    # Path pour le fichier shp emprise"
   ]
  },
  {
   "cell_type": "code",
   "execution_count": 7,
   "metadata": {},
   "outputs": [],
   "source": [
    "masque_shp(path_f_vege,path_masque_traite)"
   ]
  },
  {
   "cell_type": "code",
   "execution_count": 8,
   "metadata": {},
   "outputs": [
    {
     "name": "stdout",
     "output_type": "stream",
     "text": [
      "0...10...20...30...40...50...60...70...80...90...100 - done.\n"
     ]
    },
    {
     "data": {
      "text/plain": [
       "0"
      ]
     },
     "execution_count": 8,
     "metadata": {},
     "output_type": "execute_result"
    }
   ],
   "source": [
    "emprise = gpd.read_file(path_emprise)\n",
    "\n",
    "## Rasterization\n",
    "my_folder = racine\n",
    "in_vector = path_masque_traite\n",
    "out_image = os.path.join(my_folder, 'Depot_Git/results/data/img_pretraitees/masque_foret.tif')\n",
    "field_name = 'value'  # field containing the numeric label of the classes\n",
    "\n",
    "sptial_resolution = 10\n",
    "xmin,ymin,xmax,ymax=emprise.total_bounds\n",
    "# xmin = shp['MINX'][0]\n",
    "# ymin = shp['MINY'][0]\n",
    "# xmax = shp['MAXX'][0]\n",
    "# ymax = shp['MAXY'][0]\n",
    "\n",
    "# Créer le répertoire de sortie si nécessaire\n",
    "out_dir = os.path.dirname(out_image)\n",
    "os.makedirs(out_dir, exist_ok=True)  # Crée les répertoires manquants\n",
    "\n",
    "# define command pattern to fill with paremeters\n",
    "cmd_pattern = (\"gdal_rasterize -a {field_name} \"\n",
    "               \"-tr {sptial_resolution} {sptial_resolution} \"\n",
    "               \"-te {xmin} {ymin} {xmax} {ymax} -ot Byte -of GTiff \"\n",
    "               \"{in_vector} {out_image}\")\n",
    "\n",
    "# fill the string with the parameter thanks to format function\n",
    "cmd = cmd_pattern.format(in_vector=in_vector, xmin=xmin, ymin=ymin, xmax=xmax,\n",
    "                         ymax=ymax, out_image=out_image, field_name=field_name,\n",
    "                         sptial_resolution=sptial_resolution)\n",
    "\n",
    "# execute the command in the terminal\n",
    "os.system(cmd)"
   ]
  },
  {
   "cell_type": "code",
   "execution_count": null,
   "metadata": {},
   "outputs": [],
   "source": [
    "supprimer_dossier_non_vide(output_dir)"
   ]
  }
 ],
 "metadata": {
  "kernelspec": {
   "display_name": "base",
   "language": "python",
   "name": "python3"
  },
  "language_info": {
   "codemirror_mode": {
    "name": "ipython",
    "version": 3
   },
   "file_extension": ".py",
   "mimetype": "text/x-python",
   "name": "python",
   "nbconvert_exporter": "python",
   "pygments_lexer": "ipython3",
   "version": "3.12.7"
  }
 },
 "nbformat": 4,
 "nbformat_minor": 2
}
