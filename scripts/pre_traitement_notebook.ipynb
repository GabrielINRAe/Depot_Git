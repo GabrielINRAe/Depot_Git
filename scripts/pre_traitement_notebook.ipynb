{
 "cells": [
  {
   "cell_type": "code",
   "execution_count": 1,
   "metadata": {},
   "outputs": [],
   "source": [
    "import sys\n",
    "sys.path.append('/home/onyxia/work/libsigma')"
   ]
  },
  {
   "cell_type": "code",
   "execution_count": 6,
   "metadata": {},
   "outputs": [
    {
     "ename": "ModuleNotFoundError",
     "evalue": "No module named 'gdal'",
     "output_type": "error",
     "traceback": [
      "\u001b[0;31m---------------------------------------------------------------------------\u001b[0m",
      "\u001b[0;31mModuleNotFoundError\u001b[0m                       Traceback (most recent call last)",
      "Cell \u001b[0;32mIn[6], line 3\u001b[0m\n\u001b[1;32m      1\u001b[0m \u001b[38;5;28;01mimport\u001b[39;00m \u001b[38;5;21;01mos\u001b[39;00m\n\u001b[1;32m      2\u001b[0m \u001b[38;5;28;01mimport\u001b[39;00m \u001b[38;5;21;01mread_and_write\u001b[39;00m \u001b[38;5;28;01mas\u001b[39;00m \u001b[38;5;21;01mrw\u001b[39;00m\n\u001b[0;32m----> 3\u001b[0m \u001b[38;5;28;01mimport\u001b[39;00m \u001b[38;5;21;01mgdal\u001b[39;00m\n",
      "\u001b[0;31mModuleNotFoundError\u001b[0m: No module named 'gdal'"
     ]
    }
   ],
   "source": [
    "import os\n",
    "import read_and_write as rw\n",
    "import gdal"
   ]
  },
  {
   "cell_type": "markdown",
   "metadata": {},
   "source": [
    "# Partie production image"
   ]
  },
  {
   "cell_type": "markdown",
   "metadata": {},
   "source": [
    "L'idée ça peut être de construire une image comme dans le td opération sur raster en lui ajoutant à chaque fois une nouvelle bande d'une des dates"
   ]
  },
  {
   "cell_type": "markdown",
   "metadata": {},
   "source": [
    "Donc d'abord charger toutes les images dans un tableau avec 60 bandes"
   ]
  },
  {
   "cell_type": "code",
   "execution_count": 14,
   "metadata": {},
   "outputs": [],
   "source": [
    "ds_test=rw.open_image('/home/onyxia/work/data/images/SENTINEL2B_20220125-105852-948_L2A_T31TCJ_C_V3-0_SRE_B2.tif')"
   ]
  },
  {
   "cell_type": "code",
   "execution_count": 4,
   "metadata": {},
   "outputs": [],
   "source": [
    "img1=rw.load_img_as_array('/home/onyxia/work/data/images/SENTINEL2B_20220125-105852-948_L2A_T31TCJ_C_V3-0_SRE_B2.tif')"
   ]
  },
  {
   "cell_type": "code",
   "execution_count": 5,
   "metadata": {},
   "outputs": [
    {
     "data": {
      "text/plain": [
       "array([[[3122],\n",
       "        [3112],\n",
       "        [3037],\n",
       "        ...,\n",
       "        [ 441],\n",
       "        [ 363],\n",
       "        [ 315]],\n",
       "\n",
       "       [[3228],\n",
       "        [3293],\n",
       "        [3220],\n",
       "        ...,\n",
       "        [ 421],\n",
       "        [ 331],\n",
       "        [ 297]],\n",
       "\n",
       "       [[3245],\n",
       "        [3348],\n",
       "        [3306],\n",
       "        ...,\n",
       "        [ 337],\n",
       "        [ 321],\n",
       "        [ 336]],\n",
       "\n",
       "       ...,\n",
       "\n",
       "       [[ 224],\n",
       "        [ 258],\n",
       "        [ 275],\n",
       "        ...,\n",
       "        [ 835],\n",
       "        [ 800],\n",
       "        [ 874]],\n",
       "\n",
       "       [[ 243],\n",
       "        [ 269],\n",
       "        [ 269],\n",
       "        ...,\n",
       "        [ 844],\n",
       "        [ 828],\n",
       "        [ 897]],\n",
       "\n",
       "       [[ 189],\n",
       "        [ 263],\n",
       "        [ 295],\n",
       "        ...,\n",
       "        [ 783],\n",
       "        [ 795],\n",
       "        [ 839]]], dtype=int16)"
      ]
     },
     "execution_count": 5,
     "metadata": {},
     "output_type": "execute_result"
    }
   ],
   "source": [
    "img1"
   ]
  }
 ],
 "metadata": {
  "kernelspec": {
   "display_name": "base",
   "language": "python",
   "name": "python3"
  },
  "language_info": {
   "codemirror_mode": {
    "name": "ipython",
    "version": 3
   },
   "file_extension": ".py",
   "mimetype": "text/x-python",
   "name": "python",
   "nbconvert_exporter": "python",
   "pygments_lexer": "ipython3",
   "version": "3.12.6"
  }
 },
 "nbformat": 4,
 "nbformat_minor": 2
}
