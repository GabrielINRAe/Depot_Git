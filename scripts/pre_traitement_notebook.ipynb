{
 "cells": [
  {
   "cell_type": "markdown",
   "metadata": {},
   "source": [
    "```\n",
    "Note pour prochaine fois :\n",
    "\n",
    "J'ai reussi à charger toutes les images dans une liste et je voulais ensuite concatener les 60 images en une seule, mais le fait qu'elles aient des résolutions différentes me bloque.\n",
    "Faudrait donc ré-échantillonné avant ou alors arreter les bétises et faire comme le prof à fait.\n",
    "```"
   ]
  },
  {
   "cell_type": "markdown",
   "metadata": {},
   "source": [
    "# Importation"
   ]
  },
  {
   "cell_type": "code",
   "execution_count": 4,
   "metadata": {},
   "outputs": [],
   "source": [
    "import geopandas as gpd\n",
    "from osgeo import gdal\n",
    "import os\n",
    "import numpy as np\n",
    "import sys\n",
    "sys.path.append('/home/onyxia/work/libsigma')\n",
    "import read_and_write as rw"
   ]
  },
  {
   "cell_type": "markdown",
   "metadata": {},
   "source": [
    "# Raster 60 bandes"
   ]
  },
  {
   "cell_type": "code",
   "execution_count": 5,
   "metadata": {},
   "outputs": [],
   "source": [
    "#  Définition des paramètres \n",
    "\n",
    "input_raster_dir = \"/home/onyxia/work/data/images\"\n",
    "L_images = sorted(os.listdir(input_raster_dir))\n",
    "L_images.remove('.keep')\n",
    "ref_raster_path = \"/home/onyxia/work/data/images/SENTINEL2B_20220125-105852-948_L2A_T31TCJ_C_V3-0_SRE_B2.tif\"\n",
    "shapefile_path = \"/home/onyxia/work/data/project/emprise_etude.shp\"\n",
    "mask_foret_path = \"/home/onyxia/Projet_Teledec/results/data/img_pretraitees/masque_foret.tif\"\n",
    "output_dir = \"/home/onyxia/work\"\n",
    "\n",
    "os.makedirs(output_dir, exist_ok=True)"
   ]
  },
  {
   "cell_type": "code",
   "execution_count": null,
   "metadata": {},
   "outputs": [
    {
     "data": {
      "text/plain": [
       "60"
      ]
     },
     "execution_count": 13,
     "metadata": {},
     "output_type": "execute_result"
    }
   ],
   "source": [
    "# Construction array\n",
    "\n",
    "x,y = rw.get_image_dimension(rw.open_image(ref_raster_path))[:2]\n",
    "bandes = 60\n",
    "array_tot = np.zeros((x,y,bandes))\n",
    "\n",
    "L_array = []\n",
    "for i,img in enumerate(L_images):\n",
    "    path = os.path.join(input_raster_dir,img) \n",
    "    array = rw.load_img_as_array(path)\n",
    "    L_array.append(array)"
   ]
  },
  {
   "cell_type": "code",
   "execution_count": null,
   "metadata": {},
   "outputs": [],
   "source": [
    "driver = gdal.GetDriverByName('GTiff')\n",
    "out_filename = 'Serie_temp_S2_allbands.tif'\n",
    "nb_col = 4\n",
    "nb_ligne = 4\n",
    "nb_band = 2\n",
    "gdal_dtype = gdal.GDT_Int32\n",
    "output_data_set = driver.Create(out_filename, nb_col, nb_ligne, nb_band, gdal_dtype)"
   ]
  },
  {
   "cell_type": "code",
   "execution_count": 8,
   "metadata": {},
   "outputs": [],
   "source": [
    "import numpy as np\n",
    "from osgeo import gdal\n",
    "\n",
    "def resample_to_resolution(src_array, src_transform, src_projection, target_resolution, target_shape):\n",
    "    \"\"\"\n",
    "    Rééchantillonne un tableau numpy à une nouvelle résolution (10 m).\n",
    "    \"\"\"\n",
    "    mem_driver = gdal.GetDriverByName(\"MEM\")\n",
    "    \n",
    "    # Dimensions cibles basées sur la résolution souhaitée\n",
    "    target_rows, target_cols = target_shape\n",
    "    \n",
    "    # Créer une image GDAL en mémoire pour l'entrée\n",
    "    src_ds = mem_driver.Create(\"\", src_array.shape[1], src_array.shape[0], 1, gdal.GDT_Float32)\n",
    "    src_ds.GetRasterBand(1).WriteArray(src_array)\n",
    "    src_ds.SetGeoTransform(src_transform)\n",
    "    src_ds.SetProjection(src_projection)\n",
    "    \n",
    "    # Créer une image en mémoire pour la sortie\n",
    "    target_ds = mem_driver.Create(\"\", target_cols, target_rows, 1, gdal.GDT_Float32)\n",
    "    target_transform = (\n",
    "        src_transform[0], target_resolution, 0,\n",
    "        src_transform[3], 0, -target_resolution\n",
    "    )\n",
    "    target_ds.SetGeoTransform(target_transform)\n",
    "    target_ds.SetProjection(src_projection)\n",
    "    \n",
    "    # Utiliser GDAL Warp pour rééchantillonner\n",
    "    gdal.Warp(target_ds, src_ds, resampleAlg=gdal.GRA_Bilinear)\n",
    "    \n",
    "    # Récupérer le tableau numpy rééchantillonné\n",
    "    resampled_array = target_ds.GetRasterBand(1).ReadAsArray()\n",
    "    \n",
    "    # Convertir en UInt8\n",
    "    resampled_array = resampled_array.astype(np.uint8)\n",
    "    return resampled_array\n",
    "\n",
    "def concatenate_images(image_paths, target_resolution):\n",
    "    \"\"\"\n",
    "    Concatène des images en mémoire après rééchantillonnage à la résolution cible.\n",
    "    \"\"\"\n",
    "    resampled_arrays = []\n",
    "    target_shape = None\n",
    "\n",
    "    for path in image_paths:\n",
    "        # Charger l'image avec GDAL\n",
    "        ds = gdal.Open(path)\n",
    "        array = ds.GetRasterBand(1).ReadAsArray()\n",
    "        transform = ds.GetGeoTransform()\n",
    "        projection = ds.GetProjection()\n",
    "        \n",
    "        # Déterminer la forme cible lors de la première image\n",
    "        if target_shape is None:\n",
    "            # Calcul des dimensions cibles basées sur la résolution\n",
    "            cols = int((ds.RasterXSize * transform[1]) / target_resolution)\n",
    "            rows = int((ds.RasterYSize * abs(transform[5])) / target_resolution)\n",
    "            target_shape = (rows, cols)\n",
    "        \n",
    "        # Rééchantillonner à la résolution cible\n",
    "        resampled_array = resample_to_resolution(array, transform, projection, target_resolution, target_shape)\n",
    "        resampled_arrays.append(resampled_array)\n",
    "    \n",
    "    # Concaténer les tableaux\n",
    "    concatenated_array = np.stack(resampled_arrays, axis=0)\n",
    "    return concatenated_array\n",
    "\n",
    "# Exemple d'utilisation\n",
    "# image_paths = [\"image1.tif\", \"image2.tif\", \"image3.tif\"]  # Chemins vers les images Sentinel-2\n",
    "# target_resolution = 10  # Résolution cible en mètres\n",
    "# result = concatenate_images(image_paths, target_resolution)"
   ]
  },
  {
   "cell_type": "code",
   "execution_count": null,
   "metadata": {},
   "outputs": [],
   "source": [
    "image_paths = []\n",
    "for i in L_images:\n",
    "    image_paths.append(os.path.join('/home/onyxia/work/data/images',i))\n",
    "target_resolution = 10\n",
    "result = concatenate_images(image_paths, target_resolution)"
   ]
  },
  {
   "cell_type": "markdown",
   "metadata": {},
   "source": [
    "# Clip Raster"
   ]
  },
  {
   "cell_type": "code",
   "execution_count": null,
   "metadata": {},
   "outputs": [
    {
     "name": "stderr",
     "output_type": "stream",
     "text": [
      "/opt/conda/lib/python3.12/site-packages/osgeo/gdal.py:311: FutureWarning: Neither gdal.UseExceptions() nor gdal.DontUseExceptions() has been explicitly called. In GDAL 4.0, exceptions will be enabled by default.\n",
      "  warnings.warn(\n"
     ]
    },
    {
     "data": {
      "text/plain": [
       "<osgeo.gdal.Dataset; proxy of <Swig Object of type 'GDALDatasetShadow *' at 0x7f4bf7603450> >"
      ]
     },
     "execution_count": 10,
     "metadata": {},
     "output_type": "execute_result"
    }
   ],
   "source": [
    "#Façon potentiel pour clip un raster grâce à l'emprise\n",
    "#Pour l'instant ne pas faire tourner\n",
    "\n",
    "# Charger le vecteur avec Geopandas\n",
    "gdf = gpd.read_file(\"/home/onyxia/work/data/project/emprise_etude.shp\").to_crs(\"EPSG:2154\")\n",
    "\n",
    "# Extraire le GeoJSON sous forme de string\n",
    "geojson_str = gdf.to_json()\n",
    "\n",
    "# Appliquer le clip avec GDAL\n",
    "resolution = 10  # Résolution (10 m)\n",
    "gdal.Warp(\n",
    "    \"/home/onyxia/work/test.tif\",     #Chemin fichier en sortie\n",
    "    \"/home/onyxia/work/data/images/SENTINEL2B_20220125-105852-948_L2A_T31TCJ_C_V3-0_SRE_B2.tif\", #Chemin fichier en entrée\n",
    "    format=\"GTiff\",\n",
    "    cutlineDSName=geojson_str,  # Passer directement le GeoJSON\n",
    "    cropToCutline=True,\n",
    "    dstSRS=\"EPSG:2154\",\n",
    "    xRes=resolution,\n",
    "    yRes=resolution,\n",
    "    dstNodata=0\n",
    ")"
   ]
  }
 ],
 "metadata": {
  "kernelspec": {
   "display_name": "base",
   "language": "python",
   "name": "python3"
  },
  "language_info": {
   "codemirror_mode": {
    "name": "ipython",
    "version": 3
   },
   "file_extension": ".py",
   "mimetype": "text/x-python",
   "name": "python",
   "nbconvert_exporter": "python",
   "pygments_lexer": "ipython3",
   "version": "3.12.6"
  }
 },
 "nbformat": 4,
 "nbformat_minor": 2
}
