{
 "cells": [
  {
   "cell_type": "code",
   "execution_count": 1,
   "metadata": {},
   "outputs": [],
   "source": [
    "import sys\n",
    "sys.path.append('/home/onyxia/work/libsigma')"
   ]
  },
  {
   "cell_type": "code",
   "execution_count": 18,
   "metadata": {},
   "outputs": [],
   "source": [
    "import os\n",
    "import read_and_write as rw\n",
    "from osgeo import gdal\n",
    "import geopandas as gpd"
   ]
  },
  {
   "cell_type": "code",
   "execution_count": 19,
   "metadata": {},
   "outputs": [
    {
     "data": {
      "text/html": [
       "<div>\n",
       "<style scoped>\n",
       "    .dataframe tbody tr th:only-of-type {\n",
       "        vertical-align: middle;\n",
       "    }\n",
       "\n",
       "    .dataframe tbody tr th {\n",
       "        vertical-align: top;\n",
       "    }\n",
       "\n",
       "    .dataframe thead th {\n",
       "        text-align: right;\n",
       "    }\n",
       "</style>\n",
       "<table border=\"1\" class=\"dataframe\">\n",
       "  <thead>\n",
       "    <tr style=\"text-align: right;\">\n",
       "      <th></th>\n",
       "      <th>MINX</th>\n",
       "      <th>MINY</th>\n",
       "      <th>MAXX</th>\n",
       "      <th>MAXY</th>\n",
       "      <th>CNTX</th>\n",
       "      <th>CNTY</th>\n",
       "      <th>AREA</th>\n",
       "      <th>PERIM</th>\n",
       "      <th>HEIGHT</th>\n",
       "      <th>WIDTH</th>\n",
       "      <th>...</th>\n",
       "      <th>MINY_2</th>\n",
       "      <th>MAXX_2</th>\n",
       "      <th>MAXY_2</th>\n",
       "      <th>CNTX_2</th>\n",
       "      <th>CNTY_2</th>\n",
       "      <th>AREA_2</th>\n",
       "      <th>PERIM_2</th>\n",
       "      <th>HEIGHT_2</th>\n",
       "      <th>WIDTH_2</th>\n",
       "      <th>geometry</th>\n",
       "    </tr>\n",
       "  </thead>\n",
       "  <tbody>\n",
       "    <tr>\n",
       "      <th>0</th>\n",
       "      <td>501127.9697</td>\n",
       "      <td>6.238861e+06</td>\n",
       "      <td>610073.1663</td>\n",
       "      <td>6.314464e+06</td>\n",
       "      <td>555600.568</td>\n",
       "      <td>6.276662e+06</td>\n",
       "      <td>8.236616e+09</td>\n",
       "      <td>369096.9934</td>\n",
       "      <td>75603.3001</td>\n",
       "      <td>108945.1966</td>\n",
       "      <td>...</td>\n",
       "      <td>4790220.0</td>\n",
       "      <td>409800.0</td>\n",
       "      <td>4900020.0</td>\n",
       "      <td>354900.0</td>\n",
       "      <td>4845120.0</td>\n",
       "      <td>1.205604e+10</td>\n",
       "      <td>439200.0</td>\n",
       "      <td>109800.0</td>\n",
       "      <td>109800.0</td>\n",
       "      <td>POLYGON ((501127.97 6240794.776, 501127.97 631...</td>\n",
       "    </tr>\n",
       "  </tbody>\n",
       "</table>\n",
       "<p>1 rows × 21 columns</p>\n",
       "</div>"
      ],
      "text/plain": [
       "          MINX          MINY         MAXX          MAXY        CNTX  \\\n",
       "0  501127.9697  6.238861e+06  610073.1663  6.314464e+06  555600.568   \n",
       "\n",
       "           CNTY          AREA        PERIM      HEIGHT        WIDTH  ...  \\\n",
       "0  6.276662e+06  8.236616e+09  369096.9934  75603.3001  108945.1966  ...   \n",
       "\n",
       "      MINY_2    MAXX_2     MAXY_2    CNTX_2     CNTY_2        AREA_2  \\\n",
       "0  4790220.0  409800.0  4900020.0  354900.0  4845120.0  1.205604e+10   \n",
       "\n",
       "    PERIM_2  HEIGHT_2   WIDTH_2  \\\n",
       "0  439200.0  109800.0  109800.0   \n",
       "\n",
       "                                            geometry  \n",
       "0  POLYGON ((501127.97 6240794.776, 501127.97 631...  \n",
       "\n",
       "[1 rows x 21 columns]"
      ]
     },
     "execution_count": 19,
     "metadata": {},
     "output_type": "execute_result"
    }
   ],
   "source": [
    "test=gpd.read_file('/home/onyxia/work/data/project/emprise_etude.shp')\n",
    "test"
   ]
  },
  {
   "cell_type": "code",
   "execution_count": 26,
   "metadata": {},
   "outputs": [
    {
     "data": {
      "text/plain": [
       "0    4790220.0\n",
       "Name: MINY_2, dtype: float64"
      ]
     },
     "execution_count": 26,
     "metadata": {},
     "output_type": "execute_result"
    }
   ],
   "source": [
    "test['MINY_2']"
   ]
  },
  {
   "cell_type": "markdown",
   "metadata": {},
   "source": [
    "# Partie production image"
   ]
  },
  {
   "cell_type": "markdown",
   "metadata": {},
   "source": [
    "L'idée ça peut être de construire une image comme dans le td opération sur raster en lui ajoutant à chaque fois une nouvelle bande d'une des dates"
   ]
  },
  {
   "cell_type": "markdown",
   "metadata": {},
   "source": [
    "Donc d'abord charger toutes les images dans un tableau avec 60 bandes"
   ]
  },
  {
   "cell_type": "code",
   "execution_count": 11,
   "metadata": {},
   "outputs": [
    {
     "data": {
      "text/plain": [
       "<osgeo.gdal.Dataset; proxy of <Swig Object of type 'GDALDatasetShadow *' at 0x7fd7dd8d63a0> >"
      ]
     },
     "execution_count": 11,
     "metadata": {},
     "output_type": "execute_result"
    }
   ],
   "source": [
    "#Façon potentiel pour clip un raster grâce à l'emprise\n",
    "\n",
    "import geopandas as gpd\n",
    "from osgeo import gdal\n",
    "\n",
    "# Charger le vecteur avec Geopandas\n",
    "gdf = gpd.read_file(\"/home/onyxia/work/data/project/emprise_etude.shp\").to_crs(\"EPSG:2154\")\n",
    "\n",
    "# Extraire le GeoJSON sous forme de string\n",
    "geojson_str = gdf.to_json()\n",
    "\n",
    "# Appliquer le clip avec GDAL\n",
    "resolution = 10  # Résolution (10 m)\n",
    "gdal.Warp(\n",
    "    \"/home/onyxia/work/test.tif\",     #Chemin fichier en sortie\n",
    "    \"/home/onyxia/work/data/images/SENTINEL2B_20220125-105852-948_L2A_T31TCJ_C_V3-0_SRE_B2.tif\", #Chemin fichier en entrée\n",
    "    format=\"GTiff\",\n",
    "    cutlineDSName=geojson_str,  # Passer directement le GeoJSON\n",
    "    cropToCutline=True,\n",
    "    dstSRS=\"EPSG:2154\",\n",
    "    xRes=resolution,\n",
    "    yRes=resolution,\n",
    "    dstNodata=-9999\n",
    ")"
   ]
  },
  {
   "cell_type": "code",
   "execution_count": 15,
   "metadata": {},
   "outputs": [
    {
     "data": {
      "text/plain": [
       "(10.0, -10.0)"
      ]
     },
     "execution_count": 15,
     "metadata": {},
     "output_type": "execute_result"
    }
   ],
   "source": [
    "test=rw.open_image('/home/onyxia/work/test.tif')\n",
    "rw.get_pixel_size(test)"
   ]
  }
 ],
 "metadata": {
  "kernelspec": {
   "display_name": "base",
   "language": "python",
   "name": "python3"
  },
  "language_info": {
   "codemirror_mode": {
    "name": "ipython",
    "version": 3
   },
   "file_extension": ".py",
   "mimetype": "text/x-python",
   "name": "python",
   "nbconvert_exporter": "python",
   "pygments_lexer": "ipython3",
   "version": "3.12.6"
  }
 },
 "nbformat": 4,
 "nbformat_minor": 2
}
