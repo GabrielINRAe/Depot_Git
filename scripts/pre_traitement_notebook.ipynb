{
 "cells": [
  {
   "cell_type": "code",
   "execution_count": 1,
   "metadata": {},
   "outputs": [],
   "source": [
    "import sys\n",
    "sys.path.append('/home/onyxia/work/libsigma')"
   ]
  },
  {
   "cell_type": "code",
   "execution_count": 2,
   "metadata": {},
   "outputs": [],
   "source": [
    "import os\n",
    "import read_and_write as rw\n",
    "from osgeo import gdal\n",
    "import geopandas as gpd"
   ]
  },
  {
   "cell_type": "markdown",
   "metadata": {},
   "source": [
    "# Partie production image"
   ]
  },
  {
   "cell_type": "markdown",
   "metadata": {},
   "source": [
    "L'idée ça peut être de construire une image comme dans le td opération sur raster en lui ajoutant à chaque fois une nouvelle bande d'une des dates"
   ]
  },
  {
   "cell_type": "markdown",
   "metadata": {},
   "source": [
    "Donc d'abord charger toutes les images dans un tableau avec 60 bandes"
   ]
  },
  {
   "cell_type": "code",
   "execution_count": null,
   "metadata": {},
   "outputs": [
    {
     "data": {
      "text/plain": [
       "<osgeo.gdal.Dataset; proxy of <Swig Object of type 'GDALDatasetShadow *' at 0x7fd7dd8d63a0> >"
      ]
     },
     "execution_count": 11,
     "metadata": {},
     "output_type": "execute_result"
    }
   ],
   "source": [
    "#Façon potentiel pour clip un raster grâce à l'emprise\n",
    "#Pour l'instant ne pas faire tourner\n",
    "\n",
    "import geopandas as gpd\n",
    "from osgeo import gdal\n",
    "\n",
    "# Charger le vecteur avec Geopandas\n",
    "gdf = gpd.read_file(\"/home/onyxia/work/data/project/emprise_etude.shp\").to_crs(\"EPSG:2154\")\n",
    "\n",
    "# Extraire le GeoJSON sous forme de string\n",
    "geojson_str = gdf.to_json()\n",
    "\n",
    "# Appliquer le clip avec GDAL\n",
    "resolution = 10  # Résolution (10 m)\n",
    "gdal.Warp(\n",
    "    \"/home/onyxia/work/test.tif\",     #Chemin fichier en sortie\n",
    "    \"/home/onyxia/work/data/images/SENTINEL2B_20220125-105852-948_L2A_T31TCJ_C_V3-0_SRE_B2.tif\", #Chemin fichier en entrée\n",
    "    format=\"GTiff\",\n",
    "    cutlineDSName=geojson_str,  # Passer directement le GeoJSON\n",
    "    cropToCutline=True,\n",
    "    dstSRS=\"EPSG:2154\",\n",
    "    xRes=resolution,\n",
    "    yRes=resolution,\n",
    "    dstNodata=0\n",
    ")"
   ]
  },
  {
   "cell_type": "code",
   "execution_count": 13,
   "metadata": {},
   "outputs": [],
   "source": [
    "ds=rw.open_image('/home/onyxia/work/data/images/SENTINEL2B_20220125-105852-948_L2A_T31TCJ_C_V3-0_SRE_B2.tif')\n",
    "img_test=rw.load_img_as_array('/home/onyxia/work/data/images/SENTINEL2B_20220125-105852-948_L2A_T31TCJ_C_V3-0_SRE_B2.tif')"
   ]
  },
  {
   "cell_type": "code",
   "execution_count": 24,
   "metadata": {},
   "outputs": [
    {
     "data": {
      "text/plain": [
       "(300000.0, 4900020.0)"
      ]
     },
     "execution_count": 24,
     "metadata": {},
     "output_type": "execute_result"
    }
   ],
   "source": [
    "rw.get_origin_coordinates(ds)"
   ]
  },
  {
   "cell_type": "code",
   "execution_count": 6,
   "metadata": {},
   "outputs": [
    {
     "data": {
      "text/plain": [
       "(10980, 10980, 1)"
      ]
     },
     "execution_count": 6,
     "metadata": {},
     "output_type": "execute_result"
    }
   ],
   "source": [
    "img_test.shape"
   ]
  },
  {
   "cell_type": "code",
   "execution_count": 15,
   "metadata": {},
   "outputs": [],
   "source": [
    "a=gpd.read_file(\"/home/onyxia/work/data/project/emprise_etude.shp\")"
   ]
  },
  {
   "cell_type": "code",
   "execution_count": 25,
   "metadata": {},
   "outputs": [
    {
     "data": {
      "text/plain": [
       "array([ 501127.9697    , 6240658.25907434,  609759.10784199,\n",
       "       6314464.0236    ])"
      ]
     },
     "execution_count": 25,
     "metadata": {},
     "output_type": "execute_result"
    }
   ],
   "source": [
    "a.total_bounds"
   ]
  }
 ],
 "metadata": {
  "kernelspec": {
   "display_name": "base",
   "language": "python",
   "name": "python3"
  },
  "language_info": {
   "codemirror_mode": {
    "name": "ipython",
    "version": 3
   },
   "file_extension": ".py",
   "mimetype": "text/x-python",
   "name": "python",
   "nbconvert_exporter": "python",
   "pygments_lexer": "ipython3",
   "version": "3.12.6"
  }
 },
 "nbformat": 4,
 "nbformat_minor": 2
}
