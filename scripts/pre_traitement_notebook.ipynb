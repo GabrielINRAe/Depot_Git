{
 "cells": [
  {
   "cell_type": "markdown",
   "metadata": {},
   "source": [
    "```\n",
    "Note pour prochaine fois :\n",
    "\n",
    "J'ai reussi à charger toutes les images dans une liste et je voulais ensuite concatener les 60 images en une seule, mais le fait qu'elles aient des résolutions différentes me bloque.\n",
    "Faudrait donc ré-échantillonné avant ou alors arreter les bétises et faire comme le prof à fait.\n",
    "```"
   ]
  },
  {
   "cell_type": "markdown",
   "metadata": {},
   "source": [
    "# Importation"
   ]
  },
  {
   "cell_type": "code",
   "execution_count": 1,
   "metadata": {},
   "outputs": [],
   "source": [
    "import geopandas as gpd\n",
    "from osgeo import gdal\n",
    "import os\n",
    "import numpy as np\n",
    "import sys\n",
    "sys.path.append('/home/onyxia/work/libsigma')\n",
    "import read_and_write as rw"
   ]
  },
  {
   "cell_type": "markdown",
   "metadata": {},
   "source": [
    "# Raster 60 bandes"
   ]
  },
  {
   "cell_type": "code",
   "execution_count": 2,
   "metadata": {},
   "outputs": [],
   "source": [
    "#  Définition des paramètres \n",
    "\n",
    "input_raster_dir = \"/home/onyxia/work/data/images\"\n",
    "L_images = sorted(os.listdir(input_raster_dir))\n",
    "L_images.remove('.keep')\n",
    "ref_raster_path = \"/home/onyxia/work/data/images/SENTINEL2B_20220125-105852-948_L2A_T31TCJ_C_V3-0_SRE_B2.tif\"\n",
    "shapefile_path = \"/home/onyxia/work/data/project/emprise_etude.shp\"\n",
    "mask_foret_path = \"/home/onyxia/Projet_Teledec/results/data/img_pretraitees/masque_foret.tif\"\n",
    "output_dir = \"/home/onyxia/work\"\n",
    "\n",
    "os.makedirs(output_dir, exist_ok=True)"
   ]
  },
  {
   "cell_type": "code",
   "execution_count": null,
   "metadata": {},
   "outputs": [
    {
     "data": {
      "text/plain": [
       "60"
      ]
     },
     "execution_count": 13,
     "metadata": {},
     "output_type": "execute_result"
    }
   ],
   "source": [
    "# Construction array\n",
    "\n",
    "x,y = rw.get_image_dimension(rw.open_image(ref_raster_path))[:2]\n",
    "bandes = 60\n",
    "array_tot = np.zeros((x,y,bandes))\n",
    "\n",
    "L_array = []\n",
    "for i,img in enumerate(L_images):\n",
    "    path = os.path.join(input_raster_dir,img) \n",
    "    array = rw.load_img_as_array(path)\n",
    "    L_array.append(array)"
   ]
  },
  {
   "cell_type": "code",
   "execution_count": null,
   "metadata": {},
   "outputs": [],
   "source": [
    "driver = gdal.GetDriverByName('GTiff')\n",
    "out_filename = 'Serie_temp_S2_allbands.tif'\n",
    "nb_col = 4\n",
    "nb_ligne = 4\n",
    "nb_band = 2\n",
    "gdal_dtype = gdal.GDT_Int32\n",
    "output_data_set = driver.Create(out_filename, nb_col, nb_ligne, nb_band, gdal_dtype)\n"
   ]
  },
  {
   "cell_type": "markdown",
   "metadata": {},
   "source": [
    "# Clip Raster"
   ]
  },
  {
   "cell_type": "code",
   "execution_count": null,
   "metadata": {},
   "outputs": [
    {
     "name": "stderr",
     "output_type": "stream",
     "text": [
      "/opt/conda/lib/python3.12/site-packages/osgeo/gdal.py:311: FutureWarning: Neither gdal.UseExceptions() nor gdal.DontUseExceptions() has been explicitly called. In GDAL 4.0, exceptions will be enabled by default.\n",
      "  warnings.warn(\n"
     ]
    },
    {
     "data": {
      "text/plain": [
       "<osgeo.gdal.Dataset; proxy of <Swig Object of type 'GDALDatasetShadow *' at 0x7f4bf7603450> >"
      ]
     },
     "execution_count": 10,
     "metadata": {},
     "output_type": "execute_result"
    }
   ],
   "source": [
    "#Façon potentiel pour clip un raster grâce à l'emprise\n",
    "#Pour l'instant ne pas faire tourner\n",
    "\n",
    "# Charger le vecteur avec Geopandas\n",
    "gdf = gpd.read_file(\"/home/onyxia/work/data/project/emprise_etude.shp\").to_crs(\"EPSG:2154\")\n",
    "\n",
    "# Extraire le GeoJSON sous forme de string\n",
    "geojson_str = gdf.to_json()\n",
    "\n",
    "# Appliquer le clip avec GDAL\n",
    "resolution = 10  # Résolution (10 m)\n",
    "gdal.Warp(\n",
    "    \"/home/onyxia/work/test.tif\",     #Chemin fichier en sortie\n",
    "    \"/home/onyxia/work/data/images/SENTINEL2B_20220125-105852-948_L2A_T31TCJ_C_V3-0_SRE_B2.tif\", #Chemin fichier en entrée\n",
    "    format=\"GTiff\",\n",
    "    cutlineDSName=geojson_str,  # Passer directement le GeoJSON\n",
    "    cropToCutline=True,\n",
    "    dstSRS=\"EPSG:2154\",\n",
    "    xRes=resolution,\n",
    "    yRes=resolution,\n",
    "    dstNodata=0\n",
    ")"
   ]
  }
 ],
 "metadata": {
  "kernelspec": {
   "display_name": "base",
   "language": "python",
   "name": "python3"
  },
  "language_info": {
   "codemirror_mode": {
    "name": "ipython",
    "version": 3
   },
   "file_extension": ".py",
   "mimetype": "text/x-python",
   "name": "python",
   "nbconvert_exporter": "python",
   "pygments_lexer": "ipython3",
   "version": "3.12.6"
  }
 },
 "nbformat": 4,
 "nbformat_minor": 2
}
