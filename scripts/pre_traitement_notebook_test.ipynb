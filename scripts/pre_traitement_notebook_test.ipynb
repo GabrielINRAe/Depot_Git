{
 "cells": [
  {
   "cell_type": "code",
   "execution_count": 5,
   "metadata": {},
   "outputs": [],
   "source": [
    "# Importation des Bibliothèques \n",
    "import os\n",
    "import numpy as np\n",
    "from osgeo import gdal\n",
    "from my_function import (\n",
    "    clip_raster_with_shapefile,\n",
    "    reproject_and_resample,\n",
    "    compute_ndvi,\n",
    "    save_raster)\n",
    "import sys \n",
    "sys.path.append('/home/onyxia/work/libsigma')"
   ]
  },
  {
   "cell_type": "code",
   "execution_count": 6,
   "metadata": {},
   "outputs": [],
   "source": [
    "#  Définition des paramètres \n",
    "\n",
    "input_raster_dir = \"/home/onyxia/work/data/images\"  \n",
    "shapefile_path = \"/home/onyxia/work/data/project/emprise_etude.shp\"\n",
    "mask_foret_path = \"/home/onyxia/Projet_Teledec/results/data/img_pretraitees/masque_foret.tif\"\n",
    "output_dir = \"/home/onyxia/work\"\n",
    "\n",
    "os.makedirs(output_dir, exist_ok=True)"
   ]
  },
  {
   "cell_type": "code",
   "execution_count": 7,
   "metadata": {},
   "outputs": [],
   "source": [
    "# Partie 1 : Image multibande\n",
    "output_multiband_path = os.path.join(output_dir, \"Serie_temp_S2_allbands.tif\")\n",
    "bands_to_use = [\"2\", \"3\", \"4\", \"5\", \"6\", \"7\", \"8\", \"8A\", \"11\", \"12\"]"
   ]
  },
  {
   "cell_type": "code",
   "execution_count": 9,
   "metadata": {},
   "outputs": [],
   "source": [
    "# Charger le driver\n",
    "driver = gdal.GetDriverByName('GTiff')\n",
    "if not driver:\n",
    "    raise RuntimeError(\"Driver GTiff non disponible.\")"
   ]
  },
  {
   "cell_type": "code",
   "execution_count": 10,
   "metadata": {},
   "outputs": [],
   "source": [
    "# Charger le raster de référence\n",
    "ref_raster_path = os.path.join(input_raster_dir, \"SENTINEL2B_20220125-105852-948_L2A_T31TCJ_C_V3-0_SRE_B2.tif\")\n",
    "ref_raster = gdal.Open(ref_raster_path)\n",
    "if not ref_raster:\n",
    "    raise RuntimeError(f\"Impossible d'ouvrir le raster de référence : {ref_raster_path}\")\n"
   ]
  },
  {
   "cell_type": "code",
   "execution_count": 11,
   "metadata": {},
   "outputs": [],
   "source": [
    "# Récupérer les informations géographiques et de projection\n",
    "geo_transform = ref_raster.GetGeoTransform()\n",
    "projection = ref_raster.GetProjection()\n",
    "\n",
    "# Vérifier que les dimensions sont valides\n",
    "if ref_raster.RasterXSize <= 0 or ref_raster.RasterYSize <= 0:\n",
    "    raise ValueError(\"Les dimensions du raster de référence sont invalides.\")\n",
    "\n",
    "\n",
    "\n"
   ]
  },
  {
   "cell_type": "code",
   "execution_count": 12,
   "metadata": {},
   "outputs": [],
   "source": [
    "# Créer le raster de sortie\n",
    "out_raster = driver.Create(\n",
    "    output_multiband_path,\n",
    "    ref_raster.RasterXSize,\n",
    "    ref_raster.RasterYSize,\n",
    "    len(bands_to_use) * 6,\n",
    "    gdal.GDT_UInt16,\n",
    "    options=[\"COMPRESS=LZW\", \"TILED=YES\"]  # Options pour GTiff\n",
    ")\n",
    "if not out_raster:\n",
    "    raise RuntimeError(\"Création du raster de sortie échouée.\")"
   ]
  },
  {
   "cell_type": "code",
   "execution_count": 18,
   "metadata": {},
   "outputs": [
    {
     "data": {
      "text/plain": [
       "['SENTINEL2B_20220125-105852-948_L2A_T31TCJ_C_V3-0_SRE_B11.tif',\n",
       " 'SENTINEL2B_20220125-105852-948_L2A_T31TCJ_C_V3-0_SRE_B12.tif',\n",
       " 'SENTINEL2B_20220125-105852-948_L2A_T31TCJ_C_V3-0_SRE_B2.tif',\n",
       " 'SENTINEL2B_20220125-105852-948_L2A_T31TCJ_C_V3-0_SRE_B3.tif',\n",
       " 'SENTINEL2B_20220125-105852-948_L2A_T31TCJ_C_V3-0_SRE_B4.tif',\n",
       " 'SENTINEL2B_20220125-105852-948_L2A_T31TCJ_C_V3-0_SRE_B5.tif',\n",
       " 'SENTINEL2B_20220125-105852-948_L2A_T31TCJ_C_V3-0_SRE_B6.tif',\n",
       " 'SENTINEL2B_20220125-105852-948_L2A_T31TCJ_C_V3-0_SRE_B7.tif',\n",
       " 'SENTINEL2B_20220125-105852-948_L2A_T31TCJ_C_V3-0_SRE_B8.tif',\n",
       " 'SENTINEL2B_20220125-105852-948_L2A_T31TCJ_C_V3-0_SRE_B8A.tif',\n",
       " 'SENTINEL2B_20220326-105856-076_L2A_T31TCJ_C_V3-0_SRE_B11.tif',\n",
       " 'SENTINEL2B_20220326-105856-076_L2A_T31TCJ_C_V3-0_SRE_B12.tif',\n",
       " 'SENTINEL2B_20220326-105856-076_L2A_T31TCJ_C_V3-0_SRE_B2.tif',\n",
       " 'SENTINEL2B_20220326-105856-076_L2A_T31TCJ_C_V3-0_SRE_B3.tif',\n",
       " 'SENTINEL2B_20220326-105856-076_L2A_T31TCJ_C_V3-0_SRE_B4.tif',\n",
       " 'SENTINEL2B_20220326-105856-076_L2A_T31TCJ_C_V3-0_SRE_B5.tif',\n",
       " 'SENTINEL2B_20220326-105856-076_L2A_T31TCJ_C_V3-0_SRE_B6.tif',\n",
       " 'SENTINEL2B_20220326-105856-076_L2A_T31TCJ_C_V3-0_SRE_B7.tif',\n",
       " 'SENTINEL2B_20220326-105856-076_L2A_T31TCJ_C_V3-0_SRE_B8.tif',\n",
       " 'SENTINEL2B_20220326-105856-076_L2A_T31TCJ_C_V3-0_SRE_B8A.tif',\n",
       " 'SENTINEL2B_20220405-105855-542_L2A_T31TCJ_C_V3-0_SRE_B11.tif',\n",
       " 'SENTINEL2B_20220405-105855-542_L2A_T31TCJ_C_V3-0_SRE_B12.tif',\n",
       " 'SENTINEL2B_20220405-105855-542_L2A_T31TCJ_C_V3-0_SRE_B2.tif',\n",
       " 'SENTINEL2B_20220405-105855-542_L2A_T31TCJ_C_V3-0_SRE_B3.tif',\n",
       " 'SENTINEL2B_20220405-105855-542_L2A_T31TCJ_C_V3-0_SRE_B4.tif',\n",
       " 'SENTINEL2B_20220405-105855-542_L2A_T31TCJ_C_V3-0_SRE_B5.tif',\n",
       " 'SENTINEL2B_20220405-105855-542_L2A_T31TCJ_C_V3-0_SRE_B6.tif',\n",
       " 'SENTINEL2B_20220405-105855-542_L2A_T31TCJ_C_V3-0_SRE_B7.tif',\n",
       " 'SENTINEL2B_20220405-105855-542_L2A_T31TCJ_C_V3-0_SRE_B8.tif',\n",
       " 'SENTINEL2B_20220405-105855-542_L2A_T31TCJ_C_V3-0_SRE_B8A.tif',\n",
       " 'SENTINEL2B_20220714-105903-040_L2A_T31TCJ_C_V3-0_SRE_B11.tif',\n",
       " 'SENTINEL2B_20220714-105903-040_L2A_T31TCJ_C_V3-0_SRE_B12.tif',\n",
       " 'SENTINEL2B_20220714-105903-040_L2A_T31TCJ_C_V3-0_SRE_B2.tif',\n",
       " 'SENTINEL2B_20220714-105903-040_L2A_T31TCJ_C_V3-0_SRE_B3.tif',\n",
       " 'SENTINEL2B_20220714-105903-040_L2A_T31TCJ_C_V3-0_SRE_B4.tif',\n",
       " 'SENTINEL2B_20220714-105903-040_L2A_T31TCJ_C_V3-0_SRE_B5.tif',\n",
       " 'SENTINEL2B_20220714-105903-040_L2A_T31TCJ_C_V3-0_SRE_B6.tif',\n",
       " 'SENTINEL2B_20220714-105903-040_L2A_T31TCJ_C_V3-0_SRE_B7.tif',\n",
       " 'SENTINEL2B_20220714-105903-040_L2A_T31TCJ_C_V3-0_SRE_B8.tif',\n",
       " 'SENTINEL2B_20220714-105903-040_L2A_T31TCJ_C_V3-0_SRE_B8A.tif',\n",
       " 'SENTINEL2B_20220922-105859-863_L2A_T31TCJ_C_V3-1_SRE_B11.tif',\n",
       " 'SENTINEL2B_20220922-105859-863_L2A_T31TCJ_C_V3-1_SRE_B12.tif',\n",
       " 'SENTINEL2B_20220922-105859-863_L2A_T31TCJ_C_V3-1_SRE_B2.tif',\n",
       " 'SENTINEL2B_20220922-105859-863_L2A_T31TCJ_C_V3-1_SRE_B3.tif',\n",
       " 'SENTINEL2B_20220922-105859-863_L2A_T31TCJ_C_V3-1_SRE_B4.tif',\n",
       " 'SENTINEL2B_20220922-105859-863_L2A_T31TCJ_C_V3-1_SRE_B5.tif',\n",
       " 'SENTINEL2B_20220922-105859-863_L2A_T31TCJ_C_V3-1_SRE_B6.tif',\n",
       " 'SENTINEL2B_20220922-105859-863_L2A_T31TCJ_C_V3-1_SRE_B7.tif',\n",
       " 'SENTINEL2B_20220922-105859-863_L2A_T31TCJ_C_V3-1_SRE_B8.tif',\n",
       " 'SENTINEL2B_20220922-105859-863_L2A_T31TCJ_C_V3-1_SRE_B8A.tif',\n",
       " 'SENTINEL2B_20221111-105858-090_L2A_T31TCJ_C_V3-1_SRE_B11.tif',\n",
       " 'SENTINEL2B_20221111-105858-090_L2A_T31TCJ_C_V3-1_SRE_B12.tif',\n",
       " 'SENTINEL2B_20221111-105858-090_L2A_T31TCJ_C_V3-1_SRE_B2.tif',\n",
       " 'SENTINEL2B_20221111-105858-090_L2A_T31TCJ_C_V3-1_SRE_B3.tif',\n",
       " 'SENTINEL2B_20221111-105858-090_L2A_T31TCJ_C_V3-1_SRE_B4.tif',\n",
       " 'SENTINEL2B_20221111-105858-090_L2A_T31TCJ_C_V3-1_SRE_B5.tif',\n",
       " 'SENTINEL2B_20221111-105858-090_L2A_T31TCJ_C_V3-1_SRE_B6.tif',\n",
       " 'SENTINEL2B_20221111-105858-090_L2A_T31TCJ_C_V3-1_SRE_B7.tif',\n",
       " 'SENTINEL2B_20221111-105858-090_L2A_T31TCJ_C_V3-1_SRE_B8.tif',\n",
       " 'SENTINEL2B_20221111-105858-090_L2A_T31TCJ_C_V3-1_SRE_B8A.tif']"
      ]
     },
     "execution_count": 18,
     "metadata": {},
     "output_type": "execute_result"
    }
   ],
   "source": [
    "# Test Gab\n",
    "L_images = sorted(os.listdir('/home/onyxia/work/data/images'))\n",
    "L_images.remove('.keep') #Potentiel problème\n",
    "L_images\n"
   ]
  },
  {
   "cell_type": "code",
   "execution_count": 16,
   "metadata": {},
   "outputs": [
    {
     "name": "stdout",
     "output_type": "stream",
     "text": [
      "['SENTINEL2B_20220125-105852-948_L2A_T31TCJ_C_V3-0_SRE_B11.tif', 'SENTINEL2B_20220125-105852-948_L2A_T31TCJ_C_V3-0_SRE_B12.tif', 'SENTINEL2B_20220125-105852-948_L2A_T31TCJ_C_V3-0_SRE_B2.tif', 'SENTINEL2B_20220125-105852-948_L2A_T31TCJ_C_V3-0_SRE_B3.tif', 'SENTINEL2B_20220125-105852-948_L2A_T31TCJ_C_V3-0_SRE_B4.tif', 'SENTINEL2B_20220125-105852-948_L2A_T31TCJ_C_V3-0_SRE_B5.tif', 'SENTINEL2B_20220125-105852-948_L2A_T31TCJ_C_V3-0_SRE_B6.tif', 'SENTINEL2B_20220125-105852-948_L2A_T31TCJ_C_V3-0_SRE_B7.tif', 'SENTINEL2B_20220125-105852-948_L2A_T31TCJ_C_V3-0_SRE_B8.tif', 'SENTINEL2B_20220125-105852-948_L2A_T31TCJ_C_V3-0_SRE_B8A.tif', 'SENTINEL2B_20220326-105856-076_L2A_T31TCJ_C_V3-0_SRE_B11.tif', 'SENTINEL2B_20220326-105856-076_L2A_T31TCJ_C_V3-0_SRE_B12.tif', 'SENTINEL2B_20220326-105856-076_L2A_T31TCJ_C_V3-0_SRE_B2.tif', 'SENTINEL2B_20220326-105856-076_L2A_T31TCJ_C_V3-0_SRE_B3.tif', 'SENTINEL2B_20220326-105856-076_L2A_T31TCJ_C_V3-0_SRE_B4.tif', 'SENTINEL2B_20220326-105856-076_L2A_T31TCJ_C_V3-0_SRE_B5.tif', 'SENTINEL2B_20220326-105856-076_L2A_T31TCJ_C_V3-0_SRE_B6.tif', 'SENTINEL2B_20220326-105856-076_L2A_T31TCJ_C_V3-0_SRE_B7.tif', 'SENTINEL2B_20220326-105856-076_L2A_T31TCJ_C_V3-0_SRE_B8.tif', 'SENTINEL2B_20220326-105856-076_L2A_T31TCJ_C_V3-0_SRE_B8A.tif', 'SENTINEL2B_20220405-105855-542_L2A_T31TCJ_C_V3-0_SRE_B11.tif', 'SENTINEL2B_20220405-105855-542_L2A_T31TCJ_C_V3-0_SRE_B12.tif', 'SENTINEL2B_20220405-105855-542_L2A_T31TCJ_C_V3-0_SRE_B2.tif', 'SENTINEL2B_20220405-105855-542_L2A_T31TCJ_C_V3-0_SRE_B3.tif', 'SENTINEL2B_20220405-105855-542_L2A_T31TCJ_C_V3-0_SRE_B4.tif', 'SENTINEL2B_20220405-105855-542_L2A_T31TCJ_C_V3-0_SRE_B5.tif', 'SENTINEL2B_20220405-105855-542_L2A_T31TCJ_C_V3-0_SRE_B6.tif', 'SENTINEL2B_20220405-105855-542_L2A_T31TCJ_C_V3-0_SRE_B7.tif', 'SENTINEL2B_20220405-105855-542_L2A_T31TCJ_C_V3-0_SRE_B8.tif', 'SENTINEL2B_20220405-105855-542_L2A_T31TCJ_C_V3-0_SRE_B8A.tif', 'SENTINEL2B_20220714-105903-040_L2A_T31TCJ_C_V3-0_SRE_B11.tif', 'SENTINEL2B_20220714-105903-040_L2A_T31TCJ_C_V3-0_SRE_B12.tif', 'SENTINEL2B_20220714-105903-040_L2A_T31TCJ_C_V3-0_SRE_B2.tif', 'SENTINEL2B_20220714-105903-040_L2A_T31TCJ_C_V3-0_SRE_B3.tif', 'SENTINEL2B_20220714-105903-040_L2A_T31TCJ_C_V3-0_SRE_B4.tif', 'SENTINEL2B_20220714-105903-040_L2A_T31TCJ_C_V3-0_SRE_B5.tif', 'SENTINEL2B_20220714-105903-040_L2A_T31TCJ_C_V3-0_SRE_B6.tif', 'SENTINEL2B_20220714-105903-040_L2A_T31TCJ_C_V3-0_SRE_B7.tif', 'SENTINEL2B_20220714-105903-040_L2A_T31TCJ_C_V3-0_SRE_B8.tif', 'SENTINEL2B_20220714-105903-040_L2A_T31TCJ_C_V3-0_SRE_B8A.tif', 'SENTINEL2B_20220922-105859-863_L2A_T31TCJ_C_V3-1_SRE_B11.tif', 'SENTINEL2B_20220922-105859-863_L2A_T31TCJ_C_V3-1_SRE_B12.tif', 'SENTINEL2B_20220922-105859-863_L2A_T31TCJ_C_V3-1_SRE_B2.tif', 'SENTINEL2B_20220922-105859-863_L2A_T31TCJ_C_V3-1_SRE_B3.tif', 'SENTINEL2B_20220922-105859-863_L2A_T31TCJ_C_V3-1_SRE_B4.tif', 'SENTINEL2B_20220922-105859-863_L2A_T31TCJ_C_V3-1_SRE_B5.tif', 'SENTINEL2B_20220922-105859-863_L2A_T31TCJ_C_V3-1_SRE_B6.tif', 'SENTINEL2B_20220922-105859-863_L2A_T31TCJ_C_V3-1_SRE_B7.tif', 'SENTINEL2B_20220922-105859-863_L2A_T31TCJ_C_V3-1_SRE_B8.tif', 'SENTINEL2B_20220922-105859-863_L2A_T31TCJ_C_V3-1_SRE_B8A.tif', 'SENTINEL2B_20221111-105858-090_L2A_T31TCJ_C_V3-1_SRE_B11.tif', 'SENTINEL2B_20221111-105858-090_L2A_T31TCJ_C_V3-1_SRE_B12.tif', 'SENTINEL2B_20221111-105858-090_L2A_T31TCJ_C_V3-1_SRE_B2.tif', 'SENTINEL2B_20221111-105858-090_L2A_T31TCJ_C_V3-1_SRE_B3.tif', 'SENTINEL2B_20221111-105858-090_L2A_T31TCJ_C_V3-1_SRE_B4.tif', 'SENTINEL2B_20221111-105858-090_L2A_T31TCJ_C_V3-1_SRE_B5.tif', 'SENTINEL2B_20221111-105858-090_L2A_T31TCJ_C_V3-1_SRE_B6.tif', 'SENTINEL2B_20221111-105858-090_L2A_T31TCJ_C_V3-1_SRE_B7.tif', 'SENTINEL2B_20221111-105858-090_L2A_T31TCJ_C_V3-1_SRE_B8.tif', 'SENTINEL2B_20221111-105858-090_L2A_T31TCJ_C_V3-1_SRE_B8A.tif']\n"
     ]
    },
    {
     "name": "stderr",
     "output_type": "stream",
     "text": [
      "_tiffWriteProc: No space