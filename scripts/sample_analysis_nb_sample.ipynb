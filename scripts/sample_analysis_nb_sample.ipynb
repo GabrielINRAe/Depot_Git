{
 "cells": [
  {
   "cell_type": "code",
   "execution_count": 1,
   "metadata": {},
   "outputs": [],
   "source": [
    "# Importation des Bibliothèques \n",
    "import os\n",
    "import sys\n",
    "import geopandas as gpd\n",
    "import pandas as pd\n",
    "import matplotlib.pyplot as plt\n",
    "from rasterstats import zonal_stats\n",
    "sys.path.append('/home/onyxia/work/Depot_Git/scripts')\n",
    "from my_function import (\n",
    "    count_polygons_by_class,\n",
    "    plot_bar,\n",
    "    violin_plot,\n",
    "    sel_classif_pixel\n",
    ")"
   ]
  },
  {
   "cell_type": "code",
   "execution_count": 2,
   "metadata": {},
   "outputs": [],
   "source": [
    "# definition des paramètres \n",
    "my_folder = '/home/onyxia/work/Depot_Git/results/data/sample'\n",
    "out_folder = '/home/onyxia/work/Depot_Git/results/figure'\n",
    "in_vector = os.path.join(my_folder, 'Sample_BD_foret_T31TCJ.shp')\n",
    "diag_baton_poly_classe_path = os.path.join(out_folder,'diag_baton_nb_poly_by_class.png')\n",
    "diag_baton_pixel_classe_path = os.path.join(out_folder,'diag_baton_nb_pix_by_class.png')\n",
    "violin_plot_path = os.path.join(out_folder,'violin_plot_nb_pix_by_poly_by_class.png')\n",
    "violin_plot_filt_path= os.path.join(out_folder,'violin_plot_nb_pix_by_poly_by_class_filtred.png')\n",
    "raster_path = \"/home/onyxia/work/Depot_Git/results/data/img_pretraitees/masque_foret.tif\"\n"
   ]
  },
  {
   "cell_type": "code",
   "execution_count": 3,
   "metadata": {},
   "outputs": [
    {
     "data": {
      "text/html": [
       "<div>\n",
       "<style scoped>\n",
       "    .dataframe tbody tr th:only-of-type {\n",
       "        vertical-align: middle;\n",
       "    }\n",
       "\n",
       "    .dataframe tbody tr th {\n",
       "        vertical-align: top;\n",
       "    }\n",
       "\n",
       "    .dataframe thead th {\n",
       "        text-align: right;\n",
       "    }\n",
       "</style>\n",
       "<table border=\"1\" class=\"dataframe\">\n",
       "  <thead>\n",
       "    <tr style=\"text-align: right;\">\n",
       "      <th></th>\n",
       "      <th>ID</th>\n",
       "      <th>CODE_TFV</th>\n",
       "      <th>TFV</th>\n",
       "      <th>TFV_G11</th>\n",
       "      <th>ESSENCE</th>\n",
       "      <th>Nom</th>\n",
       "      <th>Code</th>\n",
       "      <th>geometry</th>\n",
       "    </tr>\n",
       "  </thead>\n",
       "  <tbody>\n",
       "    <tr>\n",
       "      <th>0</th>\n",
       "      <td>FORESTIE0000000003108720</td>\n",
       "      <td>FF1-00</td>\n",
       "      <td>Forêt fermée de feuillus purs en îlots</td>\n",
       "      <td>Forêt fermée feuillus</td>\n",
       "      <td>Feuillus</td>\n",
       "      <td>Feuillus en îlots</td>\n",
       "      <td>16</td>\n",
       "      <td>POLYGON ((542016.264 6240744.823, 542019.845 6...</td>\n",
       "    </tr>\n",
       "    <tr>\n",
       "      <th>1</th>\n",
       "      <td>FORESTIE0000000003108753</td>\n",
       "      <td>FF1-00</td>\n",
       "      <td>Forêt fermée de feuillus purs en îlots</td>\n",
       "      <td>Forêt fermée feuillus</td>\n",
       "      <td>Feuillus</td>\n",
       "      <td>Feuillus en îlots</td>\n",
       "      <td>16</td>\n",
       "      <td>POLYGON ((542369.772 6240980.009, 542369.28 62...</td>\n",
       "    </tr>\n",
       "    <tr>\n",
       "      <th>2</th>\n",
       "      <td>FORESTIE0000000003116029</td>\n",
       "      <td>FF1-00-00</td>\n",
       "      <td>Forêt fermée à mélange de feuillus</td>\n",
       "      <td>Forêt fermée feuillus</td>\n",
       "      <td>Feuillus</td>\n",
       "      <td>Mélange de feuillus</td>\n",
       "      <td>15</td>\n",
       "      <td>POLYGON ((541667.758 6240990.232, 541662.797 6...</td>\n",
       "    </tr>\n",
       "    <tr>\n",
       "      <th>3</th>\n",
       "      <td>FORESTIE0000000003108760</td>\n",
       "      <td>FF1-00</td>\n",
       "      <td>Forêt fermée de feuillus purs en îlots</td>\n",
       "      <td>Forêt fermée feuillus</td>\n",
       "      <td>Feuillus</td>\n",
       "      <td>Feuillus en îlots</td>\n",
       "      <td>16</td>\n",
       "      <td>POLYGON ((545450.8 6241119, 545446 6241115.3, ...</td>\n",
       "    </tr>\n",
       "    <tr>\n",
       "      <th>4</th>\n",
       "      <td>FORESTIE0000000003116048</td>\n",
       "      <td>FF1-00-00</td>\n",
       "      <td>Forêt fermée à mélange de feuillus</td>\n",
       "      <td>Forêt fermée feuillus</td>\n",
       "      <td>Feuillus</td>\n",
       "      <td>Mélange de feuillus</td>\n",
       "      <td>15</td>\n",
       "      <td>POLYGON ((545762.816 6241493.748, 545772.766 6...</td>\n",
       "    </tr>\n",
       "  </tbody>\n",
       "</table>\n",
       "</div>"
      ],
      "text/plain": [
       "                         ID   CODE_TFV  \\\n",
       "0  FORESTIE0000000003108720     FF1-00   \n",
       "1  FORESTIE0000000003108753     FF1-00   \n",
       "2  FORESTIE0000000003116029  FF1-00-00   \n",
       "3  FORESTIE0000000003108760     FF1-00   \n",
       "4  FORESTIE0000000003116048  FF1-00-00   \n",
       "\n",
       "                                      TFV                TFV_G11   ESSENCE  \\\n",
       "0  Forêt fermée de feuillus purs en îlots  Forêt fermée feuillus  Feuillus   \n",
       "1  Forêt fermée de feuillus purs en îlots  Forêt fermée feuillus  Feuillus   \n",
       "2      Forêt fermée à mélange de feuillus  Forêt fermée feuillus  Feuillus   \n",
       "3  Forêt fermée de feuillus purs en îlots  Forêt fermée feuillus  Feuillus   \n",
       "4      Forêt fermée à mélange de feuillus  Forêt fermée feuillus  Feuillus   \n",
       "\n",
       "                   Nom Code                                           geometry  \n",
       "0    Feuillus en îlots   16  POLYGON ((542016.264 6240744.823, 542019.845 6...  \n",
       "1    Feuillus en îlots   16  POLYGON ((542369.772 6240980.009, 542369.28 62...  \n",
       "2  Mélange de feuillus   15  POLYGON ((541667.758 6240990.232, 541662.797 6...  \n",
       "3    Feuillus en îlots   16  POLYGON ((545450.8 6241119, 545446 6241115.3, ...  \n",
       "4  Mélange de feuillus   15  POLYGON ((545762.816 6241493.748, 545772.766 6...  "
      ]
     },
     "execution_count": 3,
     "metadata": {},
     "output_type": "execute_result"
    }
   ],
   "source": [
    "# Chargement des données de BD_Forêt\n",
    "echantillons = gpd.read_file(in_vector)\n",
    "echantillons.head()"
   ]
  },
  {
   "cell_type": "code",
   "execution_count": 4,
   "metadata": {},
   "outputs": [],
   "source": [
    "# Ici on ne garde que les classes pour la classif pixel\n",
    "\n",
    "echantillons_px = sel_classif_pixel(echantillons)\n",
    "echantillons_px.head()"
   ]
  },
  {
   "cell_type": "code",
   "execution_count": null,
   "metadata": {},
   "outputs": [],
   "source": [
    "# Visualisation sous forme d'un diagramme en bâton du nombre des polygones par classe \n",
    "# Définition des un variable stockant le nom de colone classif polygone\n",
    "nom_poly_col = \"Nom\" \n",
    "# Comptage de  nombre des polygones par classe\n",
    "nb_pol_by_class = count_polygons_by_class(echantillons_px, nom_poly_col)\n",
    "nb_pol_by_class = nb_pol_by_class.set_index(['Nom'])\n",
    "print(nb_pol_by_class)"
   ]
  },
  {
   "cell_type": "code",
   "execution_count": null,
   "metadata": {},
   "outputs": [],
   "source": [
    "# Visualisation Grapique de distribution des polygones sur les différentes classes \n",
    "plot_bar (\n",
    "    nb_pol_by_class,\n",
    "    title = \"Nombre de polygones par classe\",\n",
    "    xlabel = \"Classe\",\n",
    "    ylabel = \"Nombre de polygones\",\n",
    "    output_path = diag_baton_poly_classe_path)"
   ]
  },
  {
   "cell_type": "code",
   "execution_count": 7,
   "metadata": {},
   "outputs": [],
   "source": [
    "# Rastérisation de la couche des échantillons à l'aide de la fonction zonal_stat de Rasterstats et calcul de l'effectif de pixels pour chaque classe \n",
    "stats = zonal_stats(\n",
    "    echantillons_px,\n",
    "    raster_path,\n",
    "    stats=[\"count\"],      # comtage de nombre de pixels\n",
    "    categorical=False,     # Regrouper les pixels par catégorie\n",
    "    geojson_out=False,    # Retourner les résultats sous forme d'une liste\n",
    "    nodata = 0\n",
    ")"
   ]
  },
  {
   "cell_type": "code",
   "execution_count": null,
   "metadata": {},
   "outputs": [],
   "source": [
    "type(stats)"
   ]
  },
  {
   "cell_type": "code",
   "execution_count": null,
   "metadata": {},
   "outputs": [],
   "source": [
    "#  Pour chaque catégorie dans la liste stats générée précedement, on associe la classe correspondante pour obtenir le nombre de pixels par classe\n",
    "results = []\n",
    "for i, stat in enumerate(stats):\n",
    "    classe = echantillons_px.iloc[i][\"Nom\"]  # Remplacer par le nom du champ de classe\n",
    "    if stat:\n",
    "        for category, count in stat.items():\n",
    "            results.append({\"Classe\": classe, \"Catégorie\": category, \"Pixels\": count})\n",
    "    else:\n",
    "        results.append({\"Classe\": classe, \"Catégorie\": \"N/A\", \"Pixels\": 0})\n",
    "# Convertir les résultats en DataFrame et regrouper par classe\n",
    "df = pd.DataFrame(results)\n",
    "nb_pixel_by_class = df.groupby(\"Classe\")[\"Pixels\"].sum().reset_index()\n",
    "nb_pixel_by_class = nb_pixel_by_class.set_index(['Classe'])\n",
    "nb_pixel_by_class"
   ]
  },
  {
   "cell_type": "code",
   "execution_count": null,
   "metadata": {},
   "outputs": [],
   "source": [
    "# Visualisation Grapique sous forme d'un diagramme en bâton de la distribution des pixels sur les différentes classes \n",
    "plot_bar (\n",
    "    nb_pixel_by_class,\n",
    "    title = \"Nombre de pixels par classe\",\n",
    "    xlabel = \"Classe\",\n",
    "    ylabel = \"Nombre de pixels\",\n",
    "    output_path = diag_baton_pixel_classe_path)"
   ]
  },
  {
   "cell_type": "code",
   "execution_count": null,
   "metadata": {},
   "outputs": [],
   "source": [
    "# Création de \"violin plot\" pour visualiser la distribution du nombre de pixels par polygone, par classe\n",
    "violin_plot(\n",
    "    df=df,\n",
    "    x_col=\"Classe\",\n",
    "    y_col=\"Pixels\",\n",
    "    output_file=violin_plot_path, \n",
    "    title=\"Distribution du nombre de pixels par polygone, par classe\",\n",
    "    xlabel=\"Classe\",\n",
    "    ylabel=\"Nombre de pixels par polygone\",\n",
    "    palette=\"muted\"\n",
    ")"
   ]
  },
  {
   "cell_type": "code",
   "execution_count": null,
   "metadata": {},
   "outputs": [],
   "source": [
    "df[df['Classe'] == \"Douglas\"]"
   ]
  },
  {
   "cell_type": "code",
   "execution_count": null,
   "metadata": {},
   "outputs": [],
   "source": [
    "# Création de \"violin plot\" pour visualiser la distribution du nombre de pixels par polygone, par classe sans tenir compte de la classe dominante chêne \n",
    "df_filtered = df[df[\"Classe\"] != \"Chêne\"]\n",
    "violin_plot(\n",
    "    df = df_filtered,\n",
    "    x_col = \"Classe\",\n",
    "    y_col =\"Pixels\",\n",
    "    output_file = violin_plot_filt_path,\n",
    "    title =\"Distribution du nombre de pixels par polygone, par classe\",\n",
    "    xlabel = \"Classe\",\n",
    "    ylabel = \"Nombre de pixels par polygone\",\n",
    "    palette = \"muted\"\n",
    ")"
   ]
  },
  {
   "cell_type": "code",
   "execution_count": null,
   "metadata": {},
   "outputs": [],
   "source": []
  }
 ],
 "metadata": {
  "kernelspec": {
   "display_name": "base",
   "language": "python",
   "name": "python3"
  },
  "language_info": {
   "codemirror_mode": {
    "name": "ipython",
    "version": 3
   },
   "file_extension": ".py",
   "mimetype": "text/x-python",
   "name": "python",
   "nbconvert_exporter": "python",
   "pygments_lexer": "ipython3",
   "version": "3.12.7"
  }
 },
 "nbformat": 4,
 "nbformat_minor": 2
}
