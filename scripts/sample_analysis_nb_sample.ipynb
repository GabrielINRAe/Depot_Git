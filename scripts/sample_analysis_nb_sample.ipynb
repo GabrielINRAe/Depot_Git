{
 "cells": [
  {
   "cell_type": "code",
   "execution_count": 3,
   "metadata": {},
   "outputs": [],
   "source": [
    "# Importation des Bibliothèques \n",
    "import os\n",
    "import sys\n",
    "import geopandas as gpd\n",
    "sys.path.append('/home/onyxia/Projet_Teledec/scripts')\n",
    "from my_function import (\n",
    "    count_pixels_by_class,\n",
    "    count_polygons_by_class,\n",
    "    plot_bar,\n",
    "    plot_violin,\n",
    ")"
   ]
  },
  {
   "cell_type": "code",
   "execution_count": 4,
   "metadata": {},
   "outputs": [],
   "source": [
    " # definition des paramètres \n",
    " \n",
    "my_folder = '/home/onyxia/Projet_Teledec/results/data/sample'\n",
    "out_folder = '/home/onyxia/Projet_Teledec/results/figure'\n",
    "in_vector = os.path.join(my_folder, 'Sample_BD_foret_T31TCJ.shp')\n",
    "diag_baton_poly_classe_path = os.path.join(out_folder,'diag_baton_nb_poly_by_class.png')\n",
    "diag_baton_pixel_classe_path = os.path.join(out_folder,'diag_baton_nb_pix_by_class.png')\n",
    "violin_plot_pix_by_poly_by_class_path = os.path.join(out_folder,'violin_plot_nb_pix_by_poly_by_class.png')\n"
   ]
  },
  {
   "cell_type": "code",
   "execution_count": 15,
   "metadata": {},
   "outputs": [],
   "source": [
    "# Chargement des données de BD_Forêt\n",
    "echantillons = gpd.read_file(in_vector)\n",
    "echantillons.head()\n",
    "# Suppression des lignes avec des valeurs \"None\" dans les colonnes classif_pixel et classif_objet\n",
    "echantillons_nettoyee= echantillons.dropna(subset=['classif_ob', 'Objet_code'])  # Supprime les lignes avec des valeurs manquantes"
   ]
  },
  {
   "cell_type": "code",
   "execution_count": 16,
   "metadata": {},
   "outputs": [
    {
     "name": "stdout",
     "output_type": "stream",
     "text": [
      "            classif_ob  count\n",
      "0      Autres feuillus    128\n",
      "1                Chêne   2172\n",
      "2  Mélange de feuillus   2641\n",
      "3           Peupleraie    172\n",
      "4             Robinier     56\n"
     ]
    }
   ],
   "source": [
    "# Visualisation sous forme d'un diagramme en bâton du nombre des polygones par classe \n",
    "# Définition des variables stockant les noms de colone de classif pixel et classif polygone\n",
    "nom_pixel_col = \"classif_pi\"\n",
    "nom_poly_col = \"classif_ob\" \n",
    "# Comptage de  nombre des polygones par classe\n",
    "nb_pol_by_class = count_polygons_by_class(echantillons_nettoyee, nom_poly_col)\n",
    "print(nb_pol_by_class)"
   ]
  },
  {
   "cell_type": "code",
   "execution_count": null,
   "metadata": {},
   "outputs": [
    {
     "data": {
      "text/plain": [
       "<Figure size 1000x600 with 0 Axes>"
      ]
     },
     "metadata": {},
     "output_type": "display_data"
    }
   ],
   "source": [
    "# Visualisation Grapique de distribution des polygones sur les différentes classes \n",
    "plot_bar (\n",
    "    nb_pol_by_class,\n",
    "    title = \"Nombre de polygones par classe\",\n",
    "    xlabel = \"Classe\",\n",
    "    ylabel = \"Nombre de polygones\",\n",
    "    output_path = diag_baton_poly_classe_path)\n",
    "    \n"
   ]
  }
 ],
 "metadata": {
  "kernelspec": {
   "display_name": "base",
   "language": "python",
   "name": "python3"
  },
  "language_info": {
   "codemirror_mode": {
    "name": "ipython",
    "version": 3
   },
   "file_extension": ".py",
   "mimetype": "text/x-python",
   "name": "python",
   "nbconvert_exporter": "python",
   "pygments_lexer": "ipython3",
   "version": "3.12.6"
  }
 },
 "nbformat": 4,
 "nbformat_minor": 2
}
