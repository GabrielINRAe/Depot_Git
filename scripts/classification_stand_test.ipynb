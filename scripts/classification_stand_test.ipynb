{
 "cells": [
  {
   "cell_type": "code",
   "execution_count": 1,
   "metadata": {},
   "outputs": [],
   "source": [
    "# Importation des bibliothèques \n",
    "import geopandas as gpd\n",
    "import rasterstats\n",
    "import os \n",
    "from my_function import calculate_class_percentages, apply_decision_rules, compute_confusion_matrix"
   ]
  },
  {
   "cell_type": "code",
   "execution_count": 2,
   "metadata": {},
   "outputs": [],
   "source": [
    "# Définition des cheminss d'accès \n",
    "my_folder = '/home/onyxia/work/Depot_Git/results/data'\n",
    "sample_filename = os.path.join(my_folder, 'sample/Sample_BD_foret_T31TCJ.shp')\n",
    "image_filename = os.path.join (my_folder,'classif/carte_essences_echelle_pixel.tif')\n",
    "out_put_samples = os.path.join (my_folder,'classif/carte_essences_echelle_peuplement.shp')"
   ]
  },
  {
   "cell_type": "code",
   "execution_count": 3,
   "metadata": {},
   "outputs": [
    {
     "name": "stdout",
     "output_type": "stream",
     "text": [
      "                         ID   CODE_TFV  \\\n",
      "0  FORESTIE0000000003108720     FF1-00   \n",
      "1  FORESTIE0000000003108753     FF1-00   \n",
      "2  FORESTIE0000000003116029  FF1-00-00   \n",
      "3  FORESTIE0000000003108760     FF1-00   \n",
      "4  FORESTIE0000000003116048  FF1-00-00   \n",
      "\n",
      "                                      TFV                TFV_G11   ESSENCE  \\\n",
      "0  Forêt fermée de feuillus purs en îlots  Forêt fermée feuillus  Feuillus   \n",
      "1  Forêt fermée de feuillus purs en îlots  Forêt fermée feuillus  Feuillus   \n",
      "2      Forêt fermée à mélange de feuillus  Forêt fermée feuillus  Feuillus   \n",
      "3  Forêt fermée de feuillus purs en îlots  Forêt fermée feuillus  Feuillus   \n",
      "4      Forêt fermée à mélange de feuillus  Forêt fermée feuillus  Feuillus   \n",
      "\n",
      "                   Nom  Code  \\\n",
      "0    Feuillus_en_ilots    16   \n",
      "1    Feuillus_en_ilots    16   \n",
      "2  Melange_de_feuillus    15   \n",
      "3    Feuillus_en_ilots    16   \n",
      "4  Melange_de_feuillus    15   \n",
      "\n",
      "                                            geometry        Surface  \n",
      "0  POLYGON ((542016.264 6240744.823, 542019.845 6...       4.532667  \n",
      "1  POLYGON ((542369.772 6240980.009, 542369.28 62...    6519.167356  \n",
      "2  POLYGON ((541667.758 6240990.232, 541662.797 6...  173350.118161  \n",
      "3  POLYGON ((545450.8 6241119, 545446 6241115.3, ...    6304.195000  \n",
      "4  POLYGON ((545762.816 6241493.748, 545772.766 6...   46382.465979  \n"
     ]
    }
   ],
   "source": [
    "import geopandas as gpd\n",
    "\n",
    "# Chargement de jeu de données \n",
    "polygons = gpd.read_file(sample_filename)\n",
    "\n",
    "# Calcul la surface de chaque polygone\n",
    "polygons[\"Surface\"] = polygons.geometry.area\n",
    "\n",
    "# Afficher les premières lignes\n",
    "print(polygons.head())"
   ]
  },
  {
   "cell_type": "code",
   "execution_count": 4,
   "metadata": {},
   "outputs": [
    {
     "name": "stderr",
     "output_type": "stream",
     "text": [
      "/opt/conda/lib/python3.12/site-packages/rasterstats/io.py:335: NodataWarning: Setting nodata to -999; specify nodata explicitly\n",
      "  warnings.warn(\n"
     ]
    }
   ],
   "source": [
    "# Calcul des pourcentages des classes dans les polygones\n",
    "class_percentages = calculate_class_percentages(polygons, image_filename)"
   ]
  },
  {
   "cell_type": "code",
   "execution_count": 5,
   "metadata": {},
   "outputs": [],
   "source": [
    "# Ajout des classifications prédites selon les règles de décision\n",
    "polygons[\"code_predit\"] = apply_decision_rules(class_percentages)"
   ]
  },
  {
   "cell_type": "code",
   "execution_count": null,
   "metadata": {},
   "outputs": [
    {
     "name": "stderr",
     "output_type": "stream",
     "text": [
      "/tmp/ipykernel_58806/4094714394.py:3: UserWarning: Column names longer than 10 characters will be truncated when saved to ESRI Shapefile.\n",
      "  polygons.to_file(shapefile_classified)\n",
      "/opt/conda/lib/python3.12/site-packages/pyogrio/raw.py:723: RuntimeWarning: Normalized/laundered field name: 'code_predit' to 'code_predi'\n",
      "  ogr_write(\n"
     ]
    },
    {
     "name": "stdout",
     "output_type": "stream",
     "text": [
      "                         ID   CODE_TFV  \\\n",
      "0  FORESTIE0000000003108720     FF1-00   \n",
      "1  FORESTIE0000000003108753     FF1-00   \n",
      "2  FORESTIE0000000003116029  FF1-00-00   \n",
      "3  FORESTIE0000000003108760     FF1-00   \n",
      "4  FORESTIE0000000003116048  FF1-00-00   \n",
      "\n",
      "                                      TFV                TFV_G11   ESSENCE  \\\n",
      "0  Forêt fermée de feuillus purs en îlots  Forêt fermée feuillus  Feuillus   \n",
      "1  Forêt fermée de feuillus purs en îlots  Forêt fermée feuillus  Feuillus   \n",
      "2      Forêt fermée à mélange de feuillus  Forêt fermée feuillus  Feuillus   \n",
      "3  Forêt fermée de feuillus purs en îlots  Forêt fermée feuillus  Feuillus   \n",
      "4      Forêt fermée à mélange de feuillus  Forêt fermée feuillus  Feuillus   \n",
      "\n",
      "                   Nom  Code  \\\n",
      "0    Feuillus_en_ilots    16   \n",
      "1    Feuillus_en_ilots    16   \n",
      "2  Melange_de_feuillus    15   \n",
      "3    Feuillus_en_ilots    16   \n",
      "4  Melange_de_feuillus    15   \n",
      "\n",
      "                                            geometry        Surface  \\\n",
      "0  POLYGON ((542016.264 6240744.823, 542019.845 6...       4.532667   \n",
      "1  POLYGON ((542369.772 6240980.009, 542369.28 62...    6519.167356   \n",
      "2  POLYGON ((541667.758 6240990.232, 541662.797 6...  173350.118161   \n",
      "3  POLYGON ((545450.8 6241119, 545446 6241115.3, ...    6304.195000   \n",
      "4  POLYGON ((545762.816 6241493.748, 545772.766 6...   46382.465979   \n",
      "\n",
      "      code_predit  \n",
      "0  Surface < 2 ha  \n",
      "1  Surface < 2 ha  \n",
      "2  Surface < 2 ha  \n",
      "3  Surface < 2 ha  \n",
      "4  Surface < 2 ha  \n"
     ]
    }
   ],
   "source": [
    "# Sauvegarde de shapefile mis à jour\n",
    "polygons.to_file(out_put_samples)\n",
    "print(polygons.head())"
   ]
  },
  {
   "cell_type": "code",
   "execution_count": null,
   "metadata": {},
   "outputs": [],
   "source": [
    "# Calcul de  la matrice de confusion\n",
    "confusion_matrix = compute_confusion_matrix(polygons, label_col=\"code\", prediction_col=\"code_predit\")\n",
    "print(confusion_matrix)"
   ]
  },
  {
   "cell_type": "code",
   "execution_count": null,
   "metadata": {},
   "outputs": [],
   "source": [
    "# Affichage de la matrice de confusion et le rapport\n",
    "print(\"Matrice de confusion :\")\n",
    "print(results[\"confusion_matrix\"])\n",
    "print(\"\\nRapport de classification :\")\n",
    "print(results[\"classification_report\"])"
   ]
  },
  {
   "cell_type": "code",
   "execution_count": null,
   "metadata": {},
   "outputs": [],
   "source": [
    "# Sauvgarde de la matrice de confusion et le rapport \n"
   ]
  }
 ],
 "metadata": {
  "kernelspec": {
   "display_name": "base",
   "language": "python",
   "name": "python3"
  },
  "language_info": {
   "codemirror_mode": {
    "name": "ipython",
    "version": 3
   },
   "file_extension": ".py",
   "mimetype": "text/x-python",
   "name": "python",
   "nbconvert_exporter": "python",
   "pygments_lexer": "ipython3",
   "version": "3.12.7"
  }
 },
 "nbformat": 4,
 "nbformat_minor": 2
}
