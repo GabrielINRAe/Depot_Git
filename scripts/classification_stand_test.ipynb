{
 "cells": [
  {
   "cell_type": "code",
   "execution_count": null,
   "metadata": {},
   "outputs": [],
   "source": [
    "# Importation des bibliothèques \n",
    "import geopandas as gpd\n",
    "import rasterstats\n",
    "from my_function import calculate_class_percentages, apply_decision_rules, compute_confusion_matrix"
   ]
  },
  {
   "cell_type": "code",
   "execution_count": null,
   "metadata": {},
   "outputs": [],
   "source": [
    "# Définition des cheminss d'accès \n",
    "my_folder = '/home/onyxia/work/Depot_Git/results/data'\n",
    "sample_filename = os.path.join(my_folder, 'sample/Sample_BD_foret_T31TCJ_v2.tif')\n",
    "image_filename = \"path_carte_d'essence_pixel\""
   ]
  },
  {
   "cell_type": "code",
   "execution_count": null,
   "metadata": {},
   "outputs": [],
   "source": [
    "# Chargement des échantillons \n",
    "polygons = gpd.read_file(sample_filename)"
   ]
  },
  {
   "cell_type": "code",
   "execution_count": null,
   "metadata": {},
   "outputs": [],
   "source": [
    "# Calcul des pourcentages des classes dans les polygones\n",
    "class_percentages = calculate_class_percentages(polygons, image_filename)"
   ]
  },
  {
   "cell_type": "code",
   "execution_count": null,
   "metadata": {},
   "outputs": [],
   "source": [
    "# Ajout des classifications prédites selon les règles de décision\n",
    "polygons[\"code_predit\"] = apply_decision_rules(class_percentages)"
   ]
  },
  {
   "cell_type": "code",
   "execution_count": null,
   "metadata": {},
   "outputs": [],
   "source": [
    "# Sauvegarde de shapefile mis à jour\n",
    "shapefile_classified = \"Sample_BD_foret_T31TCJ_classified.shp\"\n",
    "polygons.to_file(shapefile_classified)"
   ]
  },
  {
   "cell_type": "code",
   "execution_count": null,
   "metadata": {},
   "outputs": [],
   "source": [
    "# Calcul de  la matrice de confusion\n",
    "confusion_matrix = compute_confusion_matrix(polygons, label_col=\"code\", prediction_col=\"code_predit\")\n",
    "print(confusion_matrix)"
   ]
  },
  {
   "cell_type": "code",
   "execution_count": null,
   "metadata": {},
   "outputs": [],
   "source": [
    "# Affichage de la matrice de confusion et le rapport\n",
    "print(\"Matrice de confusion :\")\n",
    "print(results[\"confusion_matrix\"])\n",
    "print(\"\\nRapport de classification :\")\n",
    "print(results[\"classification_report\"])"
   ]
  }
 ],
 "metadata": {
  "language_info": {
   "name": "python"
  }
 },
 "nbformat": 4,
 "nbformat_minor": 2
}
