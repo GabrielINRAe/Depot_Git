{
 "cells": [
  {
   "cell_type": "markdown",
   "metadata": {},
   "source": [
    "# lecture image ndvi et creation array"
   ]
  },
  {
   "cell_type": "code",
   "execution_count": 1,
   "metadata": {},
   "outputs": [
    {
     "name": "stderr",
     "output_type": "stream",
     "text": [
      "/opt/conda/lib/python3.12/site-packages/osgeo/gdal.py:311: FutureWarning: Neither gdal.UseExceptions() nor gdal.DontUseExceptions() has been explicitly called. In GDAL 4.0, exceptions will be enabled by default.\n",
      "  warnings.warn(\n"
     ]
    },
    {
     "name": "stdout",
     "output_type": "stream",
     "text": [
      "(4997108, 6)\n",
      "(4997108, 1)\n"
     ]
    }
   ],
   "source": [
    "import os\n",
    "import numpy as np\n",
    "# personal librairies\n",
    "import classification as cla\n",
    "import read_and_write as rw\n",
    "\n",
    "my_folder = '/home/onyxia/work/Depot_Git/results/data'\n",
    "sample_filename = os.path.join(my_folder, 'sample/Sample_BD_foret_T31TCJ_v2.tif')\n",
    "image_filename = os.path.join(my_folder, 'img_pretraitees/Serie_temp_S2_ndvi.tif')\n",
    "X, Y, t = cla.get_samples_from_roi(image_filename, sample_filename)\n",
    "print(X.shape)\n",
    "print(Y.shape)"
   ]
  },
  {
   "cell_type": "markdown",
   "metadata": {},
   "source": [
    "# definition categories a evaluer (melange et purs) "
   ]
  },
  {
   "cell_type": "code",
   "execution_count": 3,
   "metadata": {},
   "outputs": [
    {
     "name": "stdout",
     "output_type": "stream",
     "text": [
      "Category: Forêt fermée d’un autre feuillu pur, Code: 11, Type: Pur\n",
      "Category: Forêt fermée de châtaignier pur, Code: 11, Type: Pur\n",
      "Category: Forêt fermée de hêtre pur, Code: 11, Type: Pur\n",
      "Category: Forêt fermée de chênes décidus purs, Code: 12, Type: Pur\n",
      "Category: Forêt fermée de robinier pur, Code: 13, Type: Pur\n",
      "Category: Peupleraie, Code: 14, Type: Pur\n",
      "Category: Forêt fermée à mélange de feuillus, Code: 15, Type: Mélange\n",
      "Category: Forêt fermée de douglas pur, Code: 23, Type: Pur\n",
      "Category: Forêt fermée de pin laricio ou pin noir pur, Code: 24, Type: Pur\n",
      "Category: Forêt fermée de pin maritime pur, Code: 25, Type: Pur\n",
      "Category: Forêt fermée à mélange de conifères, Code: 26, Type: Mélange\n",
      "Category: Forêt fermée à mélange de conifères prépondérants et feuillus, Code: 28, Type: Mélange\n",
      "Category: Forêt fermée à mélange de feuillus prépondérants et conifères, Code: 29, Type: Mélange\n"
     ]
    }
   ],
   "source": [
    "category_mapping = {\n",
    "    'Forêt fermée d’un autre feuillu pur': {'Nom': 'Autres feuillus', 'Code': '11', 'Type': 'Pur'},\n",
    "    'Forêt fermée de châtaignier pur': {'Nom': 'Autres feuillus', 'Code': '11', 'Type': 'Pur'},\n",
    "    'Forêt fermée de hêtre pur': {'Nom': 'Autres feuillus', 'Code': '11', 'Type': 'Pur'},\n",
    "    'Forêt fermée de chênes décidus purs': {'Nom': 'Chêne', 'Code': '12', 'Type': 'Pur'},\n",
    "    'Forêt fermée de robinier pur': {'Nom': 'Robinier', 'Code': '13', 'Type': 'Pur'},\n",
    "    'Peupleraie': {'Nom': 'Peupleraie', 'Code': '14', 'Type': 'Pur'},\n",
    "    'Forêt fermée à mélange de feuillus': {'Nom': 'Mélange de feuillus', 'Code': '15', 'Type': 'Mélange'},\n",
    "\n",
    "    'Forêt fermée de douglas pur': {'Nom': 'Douglas', 'Code': '23', 'Type': 'Pur'},\n",
    "    'Forêt fermée de pin laricio ou pin noir pur': {'Nom': 'Pin laricio ou pin noir', 'Code': '24', 'Type': 'Pur'},\n",
    "    'Forêt fermée de pin maritime pur': {'Nom': 'Pin maritime', 'Code': '25', 'Type': 'Pur'},\n",
    "    'Forêt fermée à mélange de conifères': {'Nom': 'Mélange conifères', 'Code': '26', 'Type': 'Mélange'},\n",
    "\n",
    "    'Forêt fermée à mélange de conifères prépondérants et feuillus': {'Nom': 'Mélange de conifères prépondérants et feuillus', 'Code': '28', 'Type': 'Mélange'},\n",
    "    'Forêt fermée à mélange de feuillus prépondérants et conifères': {'Nom': 'Mélange de feuillus prépondérants et conifères', 'Code': '29', 'Type': 'Mélange'},\n",
    "}\n",
    "\n",
    "# Si necesitas imprimir para verificar\n",
    "for category, info in category_mapping.items():\n",
    "    print(f\"Category: {category}, Code: {info['Code']}, Type: {info['Type']}\")\n",
    "\n"
   ]
  },
  {
   "cell_type": "markdown",
   "metadata": {},
   "source": [
    "# calcul et production graphic"
   ]
  },
  {
   "cell_type": "code",
   "execution_count": 6,
   "metadata": {},
   "outputs": [
    {
     "name": "stdout",
     "output_type": "stream",
     "text": [
      "(array([  77,   78,   78, ..., 7377, 7377, 7377], shape=(4997108,)), array([8124, 8124, 8125, ..., 8923, 8924, 8925], shape=(4997108,)))\n"
     ]
    }
   ],
   "source": [
    "print(t)\n"
   ]
  },
  {
   "cell_type": "code",
   "execution_count": 7,
   "metadata": {},
   "outputs": [],
   "source": [
    "x_coords = t[0]  # Coordenadas x\n",
    "y_coords = t[1]  # Coordenadas y\n"
   ]
  },
  {
   "cell_type": "code",
   "execution_count": 11,
   "metadata": {},
   "outputs": [
    {
     "name": "stdout",
     "output_type": "stream",
     "text": [
      "Width (ancho): 10863 píxeles\n",
      "Height (alto): 7381 píxeles\n"
     ]
    }
   ],
   "source": [
    "# Datos proporcionados\n",
    "spatial_resolution = 10  # metros por píxel\n",
    "xmin = 501127.9696999999\n",
    "ymin = 6240654.023599998\n",
    "xmax = 609757.9696999999\n",
    "ymax = 6314464.023599998\n",
    "\n",
    "# Calcular el número de píxeles en cada dimensión\n",
    "width = int((xmax - xmin) / spatial_resolution)\n",
    "height = int((ymax - ymin) / spatial_resolution)\n",
    "\n",
    "print(f\"Width (ancho): {width} píxeles\")\n",
    "print(f\"Height (alto): {height} píxeles\")\n"
   ]
  },
  {
   "cell_type": "code",
   "execution_count": 13,
   "metadata": {},
   "outputs": [
    {
     "ename": "KeyError",
     "evalue": "np.str_('Chêne')",
     "output_type": "error",
     "traceback": [
      "\u001b[0;31m---------------------------------------------------------------------------\u001b[0m",
      "\u001b[0;31mKeyError\u001b[0m                                  Traceback (most recent call last)",
      "Cell \u001b[0;32mIn[13], line 11\u001b[0m\n\u001b[1;32m      9\u001b[0m     x \u001b[38;5;241m=\u001b[39m x_coords[i]\n\u001b[1;32m     10\u001b[0m     y \u001b[38;5;241m=\u001b[39m y_coords[i]\n\u001b[0;32m---> 11\u001b[0m     category_code \u001b[38;5;241m=\u001b[39m \u001b[43mcategory_mapping\u001b[49m\u001b[43m[\u001b[49m\u001b[43mcategories\u001b[49m\u001b[43m[\u001b[49m\u001b[43mi\u001b[49m\u001b[43m]\u001b[49m\u001b[43m]\u001b[49m[\u001b[38;5;124m'\u001b[39m\u001b[38;5;124mCode\u001b[39m\u001b[38;5;124m'\u001b[39m]\n\u001b[1;32m     12\u001b[0m     category_image[x, y] \u001b[38;5;241m=\u001b[39m \u001b[38;5;28mint\u001b[39m(category_code)\n\u001b[1;32m     14\u001b[0m \u001b[38;5;66;03m# Mostrar la imagen de categorías\u001b[39;00m\n",
      "\u001b[0;31mKeyError\u001b[0m: np.str_('Chêne')"
     ]
    }
   ],
   "source": [
    "import numpy as np\n",
    "import matplotlib.pyplot as plt\n",
    "\n",
    "# Usar las dimensiones calculadas\n",
    "category_image = np.zeros((height, width), dtype=int)\n",
    "\n",
    "# Asignar las clases a la imagen\n",
    "for i in range(len(x_coords)):\n",
    "    x = x_coords[i]\n",
    "    y = y_coords[i]\n",
    "    category_code = category_mapping[categories[i]]['Code']\n",
    "    category_image[x, y] = int(category_code)\n",
    "\n",
    "# Mostrar la imagen de categorías\n",
    "plt.imshow(category_image, cmap='tab20')  # Usamos un mapa de colores para visualizar\n",
    "plt.colorbar()\n",
    "plt.show()\n"
   ]
  },
  {
   "cell_type": "code",
   "execution_count": 12,
   "metadata": {},
   "outputs": [
    {
     "ename": "KeyError",
     "evalue": "np.str_('Chêne')",
     "output_type": "error",
     "traceback": [
      "\u001b[0;31m---------------------------------------------------------------------------\u001b[0m",
      "\u001b[0;31mKeyError\u001b[0m                                  Traceback (most recent call last)",
      "Cell \u001b[0;32mIn[12], line 12\u001b[0m\n\u001b[1;32m     10\u001b[0m     x \u001b[38;5;241m=\u001b[39m x_coords[i]\n\u001b[1;32m     11\u001b[0m     y \u001b[38;5;241m=\u001b[39m y_coords[i]\n\u001b[0;32m---> 12\u001b[0m     category_code \u001b[38;5;241m=\u001b[39m \u001b[43mcategory_mapping\u001b[49m\u001b[43m[\u001b[49m\u001b[43mcategories\u001b[49m\u001b[43m[\u001b[49m\u001b[43mi\u001b[49m\u001b[43m]\u001b[49m\u001b[43m]\u001b[49m[\u001b[38;5;124m'\u001b[39m\u001b[38;5;124mCode\u001b[39m\u001b[38;5;124m'\u001b[39m]\n\u001b[1;32m     13\u001b[0m     category_image[x, y] \u001b[38;5;241m=\u001b[39m \u001b[38;5;28mint\u001b[39m(category_code)\n\u001b[1;32m     15\u001b[0m \u001b[38;5;66;03m# Mostrar la imagen de categorías\u001b[39;00m\n",
      "\u001b[0;31mKeyError\u001b[0m: np.str_('Chêne')"
     ]
    }
   ],
   "source": [
    "import numpy as np\n",
    "import matplotlib.pyplot as plt\n",
    "\n",
    "\n",
    "# Supongamos que 'category_image' es la imagen donde almacenamos las categorías\n",
    "category_image = np.zeros((height, width), dtype=int)  # Inicializa una imagen vacía\n",
    "\n",
    "# Asignar las clases a la imagen\n",
    "for i in range(len(x_coords)):\n",
    "    x = x_coords[i]\n",
    "    y = y_coords[i]\n",
    "    category_code = category_mapping[categories[i]]['Code']\n",
    "    category_image[x, y] = int(category_code)\n",
    "\n",
    "# Mostrar la imagen de categorías\n",
    "plt.imshow(category_image, cmap='tab20')  # Usamos un mapa de colores para visualizar\n",
    "plt.colorbar()\n",
    "plt.show()\n"
   ]
  },
  {
   "cell_type": "code",
   "execution_count": null,
   "metadata": {},
   "outputs": [],
   "source": []
  },
  {
   "cell_type": "code",
   "execution_count": null,
   "metadata": {},
   "outputs": [],
   "source": []
  }
 ],
 "metadata": {
  "kernelspec": {
   "display_name": "base",
   "language": "python",
   "name": "python3"
  },
  "language_info": {
   "codemirror_mode": {
    "name": "ipython",
    "version": 3
   },
   "file_extension": ".py",
   "mimetype": "text/x-python",
   "name": "python",
   "nbconvert_exporter": "python",
   "pygments_lexer": "ipython3",
   "version": "3.12.7"
  }
 },
 "nbformat": 4,
 "nbformat_minor": 2
}
