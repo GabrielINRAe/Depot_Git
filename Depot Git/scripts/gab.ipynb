{
 "cells": [
  {
   "cell_type": "code",
   "execution_count": 7,
   "metadata": {},
   "outputs": [],
   "source": [
    "import geopandas as gpd\n",
    "import numpy as np"
   ]
  },
  {
   "cell_type": "code",
   "execution_count": 4,
   "metadata": {},
   "outputs": [
    {
     "data": {
      "text/html": [
       "<div>\n",
       "<style scoped>\n",
       "    .dataframe tbody tr th:only-of-type {\n",
       "        vertical-align: middle;\n",
       "    }\n",
       "\n",
       "    .dataframe tbody tr th {\n",
       "        vertical-align: top;\n",
       "    }\n",
       "\n",
       "    .dataframe thead th {\n",
       "        text-align: right;\n",
       "    }\n",
       "</style>\n",
       "<table border=\"1\" class=\"dataframe\">\n",
       "  <thead>\n",
       "    <tr style=\"text-align: right;\">\n",
       "      <th></th>\n",
       "      <th>ID</th>\n",
       "      <th>CODE_TFV</th>\n",
       "      <th>TFV</th>\n",
       "      <th>TFV_G11</th>\n",
       "      <th>ESSENCE</th>\n",
       "      <th>geometry</th>\n",
       "    </tr>\n",
       "  </thead>\n",
       "  <tbody>\n",
       "    <tr>\n",
       "      <th>0</th>\n",
       "      <td>FORESTIE0000000003100001</td>\n",
       "      <td>FO1</td>\n",
       "      <td>Forêt ouverte de feuillus purs</td>\n",
       "      <td>Forêt ouverte feuillus</td>\n",
       "      <td>Feuillus</td>\n",
       "      <td>POLYGON ((508756.27 6181000.546, 508761.718 61...</td>\n",
       "    </tr>\n",
       "    <tr>\n",
       "      <th>1</th>\n",
       "      <td>FORESTIE0000000003100002</td>\n",
       "      <td>FO1</td>\n",
       "      <td>Forêt ouverte de feuillus purs</td>\n",
       "      <td>Forêt ouverte feuillus</td>\n",
       "      <td>Feuillus</td>\n",
       "      <td>POLYGON ((504437.854 6181272.919, 504437.135 6...</td>\n",
       "    </tr>\n",
       "    <tr>\n",
       "      <th>2</th>\n",
       "      <td>FORESTIE0000000003100003</td>\n",
       "      <td>FO1</td>\n",
       "      <td>Forêt ouverte de feuillus purs</td>\n",
       "      <td>Forêt ouverte feuillus</td>\n",
       "      <td>Feuillus</td>\n",
       "      <td>POLYGON ((508679 6181464, 508680.8 6181463, 50...</td>\n",
       "    </tr>\n",
       "    <tr>\n",
       "      <th>3</th>\n",
       "      <td>FORESTIE0000000003100004</td>\n",
       "      <td>FO1</td>\n",
       "      <td>Forêt ouverte de feuillus purs</td>\n",
       "      <td>Forêt ouverte feuillus</td>\n",
       "      <td>Feuillus</td>\n",
       "      <td>POLYGON ((509217.516 6181694.51, 509213.5 6181...</td>\n",
       "    </tr>\n",
       "    <tr>\n",
       "      <th>4</th>\n",
       "      <td>FORESTIE0000000003100005</td>\n",
       "      <td>FO1</td>\n",
       "      <td>Forêt ouverte de feuillus purs</td>\n",
       "      <td>Forêt ouverte feuillus</td>\n",
       "      <td>Feuillus</td>\n",
       "      <td>POLYGON ((508056 6181920, 508053.3 6181915, 50...</td>\n",
       "    </tr>\n",
       "  </tbody>\n",
       "</table>\n",
       "</div>"
      ],
      "text/plain": [
       "                         ID CODE_TFV                             TFV  \\\n",
       "0  FORESTIE0000000003100001      FO1  Forêt ouverte de feuillus purs   \n",
       "1  FORESTIE0000000003100002      FO1  Forêt ouverte de feuillus purs   \n",
       "2  FORESTIE0000000003100003      FO1  Forêt ouverte de feuillus purs   \n",
       "3  FORESTIE0000000003100004      FO1  Forêt ouverte de feuillus purs   \n",
       "4  FORESTIE0000000003100005      FO1  Forêt ouverte de feuillus purs   \n",
       "\n",
       "                  TFV_G11   ESSENCE  \\\n",
       "0  Forêt ouverte feuillus  Feuillus   \n",
       "1  Forêt ouverte feuillus  Feuillus   \n",
       "2  Forêt ouverte feuillus  Feuillus   \n",
       "3  Forêt ouverte feuillus  Feuillus   \n",
       "4  Forêt ouverte feuillus  Feuillus   \n",
       "\n",
       "                                            geometry  \n",
       "0  POLYGON ((508756.27 6181000.546, 508761.718 61...  \n",
       "1  POLYGON ((504437.854 6181272.919, 504437.135 6...  \n",
       "2  POLYGON ((508679 6181464, 508680.8 6181463, 50...  \n",
       "3  POLYGON ((509217.516 6181694.51, 509213.5 6181...  \n",
       "4  POLYGON ((508056 6181920, 508053.3 6181915, 50...  "
      ]
     },
     "execution_count": 4,
     "metadata": {},
     "output_type": "execute_result"
    }
   ],
   "source": [
    "a=gpd.read_file('/home/onyxia/work/data/project/FORMATION_VEGETALE.shp')\n",
    "a.head()"
   ]
  },
  {
   "cell_type": "code",
   "execution_count": 9,
   "metadata": {},
   "outputs": [
    {
     "data": {
      "text/plain": [
       "array(['Formation herbacée', 'Forêt fermée de châtaignier pur',\n",
       "       'Forêt fermée de chênes décidus purs',\n",
       "       'Forêt fermée de chênes sempervirents purs',\n",
       "       'Forêt fermée de conifères purs en îlots',\n",
       "       'Forêt fermée de douglas pur',\n",
       "       'Forêt fermée de feuillus purs en îlots',\n",
       "       'Forêt fermée de hêtre pur', 'Forêt fermée de mélèze pur',\n",
       "       'Forêt fermée de pin laricio ou pin noir pur',\n",
       "       'Forêt fermée de pin maritime pur',\n",
       "       'Forêt fermée de pin sylvestre pur',\n",
       "       'Forêt fermée de robinier pur', 'Forêt fermée de sapin ou épicéa',\n",
       "       'Forêt fermée d’un autre conifère pur autre que pin\\xa0',\n",
       "       'Forêt fermée d’un autre feuillu pur',\n",
       "       'Forêt fermée d’un autre pin pur',\n",
       "       'Forêt fermée sans couvert arboré',\n",
       "       'Forêt fermée à mélange de conifères',\n",
       "       'Forêt fermée à mélange de conifères prépondérants et feuillus',\n",
       "       'Forêt fermée à mélange de feuillus',\n",
       "       'Forêt fermée à mélange de feuillus prépondérants et conifères',\n",
       "       'Forêt fermée à mélange de pins purs',\n",
       "       'Forêt fermée à mélange d’autres conifères',\n",
       "       'Forêt ouverte de conifères purs',\n",
       "       'Forêt ouverte de feuillus purs',\n",
       "       'Forêt ouverte sans couvert arboré',\n",
       "       'Forêt ouverte à mélange de feuillus et conifères', 'Lande',\n",
       "       'Peupleraie'], dtype=object)"
      ]
     },
     "execution_count": 9,
     "metadata": {},
     "output_type": "execute_result"
    }
   ],
   "source": [
    "np.unique(a.TFV)"
   ]
  },
  {
   "cell_type": "code",
   "execution_count": null,
   "metadata": {},
   "outputs": [],
   "source": []
  }
 ],
 "metadata": {
  "kernelspec": {
   "display_name": "base",
   "language": "python",
   "name": "python3"
  },
  "language_info": {
   "codemirror_mode": {
    "name": "ipython",
    "version": 3
   },
   "file_extension": ".py",
   "mimetype": "text/x-python",
   "name": "python",
   "nbconvert_exporter": "python",
   "pygments_lexer": "ipython3",
   "version": "3.12.6"
  }
 },
 "nbformat": 4,
 "nbformat_minor": 2
}
